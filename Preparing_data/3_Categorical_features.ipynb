{
 "cells": [
  {
   "cell_type": "markdown",
   "id": "8fb333cd",
   "metadata": {},
   "source": [
    "# Преобразование категориальных признаков очищенных данных"
   ]
  },
  {
   "cell_type": "markdown",
   "id": "f41fa85c",
   "metadata": {},
   "source": [
    "## Импорт библиотек"
   ]
  },
  {
   "cell_type": "code",
   "execution_count": 2,
   "id": "e3d74917",
   "metadata": {},
   "outputs": [],
   "source": [
    "import pandas as pd\n",
    "import numpy as np\n",
    "import matplotlib.pyplot as plt\n",
    "import sklearn\n",
    "import re"
   ]
  },
  {
   "cell_type": "markdown",
   "id": "7b1523ec",
   "metadata": {},
   "source": [
    "## Открытие данных"
   ]
  },
  {
   "cell_type": "code",
   "execution_count": 3,
   "id": "3411caa4",
   "metadata": {},
   "outputs": [],
   "source": [
    "df = pd.read_csv('../clean_data_without_outliers.csv', sep=';')"
   ]
  },
  {
   "cell_type": "code",
   "execution_count": 4,
   "id": "982733f8",
   "metadata": {},
   "outputs": [
    {
     "data": {
      "text/html": [
       "<div>\n",
       "<style scoped>\n",
       "    .dataframe tbody tr th:only-of-type {\n",
       "        vertical-align: middle;\n",
       "    }\n",
       "\n",
       "    .dataframe tbody tr th {\n",
       "        vertical-align: top;\n",
       "    }\n",
       "\n",
       "    .dataframe thead th {\n",
       "        text-align: right;\n",
       "    }\n",
       "</style>\n",
       "<table border=\"1\" class=\"dataframe\">\n",
       "  <thead>\n",
       "    <tr style=\"text-align: right;\">\n",
       "      <th></th>\n",
       "      <th>number of rooms</th>\n",
       "      <th>area of apartment</th>\n",
       "      <th>number of floors</th>\n",
       "      <th>apartment floor</th>\n",
       "      <th>price</th>\n",
       "      <th>repair</th>\n",
       "      <th>bathroom</th>\n",
       "      <th>terrace</th>\n",
       "      <th>year of construction</th>\n",
       "      <th>elevator</th>\n",
       "      <th>type of house</th>\n",
       "      <th>parking</th>\n",
       "      <th>district</th>\n",
       "      <th>full address</th>\n",
       "      <th>concierge</th>\n",
       "      <th>garbage chute</th>\n",
       "    </tr>\n",
       "  </thead>\n",
       "  <tbody>\n",
       "    <tr>\n",
       "      <th>61</th>\n",
       "      <td>3</td>\n",
       "      <td>53.0</td>\n",
       "      <td>9</td>\n",
       "      <td>2</td>\n",
       "      <td>3700000.0</td>\n",
       "      <td>дизайнерский</td>\n",
       "      <td>совмещенный</td>\n",
       "      <td>лоджия</td>\n",
       "      <td>1974</td>\n",
       "      <td>1.0</td>\n",
       "      <td>панельный</td>\n",
       "      <td>открытая во дворе</td>\n",
       "      <td>Индустриальный</td>\n",
       "      <td>Пермский край, Пермь, Чердынская ул., 22</td>\n",
       "      <td>0</td>\n",
       "      <td>1</td>\n",
       "    </tr>\n",
       "    <tr>\n",
       "      <th>198</th>\n",
       "      <td>2</td>\n",
       "      <td>52.8</td>\n",
       "      <td>10</td>\n",
       "      <td>2</td>\n",
       "      <td>4500000.0</td>\n",
       "      <td>косметический</td>\n",
       "      <td>раздельный</td>\n",
       "      <td>лоджия</td>\n",
       "      <td>1992</td>\n",
       "      <td>1.0</td>\n",
       "      <td>кирпичный</td>\n",
       "      <td>открытая во дворе</td>\n",
       "      <td>Индустриальный</td>\n",
       "      <td>Пермский край, Пермь, ул. Советской Армии, 49</td>\n",
       "      <td>0</td>\n",
       "      <td>0</td>\n",
       "    </tr>\n",
       "    <tr>\n",
       "      <th>1242</th>\n",
       "      <td>3</td>\n",
       "      <td>56.6</td>\n",
       "      <td>9</td>\n",
       "      <td>8</td>\n",
       "      <td>3000000.0</td>\n",
       "      <td>требует ремонта</td>\n",
       "      <td>раздельный</td>\n",
       "      <td>лоджия</td>\n",
       "      <td>1980</td>\n",
       "      <td>1.0</td>\n",
       "      <td>панельный</td>\n",
       "      <td>открытая во дворе</td>\n",
       "      <td>Кировский</td>\n",
       "      <td>Пермский край, Пермь, Автозаводская ул., 27</td>\n",
       "      <td>0</td>\n",
       "      <td>0</td>\n",
       "    </tr>\n",
       "  </tbody>\n",
       "</table>\n",
       "</div>"
      ],
      "text/plain": [
       "      number of rooms  area of apartment  number of floors  apartment floor  \\\n",
       "61                  3               53.0                 9                2   \n",
       "198                 2               52.8                10                2   \n",
       "1242                3               56.6                 9                8   \n",
       "\n",
       "          price           repair     bathroom terrace  year of construction  \\\n",
       "61    3700000.0     дизайнерский  совмещенный  лоджия                  1974   \n",
       "198   4500000.0    косметический   раздельный  лоджия                  1992   \n",
       "1242  3000000.0  требует ремонта   раздельный  лоджия                  1980   \n",
       "\n",
       "      elevator type of house            parking        district  \\\n",
       "61         1.0     панельный  открытая во дворе  Индустриальный   \n",
       "198        1.0     кирпичный  открытая во дворе  Индустриальный   \n",
       "1242       1.0     панельный  открытая во дворе       Кировский   \n",
       "\n",
       "                                       full address  concierge  garbage chute  \n",
       "61         Пермский край, Пермь, Чердынская ул., 22          0              1  \n",
       "198   Пермский край, Пермь, ул. Советской Армии, 49          0              0  \n",
       "1242    Пермский край, Пермь, Автозаводская ул., 27          0              0  "
      ]
     },
     "execution_count": 4,
     "metadata": {},
     "output_type": "execute_result"
    }
   ],
   "source": [
    "df.sample(3)"
   ]
  },
  {
   "cell_type": "code",
   "execution_count": 5,
   "id": "c164ed6e",
   "metadata": {},
   "outputs": [
    {
     "name": "stdout",
     "output_type": "stream",
     "text": [
      "<class 'pandas.core.frame.DataFrame'>\n",
      "RangeIndex: 1702 entries, 0 to 1701\n",
      "Data columns (total 16 columns):\n",
      " #   Column                Non-Null Count  Dtype  \n",
      "---  ------                --------------  -----  \n",
      " 0   number of rooms       1702 non-null   int64  \n",
      " 1   area of apartment     1702 non-null   float64\n",
      " 2   number of floors      1702 non-null   int64  \n",
      " 3   apartment floor       1702 non-null   int64  \n",
      " 4   price                 1702 non-null   float64\n",
      " 5   repair                1702 non-null   object \n",
      " 6   bathroom              1702 non-null   object \n",
      " 7   terrace               1702 non-null   object \n",
      " 8   year of construction  1702 non-null   int64  \n",
      " 9   elevator              1702 non-null   float64\n",
      " 10  type of house         1702 non-null   object \n",
      " 11  parking               1457 non-null   object \n",
      " 12  district              1702 non-null   object \n",
      " 13  full address          1702 non-null   object \n",
      " 14  concierge             1702 non-null   int64  \n",
      " 15  garbage chute         1702 non-null   int64  \n",
      "dtypes: float64(3), int64(6), object(7)\n",
      "memory usage: 212.9+ KB\n"
     ]
    }
   ],
   "source": [
    "df.info()"
   ]
  },
  {
   "cell_type": "markdown",
   "id": "f717befd",
   "metadata": {},
   "source": [
    "## Обнаружение категориальных признаков"
   ]
  },
  {
   "cell_type": "code",
   "execution_count": 6,
   "id": "94b8296a",
   "metadata": {},
   "outputs": [
    {
     "name": "stdout",
     "output_type": "stream",
     "text": [
      "Количество признаков: 7\n"
     ]
    }
   ],
   "source": [
    "cat_features = []\n",
    "for column in df.columns:\n",
    "    if str(df[column].dtype) == \"object\":\n",
    "        cat_features.append(column)\n",
    "print(\"Количество признаков: \" + str(len(cat_features)))"
   ]
  },
  {
   "cell_type": "code",
   "execution_count": 7,
   "id": "464c2ab4",
   "metadata": {},
   "outputs": [
    {
     "data": {
      "text/plain": [
       "['repair',\n",
       " 'bathroom',\n",
       " 'terrace',\n",
       " 'type of house',\n",
       " 'parking',\n",
       " 'district',\n",
       " 'full address']"
      ]
     },
     "execution_count": 7,
     "metadata": {},
     "output_type": "execute_result"
    }
   ],
   "source": [
    "cat_features"
   ]
  },
  {
   "cell_type": "markdown",
   "id": "57714d96",
   "metadata": {},
   "source": [
    "Все признаки кроме полного адреса мы закодируем с помощью метода one hot encoding"
   ]
  },
  {
   "cell_type": "markdown",
   "id": "8ead246e",
   "metadata": {},
   "source": [
    "### Обработка ремонта, типа ванной, типа балкона, типа стен дома, района"
   ]
  },
  {
   "cell_type": "code",
   "execution_count": 8,
   "id": "0686533d",
   "metadata": {},
   "outputs": [],
   "source": [
    "simple_cat_features = ['repair', 'bathroom', 'terrace', 'type of house', 'district']"
   ]
  },
  {
   "cell_type": "code",
   "execution_count": 9,
   "id": "bf6c7f99",
   "metadata": {},
   "outputs": [
    {
     "name": "stdout",
     "output_type": "stream",
     "text": [
      "repair['косметический' 'евро' 'требует ремонта' 'дизайнерский']\n",
      "bathroom['раздельный' 'совмещенный' 'несколько']\n",
      "terrace['балкон' 'нет' 'лоджия']\n",
      "type of house['панельный' 'кирпичный' 'монолитный' 'блочный' 'деревянный']\n",
      "district['Индустриальный' 'Свердловский' 'Мотовилихинский' 'Кировский'\n",
      " 'Орджоникидзевский' 'Дзержинский' 'Ленинский']\n"
     ]
    }
   ],
   "source": [
    "for cat_feature in simple_cat_features:\n",
    "    print(cat_feature + str(df[cat_feature].unique()))"
   ]
  },
  {
   "cell_type": "markdown",
   "id": "c0b789b2",
   "metadata": {},
   "source": [
    "Данные признаки содержат только одно значение, поэтому их можно обрабатывать единым образом"
   ]
  },
  {
   "cell_type": "code",
   "execution_count": 10,
   "id": "e0527eef",
   "metadata": {},
   "outputs": [],
   "source": [
    "from sklearn.preprocessing import OneHotEncoder\n",
    "\n",
    "def get_one_hot_df(df, column):\n",
    "    encoder = OneHotEncoder()\n",
    "    new_df = pd.DataFrame(encoder.fit_transform(df[[column]]).toarray())\n",
    "    new_df.columns = [column + '_' + feature[3:] for feature in encoder.get_feature_names()]\n",
    "    return new_df"
   ]
  },
  {
   "cell_type": "code",
   "execution_count": 11,
   "id": "0972d29c",
   "metadata": {},
   "outputs": [],
   "source": [
    "for cat_feature in simple_cat_features:\n",
    "    one_hot_df = get_one_hot_df(df, cat_feature)\n",
    "    df = pd.merge(df, one_hot_df, left_index=True, right_index=True)\n",
    "    df = df.drop(cat_feature, axis=1)"
   ]
  },
  {
   "cell_type": "code",
   "execution_count": 12,
   "id": "b15d5b70",
   "metadata": {},
   "outputs": [
    {
     "name": "stdout",
     "output_type": "stream",
     "text": [
      "<class 'pandas.core.frame.DataFrame'>\n",
      "RangeIndex: 1702 entries, 0 to 1701\n",
      "Data columns (total 33 columns):\n",
      " #   Column                      Non-Null Count  Dtype  \n",
      "---  ------                      --------------  -----  \n",
      " 0   number of rooms             1702 non-null   int64  \n",
      " 1   area of apartment           1702 non-null   float64\n",
      " 2   number of floors            1702 non-null   int64  \n",
      " 3   apartment floor             1702 non-null   int64  \n",
      " 4   price                       1702 non-null   float64\n",
      " 5   year of construction        1702 non-null   int64  \n",
      " 6   elevator                    1702 non-null   float64\n",
      " 7   parking                     1457 non-null   object \n",
      " 8   full address                1702 non-null   object \n",
      " 9   concierge                   1702 non-null   int64  \n",
      " 10  garbage chute               1702 non-null   int64  \n",
      " 11  repair_дизайнерский         1702 non-null   float64\n",
      " 12  repair_евро                 1702 non-null   float64\n",
      " 13  repair_косметический        1702 non-null   float64\n",
      " 14  repair_требует ремонта      1702 non-null   float64\n",
      " 15  bathroom_несколько          1702 non-null   float64\n",
      " 16  bathroom_раздельный         1702 non-null   float64\n",
      " 17  bathroom_совмещенный        1702 non-null   float64\n",
      " 18  terrace_балкон              1702 non-null   float64\n",
      " 19  terrace_лоджия              1702 non-null   float64\n",
      " 20  terrace_нет                 1702 non-null   float64\n",
      " 21  type of house_блочный       1702 non-null   float64\n",
      " 22  type of house_деревянный    1702 non-null   float64\n",
      " 23  type of house_кирпичный     1702 non-null   float64\n",
      " 24  type of house_монолитный    1702 non-null   float64\n",
      " 25  type of house_панельный     1702 non-null   float64\n",
      " 26  district_Дзержинский        1702 non-null   float64\n",
      " 27  district_Индустриальный     1702 non-null   float64\n",
      " 28  district_Кировский          1702 non-null   float64\n",
      " 29  district_Ленинский          1702 non-null   float64\n",
      " 30  district_Мотовилихинский    1702 non-null   float64\n",
      " 31  district_Орджоникидзевский  1702 non-null   float64\n",
      " 32  district_Свердловский       1702 non-null   float64\n",
      "dtypes: float64(25), int64(6), object(2)\n",
      "memory usage: 438.9+ KB\n"
     ]
    }
   ],
   "source": [
    "df.info()"
   ]
  },
  {
   "cell_type": "markdown",
   "id": "739ddefb",
   "metadata": {},
   "source": [
    "### Кодирование типа парковки"
   ]
  },
  {
   "cell_type": "code",
   "execution_count": 13,
   "id": "0817eb85",
   "metadata": {},
   "outputs": [],
   "source": [
    "df.loc[df.parking.isna(), 'parking'] = \"\""
   ]
  },
  {
   "cell_type": "code",
   "execution_count": 14,
   "id": "b46dc5c6",
   "metadata": {},
   "outputs": [],
   "source": [
    "unique_parking = set()\n",
    "for parking_set in df.parking.unique():\n",
    "    for parking_type in parking_set.split(','):\n",
    "        unique_parking.add(parking_type.strip())\n",
    "unique_parking.remove('')"
   ]
  },
  {
   "cell_type": "code",
   "execution_count": 15,
   "id": "6d7a8781",
   "metadata": {},
   "outputs": [
    {
     "data": {
      "text/plain": [
       "{'за шлагбаумом во дворе',\n",
       " 'наземная многоуровневая',\n",
       " 'открытая во дворе',\n",
       " 'подземная'}"
      ]
     },
     "execution_count": 15,
     "metadata": {},
     "output_type": "execute_result"
    }
   ],
   "source": [
    "unique_parking"
   ]
  },
  {
   "cell_type": "code",
   "execution_count": 16,
   "id": "076d35d5",
   "metadata": {},
   "outputs": [],
   "source": [
    "def get_parking_type(string, parking_type):\n",
    "    return float(parking_type in string)"
   ]
  },
  {
   "cell_type": "code",
   "execution_count": 17,
   "id": "8203109d",
   "metadata": {},
   "outputs": [],
   "source": [
    "for parking_type in unique_parking:\n",
    "    df[\"parking_\" + parking_type] = get_parking_type(df.parking, parking_type)\n",
    "df = df.drop('parking', axis=1)"
   ]
  },
  {
   "cell_type": "markdown",
   "id": "d7727ad2",
   "metadata": {},
   "source": [
    "## Итоги борьбы с выбросами"
   ]
  },
  {
   "cell_type": "code",
   "execution_count": 18,
   "id": "e1fbd24d",
   "metadata": {},
   "outputs": [
    {
     "name": "stdout",
     "output_type": "stream",
     "text": [
      "<class 'pandas.core.frame.DataFrame'>\n",
      "RangeIndex: 1702 entries, 0 to 1701\n",
      "Data columns (total 36 columns):\n",
      " #   Column                           Non-Null Count  Dtype  \n",
      "---  ------                           --------------  -----  \n",
      " 0   number of rooms                  1702 non-null   int64  \n",
      " 1   area of apartment                1702 non-null   float64\n",
      " 2   number of floors                 1702 non-null   int64  \n",
      " 3   apartment floor                  1702 non-null   int64  \n",
      " 4   price                            1702 non-null   float64\n",
      " 5   year of construction             1702 non-null   int64  \n",
      " 6   elevator                         1702 non-null   float64\n",
      " 7   full address                     1702 non-null   object \n",
      " 8   concierge                        1702 non-null   int64  \n",
      " 9   garbage chute                    1702 non-null   int64  \n",
      " 10  repair_дизайнерский              1702 non-null   float64\n",
      " 11  repair_евро                      1702 non-null   float64\n",
      " 12  repair_косметический             1702 non-null   float64\n",
      " 13  repair_требует ремонта           1702 non-null   float64\n",
      " 14  bathroom_несколько               1702 non-null   float64\n",
      " 15  bathroom_раздельный              1702 non-null   float64\n",
      " 16  bathroom_совмещенный             1702 non-null   float64\n",
      " 17  terrace_балкон                   1702 non-null   float64\n",
      " 18  terrace_лоджия                   1702 non-null   float64\n",
      " 19  terrace_нет                      1702 non-null   float64\n",
      " 20  type of house_блочный            1702 non-null   float64\n",
      " 21  type of house_деревянный         1702 non-null   float64\n",
      " 22  type of house_кирпичный          1702 non-null   float64\n",
      " 23  type of house_монолитный         1702 non-null   float64\n",
      " 24  type of house_панельный          1702 non-null   float64\n",
      " 25  district_Дзержинский             1702 non-null   float64\n",
      " 26  district_Индустриальный          1702 non-null   float64\n",
      " 27  district_Кировский               1702 non-null   float64\n",
      " 28  district_Ленинский               1702 non-null   float64\n",
      " 29  district_Мотовилихинский         1702 non-null   float64\n",
      " 30  district_Орджоникидзевский       1702 non-null   float64\n",
      " 31  district_Свердловский            1702 non-null   float64\n",
      " 32  parking_за шлагбаумом во дворе   1702 non-null   float64\n",
      " 33  parking_открытая во дворе        1702 non-null   float64\n",
      " 34  parking_наземная многоуровневая  1702 non-null   float64\n",
      " 35  parking_подземная                1702 non-null   float64\n",
      "dtypes: float64(29), int64(6), object(1)\n",
      "memory usage: 478.8+ KB\n"
     ]
    }
   ],
   "source": [
    "df.info()"
   ]
  },
  {
   "cell_type": "code",
   "execution_count": 19,
   "id": "499681ba",
   "metadata": {},
   "outputs": [],
   "source": [
    "df.to_csv('../clean_categorizated_data_without_outliers.csv', sep=';', index=False)"
   ]
  },
  {
   "cell_type": "markdown",
   "id": "59d12c33",
   "metadata": {},
   "source": [
    "__В ходе третьей обработки были:__\n",
    "1. трансформированы категориальные признаки по методу one hot encoding"
   ]
  }
 ],
 "metadata": {
  "kernelspec": {
   "display_name": "Python 3",
   "language": "python",
   "name": "python3"
  },
  "language_info": {
   "codemirror_mode": {
    "name": "ipython",
    "version": 3
   },
   "file_extension": ".py",
   "mimetype": "text/x-python",
   "name": "python",
   "nbconvert_exporter": "python",
   "pygments_lexer": "ipython3",
   "version": "3.9.5"
  }
 },
 "nbformat": 4,
 "nbformat_minor": 5
}
