{
 "cells": [
  {
   "cell_type": "markdown",
   "id": "380cc7cb",
   "metadata": {},
   "source": [
    "# Обработка собранных данных"
   ]
  },
  {
   "cell_type": "markdown",
   "id": "15507aad",
   "metadata": {},
   "source": [
    "## Импорт библиотек"
   ]
  },
  {
   "cell_type": "code",
   "execution_count": 48,
   "id": "52bb92bd",
   "metadata": {},
   "outputs": [],
   "source": [
    "import pandas as pd\n",
    "import numpy as np\n",
    "import matplotlib.pyplot as plt\n",
    "import re"
   ]
  },
  {
   "cell_type": "markdown",
   "id": "6f1e0b97",
   "metadata": {},
   "source": [
    "## Открытие данных"
   ]
  },
  {
   "cell_type": "code",
   "execution_count": 49,
   "id": "6e8e203a",
   "metadata": {},
   "outputs": [],
   "source": [
    "df = pd.read_csv('../data.csv', ';')"
   ]
  },
  {
   "cell_type": "code",
   "execution_count": 50,
   "id": "91edfc66",
   "metadata": {},
   "outputs": [
    {
     "data": {
      "text/html": [
       "<div>\n",
       "<style scoped>\n",
       "    .dataframe tbody tr th:only-of-type {\n",
       "        vertical-align: middle;\n",
       "    }\n",
       "\n",
       "    .dataframe tbody tr th {\n",
       "        vertical-align: top;\n",
       "    }\n",
       "\n",
       "    .dataframe thead th {\n",
       "        text-align: right;\n",
       "    }\n",
       "</style>\n",
       "<table border=\"1\" class=\"dataframe\">\n",
       "  <thead>\n",
       "    <tr style=\"text-align: right;\">\n",
       "      <th></th>\n",
       "      <th>physical address</th>\n",
       "      <th>number of rooms</th>\n",
       "      <th>area of apartment</th>\n",
       "      <th>number of floors</th>\n",
       "      <th>apartment floor</th>\n",
       "      <th>price</th>\n",
       "      <th>link</th>\n",
       "      <th>repair</th>\n",
       "      <th>bathroom</th>\n",
       "      <th>view from the windows</th>\n",
       "      <th>terrace</th>\n",
       "      <th>year of construction</th>\n",
       "      <th>elevator</th>\n",
       "      <th>extra</th>\n",
       "      <th>type of house</th>\n",
       "      <th>parking</th>\n",
       "    </tr>\n",
       "  </thead>\n",
       "  <tbody>\n",
       "    <tr>\n",
       "      <th>1308</th>\n",
       "      <td>ул. Карпинского, д. 50| р-н Индустриальный</td>\n",
       "      <td>2</td>\n",
       "      <td>58.8 м²</td>\n",
       "      <td>22</td>\n",
       "      <td>19.0</td>\n",
       "      <td>6221400.0</td>\n",
       "      <td>https://www.avito.ru/perm/kvartiry/2-k._kvarti...</td>\n",
       "      <td>NaN</td>\n",
       "      <td>NaN</td>\n",
       "      <td>NaN</td>\n",
       "      <td>лоджия</td>\n",
       "      <td>NaN</td>\n",
       "      <td>NaN</td>\n",
       "      <td>NaN</td>\n",
       "      <td>монолитный</td>\n",
       "      <td>NaN</td>\n",
       "    </tr>\n",
       "    <tr>\n",
       "      <th>272</th>\n",
       "      <td>Пермский край, Пермь, ул. Чернышевского, 15Г| ...</td>\n",
       "      <td>2</td>\n",
       "      <td>56.3 м²</td>\n",
       "      <td>19</td>\n",
       "      <td>8.0</td>\n",
       "      <td>4990000.0</td>\n",
       "      <td>https://www.avito.ru/perm/kvartiry/2-k._kvarti...</td>\n",
       "      <td>косметический</td>\n",
       "      <td>раздельный</td>\n",
       "      <td>на улицу, во двор</td>\n",
       "      <td>балкон</td>\n",
       "      <td>2013</td>\n",
       "      <td>2.0</td>\n",
       "      <td>консьерж</td>\n",
       "      <td>монолитный</td>\n",
       "      <td>за шлагбаумом во дворе, открытая во дворе</td>\n",
       "    </tr>\n",
       "    <tr>\n",
       "      <th>4159</th>\n",
       "      <td>Пермский край, Пермь, ул. Солдатова, 38| р-н С...</td>\n",
       "      <td>3</td>\n",
       "      <td>56 м²</td>\n",
       "      <td>14</td>\n",
       "      <td>7.0</td>\n",
       "      <td>4000000.0</td>\n",
       "      <td>https://www.avito.ru/perm/kvartiry/3-k._kvarti...</td>\n",
       "      <td>косметический</td>\n",
       "      <td>раздельный</td>\n",
       "      <td>на улицу, во двор</td>\n",
       "      <td>лоджия</td>\n",
       "      <td>NaN</td>\n",
       "      <td>1.0</td>\n",
       "      <td>газоснабжение</td>\n",
       "      <td>кирпичный</td>\n",
       "      <td>открытая во дворе</td>\n",
       "    </tr>\n",
       "  </tbody>\n",
       "</table>\n",
       "</div>"
      ],
      "text/plain": [
       "                                       physical address number of rooms  \\\n",
       "1308         ул. Карпинского, д. 50| р-н Индустриальный               2   \n",
       "272   Пермский край, Пермь, ул. Чернышевского, 15Г| ...               2   \n",
       "4159  Пермский край, Пермь, ул. Солдатова, 38| р-н С...               3   \n",
       "\n",
       "     area of apartment number of floors  apartment floor      price  \\\n",
       "1308           58.8 м²               22             19.0  6221400.0   \n",
       "272            56.3 м²               19              8.0  4990000.0   \n",
       "4159             56 м²               14              7.0  4000000.0   \n",
       "\n",
       "                                                   link         repair  \\\n",
       "1308  https://www.avito.ru/perm/kvartiry/2-k._kvarti...            NaN   \n",
       "272   https://www.avito.ru/perm/kvartiry/2-k._kvarti...  косметический   \n",
       "4159  https://www.avito.ru/perm/kvartiry/3-k._kvarti...  косметический   \n",
       "\n",
       "        bathroom view from the windows terrace year of construction  elevator  \\\n",
       "1308         NaN                   NaN  лоджия                  NaN       NaN   \n",
       "272   раздельный     на улицу, во двор  балкон                 2013       2.0   \n",
       "4159  раздельный     на улицу, во двор  лоджия                  NaN       1.0   \n",
       "\n",
       "              extra type of house                                    parking  \n",
       "1308            NaN    монолитный                                        NaN  \n",
       "272        консьерж    монолитный  за шлагбаумом во дворе, открытая во дворе  \n",
       "4159  газоснабжение     кирпичный                          открытая во дворе  "
      ]
     },
     "execution_count": 50,
     "metadata": {},
     "output_type": "execute_result"
    }
   ],
   "source": [
    "df.sample(3)"
   ]
  },
  {
   "cell_type": "code",
   "execution_count": 51,
   "id": "d0e03bb6",
   "metadata": {},
   "outputs": [
    {
     "name": "stdout",
     "output_type": "stream",
     "text": [
      "<class 'pandas.core.frame.DataFrame'>\n",
      "RangeIndex: 5564 entries, 0 to 5563\n",
      "Data columns (total 16 columns):\n",
      " #   Column                 Non-Null Count  Dtype  \n",
      "---  ------                 --------------  -----  \n",
      " 0   physical address       5546 non-null   object \n",
      " 1   number of rooms        5551 non-null   object \n",
      " 2   area of apartment      5551 non-null   object \n",
      " 3   number of floors       5551 non-null   object \n",
      " 4   apartment floor        5551 non-null   float64\n",
      " 5   price                  5551 non-null   float64\n",
      " 6   link                   5564 non-null   object \n",
      " 7   repair                 2662 non-null   object \n",
      " 8   bathroom               4215 non-null   object \n",
      " 9   view from the windows  3962 non-null   object \n",
      " 10  terrace                5340 non-null   object \n",
      " 11  year of construction   2527 non-null   object \n",
      " 12  elevator               3508 non-null   float64\n",
      " 13  extra                  2326 non-null   object \n",
      " 14  type of house          5551 non-null   object \n",
      " 15  parking                3769 non-null   object \n",
      "dtypes: float64(3), object(13)\n",
      "memory usage: 695.6+ KB\n"
     ]
    }
   ],
   "source": [
    "df.info()"
   ]
  },
  {
   "cell_type": "markdown",
   "id": "2fce5240",
   "metadata": {},
   "source": [
    "## Удаление записей с пропусками важных признаков"
   ]
  },
  {
   "cell_type": "code",
   "execution_count": 52,
   "id": "f0e3937f",
   "metadata": {},
   "outputs": [],
   "source": [
    "important_features = [\n",
    "    \"physical address\", \"number of rooms\", \"area of apartment\", \"number of floors\",\n",
    "    \"apartment floor\", \"price\", \"repair\", \"bathroom\", \"terrace\", \"year of construction\",\n",
    "    \"type of house\", \n",
    "]"
   ]
  },
  {
   "cell_type": "code",
   "execution_count": 53,
   "id": "fcfe5f65",
   "metadata": {},
   "outputs": [],
   "source": [
    "new_df = df.copy()\n",
    "for feature in important_features:\n",
    "    new_df = new_df[new_df[feature].isna() == False]"
   ]
  },
  {
   "cell_type": "code",
   "execution_count": 54,
   "id": "9e02f0a1",
   "metadata": {},
   "outputs": [
    {
     "name": "stdout",
     "output_type": "stream",
     "text": [
      "<class 'pandas.core.frame.DataFrame'>\n",
      "Int64Index: 1939 entries, 0 to 5563\n",
      "Data columns (total 16 columns):\n",
      " #   Column                 Non-Null Count  Dtype  \n",
      "---  ------                 --------------  -----  \n",
      " 0   physical address       1939 non-null   object \n",
      " 1   number of rooms        1939 non-null   object \n",
      " 2   area of apartment      1939 non-null   object \n",
      " 3   number of floors       1939 non-null   object \n",
      " 4   apartment floor        1939 non-null   float64\n",
      " 5   price                  1939 non-null   float64\n",
      " 6   link                   1939 non-null   object \n",
      " 7   repair                 1939 non-null   object \n",
      " 8   bathroom               1939 non-null   object \n",
      " 9   view from the windows  1762 non-null   object \n",
      " 10  terrace                1939 non-null   object \n",
      " 11  year of construction   1939 non-null   object \n",
      " 12  elevator               1555 non-null   float64\n",
      " 13  extra                  1380 non-null   object \n",
      " 14  type of house          1939 non-null   object \n",
      " 15  parking                1674 non-null   object \n",
      "dtypes: float64(3), object(13)\n",
      "memory usage: 257.5+ KB\n"
     ]
    }
   ],
   "source": [
    "new_df.info()"
   ]
  },
  {
   "cell_type": "markdown",
   "id": "0315f852",
   "metadata": {},
   "source": [
    "## Выделение новых признаков из физического адреса"
   ]
  },
  {
   "cell_type": "markdown",
   "id": "640f8b50",
   "metadata": {},
   "source": [
    "### Получение района города, в котором находится квартира"
   ]
  },
  {
   "cell_type": "code",
   "execution_count": 55,
   "id": "054fd1c2",
   "metadata": {},
   "outputs": [],
   "source": [
    "def get_district(address):\n",
    "    result = re.search('р-н [а-яА-Я]+', address)\n",
    "    if result is None:\n",
    "        return None\n",
    "    else:\n",
    "        return result[0][4:]"
   ]
  },
  {
   "cell_type": "code",
   "execution_count": 56,
   "id": "bdd11126",
   "metadata": {},
   "outputs": [],
   "source": [
    "new_df['district'] = np.array([get_district(item) for item in  new_df['physical address'].values])"
   ]
  },
  {
   "cell_type": "code",
   "execution_count": 57,
   "id": "0f898112",
   "metadata": {},
   "outputs": [
    {
     "name": "stdout",
     "output_type": "stream",
     "text": [
      "Найденные районы: ['Индустриальный' 'Свердловский' 'Мотовилихинский' 'Кировский'\n",
      " 'Орджоникидзевский' 'Дзержинский' None 'Ленинский']\n"
     ]
    }
   ],
   "source": [
    "print(\"Найденные районы: \" + str(new_df['district'].unique()))"
   ]
  },
  {
   "cell_type": "code",
   "execution_count": 58,
   "id": "1b51e658",
   "metadata": {},
   "outputs": [
    {
     "name": "stdout",
     "output_type": "stream",
     "text": [
      "Примеры нераспознанных адресов: \n",
      "Пермский край, Пермский р-н, с. Фролы, Весенняя ул., 18\n",
      "Пермский край, Пермский р-н, с. Фролы, Весенняя ул., 30\n",
      "Пермский край, Пермский р-н, с. Фролы, Весенняя ул., 30\n",
      "Пермский край, Пермский р-н, с. Фролы, Весенняя ул., 32\n",
      "Пермский край, Пермский р-н, с. Фролы, Весенняя ул., 14А\n",
      "Пермский край, Пермский р-н, Савинское сельское поселение, д. Песьянка, ул. Строителей, 8\n",
      "Пермский край, Пермский р-н, Заболотское сельское поселение, д. Горшки, Садовая ул., 1\n",
      "Пермский край, Пермский р-н, с. Фролы, Центральная ул., 15\n",
      "Пермский край, Пермский р-н, Култаевское сельское поселение, д. Усть-Тары, ул. Нефтяников, 3\n",
      "Пермский край, Пермский р-н, с. Фролы, Весенняя ул., 34\n"
     ]
    }
   ],
   "source": [
    "print(\"Примеры нераспознанных адресов: \\n\" + '\\n'.join(new_df[new_df['district'].isna() == True]['physical address'][:10].values))"
   ]
  },
  {
   "cell_type": "markdown",
   "id": "67b83597",
   "metadata": {},
   "source": [
    "Пермский район нас не интересует, поэтому удаляем все эти записи из таблицы"
   ]
  },
  {
   "cell_type": "code",
   "execution_count": 59,
   "id": "8a11bae0",
   "metadata": {},
   "outputs": [],
   "source": [
    "new_df = new_df[new_df['district'].isna() == False]"
   ]
  },
  {
   "cell_type": "code",
   "execution_count": 60,
   "id": "d4653d02",
   "metadata": {},
   "outputs": [
    {
     "name": "stdout",
     "output_type": "stream",
     "text": [
      "<class 'pandas.core.frame.DataFrame'>\n",
      "Int64Index: 1894 entries, 0 to 5563\n",
      "Data columns (total 17 columns):\n",
      " #   Column                 Non-Null Count  Dtype  \n",
      "---  ------                 --------------  -----  \n",
      " 0   physical address       1894 non-null   object \n",
      " 1   number of rooms        1894 non-null   object \n",
      " 2   area of apartment      1894 non-null   object \n",
      " 3   number of floors       1894 non-null   object \n",
      " 4   apartment floor        1894 non-null   float64\n",
      " 5   price                  1894 non-null   float64\n",
      " 6   link                   1894 non-null   object \n",
      " 7   repair                 1894 non-null   object \n",
      " 8   bathroom               1894 non-null   object \n",
      " 9   view from the windows  1720 non-null   object \n",
      " 10  terrace                1894 non-null   object \n",
      " 11  year of construction   1894 non-null   object \n",
      " 12  elevator               1521 non-null   float64\n",
      " 13  extra                  1363 non-null   object \n",
      " 14  type of house          1894 non-null   object \n",
      " 15  parking                1640 non-null   object \n",
      " 16  district               1894 non-null   object \n",
      "dtypes: float64(3), object(14)\n",
      "memory usage: 266.3+ KB\n"
     ]
    }
   ],
   "source": [
    "new_df.info()"
   ]
  },
  {
   "cell_type": "markdown",
   "id": "c74a8d2c",
   "metadata": {},
   "source": [
    "### Получение полного адреса без района"
   ]
  },
  {
   "cell_type": "code",
   "execution_count": 61,
   "id": "6c9db6a2",
   "metadata": {},
   "outputs": [],
   "source": [
    "def get_full_address(text):\n",
    "    address = text.split('|')[0]\n",
    "    replaces = {\n",
    "        'ш.': 'шоссе',\n",
    "        'пр-т': 'проспект',\n",
    "        'б-р': 'бульвар',\n",
    "        'пр.': 'проезд'\n",
    "    }\n",
    "    for key in replaces:\n",
    "        if key in address:\n",
    "            address = address.replace(key, replaces[key])\n",
    "    return address"
   ]
  },
  {
   "cell_type": "code",
   "execution_count": 62,
   "id": "a6adfe7a",
   "metadata": {},
   "outputs": [],
   "source": [
    "new_df['full address'] = np.array([get_full_address(item) for item in new_df['physical address'].values])"
   ]
  },
  {
   "cell_type": "code",
   "execution_count": 63,
   "id": "4cf870e4",
   "metadata": {},
   "outputs": [
    {
     "name": "stdout",
     "output_type": "stream",
     "text": [
      "['Пермский край, Пермь, ул. Архитектора Свиязева, 50/2'\n",
      " 'Пермский край, Пермь, Кузбасская ул., 41'\n",
      " 'Пермский край, Пермь, шоссе Космонавтов, 215' ...\n",
      " 'Пермский край, Пермь, ул. Крисанова, 73'\n",
      " 'Пермский край, Пермь, посёлок Новые Ляды, Чусовская ул., 24А'\n",
      " 'Пермский край, Пермь, ул. Гашкова, 12']\n"
     ]
    }
   ],
   "source": [
    "print(new_df['full address'].unique())"
   ]
  },
  {
   "cell_type": "code",
   "execution_count": 64,
   "id": "27ab626c",
   "metadata": {},
   "outputs": [],
   "source": [
    "new_df = new_df[new_df['full address'].isna() == False]"
   ]
  },
  {
   "cell_type": "code",
   "execution_count": 65,
   "id": "104ecb2a",
   "metadata": {},
   "outputs": [
    {
     "name": "stdout",
     "output_type": "stream",
     "text": [
      "<class 'pandas.core.frame.DataFrame'>\n",
      "Int64Index: 1894 entries, 0 to 5563\n",
      "Data columns (total 18 columns):\n",
      " #   Column                 Non-Null Count  Dtype  \n",
      "---  ------                 --------------  -----  \n",
      " 0   physical address       1894 non-null   object \n",
      " 1   number of rooms        1894 non-null   object \n",
      " 2   area of apartment      1894 non-null   object \n",
      " 3   number of floors       1894 non-null   object \n",
      " 4   apartment floor        1894 non-null   float64\n",
      " 5   price                  1894 non-null   float64\n",
      " 6   link                   1894 non-null   object \n",
      " 7   repair                 1894 non-null   object \n",
      " 8   bathroom               1894 non-null   object \n",
      " 9   view from the windows  1720 non-null   object \n",
      " 10  terrace                1894 non-null   object \n",
      " 11  year of construction   1894 non-null   object \n",
      " 12  elevator               1521 non-null   float64\n",
      " 13  extra                  1363 non-null   object \n",
      " 14  type of house          1894 non-null   object \n",
      " 15  parking                1640 non-null   object \n",
      " 16  district               1894 non-null   object \n",
      " 17  full address           1894 non-null   object \n",
      "dtypes: float64(3), object(15)\n",
      "memory usage: 281.1+ KB\n"
     ]
    }
   ],
   "source": [
    "new_df.info()"
   ]
  },
  {
   "cell_type": "markdown",
   "id": "d8702284",
   "metadata": {},
   "source": [
    "В дальнейшем полный адрес будет использоваться для генерации признаков, связанных с географическим положением квартиры"
   ]
  },
  {
   "cell_type": "markdown",
   "id": "9f3111ea",
   "metadata": {},
   "source": [
    "## Корректировка имеющихся признаков"
   ]
  },
  {
   "cell_type": "markdown",
   "id": "7d1510c9",
   "metadata": {},
   "source": [
    "## Количество комнат"
   ]
  },
  {
   "cell_type": "code",
   "execution_count": 66,
   "id": "a5ba259f",
   "metadata": {},
   "outputs": [
    {
     "name": "stdout",
     "output_type": "stream",
     "text": [
      "Уникальные значения числа комнат: 3, 1, 2, 6, студия, 4, своб. планировка, 5\n"
     ]
    }
   ],
   "source": [
    "print(\"Уникальные значения числа комнат: \" + ', '.join(new_df['number of rooms'].unique()))"
   ]
  },
  {
   "cell_type": "code",
   "execution_count": 67,
   "id": "ecb0250d",
   "metadata": {},
   "outputs": [],
   "source": [
    "def get_number(string):\n",
    "    if string == 'студия' or string == 'своб. планировка':\n",
    "        return 1\n",
    "    else:\n",
    "        return int(string)"
   ]
  },
  {
   "cell_type": "code",
   "execution_count": 68,
   "id": "49f3767f",
   "metadata": {},
   "outputs": [],
   "source": [
    "new_df['number of rooms'] = np.array([get_number(item) for item in new_df['number of rooms'].values])"
   ]
  },
  {
   "cell_type": "code",
   "execution_count": 69,
   "id": "0d57992c",
   "metadata": {},
   "outputs": [
    {
     "name": "stdout",
     "output_type": "stream",
     "text": [
      "Уникальные значения числа комнат после корректировки: [3 1 2 6 4 5]\n"
     ]
    }
   ],
   "source": [
    "print(\"Уникальные значения числа комнат после корректировки: \" + str(new_df['number of rooms'].unique()))"
   ]
  },
  {
   "cell_type": "markdown",
   "id": "8a84483f",
   "metadata": {},
   "source": [
    "### Площадь квартиры"
   ]
  },
  {
   "cell_type": "code",
   "execution_count": 70,
   "id": "73104775",
   "metadata": {},
   "outputs": [
    {
     "name": "stdout",
     "output_type": "stream",
     "text": [
      "Типичные значения для площади: 61.2 м², 31.1 м², 89.1 м², 34 м², 30.3 м², 84.3 м², 64.7 м², 37 м², 59.8 м², 31 м²\n"
     ]
    }
   ],
   "source": [
    "print(\"Типичные значения для площади: \" + ', '.join(new_df['area of apartment'][:10]))"
   ]
  },
  {
   "cell_type": "code",
   "execution_count": 71,
   "id": "4665ddc8",
   "metadata": {},
   "outputs": [],
   "source": [
    "new_df['area of apartment'] = np.array([float(item[:-3]) for item in new_df['area of apartment'].values])"
   ]
  },
  {
   "cell_type": "code",
   "execution_count": 72,
   "id": "15f712f3",
   "metadata": {},
   "outputs": [
    {
     "name": "stdout",
     "output_type": "stream",
     "text": [
      "Значения для площади после корректировки: 61.2, 31.1, 89.1, 34.0, 30.3, 84.3, 64.7, 37.0, 59.8, 31.0\n"
     ]
    }
   ],
   "source": [
    "print(\"Значения для площади после корректировки: \" + ', '.join(list(map(str, new_df['area of apartment'].values[:10]))))"
   ]
  },
  {
   "cell_type": "markdown",
   "id": "56a12b51",
   "metadata": {},
   "source": [
    "### Количество этажей в доме"
   ]
  },
  {
   "cell_type": "code",
   "execution_count": 73,
   "id": "5da61adc",
   "metadata": {},
   "outputs": [
    {
     "name": "stdout",
     "output_type": "stream",
     "text": [
      "Уникальные значения для числа этажей в доме: \n",
      "5, 2, 25, 7, 6, 10, 3, 20, 9, 17, 4, 16, 24, 22, 5 эт., 19, 12, 11, 23, 14, 8, 18, 9 эт., 27, 13, 15, 26, 31, 21, 16 эт., 10 эт., 1\n"
     ]
    }
   ],
   "source": [
    "print(\"Уникальные значения для числа этажей в доме: \\n\" + ', '.join(new_df['number of floors'].unique()))"
   ]
  },
  {
   "cell_type": "code",
   "execution_count": 74,
   "id": "8b2b2ddf",
   "metadata": {},
   "outputs": [],
   "source": [
    "new_df['number of floors'] = np.array([int(re.findall('[\\d]+', x)[0]) for x in new_df['number of floors'].values])"
   ]
  },
  {
   "cell_type": "code",
   "execution_count": 75,
   "id": "216a39aa",
   "metadata": {},
   "outputs": [
    {
     "name": "stdout",
     "output_type": "stream",
     "text": [
      "Уникальные значения для числа этажей в доме после корректировки: \n",
      "5, 2, 25, 7, 6, 10, 3, 20, 9, 17, 4, 16, 24, 22, 19, 12, 11, 23, 14, 8, 18, 27, 13, 15, 26, 31, 21, 1\n"
     ]
    }
   ],
   "source": [
    "print(\"Уникальные значения для числа этажей в доме после корректировки: \\n\" + ', '.join(list(map(str, new_df['number of floors'].unique()))))"
   ]
  },
  {
   "cell_type": "markdown",
   "id": "75e4aab3",
   "metadata": {},
   "source": [
    "### Этаж квартиры"
   ]
  },
  {
   "cell_type": "code",
   "execution_count": 76,
   "id": "f8d12bf7",
   "metadata": {},
   "outputs": [
    {
     "data": {
      "text/plain": [
       "array([ 1.,  3.,  4.,  5.,  6.,  7.,  2., 10.,  9.,  8., 22., 23., 14.,\n",
       "       16., 11., 12., 13., 18., 19., 15., 26., 21., 20., 24., 17., 25.])"
      ]
     },
     "execution_count": 76,
     "metadata": {},
     "output_type": "execute_result"
    }
   ],
   "source": [
    "new_df['apartment floor'].unique()"
   ]
  },
  {
   "cell_type": "code",
   "execution_count": 77,
   "id": "1644ae33",
   "metadata": {},
   "outputs": [],
   "source": [
    "new_df['apartment floor'] = new_df['apartment floor'].astype(int)"
   ]
  },
  {
   "cell_type": "code",
   "execution_count": 78,
   "id": "97558685",
   "metadata": {},
   "outputs": [
    {
     "data": {
      "text/plain": [
       "array([ 1,  3,  4,  5,  6,  7,  2, 10,  9,  8, 22, 23, 14, 16, 11, 12, 13,\n",
       "       18, 19, 15, 26, 21, 20, 24, 17, 25])"
      ]
     },
     "execution_count": 78,
     "metadata": {},
     "output_type": "execute_result"
    }
   ],
   "source": [
    "new_df['apartment floor'].unique()"
   ]
  },
  {
   "cell_type": "markdown",
   "id": "0dfd311b",
   "metadata": {},
   "source": [
    "### Цена"
   ]
  },
  {
   "cell_type": "code",
   "execution_count": 79,
   "id": "9e79a7fa",
   "metadata": {},
   "outputs": [
    {
     "data": {
      "text/plain": [
       "dtype('float64')"
      ]
     },
     "execution_count": 79,
     "metadata": {},
     "output_type": "execute_result"
    }
   ],
   "source": [
    "new_df['price'].dtype"
   ]
  },
  {
   "cell_type": "markdown",
   "id": "cfb93d33",
   "metadata": {},
   "source": [
    "Производить манипуляции над ценой не нужно"
   ]
  },
  {
   "cell_type": "markdown",
   "id": "322d929d",
   "metadata": {},
   "source": [
    "### Ремонт"
   ]
  },
  {
   "cell_type": "code",
   "execution_count": 80,
   "id": "7f881d98",
   "metadata": {},
   "outputs": [
    {
     "name": "stdout",
     "output_type": "stream",
     "text": [
      "Уникальные значения для ремонта: косметический, евро, требует ремонта, дизайнерский\n"
     ]
    }
   ],
   "source": [
    "print(\"Уникальные значения для ремонта: \" + ', '.join(new_df['repair'].unique()))"
   ]
  },
  {
   "cell_type": "markdown",
   "id": "bd6fef04",
   "metadata": {},
   "source": [
    "Предобработка не требуется, в дальнейшем данный признак будет закодирован методом one hot encoding"
   ]
  },
  {
   "cell_type": "markdown",
   "id": "d6c77abf",
   "metadata": {},
   "source": [
    "### Санузел"
   ]
  },
  {
   "cell_type": "code",
   "execution_count": 81,
   "id": "47739e18",
   "metadata": {},
   "outputs": [
    {
     "name": "stdout",
     "output_type": "stream",
     "text": [
      "Уникальные значения для санузла: раздельный, совмещенный, несколько\n"
     ]
    }
   ],
   "source": [
    "print(\"Уникальные значения для санузла: \" + ', '.join(new_df['bathroom'].unique()))"
   ]
  },
  {
   "cell_type": "markdown",
   "id": "b8267bb4",
   "metadata": {},
   "source": [
    "Предобработка не требуется, в дальнейшем данный признак будет закодирован методом one hot encoding"
   ]
  },
  {
   "cell_type": "markdown",
   "id": "ad108b03",
   "metadata": {},
   "source": [
    "### Вид из окна"
   ]
  },
  {
   "cell_type": "code",
   "execution_count": 82,
   "id": "b227a9e6",
   "metadata": {},
   "outputs": [
    {
     "name": "stdout",
     "output_type": "stream",
     "text": [
      "Уникальные значения для вида из окна: ['на улицу, во двор' 'на улицу' 'во двор' nan]\n"
     ]
    }
   ],
   "source": [
    "print(\"Уникальные значения для вида из окна: \" + str(new_df['view from the windows'].unique()))"
   ]
  },
  {
   "cell_type": "markdown",
   "id": "d68dba48",
   "metadata": {},
   "source": [
    "Признак малоинформативен, его нужно будет удалить"
   ]
  },
  {
   "cell_type": "markdown",
   "id": "cbe306c5",
   "metadata": {},
   "source": [
    "### Вид балкона"
   ]
  },
  {
   "cell_type": "code",
   "execution_count": 83,
   "id": "9e21fd82",
   "metadata": {},
   "outputs": [
    {
     "name": "stdout",
     "output_type": "stream",
     "text": [
      "Уникальные значения для санузла: балкон, нет, лоджия\n"
     ]
    }
   ],
   "source": [
    "print(\"Уникальные значения для санузла: \" + ', '.join(new_df['terrace'].unique()))"
   ]
  },
  {
   "cell_type": "markdown",
   "id": "b2974b59",
   "metadata": {},
   "source": [
    "Предобработка не требуется, в дальнейшем данный признак будет закодирован методом one hot encoding"
   ]
  },
  {
   "cell_type": "markdown",
   "id": "6eca39e6",
   "metadata": {},
   "source": [
    "### Год постройки"
   ]
  },
  {
   "cell_type": "code",
   "execution_count": 84,
   "id": "e7d0ba3b",
   "metadata": {},
   "outputs": [
    {
     "name": "stdout",
     "output_type": "stream",
     "text": [
      "Уникальные значения для года постройки: 1972, 1957, 2010, 2014, 1966, 2016, 1993, 1960, 1971, 2017, 1978, 1962, 1995, 2015, 2012, 1969, 1996, 1987, 1975, 1953, 1980, 1986, 2019, 2009, 2007, 21, 2018, 1970, 1961, 1964, 1997, 1990, 1965, 1974, 1984, 1959, 1983, 1967, 1954, 2005, 2013, 2011, 2003, 1991, 2001, 2020, 1950, 1979, 1963, 1981, 2021, 1968, 1992, 1985, 1989, 2008, 1973, 2006, 1976, 1998, 2000, 2004, 1982, 1977, 1951, 1988, 1999, 1958, 1929, 2023, 1994, 1956, 1949, 1942, 2002, 1917, 1955, 1946, 63, 84, 78, 1681, 1939, 198, 1940\n"
     ]
    }
   ],
   "source": [
    "print(\"Уникальные значения для года постройки: \" + ', '.join(new_df['year of construction'].unique()))"
   ]
  },
  {
   "cell_type": "code",
   "execution_count": 85,
   "id": "9d9c84dd",
   "metadata": {},
   "outputs": [],
   "source": [
    "def year(y):\n",
    "    y = int(y)\n",
    "    if y < 100:\n",
    "        return 1900 + y\n",
    "    elif y < 1000:\n",
    "        return y*10\n",
    "    else:\n",
    "        return y"
   ]
  },
  {
   "cell_type": "code",
   "execution_count": 86,
   "id": "6f315fb9",
   "metadata": {},
   "outputs": [],
   "source": [
    "new_df['year of construction'] = np.array([year(item) for item in new_df['year of construction'].values])"
   ]
  },
  {
   "cell_type": "code",
   "execution_count": 87,
   "id": "b037eb9a",
   "metadata": {},
   "outputs": [
    {
     "name": "stdout",
     "output_type": "stream",
     "text": [
      "Уникальные значения для года постройки после коррекции: [1972 1957 2010 2014 1966 2016 1993 1960 1971 2017 1978 1962 1995 2015\n",
      " 2012 1969 1996 1987 1975 1953 1980 1986 2019 2009 2007 1921 2018 1970\n",
      " 1961 1964 1997 1990 1965 1974 1984 1959 1983 1967 1954 2005 2013 2011\n",
      " 2003 1991 2001 2020 1950 1979 1963 1981 2021 1968 1992 1985 1989 2008\n",
      " 1973 2006 1976 1998 2000 2004 1982 1977 1951 1988 1999 1958 1929 2023\n",
      " 1994 1956 1949 1942 2002 1917 1955 1946 1681 1939 1940]\n"
     ]
    }
   ],
   "source": [
    "print(\"Уникальные значения для года постройки после коррекции: \" + str(new_df['year of construction'].unique()))"
   ]
  },
  {
   "cell_type": "markdown",
   "id": "f4f49178",
   "metadata": {},
   "source": [
    "### Количество лифтов"
   ]
  },
  {
   "cell_type": "code",
   "execution_count": 88,
   "id": "d7c13768",
   "metadata": {},
   "outputs": [
    {
     "name": "stdout",
     "output_type": "stream",
     "text": [
      "Уникальные значения для числа лифтов: [ 0.  2.  1. nan  3.  4.]\n"
     ]
    }
   ],
   "source": [
    "print(\"Уникальные значения для числа лифтов: \" + str(new_df['elevator'].unique()))"
   ]
  },
  {
   "cell_type": "code",
   "execution_count": 89,
   "id": "ce5e0ac7",
   "metadata": {},
   "outputs": [
    {
     "name": "stdout",
     "output_type": "stream",
     "text": [
      "Количество записей с неизвестным числом лифтов: 373\n"
     ]
    }
   ],
   "source": [
    "print(\"Количество записей с неизвестным числом лифтов: \" + str(len(new_df[new_df['elevator'].isna() == True])))"
   ]
  },
  {
   "cell_type": "markdown",
   "id": "9fc9ae86",
   "metadata": {},
   "source": [
    "Для заполнения пропусков воспользуемся будем использовать следующее правило:\n",
    "1. До 5 этажей в ключительно - нет лифтов\n",
    "2. От 6 до 9 этажей включительно - 1 лифт\n",
    "3. От 10 до 19 этажей включительно - 2 лифта\n",
    "4. От 20 этажей - 3 лифта"
   ]
  },
  {
   "cell_type": "code",
   "execution_count": 90,
   "id": "5cc49fa7",
   "metadata": {},
   "outputs": [],
   "source": [
    "def get_n_elevator(floor):\n",
    "    if floor <= 5:\n",
    "        return 0\n",
    "    elif 6 <= floor <= 9:\n",
    "        return 1\n",
    "    elif 10 <= floor <= 19:\n",
    "        return 2\n",
    "    else:\n",
    "        return 3"
   ]
  },
  {
   "cell_type": "code",
   "execution_count": 91,
   "id": "fd95182d",
   "metadata": {},
   "outputs": [],
   "source": [
    "new_df.loc[new_df.elevator.isna(), 'elevator'] = np.array([get_n_elevator(item) for item in new_df[new_df.elevator.isna()]['number of floors'].values])"
   ]
  },
  {
   "cell_type": "code",
   "execution_count": 92,
   "id": "4a7f2c23",
   "metadata": {},
   "outputs": [
    {
     "name": "stdout",
     "output_type": "stream",
     "text": [
      "Количество записей с неизвестным числом лифтов: 0\n"
     ]
    }
   ],
   "source": [
    "print(\"Количество записей с неизвестным числом лифтов: \" + str(len(new_df[new_df['elevator'].isna() == True])))"
   ]
  },
  {
   "cell_type": "code",
   "execution_count": 93,
   "id": "5cc1602b",
   "metadata": {},
   "outputs": [
    {
     "name": "stdout",
     "output_type": "stream",
     "text": [
      "Уникальные значения для числа лифтов после коррекции: [0. 2. 1. 3. 4.]\n"
     ]
    }
   ],
   "source": [
    "print(\"Уникальные значения для числа лифтов после коррекции: \" + str(new_df['elevator'].unique()))"
   ]
  },
  {
   "cell_type": "markdown",
   "id": "f463c3df",
   "metadata": {},
   "source": [
    "### Дополнительные услуги"
   ]
  },
  {
   "cell_type": "code",
   "execution_count": 94,
   "id": "f3a0d376",
   "metadata": {},
   "outputs": [
    {
     "name": "stdout",
     "output_type": "stream",
     "text": [
      "Уникальные значения для дополнительных услуг: ['газоснабжение' 'консьерж' nan 'консьерж, газоснабжение'\n",
      " 'мусоропровод, газоснабжение' 'консьерж, мусоропровод, газоснабжение'\n",
      " 'мусоропровод' 'консьерж, мусоропровод']\n"
     ]
    }
   ],
   "source": [
    "print(\"Уникальные значения для дополнительных услуг: \" + str(new_df['extra'].unique()))"
   ]
  },
  {
   "cell_type": "markdown",
   "id": "3df162c2",
   "metadata": {},
   "source": [
    "Из этих признаков нас интересует только мусоропровод, консьерж. Если информации нет, то и признаки эти будут отсутствовать у дома."
   ]
  },
  {
   "cell_type": "code",
   "execution_count": 95,
   "id": "5a1422f0",
   "metadata": {},
   "outputs": [],
   "source": [
    "def get_garbage(text):\n",
    "    if 'мусоропровод' in text:\n",
    "        return 1\n",
    "    else:\n",
    "        return 0\n",
    "\n",
    "def get_concierge(text):\n",
    "    if 'консьерж' in text:\n",
    "        return 1\n",
    "    else:\n",
    "        return 0"
   ]
  },
  {
   "cell_type": "code",
   "execution_count": 96,
   "id": "afbb5a35",
   "metadata": {},
   "outputs": [],
   "source": [
    "new_df['concierge'] = 0\n",
    "new_df['garbage chute'] = 0"
   ]
  },
  {
   "cell_type": "code",
   "execution_count": 97,
   "id": "01cfa368",
   "metadata": {},
   "outputs": [],
   "source": [
    "new_df.loc[new_df.extra.notnull(), 'concierge'] = np.array([get_concierge(item) for item in new_df[new_df.extra.notnull()]['extra'].values])\n",
    "new_df.loc[new_df.extra.notnull(), 'garbage chute'] = np.array([get_garbage(item) for item in new_df[new_df.extra.notnull()]['extra'].values])"
   ]
  },
  {
   "cell_type": "markdown",
   "id": "8e761c7b",
   "metadata": {},
   "source": [
    "### Тип дома"
   ]
  },
  {
   "cell_type": "code",
   "execution_count": 98,
   "id": "4fdd23df",
   "metadata": {},
   "outputs": [
    {
     "name": "stdout",
     "output_type": "stream",
     "text": [
      "Уникальные значения для типа дома: \n",
      "панельный\n",
      "кирпичный\n",
      "монолитный\n",
      "блочный\n",
      "Ленинградский проект . Дом кирпичный. Дома этой серии испытаны временем, проживание в них комфортно и удобно, а сама квартира теплая, сухая, солнечная. Квартира требует ремонта. Есть возможность воплотить все свои дизайнерские фантазии. С/у совмещен , трубы поменяны. Кухня, прихожая - натяжные потолки. По документам - 1 этаж, но со стороны улицы уровень второго этажа!!! Балкон с решетками. Отличный вариант для семьи с детьми, чтобы жить современно и независимо. Дружелюбный дом с большой придомовой территорией и вместительной парковкой. Детская площадка огорожена. Опрятный, чистый подъезд. Разнообразные магазины, торговые центры, д/с, поликлиника, парк с детскими аттракционами - все в шаговой доступности! Отличная транспортная развязка. При покупке квартиры по ипотеке Сбербанка предоставляется скидка от базовой ставки 0.3%. Не упустите свой шанс выгодно приобрести квартиру!\n",
      "деревянный\n"
     ]
    }
   ],
   "source": [
    "print(\"Уникальные значения для типа дома: \\n\" + '\\n'.join(new_df['type of house'].unique()))"
   ]
  },
  {
   "cell_type": "markdown",
   "id": "855dfe65",
   "metadata": {},
   "source": [
    "Замечен тип дома, принимающий экстремальное значение, это нужно исправить"
   ]
  },
  {
   "cell_type": "code",
   "execution_count": 99,
   "id": "ec353b49",
   "metadata": {},
   "outputs": [],
   "source": [
    "def get_house_type(hous_type):\n",
    "    if len(hous_type) < 20:\n",
    "        return hous_type\n",
    "    else:\n",
    "        return \"кирпичный\""
   ]
  },
  {
   "cell_type": "code",
   "execution_count": 100,
   "id": "ea0120dd",
   "metadata": {},
   "outputs": [],
   "source": [
    "new_df['type of house'] = np.array([get_house_type(item) for item in new_df['type of house'].values])"
   ]
  },
  {
   "cell_type": "code",
   "execution_count": 101,
   "id": "a4bdf2a2",
   "metadata": {},
   "outputs": [
    {
     "name": "stdout",
     "output_type": "stream",
     "text": [
      "Уникальные значения для типа дома после коррекции: \n",
      "панельный\n",
      "кирпичный\n",
      "монолитный\n",
      "блочный\n",
      "деревянный\n"
     ]
    }
   ],
   "source": [
    "print(\"Уникальные значения для типа дома после коррекции: \\n\" + '\\n'.join(new_df['type of house'].unique()))"
   ]
  },
  {
   "cell_type": "markdown",
   "id": "36a9b530",
   "metadata": {},
   "source": [
    "### Парковка"
   ]
  },
  {
   "cell_type": "code",
   "execution_count": 102,
   "id": "0135c9dd",
   "metadata": {},
   "outputs": [
    {
     "name": "stdout",
     "output_type": "stream",
     "text": [
      "Уникальные значения для парковки: \n",
      "['открытая во дворе' nan 'наземная многоуровневая, за шлагбаумом во дворе'\n",
      " 'за шлагбаумом во дворе' 'подземная'\n",
      " 'наземная многоуровневая, открытая во дворе'\n",
      " 'подземная, наземная многоуровневая, за шлагбаумом во дворе'\n",
      " 'наземная многоуровневая' 'подземная, за шлагбаумом во дворе'\n",
      " 'подземная, за шлагбаумом во дворе, открытая во дворе'\n",
      " 'подземная, наземная многоуровневая, открытая во дворе'\n",
      " 'наземная многоуровневая, за шлагбаумом во дворе, открытая во дворе'\n",
      " 'за шлагбаумом во дворе, открытая во дворе'\n",
      " 'подземная, наземная многоуровневая, за шлагбаумом во дворе, открытая во дворе'\n",
      " 'подземная, открытая во дворе' 'подземная, наземная многоуровневая']\n"
     ]
    }
   ],
   "source": [
    "print(\"Уникальные значения для парковки: \\n\" + str(new_df['parking'].unique()))"
   ]
  },
  {
   "cell_type": "code",
   "execution_count": 103,
   "id": "362e48ee",
   "metadata": {},
   "outputs": [
    {
     "name": "stdout",
     "output_type": "stream",
     "text": [
      "Количество записей с неизвестным типом парковки: 254\n"
     ]
    }
   ],
   "source": [
    "print(\"Количество записей с неизвестным типом парковки: \" + str(new_df['parking'].isna().sum()))"
   ]
  },
  {
   "cell_type": "code",
   "execution_count": 104,
   "id": "d16ce524",
   "metadata": {},
   "outputs": [],
   "source": [
    "new_df.loc[new_df.parking.isna(), 'parking'] = \"\""
   ]
  },
  {
   "cell_type": "markdown",
   "id": "7dd4b5e6",
   "metadata": {},
   "source": [
    "Этот признак, несмотря на большое количество пропусков, можно оставить, так как этот признак будет разбит на несколько категорий, исходя из типа парковки, методом one hot encoding."
   ]
  },
  {
   "cell_type": "markdown",
   "id": "6919cf80",
   "metadata": {},
   "source": [
    "## Удаление ненужных столбцов"
   ]
  },
  {
   "cell_type": "code",
   "execution_count": 105,
   "id": "a24895a5",
   "metadata": {},
   "outputs": [
    {
     "data": {
      "text/plain": [
       "Index(['physical address', 'number of rooms', 'area of apartment',\n",
       "       'number of floors', 'apartment floor', 'price', 'link', 'repair',\n",
       "       'bathroom', 'view from the windows', 'terrace', 'year of construction',\n",
       "       'elevator', 'extra', 'type of house', 'parking', 'district',\n",
       "       'full address', 'concierge', 'garbage chute'],\n",
       "      dtype='object')"
      ]
     },
     "execution_count": 105,
     "metadata": {},
     "output_type": "execute_result"
    }
   ],
   "source": [
    "new_df.columns"
   ]
  },
  {
   "cell_type": "code",
   "execution_count": 106,
   "id": "91a44cd0",
   "metadata": {},
   "outputs": [],
   "source": [
    "column_for_delete = [\"physical address\", \"link\", \"view from the windows\", \"extra\"]"
   ]
  },
  {
   "cell_type": "code",
   "execution_count": 107,
   "id": "33d8aa44",
   "metadata": {},
   "outputs": [],
   "source": [
    "for column in column_for_delete:\n",
    "    new_df = new_df.drop(column, axis=1)"
   ]
  },
  {
   "cell_type": "code",
   "execution_count": 108,
   "id": "a0e77f7b",
   "metadata": {},
   "outputs": [
    {
     "data": {
      "text/plain": [
       "Index(['number of rooms', 'area of apartment', 'number of floors',\n",
       "       'apartment floor', 'price', 'repair', 'bathroom', 'terrace',\n",
       "       'year of construction', 'elevator', 'type of house', 'parking',\n",
       "       'district', 'full address', 'concierge', 'garbage chute'],\n",
       "      dtype='object')"
      ]
     },
     "execution_count": 108,
     "metadata": {},
     "output_type": "execute_result"
    }
   ],
   "source": [
    "new_df.columns"
   ]
  },
  {
   "cell_type": "code",
   "execution_count": 109,
   "id": "34ae461b",
   "metadata": {},
   "outputs": [],
   "source": [
    "new_df.index = np.arange(len(new_df))"
   ]
  },
  {
   "cell_type": "markdown",
   "id": "127d1e4c",
   "metadata": {},
   "source": [
    "## Итог первичной обработки"
   ]
  },
  {
   "cell_type": "code",
   "execution_count": 110,
   "id": "e8c12bfb",
   "metadata": {},
   "outputs": [
    {
     "name": "stdout",
     "output_type": "stream",
     "text": [
      "<class 'pandas.core.frame.DataFrame'>\n",
      "Int64Index: 1894 entries, 0 to 1893\n",
      "Data columns (total 16 columns):\n",
      " #   Column                Non-Null Count  Dtype  \n",
      "---  ------                --------------  -----  \n",
      " 0   number of rooms       1894 non-null   int32  \n",
      " 1   area of apartment     1894 non-null   float64\n",
      " 2   number of floors      1894 non-null   int32  \n",
      " 3   apartment floor       1894 non-null   int32  \n",
      " 4   price                 1894 non-null   float64\n",
      " 5   repair                1894 non-null   object \n",
      " 6   bathroom              1894 non-null   object \n",
      " 7   terrace               1894 non-null   object \n",
      " 8   year of construction  1894 non-null   int32  \n",
      " 9   elevator              1894 non-null   float64\n",
      " 10  type of house         1894 non-null   object \n",
      " 11  parking               1894 non-null   object \n",
      " 12  district              1894 non-null   object \n",
      " 13  full address          1894 non-null   object \n",
      " 14  concierge             1894 non-null   int64  \n",
      " 15  garbage chute         1894 non-null   int64  \n",
      "dtypes: float64(3), int32(4), int64(2), object(7)\n",
      "memory usage: 222.0+ KB\n"
     ]
    }
   ],
   "source": [
    "new_df.info()"
   ]
  },
  {
   "cell_type": "code",
   "execution_count": 111,
   "id": "2bb3b641",
   "metadata": {},
   "outputs": [],
   "source": [
    "new_df.to_csv('../clean_data.csv', sep=';', index=False)"
   ]
  },
  {
   "cell_type": "markdown",
   "id": "47c7fa53",
   "metadata": {},
   "source": [
    "__В ходе первой обработки были:__\n",
    "1. удалены записи с пропусками важных признаков\n",
    "2. выделены признаки района и полного адреса без района\n",
    "3. рассмотрены и скорректированы некоторые признаки\n",
    "4. удалены ненужные столбцы"
   ]
  }
 ],
 "metadata": {
  "kernelspec": {
   "display_name": "Python 3",
   "language": "python",
   "name": "python3"
  },
  "language_info": {
   "codemirror_mode": {
    "name": "ipython",
    "version": 3
   },
   "file_extension": ".py",
   "mimetype": "text/x-python",
   "name": "python",
   "nbconvert_exporter": "python",
   "pygments_lexer": "ipython3",
   "version": "3.9.5"
  }
 },
 "nbformat": 4,
 "nbformat_minor": 5
}
