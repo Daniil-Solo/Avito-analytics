{
 "cells": [
  {
   "cell_type": "markdown",
   "id": "c06d2bea",
   "metadata": {},
   "source": [
    "# Анализ выбросов в очищенных данных"
   ]
  },
  {
   "cell_type": "markdown",
   "id": "56f7ce30",
   "metadata": {},
   "source": [
    "## Импорт библиотек"
   ]
  },
  {
   "cell_type": "code",
   "execution_count": 27,
   "id": "359d9f31",
   "metadata": {},
   "outputs": [],
   "source": [
    "import pandas as pd\n",
    "import numpy as np\n",
    "import matplotlib.pyplot as plt\n",
    "import sklearn\n",
    "import re"
   ]
  },
  {
   "cell_type": "markdown",
   "id": "06f4e1b1",
   "metadata": {},
   "source": [
    "## Открытие данных"
   ]
  },
  {
   "cell_type": "code",
   "execution_count": 28,
   "id": "c1c594d5",
   "metadata": {},
   "outputs": [],
   "source": [
    "df = pd.read_csv('../clean_data.csv', sep=';')"
   ]
  },
  {
   "cell_type": "code",
   "execution_count": 29,
   "id": "f55975fa",
   "metadata": {},
   "outputs": [
    {
     "data": {
      "text/html": [
       "<div>\n",
       "<style scoped>\n",
       "    .dataframe tbody tr th:only-of-type {\n",
       "        vertical-align: middle;\n",
       "    }\n",
       "\n",
       "    .dataframe tbody tr th {\n",
       "        vertical-align: top;\n",
       "    }\n",
       "\n",
       "    .dataframe thead th {\n",
       "        text-align: right;\n",
       "    }\n",
       "</style>\n",
       "<table border=\"1\" class=\"dataframe\">\n",
       "  <thead>\n",
       "    <tr style=\"text-align: right;\">\n",
       "      <th></th>\n",
       "      <th>number of rooms</th>\n",
       "      <th>area of apartment</th>\n",
       "      <th>number of floors</th>\n",
       "      <th>apartment floor</th>\n",
       "      <th>price</th>\n",
       "      <th>repair</th>\n",
       "      <th>bathroom</th>\n",
       "      <th>terrace</th>\n",
       "      <th>year of construction</th>\n",
       "      <th>elevator</th>\n",
       "      <th>type of house</th>\n",
       "      <th>parking</th>\n",
       "      <th>district</th>\n",
       "      <th>full address</th>\n",
       "      <th>concierge</th>\n",
       "      <th>garbage chute</th>\n",
       "    </tr>\n",
       "  </thead>\n",
       "  <tbody>\n",
       "    <tr>\n",
       "      <th>1666</th>\n",
       "      <td>3</td>\n",
       "      <td>64.0</td>\n",
       "      <td>10</td>\n",
       "      <td>3</td>\n",
       "      <td>3550000.0</td>\n",
       "      <td>требует ремонта</td>\n",
       "      <td>раздельный</td>\n",
       "      <td>балкон</td>\n",
       "      <td>1993</td>\n",
       "      <td>1.0</td>\n",
       "      <td>панельный</td>\n",
       "      <td>открытая во дворе</td>\n",
       "      <td>Мотовилихинский</td>\n",
       "      <td>Пермский край, Пермь, ул. Восстания, 13</td>\n",
       "      <td>0</td>\n",
       "      <td>1</td>\n",
       "    </tr>\n",
       "    <tr>\n",
       "      <th>1205</th>\n",
       "      <td>3</td>\n",
       "      <td>74.0</td>\n",
       "      <td>3</td>\n",
       "      <td>1</td>\n",
       "      <td>3050000.0</td>\n",
       "      <td>евро</td>\n",
       "      <td>раздельный</td>\n",
       "      <td>балкон</td>\n",
       "      <td>1957</td>\n",
       "      <td>0.0</td>\n",
       "      <td>блочный</td>\n",
       "      <td>открытая во дворе</td>\n",
       "      <td>Кировский</td>\n",
       "      <td>Пермский край, Пермь, ул. Александра Невского, 28</td>\n",
       "      <td>0</td>\n",
       "      <td>0</td>\n",
       "    </tr>\n",
       "    <tr>\n",
       "      <th>809</th>\n",
       "      <td>3</td>\n",
       "      <td>65.0</td>\n",
       "      <td>14</td>\n",
       "      <td>6</td>\n",
       "      <td>5500000.0</td>\n",
       "      <td>дизайнерский</td>\n",
       "      <td>раздельный</td>\n",
       "      <td>балкон</td>\n",
       "      <td>1991</td>\n",
       "      <td>1.0</td>\n",
       "      <td>кирпичный</td>\n",
       "      <td>открытая во дворе</td>\n",
       "      <td>Свердловский</td>\n",
       "      <td>Пермский край, Пермь, ул. Клары Цеткин, 21А</td>\n",
       "      <td>0</td>\n",
       "      <td>1</td>\n",
       "    </tr>\n",
       "  </tbody>\n",
       "</table>\n",
       "</div>"
      ],
      "text/plain": [
       "      number of rooms  area of apartment  number of floors  apartment floor  \\\n",
       "1666                3               64.0                10                3   \n",
       "1205                3               74.0                 3                1   \n",
       "809                 3               65.0                14                6   \n",
       "\n",
       "          price           repair    bathroom terrace  year of construction  \\\n",
       "1666  3550000.0  требует ремонта  раздельный  балкон                  1993   \n",
       "1205  3050000.0             евро  раздельный  балкон                  1957   \n",
       "809   5500000.0     дизайнерский  раздельный  балкон                  1991   \n",
       "\n",
       "      elevator type of house            parking         district  \\\n",
       "1666       1.0     панельный  открытая во дворе  Мотовилихинский   \n",
       "1205       0.0       блочный  открытая во дворе        Кировский   \n",
       "809        1.0     кирпичный  открытая во дворе     Свердловский   \n",
       "\n",
       "                                           full address  concierge  \\\n",
       "1666            Пермский край, Пермь, ул. Восстания, 13          0   \n",
       "1205  Пермский край, Пермь, ул. Александра Невского, 28          0   \n",
       "809         Пермский край, Пермь, ул. Клары Цеткин, 21А          0   \n",
       "\n",
       "      garbage chute  \n",
       "1666              1  \n",
       "1205              0  \n",
       "809               1  "
      ]
     },
     "execution_count": 29,
     "metadata": {},
     "output_type": "execute_result"
    }
   ],
   "source": [
    "df.sample(3)"
   ]
  },
  {
   "cell_type": "code",
   "execution_count": 30,
   "id": "4b4c6f2d",
   "metadata": {},
   "outputs": [
    {
     "name": "stdout",
     "output_type": "stream",
     "text": [
      "<class 'pandas.core.frame.DataFrame'>\n",
      "RangeIndex: 1894 entries, 0 to 1893\n",
      "Data columns (total 16 columns):\n",
      " #   Column                Non-Null Count  Dtype  \n",
      "---  ------                --------------  -----  \n",
      " 0   number of rooms       1894 non-null   int64  \n",
      " 1   area of apartment     1894 non-null   float64\n",
      " 2   number of floors      1894 non-null   int64  \n",
      " 3   apartment floor       1894 non-null   int64  \n",
      " 4   price                 1894 non-null   float64\n",
      " 5   repair                1894 non-null   object \n",
      " 6   bathroom              1894 non-null   object \n",
      " 7   terrace               1894 non-null   object \n",
      " 8   year of construction  1894 non-null   int64  \n",
      " 9   elevator              1894 non-null   float64\n",
      " 10  type of house         1894 non-null   object \n",
      " 11  parking               1640 non-null   object \n",
      " 12  district              1894 non-null   object \n",
      " 13  full address          1894 non-null   object \n",
      " 14  concierge             1894 non-null   int64  \n",
      " 15  garbage chute         1894 non-null   int64  \n",
      "dtypes: float64(3), int64(6), object(7)\n",
      "memory usage: 236.9+ KB\n"
     ]
    }
   ],
   "source": [
    "df.info()"
   ]
  },
  {
   "cell_type": "markdown",
   "id": "3015a09a",
   "metadata": {},
   "source": [
    "## Анализ выбросов в количественных признаках"
   ]
  },
  {
   "cell_type": "markdown",
   "id": "a02382a0",
   "metadata": {},
   "source": [
    "### Обнаружение признаков с выбросами"
   ]
  },
  {
   "cell_type": "code",
   "execution_count": 31,
   "id": "f3d1cfa9",
   "metadata": {},
   "outputs": [
    {
     "name": "stdout",
     "output_type": "stream",
     "text": [
      "Количество признаков: 9\n"
     ]
    }
   ],
   "source": [
    "numeric_features = []\n",
    "for column in df.columns:\n",
    "    if str(df[column].dtype) != \"object\":\n",
    "        numeric_features.append(column)\n",
    "print(\"Количество признаков: \" + str(len(numeric_features)))"
   ]
  },
  {
   "cell_type": "code",
   "execution_count": 32,
   "id": "8f7b4237",
   "metadata": {},
   "outputs": [
    {
     "data": {
      "image/png": "[encoded data removed]",
      "text/plain": [
       "<Figure size 864x864 with 9 Axes>"
      ]
     },
     "metadata": {
      "needs_background": "light"
     },
     "output_type": "display_data"
    }
   ],
   "source": [
    "plt.figure(figsize=(12, 12))\n",
    "for idx, feature in enumerate(numeric_features):\n",
    "    plt.subplot(3, 3, idx+1)\n",
    "    plt.boxplot(df[feature])\n",
    "    plt.title(feature)"
   ]
  },
  {
   "cell_type": "markdown",
   "id": "e520b75d",
   "metadata": {},
   "source": [
    "Признаки с критическими выбросами:\n",
    "1. площадь квартиры\n",
    "2. цена\n",
    "3. год постройки\n",
    "\n",
    "Остальные признаки, хотя и содержат выбросы, но порядки, в которых они отличаются от обычных значений, сопоставимы"
   ]
  },
  {
   "cell_type": "markdown",
   "id": "a9676fc4",
   "metadata": {},
   "source": [
    "## Рассмотрение критических выбросов"
   ]
  },
  {
   "cell_type": "code",
   "execution_count": 33,
   "id": "78828825",
   "metadata": {},
   "outputs": [],
   "source": [
    "def info_outliers(df, column):\n",
    "    q75,q25 = np.percentile(df[column].values, [75, 25])\n",
    "    intr_qr = q75-q25\n",
    "    upper_bound = round(q75+(1.5*intr_qr))\n",
    "    lower_bound = q25-(1.5*intr_qr) if q25-(1.5*intr_qr) > 0 else 0\n",
    "    print(\"Нижняя граница: \" + str(lower_bound))\n",
    "    print(\"Верхняя граница: \" + str(upper_bound))\n",
    "    n_outliers = len(df[(df[column] > upper_bound) | (df[column] < lower_bound)])\n",
    "    print(\"Удовлетворяет условию \" + str(len(df) - n_outliers) + \" из \" + str(len(df)) + \" квартир\") \n",
    "    print(\"Всего выбросов: \" + str(n_outliers))"
   ]
  },
  {
   "cell_type": "markdown",
   "id": "1bff24a2",
   "metadata": {},
   "source": [
    "### Выбросы для признака площадь квартиры"
   ]
  },
  {
   "cell_type": "code",
   "execution_count": 34,
   "id": "51af5d41",
   "metadata": {},
   "outputs": [
    {
     "name": "stdout",
     "output_type": "stream",
     "text": [
      "Нижняя граница: 0\n",
      "Верхняя граница: 106\n",
      "Удовлетворяет условию 1803 из 1894 квартир\n",
      "Всего выбросов: 91\n"
     ]
    }
   ],
   "source": [
    "info_outliers(df, 'area of apartment')"
   ]
  },
  {
   "cell_type": "markdown",
   "id": "ee5c9941",
   "metadata": {},
   "source": [
    "### Выбросы для признака цена квартиры"
   ]
  },
  {
   "cell_type": "code",
   "execution_count": 35,
   "id": "7f21a030",
   "metadata": {},
   "outputs": [
    {
     "name": "stdout",
     "output_type": "stream",
     "text": [
      "Нижняя граница: 0\n",
      "Верхняя граница: 7906026\n",
      "Удовлетворяет условию 1763 из 1894 квартир\n",
      "Всего выбросов: 131\n"
     ]
    }
   ],
   "source": [
    "info_outliers(df, 'price')"
   ]
  },
  {
   "cell_type": "markdown",
   "id": "c80bee76",
   "metadata": {},
   "source": [
    "### Выбросы для признака год постройки"
   ]
  },
  {
   "cell_type": "code",
   "execution_count": 36,
   "id": "c52df002",
   "metadata": {},
   "outputs": [
    {
     "name": "stdout",
     "output_type": "stream",
     "text": [
      "Нижняя граница: 1909.5\n",
      "Верхняя граница: 2074\n",
      "Удовлетворяет условию 1893 из 1894 квартир\n",
      "Всего выбросов: 1\n"
     ]
    }
   ],
   "source": [
    "info_outliers(df, 'year of construction')"
   ]
  },
  {
   "cell_type": "code",
   "execution_count": 37,
   "id": "c2123a1d",
   "metadata": {},
   "outputs": [
    {
     "data": {
      "text/plain": [
       "1681"
      ]
     },
     "execution_count": 37,
     "metadata": {},
     "output_type": "execute_result"
    }
   ],
   "source": [
    "df['year of construction'].min()"
   ]
  },
  {
   "cell_type": "markdown",
   "id": "d052521f",
   "metadata": {},
   "source": [
    "По всей вероятности составитель объявления указал 1681 вместо 1981. Поэтому исправим это "
   ]
  },
  {
   "cell_type": "code",
   "execution_count": 38,
   "id": "64e2fd77",
   "metadata": {},
   "outputs": [],
   "source": [
    "df.loc[(df['year of construction'] == 1681), 'year of construction'] = 1981"
   ]
  },
  {
   "cell_type": "code",
   "execution_count": 39,
   "id": "bd9de3d9",
   "metadata": {},
   "outputs": [
    {
     "name": "stdout",
     "output_type": "stream",
     "text": [
      "Нижняя граница: 1909.5\n",
      "Верхняя граница: 2074\n",
      "Удовлетворяет условию 1894 из 1894 квартир\n",
      "Всего выбросов: 0\n"
     ]
    }
   ],
   "source": [
    "info_outliers(df, 'year of construction')"
   ]
  },
  {
   "cell_type": "markdown",
   "id": "92b554d1",
   "metadata": {},
   "source": [
    "Для признаков цены и площади поступим следующим образом. Посмотрим на диграмму рассеивания для этих признаков"
   ]
  },
  {
   "cell_type": "code",
   "execution_count": 40,
   "id": "7d456335",
   "metadata": {},
   "outputs": [
    {
     "data": {
      "text/plain": [
       "<matplotlib.collections.PathCollection at 0x208b11c61c0>"
      ]
     },
     "execution_count": 40,
     "metadata": {},
     "output_type": "execute_result"
    },
    {
     "data": {
      "image/png": "[encoded data removed]",
      "text/plain": [
       "<Figure size 432x288 with 1 Axes>"
      ]
     },
     "metadata": {
      "needs_background": "light"
     },
     "output_type": "display_data"
    }
   ],
   "source": [
    "plt.scatter(df['area of apartment'], df.price)"
   ]
  },
  {
   "cell_type": "markdown",
   "id": "19fac03a",
   "metadata": {},
   "source": [
    "Хотя выбросы и присутствуют, но прослеживается линейная зависимость. Поэтому есть надежда, что даже квартиры за 35 миллионов рублей модель сможет предсказать. Таким образом мы не убираем выбросы для этих признаков."
   ]
  },
  {
   "cell_type": "markdown",
   "id": "83be5786",
   "metadata": {},
   "source": [
    "### Состояние выбросов после анализа"
   ]
  },
  {
   "cell_type": "code",
   "execution_count": 41,
   "id": "aac2ad8f",
   "metadata": {},
   "outputs": [
    {
     "data": {
      "image/png": "[encoded data removed]",
      "text/plain": [
       "<Figure size 864x864 with 9 Axes>"
      ]
     },
     "metadata": {
      "needs_background": "light"
     },
     "output_type": "display_data"
    }
   ],
   "source": [
    "plt.figure(figsize=(12, 12))\n",
    "for idx, feature in enumerate(numeric_features):\n",
    "    plt.subplot(3, 3, idx+1)\n",
    "    plt.boxplot(df[feature])\n",
    "    plt.title(feature)"
   ]
  },
  {
   "cell_type": "markdown",
   "id": "85d9fee2",
   "metadata": {},
   "source": [
    "## Итоги анализа выбросов"
   ]
  },
  {
   "cell_type": "code",
   "execution_count": 42,
   "id": "f497c7fc",
   "metadata": {},
   "outputs": [
    {
     "name": "stdout",
     "output_type": "stream",
     "text": [
      "<class 'pandas.core.frame.DataFrame'>\n",
      "RangeIndex: 1894 entries, 0 to 1893\n",
      "Data columns (total 16 columns):\n",
      " #   Column                Non-Null Count  Dtype  \n",
      "---  ------                --------------  -----  \n",
      " 0   number of rooms       1894 non-null   int64  \n",
      " 1   area of apartment     1894 non-null   float64\n",
      " 2   number of floors      1894 non-null   int64  \n",
      " 3   apartment floor       1894 non-null   int64  \n",
      " 4   price                 1894 non-null   float64\n",
      " 5   repair                1894 non-null   object \n",
      " 6   bathroom              1894 non-null   object \n",
      " 7   terrace               1894 non-null   object \n",
      " 8   year of construction  1894 non-null   int64  \n",
      " 9   elevator              1894 non-null   float64\n",
      " 10  type of house         1894 non-null   object \n",
      " 11  parking               1640 non-null   object \n",
      " 12  district              1894 non-null   object \n",
      " 13  full address          1894 non-null   object \n",
      " 14  concierge             1894 non-null   int64  \n",
      " 15  garbage chute         1894 non-null   int64  \n",
      "dtypes: float64(3), int64(6), object(7)\n",
      "memory usage: 236.9+ KB\n"
     ]
    }
   ],
   "source": [
    "df.info()"
   ]
  },
  {
   "cell_type": "code",
   "execution_count": 43,
   "id": "9e6aeecf",
   "metadata": {},
   "outputs": [],
   "source": [
    "df.to_csv('../clean_data_without_outliers.csv', sep=';', index=False)"
   ]
  },
  {
   "cell_type": "markdown",
   "id": "f1a924b3",
   "metadata": {},
   "source": [
    "__В ходе второй обработки были:__\n",
    "1. выявлены признаки с критическими выбросами\n",
    "2. оставлены выбросы по площади и цене в надежде, что модель сможет их обобщить\n",
    "3. исправлено неправильно введенное значение года постройки"
   ]
  }
 ],
 "metadata": {
  "kernelspec": {
   "display_name": "Python 3",
   "language": "python",
   "name": "python3"
  },
  "language_info": {
   "codemirror_mode": {
    "name": "ipython",
    "version": 3
   },
   "file_extension": ".py",
   "mimetype": "text/x-python",
   "name": "python",
   "nbconvert_exporter": "python",
   "pygments_lexer": "ipython3",
   "version": "3.9.5"
  }
 },
 "nbformat": 4,
 "nbformat_minor": 5
}
