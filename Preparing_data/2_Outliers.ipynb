{
 "cells": [
  {
   "cell_type": "markdown",
   "id": "c06d2bea",
   "metadata": {},
   "source": [
    "# Борьба с выбросами в очищенных данных"
   ]
  },
  {
   "cell_type": "markdown",
   "id": "56f7ce30",
   "metadata": {},
   "source": [
    "## Импорт библиотек"
   ]
  },
  {
   "cell_type": "code",
   "execution_count": 268,
   "id": "359d9f31",
   "metadata": {},
   "outputs": [],
   "source": [
    "import pandas as pd\n",
    "import numpy as np\n",
    "import matplotlib.pyplot as plt\n",
    "import sklearn\n",
    "import re"
   ]
  },
  {
   "cell_type": "markdown",
   "id": "06f4e1b1",
   "metadata": {},
   "source": [
    "## Открытие данных"
   ]
  },
  {
   "cell_type": "code",
   "execution_count": 269,
   "id": "c1c594d5",
   "metadata": {},
   "outputs": [],
   "source": [
    "df = pd.read_csv('../clean_data.csv', sep=';')"
   ]
  },
  {
   "cell_type": "code",
   "execution_count": 270,
   "id": "f55975fa",
   "metadata": {},
   "outputs": [
    {
     "data": {
      "text/html": [
       "<div>\n",
       "<style scoped>\n",
       "    .dataframe tbody tr th:only-of-type {\n",
       "        vertical-align: middle;\n",
       "    }\n",
       "\n",
       "    .dataframe tbody tr th {\n",
       "        vertical-align: top;\n",
       "    }\n",
       "\n",
       "    .dataframe thead th {\n",
       "        text-align: right;\n",
       "    }\n",
       "</style>\n",
       "<table border=\"1\" class=\"dataframe\">\n",
       "  <thead>\n",
       "    <tr style=\"text-align: right;\">\n",
       "      <th></th>\n",
       "      <th>number of rooms</th>\n",
       "      <th>area of apartment</th>\n",
       "      <th>number of floors</th>\n",
       "      <th>apartment floor</th>\n",
       "      <th>price</th>\n",
       "      <th>repair</th>\n",
       "      <th>bathroom</th>\n",
       "      <th>terrace</th>\n",
       "      <th>year of construction</th>\n",
       "      <th>elevator</th>\n",
       "      <th>type of house</th>\n",
       "      <th>parking</th>\n",
       "      <th>district</th>\n",
       "      <th>full address</th>\n",
       "      <th>concierge</th>\n",
       "      <th>garbage chute</th>\n",
       "    </tr>\n",
       "  </thead>\n",
       "  <tbody>\n",
       "    <tr>\n",
       "      <th>1603</th>\n",
       "      <td>1</td>\n",
       "      <td>30.0</td>\n",
       "      <td>5</td>\n",
       "      <td>3</td>\n",
       "      <td>1620000.0</td>\n",
       "      <td>косметический</td>\n",
       "      <td>совмещенный</td>\n",
       "      <td>балкон</td>\n",
       "      <td>1962</td>\n",
       "      <td>0.0</td>\n",
       "      <td>блочный</td>\n",
       "      <td>открытая во дворе</td>\n",
       "      <td>р-н Орджоникидзевский</td>\n",
       "      <td>Пермский край, Пермь, 1-й Дубровский пер., 10</td>\n",
       "      <td>0</td>\n",
       "      <td>0</td>\n",
       "    </tr>\n",
       "    <tr>\n",
       "      <th>603</th>\n",
       "      <td>2</td>\n",
       "      <td>56.3</td>\n",
       "      <td>9</td>\n",
       "      <td>8</td>\n",
       "      <td>3600000.0</td>\n",
       "      <td>требует ремонта</td>\n",
       "      <td>раздельный</td>\n",
       "      <td>лоджия</td>\n",
       "      <td>1991</td>\n",
       "      <td>1.0</td>\n",
       "      <td>панельный</td>\n",
       "      <td>открытая во дворе</td>\n",
       "      <td>р-н Мотовилихинский</td>\n",
       "      <td>Пермский край, Пермь, Уинская ул., 8</td>\n",
       "      <td>0</td>\n",
       "      <td>1</td>\n",
       "    </tr>\n",
       "    <tr>\n",
       "      <th>1858</th>\n",
       "      <td>4</td>\n",
       "      <td>87.0</td>\n",
       "      <td>11</td>\n",
       "      <td>6</td>\n",
       "      <td>9999999.0</td>\n",
       "      <td>евро</td>\n",
       "      <td>совмещенный</td>\n",
       "      <td>лоджия</td>\n",
       "      <td>2021</td>\n",
       "      <td>2.0</td>\n",
       "      <td>монолитный</td>\n",
       "      <td>подземная</td>\n",
       "      <td>р-н Индустриальный</td>\n",
       "      <td>Пермский край, Пермь, ул. Карпинского, 53А</td>\n",
       "      <td>0</td>\n",
       "      <td>0</td>\n",
       "    </tr>\n",
       "  </tbody>\n",
       "</table>\n",
       "</div>"
      ],
      "text/plain": [
       "      number of rooms  area of apartment  number of floors  apartment floor  \\\n",
       "1603                1               30.0                 5                3   \n",
       "603                 2               56.3                 9                8   \n",
       "1858                4               87.0                11                6   \n",
       "\n",
       "          price           repair     bathroom terrace  year of construction  \\\n",
       "1603  1620000.0    косметический  совмещенный  балкон                  1962   \n",
       "603   3600000.0  требует ремонта   раздельный  лоджия                  1991   \n",
       "1858  9999999.0             евро  совмещенный  лоджия                  2021   \n",
       "\n",
       "      elevator type of house            parking               district  \\\n",
       "1603       0.0       блочный  открытая во дворе  р-н Орджоникидзевский   \n",
       "603        1.0     панельный  открытая во дворе    р-н Мотовилихинский   \n",
       "1858       2.0    монолитный          подземная     р-н Индустриальный   \n",
       "\n",
       "                                       full address  concierge  garbage chute  \n",
       "1603  Пермский край, Пермь, 1-й Дубровский пер., 10          0              0  \n",
       "603            Пермский край, Пермь, Уинская ул., 8          0              1  \n",
       "1858     Пермский край, Пермь, ул. Карпинского, 53А          0              0  "
      ]
     },
     "execution_count": 270,
     "metadata": {},
     "output_type": "execute_result"
    }
   ],
   "source": [
    "df.sample(3)"
   ]
  },
  {
   "cell_type": "code",
   "execution_count": 271,
   "id": "4b4c6f2d",
   "metadata": {},
   "outputs": [
    {
     "name": "stdout",
     "output_type": "stream",
     "text": [
      "<class 'pandas.core.frame.DataFrame'>\n",
      "RangeIndex: 1894 entries, 0 to 1893\n",
      "Data columns (total 16 columns):\n",
      " #   Column                Non-Null Count  Dtype  \n",
      "---  ------                --------------  -----  \n",
      " 0   number of rooms       1894 non-null   int64  \n",
      " 1   area of apartment     1894 non-null   float64\n",
      " 2   number of floors      1894 non-null   int64  \n",
      " 3   apartment floor       1894 non-null   int64  \n",
      " 4   price                 1894 non-null   float64\n",
      " 5   repair                1894 non-null   object \n",
      " 6   bathroom              1894 non-null   object \n",
      " 7   terrace               1894 non-null   object \n",
      " 8   year of construction  1894 non-null   int64  \n",
      " 9   elevator              1894 non-null   float64\n",
      " 10  type of house         1894 non-null   object \n",
      " 11  parking               1640 non-null   object \n",
      " 12  district              1894 non-null   object \n",
      " 13  full address          1894 non-null   object \n",
      " 14  concierge             1894 non-null   int64  \n",
      " 15  garbage chute         1894 non-null   int64  \n",
      "dtypes: float64(3), int64(6), object(7)\n",
      "memory usage: 236.9+ KB\n"
     ]
    }
   ],
   "source": [
    "df.info()"
   ]
  },
  {
   "cell_type": "markdown",
   "id": "3015a09a",
   "metadata": {},
   "source": [
    "## Удаление выбросов в количественных признаках"
   ]
  },
  {
   "cell_type": "markdown",
   "id": "a02382a0",
   "metadata": {},
   "source": [
    "### Обнаружение признаков с выбросами"
   ]
  },
  {
   "cell_type": "code",
   "execution_count": 272,
   "id": "f3d1cfa9",
   "metadata": {},
   "outputs": [
    {
     "name": "stdout",
     "output_type": "stream",
     "text": [
      "Количество признаков: 9\n"
     ]
    }
   ],
   "source": [
    "numeric_features = []\n",
    "for column in df.columns:\n",
    "    if str(df[column].dtype) != \"object\":\n",
    "        numeric_features.append(column)\n",
    "print(\"Количество признаков: \" + str(len(numeric_features)))"
   ]
  },
  {
   "cell_type": "code",
   "execution_count": 273,
   "id": "8f7b4237",
   "metadata": {},
   "outputs": [
    {
     "data": {
      "image/png": "[encoded data removed]",
      "text/plain": [
       "<Figure size 864x864 with 9 Axes>"
      ]
     },
     "metadata": {
      "needs_background": "light"
     },
     "output_type": "display_data"
    }
   ],
   "source": [
    "plt.figure(figsize=(12, 12))\n",
    "for idx, feature in enumerate(numeric_features):\n",
    "    plt.subplot(3, 3, idx+1)\n",
    "    plt.boxplot(df[feature])\n",
    "    plt.title(feature)"
   ]
  },
  {
   "cell_type": "markdown",
   "id": "e520b75d",
   "metadata": {},
   "source": [
    "Признаки с критическими выбросами:\n",
    "1. площадь квартиры\n",
    "2. цена\n",
    "3. год постройки\n",
    "\n",
    "Остальные признаки, хотя и содержат выбросы, но порядки, в которых они отличаются от обычных значений, сопоставимы"
   ]
  },
  {
   "cell_type": "markdown",
   "id": "a9676fc4",
   "metadata": {},
   "source": [
    "## Рассмотрение критических выбросов"
   ]
  },
  {
   "cell_type": "code",
   "execution_count": 274,
   "id": "78828825",
   "metadata": {},
   "outputs": [],
   "source": [
    "def info_outliers(df, column):\n",
    "    q75,q25 = np.percentile(df[column].values, [75, 25])\n",
    "    intr_qr = q75-q25\n",
    "    upper_bound = round(q75+(1.5*intr_qr))\n",
    "    lower_bound = q25-(1.5*intr_qr) if q25-(1.5*intr_qr) > 0 else 0\n",
    "    print(\"Нижняя граница: \" + str(lower_bound))\n",
    "    print(\"Верхняя граница: \" + str(upper_bound))\n",
    "    n_outliers = len(df[(df[column] > upper_bound) | (df[column] < lower_bound)])\n",
    "    print(\"Удовлетворяет условию \" + str(len(df) - n_outliers) + \" из \" + str(len(df)) + \" квартир\") \n",
    "    print(\"Всего выбросов: \" + str(n_outliers))"
   ]
  },
  {
   "cell_type": "markdown",
   "id": "1bff24a2",
   "metadata": {},
   "source": [
    "### Выбросы для признака площадь квартиры"
   ]
  },
  {
   "cell_type": "code",
   "execution_count": 275,
   "id": "51af5d41",
   "metadata": {},
   "outputs": [
    {
     "name": "stdout",
     "output_type": "stream",
     "text": [
      "Нижняя граница: 0\n",
      "Верхняя граница: 106\n",
      "Удовлетворяет условию 1803 из 1894 квартир\n",
      "Всего выбросов: 91\n"
     ]
    }
   ],
   "source": [
    "info_outliers(df, 'area of apartment')"
   ]
  },
  {
   "cell_type": "markdown",
   "id": "ee5c9941",
   "metadata": {},
   "source": [
    "### Выбросы для признака цена квартиры"
   ]
  },
  {
   "cell_type": "code",
   "execution_count": 276,
   "id": "7f21a030",
   "metadata": {},
   "outputs": [
    {
     "name": "stdout",
     "output_type": "stream",
     "text": [
      "Нижняя граница: 0\n",
      "Верхняя граница: 7906026\n",
      "Удовлетворяет условию 1763 из 1894 квартир\n",
      "Всего выбросов: 131\n"
     ]
    }
   ],
   "source": [
    "info_outliers(df, 'price')"
   ]
  },
  {
   "cell_type": "markdown",
   "id": "c80bee76",
   "metadata": {},
   "source": [
    "### Выбросы для признака год постройки"
   ]
  },
  {
   "cell_type": "code",
   "execution_count": 277,
   "id": "c52df002",
   "metadata": {},
   "outputs": [
    {
     "name": "stdout",
     "output_type": "stream",
     "text": [
      "Нижняя граница: 1909.5\n",
      "Верхняя граница: 2074\n",
      "Удовлетворяет условию 1893 из 1894 квартир\n",
      "Всего выбросов: 1\n"
     ]
    }
   ],
   "source": [
    "info_outliers(df, 'year of construction')"
   ]
  },
  {
   "cell_type": "code",
   "execution_count": 278,
   "id": "c2123a1d",
   "metadata": {},
   "outputs": [
    {
     "data": {
      "text/plain": [
       "1681"
      ]
     },
     "execution_count": 278,
     "metadata": {},
     "output_type": "execute_result"
    }
   ],
   "source": [
    "df['year of construction'].min()"
   ]
  },
  {
   "cell_type": "markdown",
   "id": "d052521f",
   "metadata": {},
   "source": [
    "По всей вероятности составитель объявления указал 1681 вместо 1981. Поэтому исправим это "
   ]
  },
  {
   "cell_type": "code",
   "execution_count": 279,
   "id": "64e2fd77",
   "metadata": {},
   "outputs": [],
   "source": [
    "df.loc[(df['year of construction'] == 1681), 'year of construction'] = 1981"
   ]
  },
  {
   "cell_type": "code",
   "execution_count": 280,
   "id": "bd9de3d9",
   "metadata": {},
   "outputs": [
    {
     "name": "stdout",
     "output_type": "stream",
     "text": [
      "Нижняя граница: 1909.5\n",
      "Верхняя граница: 2074\n",
      "Удовлетворяет условию 1894 из 1894 квартир\n",
      "Всего выбросов: 0\n"
     ]
    }
   ],
   "source": [
    "info_outliers(df, 'year of construction')"
   ]
  },
  {
   "cell_type": "markdown",
   "id": "92b554d1",
   "metadata": {},
   "source": [
    "Для признаков цены и площади поступим следующим образом. Уберем все выбросы по цене и площади. Для случая квартир оставим не более 5 квартир-выбросов."
   ]
  },
  {
   "cell_type": "code",
   "execution_count": 281,
   "id": "57678e92",
   "metadata": {},
   "outputs": [],
   "source": [
    "# Цена\n",
    "q75,q25 = np.percentile(df.price.values, [75, 25])\n",
    "intr_qr = q75-q25\n",
    "upper_bound = round(q75+(1.5*intr_qr))\n",
    "df = df[df.price < upper_bound]"
   ]
  },
  {
   "cell_type": "code",
   "execution_count": 282,
   "id": "23be4092",
   "metadata": {},
   "outputs": [],
   "source": [
    "# Площадь\n",
    "q75,q25 = np.percentile(df['area of apartment'].values, [75, 25])\n",
    "intr_qr = q75-q25\n",
    "upper_bound = round(q75+(1.5*intr_qr))\n",
    "df = df[df['area of apartment'] < upper_bound]"
   ]
  },
  {
   "cell_type": "code",
   "execution_count": 283,
   "id": "ba6a36c9",
   "metadata": {},
   "outputs": [
    {
     "name": "stdout",
     "output_type": "stream",
     "text": [
      "Нижняя граница: 0\n",
      "Верхняя граница: 7250000\n",
      "Удовлетворяет условию 1709 из 1732 квартир\n",
      "Всего выбросов: 23\n"
     ]
    }
   ],
   "source": [
    "info_outliers(df, 'price')"
   ]
  },
  {
   "cell_type": "code",
   "execution_count": 284,
   "id": "05af2490",
   "metadata": {},
   "outputs": [
    {
     "name": "stdout",
     "output_type": "stream",
     "text": [
      "Нижняя граница: 0.5500000000000114\n",
      "Верхняя граница: 97\n",
      "Удовлетворяет условию 1731 из 1732 квартир\n",
      "Всего выбросов: 1\n"
     ]
    }
   ],
   "source": [
    "info_outliers(df, 'area of apartment')"
   ]
  },
  {
   "cell_type": "code",
   "execution_count": 285,
   "id": "33e1cf9f",
   "metadata": {},
   "outputs": [],
   "source": [
    "# Цена\n",
    "q75,q25 = np.percentile(df.price.values, [75, 25])\n",
    "intr_qr = q75-q25\n",
    "upper_bound = round(q75+(1.5*intr_qr))\n",
    "df = df[df.price < upper_bound]"
   ]
  },
  {
   "cell_type": "code",
   "execution_count": 286,
   "id": "9bbb6853",
   "metadata": {},
   "outputs": [],
   "source": [
    "# Площадь\n",
    "q75,q25 = np.percentile(df['area of apartment'].values, [75, 25])\n",
    "intr_qr = q75-q25\n",
    "upper_bound = round(q75+(1.5*intr_qr))\n",
    "df = df[df['area of apartment'] < upper_bound]"
   ]
  },
  {
   "cell_type": "code",
   "execution_count": 287,
   "id": "16f93fd0",
   "metadata": {},
   "outputs": [
    {
     "name": "stdout",
     "output_type": "stream",
     "text": [
      "Нижняя граница: 0.8375000000000128\n",
      "Верхняя граница: 96\n",
      "Удовлетворяет условию 1702 из 1702 квартир\n",
      "Всего выбросов: 0\n"
     ]
    }
   ],
   "source": [
    "info_outliers(df, 'area of apartment')"
   ]
  },
  {
   "cell_type": "code",
   "execution_count": 288,
   "id": "eb03cc76",
   "metadata": {},
   "outputs": [
    {
     "name": "stdout",
     "output_type": "stream",
     "text": [
      "Нижняя граница: 0\n",
      "Верхняя граница: 7000000\n",
      "Удовлетворяет условию 1697 из 1702 квартир\n",
      "Всего выбросов: 5\n"
     ]
    }
   ],
   "source": [
    "info_outliers(df, 'price')"
   ]
  },
  {
   "cell_type": "code",
   "execution_count": 289,
   "id": "9d394309",
   "metadata": {},
   "outputs": [],
   "source": [
    "# оставшиеся цены квартир приравняем к верхней границе\n",
    "df.loc[(df.price > 7000000), 'price'] = 7000000"
   ]
  },
  {
   "cell_type": "markdown",
   "id": "83be5786",
   "metadata": {},
   "source": [
    "### Состояние выбросов после очистки"
   ]
  },
  {
   "cell_type": "code",
   "execution_count": 290,
   "id": "aac2ad8f",
   "metadata": {},
   "outputs": [
    {
     "data": {
      "image/png": "[encoded data removed]",
      "text/plain": [
       "<Figure size 864x864 with 9 Axes>"
      ]
     },
     "metadata": {
      "needs_background": "light"
     },
     "output_type": "display_data"
    }
   ],
   "source": [
    "plt.figure(figsize=(12, 12))\n",
    "for idx, feature in enumerate(numeric_features):\n",
    "    plt.subplot(3, 3, idx+1)\n",
    "    plt.boxplot(df[feature])\n",
    "    plt.title(feature)"
   ]
  },
  {
   "cell_type": "markdown",
   "id": "da22c64d",
   "metadata": {},
   "source": [
    "Такая ситуация уже лучше, критических выбросов не наблюдается."
   ]
  },
  {
   "cell_type": "markdown",
   "id": "85d9fee2",
   "metadata": {},
   "source": [
    "## Итоги борьбы с выбросами"
   ]
  },
  {
   "cell_type": "code",
   "execution_count": 292,
   "id": "f497c7fc",
   "metadata": {},
   "outputs": [
    {
     "name": "stdout",
     "output_type": "stream",
     "text": [
      "<class 'pandas.core.frame.DataFrame'>\n",
      "Int64Index: 1702 entries, 0 to 1893\n",
      "Data columns (total 16 columns):\n",
      " #   Column                Non-Null Count  Dtype  \n",
      "---  ------                --------------  -----  \n",
      " 0   number of rooms       1702 non-null   int64  \n",
      " 1   area of apartment     1702 non-null   float64\n",
      " 2   number of floors      1702 non-null   int64  \n",
      " 3   apartment floor       1702 non-null   int64  \n",
      " 4   price                 1702 non-null   float64\n",
      " 5   repair                1702 non-null   object \n",
      " 6   bathroom              1702 non-null   object \n",
      " 7   terrace               1702 non-null   object \n",
      " 8   year of construction  1702 non-null   int64  \n",
      " 9   elevator              1702 non-null   float64\n",
      " 10  type of house         1702 non-null   object \n",
      " 11  parking               1457 non-null   object \n",
      " 12  district              1702 non-null   object \n",
      " 13  full address          1702 non-null   object \n",
      " 14  concierge             1702 non-null   int64  \n",
      " 15  garbage chute         1702 non-null   int64  \n",
      "dtypes: float64(3), int64(6), object(7)\n",
      "memory usage: 290.6+ KB\n"
     ]
    }
   ],
   "source": [
    "df.info()"
   ]
  },
  {
   "cell_type": "code",
   "execution_count": 296,
   "id": "9e6aeecf",
   "metadata": {},
   "outputs": [],
   "source": [
    "df.to_csv('../clean_data_without_outliers.csv', sep=';', index=False)"
   ]
  },
  {
   "cell_type": "markdown",
   "id": "f1a924b3",
   "metadata": {},
   "source": [
    "__В ходе второй обработки были:__\n",
    "1. выявлены признаки с критическими выбросами\n",
    "2. удалены выбросы, которые могли оказать негативное влияние на работу нейросети\n",
    "3. исправлено неправильно введенное значение года постройки"
   ]
  }
 ],
 "metadata": {
  "kernelspec": {
   "display_name": "Python 3",
   "language": "python",
   "name": "python3"
  },
  "language_info": {
   "codemirror_mode": {
    "name": "ipython",
    "version": 3
   },
   "file_extension": ".py",
   "mimetype": "text/x-python",
   "name": "python",
   "nbconvert_exporter": "python",
   "pygments_lexer": "ipython3",
   "version": "3.9.5"
  }
 },
 "nbformat": 4,
 "nbformat_minor": 5
}
