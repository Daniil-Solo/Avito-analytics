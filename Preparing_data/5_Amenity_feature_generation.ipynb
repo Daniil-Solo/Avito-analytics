{
 "cells": [
  {
   "cell_type": "markdown",
   "id": "c2f5d6ce",
   "metadata": {},
   "source": [
    "# Получение данных об инфраструктуре в радиусе 1 км от квартиры"
   ]
  },
  {
   "cell_type": "markdown",
   "id": "af7d2212",
   "metadata": {},
   "source": [
    "## Импорт библиотек"
   ]
  },
  {
   "cell_type": "code",
   "execution_count": 50,
   "id": "e4394076",
   "metadata": {},
   "outputs": [],
   "source": [
    "import requests\n",
    "import json\n",
    "import time\n",
    "import pandas as pd"
   ]
  },
  {
   "cell_type": "markdown",
   "id": "45499215",
   "metadata": {},
   "source": [
    "## Открытие данных"
   ]
  },
  {
   "cell_type": "code",
   "execution_count": 44,
   "id": "d86a074a",
   "metadata": {},
   "outputs": [],
   "source": [
    "df = pd.read_csv('../clean_categorizated_data_without_outliers_with_coordinates.csv', sep=';')"
   ]
  },
  {
   "cell_type": "code",
   "execution_count": 45,
   "id": "efc4f9f6",
   "metadata": {},
   "outputs": [
    {
     "data": {
      "text/html": [
       "<div>\n",
       "<style scoped>\n",
       "    .dataframe tbody tr th:only-of-type {\n",
       "        vertical-align: middle;\n",
       "    }\n",
       "\n",
       "    .dataframe tbody tr th {\n",
       "        vertical-align: top;\n",
       "    }\n",
       "\n",
       "    .dataframe thead th {\n",
       "        text-align: right;\n",
       "    }\n",
       "</style>\n",
       "<table border=\"1\" class=\"dataframe\">\n",
       "  <thead>\n",
       "    <tr style=\"text-align: right;\">\n",
       "      <th></th>\n",
       "      <th>number of rooms</th>\n",
       "      <th>area of apartment</th>\n",
       "      <th>number of floors</th>\n",
       "      <th>apartment floor</th>\n",
       "      <th>price</th>\n",
       "      <th>year of construction</th>\n",
       "      <th>elevator</th>\n",
       "      <th>full address</th>\n",
       "      <th>concierge</th>\n",
       "      <th>garbage chute</th>\n",
       "      <th>...</th>\n",
       "      <th>district_Ленинский</th>\n",
       "      <th>district_Мотовилихинский</th>\n",
       "      <th>district_Орджоникидзевский</th>\n",
       "      <th>district_Свердловский</th>\n",
       "      <th>parking_за шлагбаумом во дворе</th>\n",
       "      <th>parking_открытая во дворе</th>\n",
       "      <th>parking_наземная многоуровневая</th>\n",
       "      <th>parking_подземная</th>\n",
       "      <th>lat</th>\n",
       "      <th>lon</th>\n",
       "    </tr>\n",
       "  </thead>\n",
       "  <tbody>\n",
       "    <tr>\n",
       "      <th>1644</th>\n",
       "      <td>3</td>\n",
       "      <td>80.6</td>\n",
       "      <td>16</td>\n",
       "      <td>5</td>\n",
       "      <td>4990000.0</td>\n",
       "      <td>2013</td>\n",
       "      <td>1.0</td>\n",
       "      <td>Пермский край, Пермь, ул. Докучаева, 52</td>\n",
       "      <td>0</td>\n",
       "      <td>1</td>\n",
       "      <td>...</td>\n",
       "      <td>0.0</td>\n",
       "      <td>0.0</td>\n",
       "      <td>0.0</td>\n",
       "      <td>0.0</td>\n",
       "      <td>0.0</td>\n",
       "      <td>0.0</td>\n",
       "      <td>0.0</td>\n",
       "      <td>0.0</td>\n",
       "      <td>58.033818</td>\n",
       "      <td>56.141256</td>\n",
       "    </tr>\n",
       "    <tr>\n",
       "      <th>1185</th>\n",
       "      <td>2</td>\n",
       "      <td>55.7</td>\n",
       "      <td>16</td>\n",
       "      <td>2</td>\n",
       "      <td>4900000.0</td>\n",
       "      <td>2017</td>\n",
       "      <td>1.0</td>\n",
       "      <td>Пермский край, Пермь, ул. Овчинникова, 35А</td>\n",
       "      <td>0</td>\n",
       "      <td>1</td>\n",
       "      <td>...</td>\n",
       "      <td>0.0</td>\n",
       "      <td>0.0</td>\n",
       "      <td>0.0</td>\n",
       "      <td>0.0</td>\n",
       "      <td>0.0</td>\n",
       "      <td>0.0</td>\n",
       "      <td>0.0</td>\n",
       "      <td>0.0</td>\n",
       "      <td>57.994669</td>\n",
       "      <td>56.218867</td>\n",
       "    </tr>\n",
       "    <tr>\n",
       "      <th>1111</th>\n",
       "      <td>1</td>\n",
       "      <td>41.0</td>\n",
       "      <td>22</td>\n",
       "      <td>13</td>\n",
       "      <td>4300000.0</td>\n",
       "      <td>2015</td>\n",
       "      <td>1.0</td>\n",
       "      <td>Пермский край, Пермь, Подлесная ул., 43А</td>\n",
       "      <td>1</td>\n",
       "      <td>0</td>\n",
       "      <td>...</td>\n",
       "      <td>0.0</td>\n",
       "      <td>0.0</td>\n",
       "      <td>0.0</td>\n",
       "      <td>0.0</td>\n",
       "      <td>0.0</td>\n",
       "      <td>0.0</td>\n",
       "      <td>0.0</td>\n",
       "      <td>0.0</td>\n",
       "      <td>57.996586</td>\n",
       "      <td>56.163601</td>\n",
       "    </tr>\n",
       "  </tbody>\n",
       "</table>\n",
       "<p>3 rows × 38 columns</p>\n",
       "</div>"
      ],
      "text/plain": [
       "      number of rooms  area of apartment  number of floors  apartment floor  \\\n",
       "1644                3               80.6                16                5   \n",
       "1185                2               55.7                16                2   \n",
       "1111                1               41.0                22               13   \n",
       "\n",
       "          price  year of construction  elevator  \\\n",
       "1644  4990000.0                  2013       1.0   \n",
       "1185  4900000.0                  2017       1.0   \n",
       "1111  4300000.0                  2015       1.0   \n",
       "\n",
       "                                    full address  concierge  garbage chute  \\\n",
       "1644     Пермский край, Пермь, ул. Докучаева, 52          0              1   \n",
       "1185  Пермский край, Пермь, ул. Овчинникова, 35А          0              1   \n",
       "1111    Пермский край, Пермь, Подлесная ул., 43А          1              0   \n",
       "\n",
       "      ...  district_Ленинский  district_Мотовилихинский  \\\n",
       "1644  ...                 0.0                       0.0   \n",
       "1185  ...                 0.0                       0.0   \n",
       "1111  ...                 0.0                       0.0   \n",
       "\n",
       "      district_Орджоникидзевский  district_Свердловский  \\\n",
       "1644                         0.0                    0.0   \n",
       "1185                         0.0                    0.0   \n",
       "1111                         0.0                    0.0   \n",
       "\n",
       "      parking_за шлагбаумом во дворе  parking_открытая во дворе  \\\n",
       "1644                             0.0                        0.0   \n",
       "1185                             0.0                        0.0   \n",
       "1111                             0.0                        0.0   \n",
       "\n",
       "      parking_наземная многоуровневая  parking_подземная        lat        lon  \n",
       "1644                              0.0                0.0  58.033818  56.141256  \n",
       "1185                              0.0                0.0  57.994669  56.218867  \n",
       "1111                              0.0                0.0  57.996586  56.163601  \n",
       "\n",
       "[3 rows x 38 columns]"
      ]
     },
     "execution_count": 45,
     "metadata": {},
     "output_type": "execute_result"
    }
   ],
   "source": [
    "df.sample(3)"
   ]
  },
  {
   "cell_type": "code",
   "execution_count": 46,
   "id": "0cb3acf9",
   "metadata": {},
   "outputs": [
    {
     "name": "stdout",
     "output_type": "stream",
     "text": [
      "<class 'pandas.core.frame.DataFrame'>\n",
      "RangeIndex: 1767 entries, 0 to 1766\n",
      "Data columns (total 38 columns):\n",
      " #   Column                           Non-Null Count  Dtype  \n",
      "---  ------                           --------------  -----  \n",
      " 0   number of rooms                  1767 non-null   int64  \n",
      " 1   area of apartment                1767 non-null   float64\n",
      " 2   number of floors                 1767 non-null   int64  \n",
      " 3   apartment floor                  1767 non-null   int64  \n",
      " 4   price                            1767 non-null   float64\n",
      " 5   year of construction             1767 non-null   int64  \n",
      " 6   elevator                         1767 non-null   float64\n",
      " 7   full address                     1767 non-null   object \n",
      " 8   concierge                        1767 non-null   int64  \n",
      " 9   garbage chute                    1767 non-null   int64  \n",
      " 10  repair_дизайнерский              1767 non-null   float64\n",
      " 11  repair_евро                      1767 non-null   float64\n",
      " 12  repair_косметический             1767 non-null   float64\n",
      " 13  repair_требует ремонта           1767 non-null   float64\n",
      " 14  bathroom_несколько               1767 non-null   float64\n",
      " 15  bathroom_раздельный              1767 non-null   float64\n",
      " 16  bathroom_совмещенный             1767 non-null   float64\n",
      " 17  terrace_балкон                   1767 non-null   float64\n",
      " 18  terrace_лоджия                   1767 non-null   float64\n",
      " 19  terrace_нет                      1767 non-null   float64\n",
      " 20  type of house_блочный            1767 non-null   float64\n",
      " 21  type of house_деревянный         1767 non-null   float64\n",
      " 22  type of house_кирпичный          1767 non-null   float64\n",
      " 23  type of house_монолитный         1767 non-null   float64\n",
      " 24  type of house_панельный          1767 non-null   float64\n",
      " 25  district_Дзержинский             1767 non-null   float64\n",
      " 26  district_Индустриальный          1767 non-null   float64\n",
      " 27  district_Кировский               1767 non-null   float64\n",
      " 28  district_Ленинский               1767 non-null   float64\n",
      " 29  district_Мотовилихинский         1767 non-null   float64\n",
      " 30  district_Орджоникидзевский       1767 non-null   float64\n",
      " 31  district_Свердловский            1767 non-null   float64\n",
      " 32  parking_за шлагбаумом во дворе   1767 non-null   float64\n",
      " 33  parking_открытая во дворе        1767 non-null   float64\n",
      " 34  parking_наземная многоуровневая  1767 non-null   float64\n",
      " 35  parking_подземная                1767 non-null   float64\n",
      " 36  lat                              1767 non-null   float64\n",
      " 37  lon                              1767 non-null   float64\n",
      "dtypes: float64(31), int64(6), object(1)\n",
      "memory usage: 524.7+ KB\n"
     ]
    }
   ],
   "source": [
    "df.info()"
   ]
  },
  {
   "cell_type": "markdown",
   "id": "a90d22a1",
   "metadata": {},
   "source": [
    "## Парсинг данных"
   ]
  },
  {
   "cell_type": "code",
   "execution_count": 54,
   "id": "d6802ac3",
   "metadata": {},
   "outputs": [],
   "source": [
    "all_categories = {\n",
    "    \"eat\":{\n",
    "        \"amenities\": [\"cafe\", \"fast_food\", \"pub\", \"restaurant\"],\n",
    "        \"data\": set()\n",
    "    },\n",
    "    \"edu\":{\n",
    "        \"amenities\": [\"college\", \"kindergarten\", \"library\", \"school\", \"university\"],\n",
    "        \"data\": set()\n",
    "    },\n",
    "    \"health\":{\n",
    "        \"amenities\": [\"clinic\", \"hospital\"],\n",
    "        \"data\": set()\n",
    "    },\n",
    "    \"culture\":{\n",
    "        \"amenities\": [\"cinema\", \"fountain\", \"theatre\"],\n",
    "        \"data\": set()\n",
    "    },\n",
    "}"
   ]
  },
  {
   "cell_type": "code",
   "execution_count": 55,
   "id": "0dd20d4e",
   "metadata": {},
   "outputs": [],
   "source": [
    "overpass_url = \"http://overpass-api.de/api/interpreter\"\n",
    "\n",
    "for category in all_categories:\n",
    "    for amenity in all_categories[category]['amenities']:\n",
    "        time.sleep(3)\n",
    "        overpass_query = f\"\"\"\n",
    "        [out:json];\n",
    "        node(57.5,55,58.5,56.5)[amenity={amenity}];out;\n",
    "        \"\"\"\n",
    "        response = requests.get(overpass_url, \n",
    "                                params={'data': overpass_query})\n",
    "        try:\n",
    "            data = response.json()\n",
    "            for element in data['elements']:\n",
    "              if element['type'] == 'node':\n",
    "                lon = element['lon']\n",
    "                lat = element['lat']\n",
    "                all_categories[category]['data'].add((lat, lon))\n",
    "        except Exception as ex:\n",
    "            print(amenity)\n",
    "            print(ex)"
   ]
  },
  {
   "cell_type": "code",
   "execution_count": 56,
   "id": "e2eab06b",
   "metadata": {},
   "outputs": [
    {
     "name": "stdout",
     "output_type": "stream",
     "text": [
      "eat: 554\n",
      "edu: 137\n",
      "health: 86\n",
      "culture: 20\n"
     ]
    }
   ],
   "source": [
    "for key in all_categories:\n",
    "    print(key + \": \" + str(len(all_categories[key]['data'])))"
   ]
  },
  {
   "cell_type": "code",
   "execution_count": 58,
   "id": "583fcd77",
   "metadata": {},
   "outputs": [],
   "source": [
    "for key in all_categories:\n",
    "    all_categories[key]['data'] = list(all_categories[key]['data'])"
   ]
  },
  {
   "cell_type": "code",
   "execution_count": 61,
   "id": "06b98d8c",
   "metadata": {},
   "outputs": [],
   "source": [
    "with open(\"../amenities.json\", 'w') as f:\n",
    "    json.dump(all_categories, f)"
   ]
  },
  {
   "cell_type": "code",
   "execution_count": null,
   "id": "ccd30f75",
   "metadata": {},
   "outputs": [],
   "source": []
  },
  {
   "cell_type": "code",
   "execution_count": null,
   "id": "39ebaab8",
   "metadata": {},
   "outputs": [],
   "source": []
  },
  {
   "cell_type": "code",
   "execution_count": null,
   "id": "ebc72839",
   "metadata": {},
   "outputs": [],
   "source": []
  },
  {
   "cell_type": "code",
   "execution_count": null,
   "id": "cdd4541f",
   "metadata": {},
   "outputs": [],
   "source": []
  },
  {
   "cell_type": "code",
   "execution_count": null,
   "id": "91016ecb",
   "metadata": {},
   "outputs": [],
   "source": []
  },
  {
   "cell_type": "code",
   "execution_count": null,
   "id": "5300e667",
   "metadata": {},
   "outputs": [],
   "source": []
  }
 ],
 "metadata": {
  "kernelspec": {
   "display_name": "Python 3",
   "language": "python",
   "name": "python3"
  },
  "language_info": {
   "codemirror_mode": {
    "name": "ipython",
    "version": 3
   },
   "file_extension": ".py",
   "mimetype": "text/x-python",
   "name": "python",
   "nbconvert_exporter": "python",
   "pygments_lexer": "ipython3",
   "version": "3.9.5"
  }
 },
 "nbformat": 4,
 "nbformat_minor": 5
}
