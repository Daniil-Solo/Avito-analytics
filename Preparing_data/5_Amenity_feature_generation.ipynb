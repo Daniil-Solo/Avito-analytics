{
 "cells": [
  {
   "cell_type": "code",
   "execution_count": null,
   "id": "7217f6fb",
   "metadata": {},
   "outputs": [],
   "source": []
  },
  {
   "cell_type": "code",
   "execution_count": 26,
   "id": "3ab9c42d",
   "metadata": {},
   "outputs": [],
   "source": [
    "import requests\n",
    "import json"
   ]
  },
  {
   "cell_type": "code",
   "execution_count": null,
   "id": "b66e6058",
   "metadata": {},
   "outputs": [],
   "source": [
    "df.read_csv('../clean_categorizated_data_without_outliers_with_coordinates.csv', sep=';')"
   ]
  },
  {
   "cell_type": "code",
   "execution_count": null,
   "id": "0a0fca22",
   "metadata": {},
   "outputs": [],
   "source": []
  },
  {
   "cell_type": "code",
   "execution_count": null,
   "id": "7a5dc358",
   "metadata": {},
   "outputs": [],
   "source": []
  },
  {
   "cell_type": "code",
   "execution_count": 38,
   "id": "26cff07d",
   "metadata": {},
   "outputs": [],
   "source": [
    "all_categories = {\n",
    "    \"eat\":{\n",
    "        \"amenities\": [\"cafe\", \"fast_food\", \"pub\", \"restaurant\"],\n",
    "        \"data\": set()\n",
    "    },\n",
    "    \"edu\":{\n",
    "        \"amenities\": [\"college\", \"kindergarten\", \"library\", \"school\", \"university\"],\n",
    "        \"data\": set()\n",
    "    },\n",
    "    \"bank\":{\n",
    "        \"amenities\": [\"bank\", \"atm\"],\n",
    "        \"data\": set()\n",
    "    },\n",
    "    \"health\":{\n",
    "        \"amenities\": [\"clinic\", \"hospital\", \"pharmacy\"],\n",
    "        \"data\": set()\n",
    "    },\n",
    "    \"culture\":{\n",
    "        \"amenities\": [\"cinema\", \"fountain\", \"theatre\"],\n",
    "        \"data\": set()\n",
    "    },\n",
    "}"
   ]
  },
  {
   "cell_type": "code",
   "execution_count": 32,
   "id": "28926797",
   "metadata": {},
   "outputs": [
    {
     "name": "stdout",
     "output_type": "stream",
     "text": [
      "planetarium\n",
      "Expecting value: line 1 column 1 (char 0)\n",
      "bench\n",
      "Expecting value: line 1 column 1 (char 0)\n",
      "shelter\n",
      "Expecting value: line 1 column 1 (char 0)\n"
     ]
    }
   ],
   "source": [
    "overpass_url = \"http://overpass-api.de/api/interpreter\"\n",
    "\n",
    "for category in all_categories:\n",
    "    for amenity in all_categories[category]['amenities']:\n",
    "        overpass_query = f\"\"\"\n",
    "        [out:json];\n",
    "        node(57.5,55,58.5,56.5)[amenity={amenity}];out;\n",
    "        \"\"\"\n",
    "        response = requests.get(overpass_url, \n",
    "                                params={'data': overpass_query})\n",
    "        try:\n",
    "            data = response.json()\n",
    "            for element in data['elements']:\n",
    "              if element['type'] == 'node':\n",
    "                lon = element['lon']\n",
    "                lat = element['lat']\n",
    "                all_categories[category]['data'].add((lat, lon))\n",
    "        except Exception as ex:\n",
    "            print(amenity)\n",
    "            print(ex)"
   ]
  },
  {
   "cell_type": "code",
   "execution_count": 40,
   "id": "e8ad967f",
   "metadata": {},
   "outputs": [
    {
     "name": "stdout",
     "output_type": "stream",
     "text": [
      "eat: 0\n",
      "edu: 0\n",
      "bank: 0\n",
      "health: 0\n",
      "culture: 0\n"
     ]
    }
   ],
   "source": [
    "for key in all_categories:\n",
    "    print(key + \": \" + str(len(all_categories[key]['data'])))"
   ]
  },
  {
   "cell_type": "code",
   "execution_count": 39,
   "id": "2d15ab86",
   "metadata": {},
   "outputs": [
    {
     "data": {
      "text/plain": [
       "{'eat': {'amenities': ['cafe', 'fast_food', 'pub', 'restaurant'],\n",
       "  'data': set()},\n",
       " 'edu': {'amenities': ['college',\n",
       "   'kindergarten',\n",
       "   'library',\n",
       "   'school',\n",
       "   'university'],\n",
       "  'data': set()},\n",
       " 'bank': {'amenities': ['bank', 'atm'], 'data': set()},\n",
       " 'health': {'amenities': ['clinic', 'hospital', 'pharmacy'], 'data': set()},\n",
       " 'culture': {'amenities': ['cinema', 'fountain', 'theatre'], 'data': set()}}"
      ]
     },
     "execution_count": 39,
     "metadata": {},
     "output_type": "execute_result"
    }
   ],
   "source": [
    "all_categories"
   ]
  },
  {
   "cell_type": "code",
   "execution_count": null,
   "id": "f970eca7",
   "metadata": {},
   "outputs": [],
   "source": []
  }
 ],
 "metadata": {
  "kernelspec": {
   "display_name": "Python 3",
   "language": "python",
   "name": "python3"
  },
  "language_info": {
   "codemirror_mode": {
    "name": "ipython",
    "version": 3
   },
   "file_extension": ".py",
   "mimetype": "text/x-python",
   "name": "python",
   "nbconvert_exporter": "python",
   "pygments_lexer": "ipython3",
   "version": "3.9.5"
  }
 },
 "nbformat": 4,
 "nbformat_minor": 5
}
