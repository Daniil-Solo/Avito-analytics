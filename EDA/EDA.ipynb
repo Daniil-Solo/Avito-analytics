{
 "cells": [
  {
   "cell_type": "markdown",
   "id": "a9840bdf",
   "metadata": {},
   "source": [
    "# EDA (Разведочный анализ данных)"
   ]
  },
  {
   "cell_type": "code",
   "execution_count": 1,
   "id": "c89b6534",
   "metadata": {},
   "outputs": [],
   "source": [
    "import pandas as pd\n",
    "import numpy as np\n",
    "import matplotlib.pyplot as plt\n",
    "import re"
   ]
  },
  {
   "cell_type": "code",
   "execution_count": 2,
   "id": "4817710f",
   "metadata": {},
   "outputs": [],
   "source": [
    "df = pd.read_csv('processed_data.csv', ';').drop(\"Unnamed: 0\", axis=1)"
   ]
  },
  {
   "cell_type": "code",
   "execution_count": 3,
   "id": "869d21cc",
   "metadata": {},
   "outputs": [
    {
     "name": "stdout",
     "output_type": "stream",
     "text": [
      "<class 'pandas.core.frame.DataFrame'>\n",
      "RangeIndex: 3664 entries, 0 to 3663\n",
      "Data columns (total 17 columns):\n",
      " #   Column                 Non-Null Count  Dtype  \n",
      "---  ------                 --------------  -----  \n",
      " 0   address                3664 non-null   object \n",
      " 1   district               3664 non-null   object \n",
      " 2   number of floors       3664 non-null   object \n",
      " 3   apartment floor        3664 non-null   float64\n",
      " 4   number of rooms        3664 non-null   int64  \n",
      " 5   area of apartment      3664 non-null   float64\n",
      " 6   bathroom               3664 non-null   object \n",
      " 7   repair                 3664 non-null   object \n",
      " 8   view from the windows  3664 non-null   object \n",
      " 9   terrace                3664 non-null   object \n",
      " 10  garbage chute          3664 non-null   bool   \n",
      " 11  type of house          3664 non-null   object \n",
      " 12  parking                3664 non-null   object \n",
      " 13  concierge              3664 non-null   bool   \n",
      " 14  elevator               3664 non-null   bool   \n",
      " 15  link                   3664 non-null   object \n",
      " 16  price                  3664 non-null   float64\n",
      "dtypes: bool(3), float64(3), int64(1), object(10)\n",
      "memory usage: 411.6+ KB\n"
     ]
    }
   ],
   "source": [
    "df.info()"
   ]
  },
  {
   "cell_type": "markdown",
   "id": "2b535c57",
   "metadata": {},
   "source": [
    "Некоторые поля имеют неожидаемые типы. Необходимо их дополнительно предпобработать"
   ]
  },
  {
   "cell_type": "code",
   "execution_count": 4,
   "id": "efb85f2a",
   "metadata": {},
   "outputs": [],
   "source": [
    "df['number of floors'] = np.array(list(map(lambda x: int(re.findall('[\\d]+', x)[0]), df['number of floors'].values)))"
   ]
  },
  {
   "cell_type": "code",
   "execution_count": 5,
   "id": "7dbbb131",
   "metadata": {},
   "outputs": [],
   "source": [
    "df['apartment floor'] = df['apartment floor'].astype('int')"
   ]
  },
  {
   "cell_type": "code",
   "execution_count": 6,
   "id": "643f38c0",
   "metadata": {},
   "outputs": [
    {
     "name": "stdout",
     "output_type": "stream",
     "text": [
      "<class 'pandas.core.frame.DataFrame'>\n",
      "RangeIndex: 3664 entries, 0 to 3663\n",
      "Data columns (total 17 columns):\n",
      " #   Column                 Non-Null Count  Dtype  \n",
      "---  ------                 --------------  -----  \n",
      " 0   address                3664 non-null   object \n",
      " 1   district               3664 non-null   object \n",
      " 2   number of floors       3664 non-null   int32  \n",
      " 3   apartment floor        3664 non-null   int32  \n",
      " 4   number of rooms        3664 non-null   int64  \n",
      " 5   area of apartment      3664 non-null   float64\n",
      " 6   bathroom               3664 non-null   object \n",
      " 7   repair                 3664 non-null   object \n",
      " 8   view from the windows  3664 non-null   object \n",
      " 9   terrace                3664 non-null   object \n",
      " 10  garbage chute          3664 non-null   bool   \n",
      " 11  type of house          3664 non-null   object \n",
      " 12  parking                3664 non-null   object \n",
      " 13  concierge              3664 non-null   bool   \n",
      " 14  elevator               3664 non-null   bool   \n",
      " 15  link                   3664 non-null   object \n",
      " 16  price                  3664 non-null   float64\n",
      "dtypes: bool(3), float64(2), int32(2), int64(1), object(9)\n",
      "memory usage: 383.0+ KB\n"
     ]
    }
   ],
   "source": [
    "df.info()"
   ]
  },
  {
   "cell_type": "markdown",
   "id": "02ef9d38",
   "metadata": {},
   "source": [
    "Теперь типы соответствуют ожиданиям"
   ]
  },
  {
   "cell_type": "markdown",
   "id": "71f00400",
   "metadata": {},
   "source": [
    "## Исследование численных признаков"
   ]
  },
  {
   "cell_type": "code",
   "execution_count": 7,
   "id": "d61f12c1",
   "metadata": {},
   "outputs": [
    {
     "data": {
      "text/html": [
       "<div>\n",
       "<style scoped>\n",
       "    .dataframe tbody tr th:only-of-type {\n",
       "        vertical-align: middle;\n",
       "    }\n",
       "\n",
       "    .dataframe tbody tr th {\n",
       "        vertical-align: top;\n",
       "    }\n",
       "\n",
       "    .dataframe thead th {\n",
       "        text-align: right;\n",
       "    }\n",
       "</style>\n",
       "<table border=\"1\" class=\"dataframe\">\n",
       "  <thead>\n",
       "    <tr style=\"text-align: right;\">\n",
       "      <th></th>\n",
       "      <th>number of floors</th>\n",
       "      <th>apartment floor</th>\n",
       "      <th>number of rooms</th>\n",
       "      <th>area of apartment</th>\n",
       "      <th>price</th>\n",
       "    </tr>\n",
       "  </thead>\n",
       "  <tbody>\n",
       "    <tr>\n",
       "      <th>count</th>\n",
       "      <td>3664.000000</td>\n",
       "      <td>3664.000000</td>\n",
       "      <td>3664.000000</td>\n",
       "      <td>3664.000000</td>\n",
       "      <td>3.664000e+03</td>\n",
       "    </tr>\n",
       "    <tr>\n",
       "      <th>mean</th>\n",
       "      <td>11.168395</td>\n",
       "      <td>5.923035</td>\n",
       "      <td>2.049400</td>\n",
       "      <td>54.314820</td>\n",
       "      <td>5.400599e+08</td>\n",
       "    </tr>\n",
       "    <tr>\n",
       "      <th>std</th>\n",
       "      <td>6.696842</td>\n",
       "      <td>4.742058</td>\n",
       "      <td>0.934967</td>\n",
       "      <td>26.425822</td>\n",
       "      <td>3.244619e+10</td>\n",
       "    </tr>\n",
       "    <tr>\n",
       "      <th>min</th>\n",
       "      <td>1.000000</td>\n",
       "      <td>1.000000</td>\n",
       "      <td>1.000000</td>\n",
       "      <td>11.900000</td>\n",
       "      <td>4.600000e+05</td>\n",
       "    </tr>\n",
       "    <tr>\n",
       "      <th>25%</th>\n",
       "      <td>5.000000</td>\n",
       "      <td>3.000000</td>\n",
       "      <td>1.000000</td>\n",
       "      <td>37.975000</td>\n",
       "      <td>2.620000e+06</td>\n",
       "    </tr>\n",
       "    <tr>\n",
       "      <th>50%</th>\n",
       "      <td>9.000000</td>\n",
       "      <td>5.000000</td>\n",
       "      <td>2.000000</td>\n",
       "      <td>48.000000</td>\n",
       "      <td>3.489000e+06</td>\n",
       "    </tr>\n",
       "    <tr>\n",
       "      <th>75%</th>\n",
       "      <td>16.000000</td>\n",
       "      <td>8.000000</td>\n",
       "      <td>3.000000</td>\n",
       "      <td>63.000000</td>\n",
       "      <td>4.600000e+06</td>\n",
       "    </tr>\n",
       "    <tr>\n",
       "      <th>max</th>\n",
       "      <td>31.000000</td>\n",
       "      <td>31.000000</td>\n",
       "      <td>6.000000</td>\n",
       "      <td>502.000000</td>\n",
       "      <td>1.964004e+12</td>\n",
       "    </tr>\n",
       "  </tbody>\n",
       "</table>\n",
       "</div>"
      ],
      "text/plain": [
       "       number of floors  apartment floor  number of rooms  area of apartment  \\\n",
       "count       3664.000000      3664.000000      3664.000000        3664.000000   \n",
       "mean          11.168395         5.923035         2.049400          54.314820   \n",
       "std            6.696842         4.742058         0.934967          26.425822   \n",
       "min            1.000000         1.000000         1.000000          11.900000   \n",
       "25%            5.000000         3.000000         1.000000          37.975000   \n",
       "50%            9.000000         5.000000         2.000000          48.000000   \n",
       "75%           16.000000         8.000000         3.000000          63.000000   \n",
       "max           31.000000        31.000000         6.000000         502.000000   \n",
       "\n",
       "              price  \n",
       "count  3.664000e+03  \n",
       "mean   5.400599e+08  \n",
       "std    3.244619e+10  \n",
       "min    4.600000e+05  \n",
       "25%    2.620000e+06  \n",
       "50%    3.489000e+06  \n",
       "75%    4.600000e+06  \n",
       "max    1.964004e+12  "
      ]
     },
     "execution_count": 7,
     "metadata": {},
     "output_type": "execute_result"
    }
   ],
   "source": [
    "df.describe()"
   ]
  },
  {
   "cell_type": "markdown",
   "id": "c9f559e6",
   "metadata": {},
   "source": [
    "### Борьба с выбросами"
   ]
  },
  {
   "cell_type": "code",
   "execution_count": 8,
   "id": "bc657f1c",
   "metadata": {},
   "outputs": [
    {
     "data": {
      "image/png": "[encoded data removed]",
      "text/plain": [
       "<Figure size 432x288 with 1 Axes>"
      ]
     },
     "metadata": {
      "needs_background": "light"
     },
     "output_type": "display_data"
    }
   ],
   "source": [
    "box = plt.boxplot(df['price'])"
   ]
  },
  {
   "cell_type": "markdown",
   "id": "2c5e1f90",
   "metadata": {},
   "source": [
    "Данные о цене содержат выбросы, необходимо от них избавиться, взяв в расчет только цены, которые меньше 90-ого процентиля"
   ]
  },
  {
   "cell_type": "code",
   "execution_count": 9,
   "id": "06a285e0",
   "metadata": {},
   "outputs": [],
   "source": [
    "percentile_90 = np.percentile(df['price'], 90)\n",
    "df = df[df['price'] < percentile_90]"
   ]
  },
  {
   "cell_type": "code",
   "execution_count": 10,
   "id": "4898e728",
   "metadata": {},
   "outputs": [
    {
     "data": {
      "image/png": "[encoded data removed]",
      "text/plain": [
       "<Figure size 432x288 with 1 Axes>"
      ]
     },
     "metadata": {
      "needs_background": "light"
     },
     "output_type": "display_data"
    }
   ],
   "source": [
    "box = plt.boxplot(df['price'])"
   ]
  },
  {
   "cell_type": "code",
   "execution_count": 11,
   "id": "3aeeff0b",
   "metadata": {},
   "outputs": [
    {
     "data": {
      "text/plain": [
       "Text(0, 0.5, 'Площадь квартиры')"
      ]
     },
     "execution_count": 11,
     "metadata": {},
     "output_type": "execute_result"
    },
    {
     "data": {
      "image/png": "[encoded data removed]",
      "text/plain": [
       "<Figure size 1152x360 with 4 Axes>"
      ]
     },
     "metadata": {
      "needs_background": "light"
     },
     "output_type": "display_data"
    }
   ],
   "source": [
    "figure, (ax1, ax2, ax3, ax4) = plt.subplots(1, 4, figsize=(16, 5))\n",
    "_ = plt.subplots_adjust(wspace=0.3, hspace=0)\n",
    "_ = ax1.boxplot(df['number of floors'])\n",
    "ax1.set_ylabel(\"Количество этажей\")\n",
    "_ = ax2.boxplot(df['apartment floor'])\n",
    "ax2.set_ylabel(\"Этаж квартиры\")\n",
    "_ = ax3.boxplot(df['number of rooms'])\n",
    "ax3.set_ylabel(\"Количество комнат\")\n",
    "_ = ax4.boxplot(df['area of apartment'])\n",
    "ax4.set_ylabel(\"Площадь квартиры\")"
   ]
  },
  {
   "cell_type": "markdown",
   "id": "1b23f645",
   "metadata": {},
   "source": [
    "Остальные числовые данные в удалении выбросов не нуждаются, кроме одной квартиры, площадь которой превышает 120"
   ]
  },
  {
   "cell_type": "code",
   "execution_count": 12,
   "id": "0a2ce450",
   "metadata": {},
   "outputs": [],
   "source": [
    "df = df[df['area of apartment'] < 120]"
   ]
  },
  {
   "cell_type": "markdown",
   "id": "f9a7f39c",
   "metadata": {},
   "source": [
    "### Корреляции"
   ]
  },
  {
   "cell_type": "code",
   "execution_count": 13,
   "id": "45b78e4e",
   "metadata": {},
   "outputs": [
    {
     "data": {
      "text/plain": [
       "<matplotlib.collections.PathCollection at 0x1f78183d370>"
      ]
     },
     "execution_count": 13,
     "metadata": {},
     "output_type": "execute_result"
    },
    {
     "data": {
      "image/png": "[encoded data removed]",
      "text/plain": [
       "<Figure size 432x288 with 1 Axes>"
      ]
     },
     "metadata": {
      "needs_background": "light"
     },
     "output_type": "display_data"
    }
   ],
   "source": [
    "plt.title(\"Влияние площади на цену\")\n",
    "plt.xlabel(\"Площадь квартиры\")\n",
    "plt.ylabel(\"Цена\")\n",
    "plt.scatter(df['area of apartment'], df['price'])"
   ]
  },
  {
   "cell_type": "markdown",
   "id": "0eda341d",
   "metadata": {},
   "source": [
    "Влияние прослеживается, попробуем дополнительно вычислить коэффициент корреляции Пирсона"
   ]
  },
  {
   "cell_type": "code",
   "execution_count": 14,
   "id": "bcd6e932",
   "metadata": {},
   "outputs": [
    {
     "name": "stdout",
     "output_type": "stream",
     "text": [
      "Коэффициент корреляции Пирсона между площадью и ценой 0.7629450040695513\n"
     ]
    }
   ],
   "source": [
    "print(\"Коэффициент корреляции Пирсона между площадью и ценой\", np.corrcoef(df['area of apartment'], df['price'])[0, 1])"
   ]
  },
  {
   "cell_type": "markdown",
   "id": "97ad2611",
   "metadata": {},
   "source": [
    "Уровень корреляции средний"
   ]
  },
  {
   "cell_type": "code",
   "execution_count": 15,
   "id": "e28935e0",
   "metadata": {},
   "outputs": [
    {
     "data": {
      "text/plain": [
       "<matplotlib.collections.PathCollection at 0x1f783ecef10>"
      ]
     },
     "execution_count": 15,
     "metadata": {},
     "output_type": "execute_result"
    },
    {
     "data": {
      "image/png": "[encoded data removed]",
      "text/plain": [
       "<Figure size 432x288 with 1 Axes>"
      ]
     },
     "metadata": {
      "needs_background": "light"
     },
     "output_type": "display_data"
    }
   ],
   "source": [
    "plt.title(\"Влияние количества этажей на цену\")\n",
    "plt.xlabel(\"Количество этажей\")\n",
    "plt.ylabel(\"Цена\")\n",
    "plt.scatter(df['number of floors'], df['price'])"
   ]
  },
  {
   "cell_type": "code",
   "execution_count": 16,
   "id": "57619ab5",
   "metadata": {},
   "outputs": [
    {
     "name": "stdout",
     "output_type": "stream",
     "text": [
      "Коэффициент корреляции Пирсона между количеством этажей и ценой 0.48179708850568204\n"
     ]
    }
   ],
   "source": [
    "print(\"Коэффициент корреляции Пирсона между количеством этажей и ценой\", np.corrcoef(df['number of floors'], df['price'])[0, 1])"
   ]
  },
  {
   "cell_type": "markdown",
   "id": "70c625b8",
   "metadata": {},
   "source": [
    "Уровень корреляции слабый"
   ]
  },
  {
   "cell_type": "code",
   "execution_count": 17,
   "id": "568f7d6a",
   "metadata": {},
   "outputs": [
    {
     "data": {
      "text/plain": [
       "<matplotlib.collections.PathCollection at 0x1f781a11dc0>"
      ]
     },
     "execution_count": 17,
     "metadata": {},
     "output_type": "execute_result"
    },
    {
     "data": {
      "image/png": "[encoded data removed]",
      "text/plain": [
       "<Figure size 432x288 with 1 Axes>"
      ]
     },
     "metadata": {
      "needs_background": "light"
     },
     "output_type": "display_data"
    }
   ],
   "source": [
    "plt.title(\"Влияние этажа на цену\")\n",
    "plt.xlabel(\"Номер этажа\")\n",
    "plt.ylabel(\"Цена\")\n",
    "plt.scatter(df['apartment floor'], df['price'])"
   ]
  },
  {
   "cell_type": "code",
   "execution_count": 18,
   "id": "5c882708",
   "metadata": {},
   "outputs": [
    {
     "name": "stdout",
     "output_type": "stream",
     "text": [
      "Коэффициент корреляции Пирсона между этажом и ценой 0.2885543687099973\n"
     ]
    }
   ],
   "source": [
    "print(\"Коэффициент корреляции Пирсона между этажом и ценой\", np.corrcoef(df['apartment floor'], df['price'])[0, 1])"
   ]
  },
  {
   "cell_type": "markdown",
   "id": "4e5aef3e",
   "metadata": {},
   "source": [
    "Уровень корреляции слабый"
   ]
  },
  {
   "cell_type": "code",
   "execution_count": 19,
   "id": "eb5e1261",
   "metadata": {},
   "outputs": [
    {
     "data": {
      "text/plain": [
       "<matplotlib.collections.PathCollection at 0x1f783daef70>"
      ]
     },
     "execution_count": 19,
     "metadata": {},
     "output_type": "execute_result"
    },
    {
     "data": {
      "image/png": "[encoded data removed]",
      "text/plain": [
       "<Figure size 432x288 with 1 Axes>"
      ]
     },
     "metadata": {
      "needs_background": "light"
     },
     "output_type": "display_data"
    }
   ],
   "source": [
    "plt.title(\"Влияние количества комнат на цену\")\n",
    "plt.xlabel(\"Количество комнат\")\n",
    "plt.ylabel(\"Цена\")\n",
    "plt.scatter(df['number of rooms'], df['price'])"
   ]
  },
  {
   "cell_type": "code",
   "execution_count": 20,
   "id": "4fa198f3",
   "metadata": {},
   "outputs": [
    {
     "name": "stdout",
     "output_type": "stream",
     "text": [
      "Коэффициент корреляции Пирсона между количеством комнат и ценой 0.5210054467470768\n"
     ]
    }
   ],
   "source": [
    "print(\"Коэффициент корреляции Пирсона между количеством комнат и ценой\", np.corrcoef(df['number of rooms'], df['price'])[0, 1])"
   ]
  },
  {
   "cell_type": "markdown",
   "id": "193d7dc6",
   "metadata": {},
   "source": [
    "Уровень корреляции слабый"
   ]
  },
  {
   "cell_type": "code",
   "execution_count": 21,
   "id": "e32398d7",
   "metadata": {},
   "outputs": [
    {
     "data": {
      "text/plain": [
       "<AxesSubplot:>"
      ]
     },
     "execution_count": 21,
     "metadata": {},
     "output_type": "execute_result"
    },
    {
     "data": {
      "image/png": "[encoded data removed]",
      "text/plain": [
       "<Figure size 432x288 with 2 Axes>"
      ]
     },
     "metadata": {
      "needs_background": "light"
     },
     "output_type": "display_data"
    }
   ],
   "source": [
    "import seaborn as sns\n",
    "corr_table = df[['area of apartment', 'number of floors', 'apartment floor', 'number of rooms']].corr()\n",
    "sns.heatmap(corr_table)"
   ]
  },
  {
   "cell_type": "markdown",
   "id": "d3b997a6",
   "metadata": {},
   "source": [
    "## Исследование категориальных признаков"
   ]
  },
  {
   "cell_type": "code",
   "execution_count": 22,
   "id": "c03d9661",
   "metadata": {},
   "outputs": [
    {
     "data": {
      "text/html": [
       "<div>\n",
       "<style scoped>\n",
       "    .dataframe tbody tr th:only-of-type {\n",
       "        vertical-align: middle;\n",
       "    }\n",
       "\n",
       "    .dataframe tbody tr th {\n",
       "        vertical-align: top;\n",
       "    }\n",
       "\n",
       "    .dataframe thead th {\n",
       "        text-align: right;\n",
       "    }\n",
       "</style>\n",
       "<table border=\"1\" class=\"dataframe\">\n",
       "  <thead>\n",
       "    <tr style=\"text-align: right;\">\n",
       "      <th></th>\n",
       "      <th>address</th>\n",
       "      <th>district</th>\n",
       "      <th>bathroom</th>\n",
       "      <th>repair</th>\n",
       "      <th>view from the windows</th>\n",
       "      <th>terrace</th>\n",
       "      <th>type of house</th>\n",
       "      <th>parking</th>\n",
       "      <th>link</th>\n",
       "    </tr>\n",
       "  </thead>\n",
       "  <tbody>\n",
       "    <tr>\n",
       "      <th>count</th>\n",
       "      <td>3285</td>\n",
       "      <td>3285</td>\n",
       "      <td>3285</td>\n",
       "      <td>3285</td>\n",
       "      <td>3285</td>\n",
       "      <td>3285</td>\n",
       "      <td>3285</td>\n",
       "      <td>3285</td>\n",
       "      <td>3285</td>\n",
       "    </tr>\n",
       "    <tr>\n",
       "      <th>unique</th>\n",
       "      <td>1407</td>\n",
       "      <td>7</td>\n",
       "      <td>3</td>\n",
       "      <td>4</td>\n",
       "      <td>3</td>\n",
       "      <td>3</td>\n",
       "      <td>6</td>\n",
       "      <td>16</td>\n",
       "      <td>1957</td>\n",
       "    </tr>\n",
       "    <tr>\n",
       "      <th>top</th>\n",
       "      <td>ул. Гашкова, д. 51, корп. 2</td>\n",
       "      <td>р-н Свердловский</td>\n",
       "      <td>совмещенный</td>\n",
       "      <td>косметический</td>\n",
       "      <td>во двор</td>\n",
       "      <td>лоджия</td>\n",
       "      <td>кирпичный</td>\n",
       "      <td>открытая во дворе</td>\n",
       "      <td>https://www.avito.ru/perm/kvartiry/1-k._kvarti...</td>\n",
       "    </tr>\n",
       "    <tr>\n",
       "      <th>freq</th>\n",
       "      <td>79</td>\n",
       "      <td>745</td>\n",
       "      <td>1881</td>\n",
       "      <td>2412</td>\n",
       "      <td>1566</td>\n",
       "      <td>1474</td>\n",
       "      <td>1425</td>\n",
       "      <td>2186</td>\n",
       "      <td>19</td>\n",
       "    </tr>\n",
       "  </tbody>\n",
       "</table>\n",
       "</div>"
      ],
      "text/plain": [
       "                            address          district     bathroom  \\\n",
       "count                          3285              3285         3285   \n",
       "unique                         1407                 7            3   \n",
       "top     ул. Гашкова, д. 51, корп. 2  р-н Свердловский  совмещенный   \n",
       "freq                             79               745         1881   \n",
       "\n",
       "               repair view from the windows terrace type of house  \\\n",
       "count            3285                  3285    3285          3285   \n",
       "unique              4                     3       3             6   \n",
       "top     косметический               во двор  лоджия     кирпичный   \n",
       "freq             2412                  1566    1474          1425   \n",
       "\n",
       "                  parking                                               link  \n",
       "count                3285                                               3285  \n",
       "unique                 16                                               1957  \n",
       "top     открытая во дворе  https://www.avito.ru/perm/kvartiry/1-k._kvarti...  \n",
       "freq                 2186                                                 19  "
      ]
     },
     "execution_count": 22,
     "metadata": {},
     "output_type": "execute_result"
    }
   ],
   "source": [
    "df.describe(include=\"object\")"
   ]
  },
  {
   "cell_type": "code",
   "execution_count": 23,
   "id": "4610cc68",
   "metadata": {},
   "outputs": [
    {
     "data": {
      "image/png": "[encoded data removed]",
      "text/plain": [
       "<Figure size 1080x648 with 1 Axes>"
      ]
     },
     "metadata": {
      "needs_background": "light"
     },
     "output_type": "display_data"
    }
   ],
   "source": [
    "box = df.boxplot(column=['price'], by=['district'], figsize=(15, 9))"
   ]
  },
  {
   "cell_type": "code",
   "execution_count": 24,
   "id": "499fdbce",
   "metadata": {},
   "outputs": [
    {
     "data": {
      "image/png": "[encoded data removed]",
      "text/plain": [
       "<Figure size 576x360 with 1 Axes>"
      ]
     },
     "metadata": {
      "needs_background": "light"
     },
     "output_type": "display_data"
    }
   ],
   "source": [
    "box = df.boxplot(column=['price'], by=['bathroom'], figsize=(8, 5))"
   ]
  },
  {
   "cell_type": "markdown",
   "id": "e8f5372a",
   "metadata": {},
   "source": [
    "По графику видно, что тип ванной влияет на цену"
   ]
  },
  {
   "cell_type": "code",
   "execution_count": 25,
   "id": "e3cbef8d",
   "metadata": {},
   "outputs": [
    {
     "data": {
      "image/png": "[encoded data removed]",
      "text/plain": [
       "<Figure size 720x360 with 1 Axes>"
      ]
     },
     "metadata": {
      "needs_background": "light"
     },
     "output_type": "display_data"
    }
   ],
   "source": [
    "box = df.boxplot(column=['price'], by=['repair'], figsize=(10, 5))"
   ]
  },
  {
   "cell_type": "markdown",
   "id": "ef63f1cf",
   "metadata": {},
   "source": [
    "По графику видно, что отличительным ценовым показателем является именно дизайнерский ремонт"
   ]
  },
  {
   "cell_type": "code",
   "execution_count": 26,
   "id": "455163a9",
   "metadata": {},
   "outputs": [
    {
     "data": {
      "image/png": "[encoded data removed]",
      "text/plain": [
       "<Figure size 720x360 with 1 Axes>"
      ]
     },
     "metadata": {
      "needs_background": "light"
     },
     "output_type": "display_data"
    }
   ],
   "source": [
    "box = df.boxplot(column=['price'], by=['view from the windows'], figsize=(10, 5))"
   ]
  },
  {
   "cell_type": "markdown",
   "id": "31ca475a",
   "metadata": {},
   "source": [
    "По графику видно, что вид из окна не влияет сильно"
   ]
  },
  {
   "cell_type": "code",
   "execution_count": 27,
   "id": "277333ca",
   "metadata": {},
   "outputs": [
    {
     "data": {
      "image/png": "[encoded data removed]",
      "text/plain": [
       "<Figure size 720x360 with 1 Axes>"
      ]
     },
     "metadata": {
      "needs_background": "light"
     },
     "output_type": "display_data"
    }
   ],
   "source": [
    "box = df.boxplot(column=['price'], by=['terrace'], figsize=(10, 5))"
   ]
  },
  {
   "cell_type": "markdown",
   "id": "cda8590c",
   "metadata": {},
   "source": [
    "По графику видно, что тип балкона влияет на цену"
   ]
  },
  {
   "cell_type": "code",
   "execution_count": 28,
   "id": "f7320fba",
   "metadata": {},
   "outputs": [
    {
     "data": {
      "text/plain": [
       "array(['панельный', 'монолитный', 'кирпичный', 'блочный',\n",
       "       'Серая панель. Дома этой серии испытаны временем, проживание в них комфортно и удобно, а сама квартира теплая, сухая, солнечная. Комнаты 2+1, одна изолирована и две смежные Кухня 7.7 кв.м. Две застекленные лоджии. Выход на лоджии из двух комнат. В одной из лоджии можно сделать кабинет или детский уголок!!! Раздельный санузел. Состояние обычное, можно заехать и жить. Есть возможность воплотить все свои дизайнерские фантазии, квартира без всяких перепланировок. Отличный вариант для семьи с детьми, чтобы жить современно и независимо. Дружелюбный дом с большой придомовой территорией и вместительной парковкой. Опрятный, чистый подъезд. Множество разнообразных магазинов, торговые центры, кафе, лицеи №3 и №8, д\\\\с, детская поликлиника - все в шаговой доступности! Отличная транспортная развязка. Остановка рядом. Возможен обмен на 1 комн. квартиру. Звоните! Показ в удобное для Вас время!',\n",
       "       'Ленинградский проект . Дом кирпичный. Дома этой серии испытаны временем, проживание в них комфортно и удобно, а сама квартира теплая, сухая, солнечная. Квартира требует ремонта. Есть возможность воплотить все свои дизайнерские фантазии. С/у совмещен , трубы поменяны. Кухня, прихожая - натяжные потолки. По документам - 1 этаж, но со стороны улицы уровень второго этажа!!! Балкон с решетками. Отличный вариант для семьи с детьми, чтобы жить современно и независимо. Дружелюбный дом с большой придомовой территорией и вместительной парковкой. Детская площадка огорожена. Опрятный, чистый подъезд. Разнообразные магазины, торговые центры, д/с, поликлиника, парк с детскими аттракционами - все в шаговой доступности! Отличная транспортная развязка. При покупке квартиры по ипотеке Сбербанка предоставляется скидка от базовой ставки 0.3%. Не упустите свой шанс выгодно приобрести квартиру!'],\n",
       "      dtype=object)"
      ]
     },
     "execution_count": 28,
     "metadata": {},
     "output_type": "execute_result"
    }
   ],
   "source": [
    "df['type of house'].unique()"
   ]
  },
  {
   "cell_type": "markdown",
   "id": "3e2ddb8b",
   "metadata": {},
   "source": [
    "Неожиданные значения типа дома нужно подкорректировать"
   ]
  },
  {
   "cell_type": "code",
   "execution_count": 29,
   "id": "e62d420c",
   "metadata": {},
   "outputs": [],
   "source": [
    "def hot_correct(text):\n",
    "    if 'Серая панель' in text:\n",
    "        return \"панельный\"\n",
    "    elif 'Дом кирпичный' in text:\n",
    "        return \"кирпичный\"\n",
    "    else:\n",
    "        return text\n",
    "\n",
    "df['type of house'] = np.array(list(map(lambda x: hot_correct(x), df['type of house'].values)))"
   ]
  },
  {
   "cell_type": "code",
   "execution_count": 30,
   "id": "54059b6f",
   "metadata": {},
   "outputs": [
    {
     "data": {
      "image/png": "[encoded data removed]",
      "text/plain": [
       "<Figure size 720x360 with 1 Axes>"
      ]
     },
     "metadata": {
      "needs_background": "light"
     },
     "output_type": "display_data"
    }
   ],
   "source": [
    "box = df.boxplot(column=['price'], by=['type of house'], figsize=(10, 5))"
   ]
  },
  {
   "cell_type": "markdown",
   "id": "3783920a",
   "metadata": {},
   "source": [
    "По графику видно, что тип дома влияет на цену"
   ]
  },
  {
   "cell_type": "code",
   "execution_count": 37,
   "id": "418487ad",
   "metadata": {},
   "outputs": [
    {
     "data": {
      "text/plain": [
       "array(['открытая во дворе', 'подземная, открытая во дворе',\n",
       "       'подземная, за шлагбаумом во дворе', 'за шлагбаумом во дворе',\n",
       "       'подземная', 'наземная многоуровневая, открытая во дворе',\n",
       "       'подземная, наземная многоуровневая, за шлагбаумом во дворе',\n",
       "       'наземная многоуровневая',\n",
       "       'подземная, за шлагбаумом во дворе, открытая во дворе',\n",
       "       'за шлагбаумом во дворе, открытая во дворе',\n",
       "       'наземная многоуровневая, за шлагбаумом во дворе, открытая во дворе',\n",
       "       'наземная многоуровневая, за шлагбаумом во дворе',\n",
       "       'подземная, наземная многоуровневая, открытая во дворе',\n",
       "       'подземная, наземная многоуровневая, за шлагбаумом во дворе, открытая во дворе',\n",
       "       'подземная, наземная многоуровневая',\n",
       "       'общая, на территории.•\\tУсловие: обременение снято, выделены доли детям, органы опеки.•\\tПреимущества: новый микрорайон, детские площадки, магазины.'],\n",
       "      dtype=object)"
      ]
     },
     "execution_count": 37,
     "metadata": {},
     "output_type": "execute_result"
    }
   ],
   "source": [
    "df['parking'].unique()"
   ]
  },
  {
   "cell_type": "markdown",
   "id": "028fea6c",
   "metadata": {},
   "source": [
    "Необходимо разбить тип парковки на несколько столбцов"
   ]
  },
  {
   "cell_type": "code",
   "execution_count": 38,
   "id": "9a04c083",
   "metadata": {},
   "outputs": [],
   "source": [
    "all_rus_types = ['подземная', 'наземная многоуровневая', 'открытая во дворе', 'за шлагбаумом во дворе']"
   ]
  },
  {
   "cell_type": "code",
   "execution_count": 39,
   "id": "ede44c99",
   "metadata": {},
   "outputs": [],
   "source": [
    "all_eng_types = ['underground', 'ground multi-level', 'open in the courtyard', 'behind the barrier in the yard']"
   ]
  },
  {
   "cell_type": "code",
   "execution_count": 40,
   "id": "76fade5d",
   "metadata": {},
   "outputs": [],
   "source": [
    "def divide_parking(text, index):\n",
    "    if all_rus_types[index] in text:\n",
    "        return 1\n",
    "    else:\n",
    "        return 0\n",
    "\n",
    "for index, type_ in enumerate(all_eng_types):\n",
    "    df[type_] = np.array(list(map(lambda x: divide_parking(x, index), df['parking'].values)))"
   ]
  },
  {
   "cell_type": "code",
   "execution_count": 41,
   "id": "c3c2a6dc",
   "metadata": {},
   "outputs": [
    {
     "data": {
      "image/png": "[encoded data removed]",
      "text/plain": [
       "<Figure size 720x360 with 1 Axes>"
      ]
     },
     "metadata": {
      "needs_background": "light"
     },
     "output_type": "display_data"
    }
   ],
   "source": [
    "box = df.boxplot(column=['price'], by=['underground'], figsize=(10, 5))"
   ]
  },
  {
   "cell_type": "code",
   "execution_count": 42,
   "id": "e6bb975c",
   "metadata": {},
   "outputs": [
    {
     "data": {
      "image/png": "[encoded data removed]",
      "text/plain": [
       "<Figure size 720x360 with 1 Axes>"
      ]
     },
     "metadata": {
      "needs_background": "light"
     },
     "output_type": "display_data"
    }
   ],
   "source": [
    "box = df.boxplot(column=['price'], by=['ground multi-level'], figsize=(10, 5))"
   ]
  },
  {
   "cell_type": "code",
   "execution_count": 43,
   "id": "2732ce1f",
   "metadata": {},
   "outputs": [
    {
     "data": {
      "image/png": "[encoded data removed]",
      "text/plain": [
       "<Figure size 720x360 with 1 Axes>"
      ]
     },
     "metadata": {
      "needs_background": "light"
     },
     "output_type": "display_data"
    }
   ],
   "source": [
    "box = df.boxplot(column=['price'], by=['open in the courtyard'], figsize=(10, 5))"
   ]
  },
  {
   "cell_type": "code",
   "execution_count": 44,
   "id": "9399f33c",
   "metadata": {},
   "outputs": [
    {
     "data": {
      "image/png": "[encoded data removed]",
      "text/plain": [
       "<Figure size 720x360 with 1 Axes>"
      ]
     },
     "metadata": {
      "needs_background": "light"
     },
     "output_type": "display_data"
    }
   ],
   "source": [
    "box = df.boxplot(column=['price'], by=['behind the barrier in the yard'], figsize=(10, 5))"
   ]
  },
  {
   "cell_type": "markdown",
   "id": "238c92df",
   "metadata": {},
   "source": [
    "По графикам видно, что какое-то влияние есть"
   ]
  },
  {
   "cell_type": "markdown",
   "id": "95865b6a",
   "metadata": {},
   "source": [
    "## Исследование логических признаков"
   ]
  },
  {
   "cell_type": "code",
   "execution_count": 46,
   "id": "cf7ddd99",
   "metadata": {},
   "outputs": [
    {
     "data": {
      "text/html": [
       "<div>\n",
       "<style scoped>\n",
       "    .dataframe tbody tr th:only-of-type {\n",
       "        vertical-align: middle;\n",
       "    }\n",
       "\n",
       "    .dataframe tbody tr th {\n",
       "        vertical-align: top;\n",
       "    }\n",
       "\n",
       "    .dataframe thead th {\n",
       "        text-align: right;\n",
       "    }\n",
       "</style>\n",
       "<table border=\"1\" class=\"dataframe\">\n",
       "  <thead>\n",
       "    <tr style=\"text-align: right;\">\n",
       "      <th></th>\n",
       "      <th>garbage chute</th>\n",
       "      <th>concierge</th>\n",
       "      <th>elevator</th>\n",
       "    </tr>\n",
       "  </thead>\n",
       "  <tbody>\n",
       "    <tr>\n",
       "      <th>count</th>\n",
       "      <td>3285</td>\n",
       "      <td>3285</td>\n",
       "      <td>3285</td>\n",
       "    </tr>\n",
       "    <tr>\n",
       "      <th>unique</th>\n",
       "      <td>2</td>\n",
       "      <td>2</td>\n",
       "      <td>2</td>\n",
       "    </tr>\n",
       "    <tr>\n",
       "      <th>top</th>\n",
       "      <td>False</td>\n",
       "      <td>False</td>\n",
       "      <td>True</td>\n",
       "    </tr>\n",
       "    <tr>\n",
       "      <th>freq</th>\n",
       "      <td>2561</td>\n",
       "      <td>2823</td>\n",
       "      <td>2547</td>\n",
       "    </tr>\n",
       "  </tbody>\n",
       "</table>\n",
       "</div>"
      ],
      "text/plain": [
       "       garbage chute concierge elevator\n",
       "count           3285      3285     3285\n",
       "unique             2         2        2\n",
       "top            False     False     True\n",
       "freq            2561      2823     2547"
      ]
     },
     "execution_count": 46,
     "metadata": {},
     "output_type": "execute_result"
    }
   ],
   "source": [
    "df.describe(include='bool')"
   ]
  },
  {
   "cell_type": "code",
   "execution_count": 47,
   "id": "17877231",
   "metadata": {},
   "outputs": [
    {
     "data": {
      "image/png": "[encoded data removed]",
      "text/plain": [
       "<Figure size 432x288 with 1 Axes>"
      ]
     },
     "metadata": {
      "needs_background": "light"
     },
     "output_type": "display_data"
    }
   ],
   "source": [
    "box = df.boxplot(column=['price'], by=['garbage chute'])"
   ]
  },
  {
   "cell_type": "code",
   "execution_count": 48,
   "id": "915fbefc",
   "metadata": {},
   "outputs": [
    {
     "data": {
      "image/png": "[encoded data removed]",
      "text/plain": [
       "<Figure size 432x288 with 1 Axes>"
      ]
     },
     "metadata": {
      "needs_background": "light"
     },
     "output_type": "display_data"
    }
   ],
   "source": [
    "box = df.boxplot(column=['price'], by=['concierge'])"
   ]
  },
  {
   "cell_type": "code",
   "execution_count": 49,
   "id": "d5ec1022",
   "metadata": {},
   "outputs": [
    {
     "data": {
      "image/png": "[encoded data removed]",
      "text/plain": [
       "<Figure size 432x288 with 1 Axes>"
      ]
     },
     "metadata": {
      "needs_background": "light"
     },
     "output_type": "display_data"
    }
   ],
   "source": [
    "box = df.boxplot(column=['price'], by=['elevator'])"
   ]
  },
  {
   "cell_type": "markdown",
   "id": "cdc2ab76",
   "metadata": {},
   "source": [
    "Можно сделать общий вывод, что наличие дополнительных услуг, увеличивает цену на квартиру"
   ]
  },
  {
   "cell_type": "markdown",
   "id": "8efca151",
   "metadata": {},
   "source": [
    "## Формируем данные для обучения"
   ]
  },
  {
   "cell_type": "code",
   "execution_count": 52,
   "id": "f7a3080e",
   "metadata": {},
   "outputs": [
    {
     "name": "stdout",
     "output_type": "stream",
     "text": [
      "<class 'pandas.core.frame.DataFrame'>\n",
      "Int64Index: 3285 entries, 0 to 3662\n",
      "Data columns (total 21 columns):\n",
      " #   Column                          Non-Null Count  Dtype  \n",
      "---  ------                          --------------  -----  \n",
      " 0   address                         3285 non-null   object \n",
      " 1   district                        3285 non-null   object \n",
      " 2   number of floors                3285 non-null   int32  \n",
      " 3   apartment floor                 3285 non-null   int32  \n",
      " 4   number of rooms                 3285 non-null   int64  \n",
      " 5   area of apartment               3285 non-null   float64\n",
      " 6   bathroom                        3285 non-null   object \n",
      " 7   repair                          3285 non-null   object \n",
      " 8   view from the windows           3285 non-null   object \n",
      " 9   terrace                         3285 non-null   object \n",
      " 10  garbage chute                   3285 non-null   bool   \n",
      " 11  type of house                   3285 non-null   object \n",
      " 12  parking                         3285 non-null   object \n",
      " 13  concierge                       3285 non-null   bool   \n",
      " 14  elevator                        3285 non-null   bool   \n",
      " 15  link                            3285 non-null   object \n",
      " 16  price                           3285 non-null   float64\n",
      " 17  underground                     3285 non-null   int32  \n",
      " 18  ground multi-level              3285 non-null   int32  \n",
      " 19  open in the courtyard           3285 non-null   int32  \n",
      " 20  behind the barrier in the yard  3285 non-null   int32  \n",
      "dtypes: bool(3), float64(2), int32(6), int64(1), object(9)\n",
      "memory usage: 420.2+ KB\n"
     ]
    }
   ],
   "source": [
    "df.info()"
   ]
  },
  {
   "cell_type": "code",
   "execution_count": 58,
   "id": "cbb0e670",
   "metadata": {},
   "outputs": [],
   "source": [
    "df = df.drop(['address', 'link'], axis=1)"
   ]
  },
  {
   "cell_type": "code",
   "execution_count": 60,
   "id": "51479522",
   "metadata": {},
   "outputs": [
    {
     "name": "stdout",
     "output_type": "stream",
     "text": [
      "<class 'pandas.core.frame.DataFrame'>\n",
      "Int64Index: 3285 entries, 0 to 3662\n",
      "Data columns (total 19 columns):\n",
      " #   Column                          Non-Null Count  Dtype  \n",
      "---  ------                          --------------  -----  \n",
      " 0   district                        3285 non-null   object \n",
      " 1   number of floors                3285 non-null   int32  \n",
      " 2   apartment floor                 3285 non-null   int32  \n",
      " 3   number of rooms                 3285 non-null   int64  \n",
      " 4   area of apartment               3285 non-null   float64\n",
      " 5   bathroom                        3285 non-null   object \n",
      " 6   repair                          3285 non-null   object \n",
      " 7   view from the windows           3285 non-null   object \n",
      " 8   terrace                         3285 non-null   object \n",
      " 9   garbage chute                   3285 non-null   bool   \n",
      " 10  type of house                   3285 non-null   object \n",
      " 11  parking                         3285 non-null   object \n",
      " 12  concierge                       3285 non-null   bool   \n",
      " 13  elevator                        3285 non-null   bool   \n",
      " 14  price                           3285 non-null   float64\n",
      " 15  underground                     3285 non-null   int32  \n",
      " 16  ground multi-level              3285 non-null   int32  \n",
      " 17  open in the courtyard           3285 non-null   int32  \n",
      " 18  behind the barrier in the yard  3285 non-null   int32  \n",
      "dtypes: bool(3), float64(2), int32(6), int64(1), object(7)\n",
      "memory usage: 368.9+ KB\n"
     ]
    }
   ],
   "source": [
    "df.info()"
   ]
  },
  {
   "cell_type": "code",
   "execution_count": 66,
   "id": "1e14ed75",
   "metadata": {},
   "outputs": [],
   "source": [
    "ndf = df.copy()"
   ]
  },
  {
   "cell_type": "code",
   "execution_count": 115,
   "id": "9adeaa2d",
   "metadata": {},
   "outputs": [
    {
     "data": {
      "text/html": [
       "<div>\n",
       "<style scoped>\n",
       "    .dataframe tbody tr th:only-of-type {\n",
       "        vertical-align: middle;\n",
       "    }\n",
       "\n",
       "    .dataframe tbody tr th {\n",
       "        vertical-align: top;\n",
       "    }\n",
       "\n",
       "    .dataframe thead th {\n",
       "        text-align: right;\n",
       "    }\n",
       "</style>\n",
       "<table border=\"1\" class=\"dataframe\">\n",
       "  <thead>\n",
       "    <tr style=\"text-align: right;\">\n",
       "      <th></th>\n",
       "      <th>р-н Дзержинский</th>\n",
       "      <th>р-н Индустриальный</th>\n",
       "      <th>р-н Кировский</th>\n",
       "      <th>р-н Ленинский</th>\n",
       "      <th>р-н Мотовилихинский</th>\n",
       "      <th>р-н Орджоникидзевский</th>\n",
       "      <th>р-н Свердловский</th>\n",
       "    </tr>\n",
       "  </thead>\n",
       "  <tbody>\n",
       "    <tr>\n",
       "      <th>0</th>\n",
       "      <td>0.0</td>\n",
       "      <td>1.0</td>\n",
       "      <td>0.0</td>\n",
       "      <td>0.0</td>\n",
       "      <td>0.0</td>\n",
       "      <td>0.0</td>\n",
       "      <td>0.0</td>\n",
       "    </tr>\n",
       "    <tr>\n",
       "      <th>1</th>\n",
       "      <td>0.0</td>\n",
       "      <td>1.0</td>\n",
       "      <td>0.0</td>\n",
       "      <td>0.0</td>\n",
       "      <td>0.0</td>\n",
       "      <td>0.0</td>\n",
       "      <td>0.0</td>\n",
       "    </tr>\n",
       "    <tr>\n",
       "      <th>2</th>\n",
       "      <td>0.0</td>\n",
       "      <td>0.0</td>\n",
       "      <td>0.0</td>\n",
       "      <td>0.0</td>\n",
       "      <td>1.0</td>\n",
       "      <td>0.0</td>\n",
       "      <td>0.0</td>\n",
       "    </tr>\n",
       "    <tr>\n",
       "      <th>3</th>\n",
       "      <td>0.0</td>\n",
       "      <td>0.0</td>\n",
       "      <td>0.0</td>\n",
       "      <td>0.0</td>\n",
       "      <td>1.0</td>\n",
       "      <td>0.0</td>\n",
       "      <td>0.0</td>\n",
       "    </tr>\n",
       "    <tr>\n",
       "      <th>4</th>\n",
       "      <td>0.0</td>\n",
       "      <td>0.0</td>\n",
       "      <td>0.0</td>\n",
       "      <td>0.0</td>\n",
       "      <td>1.0</td>\n",
       "      <td>0.0</td>\n",
       "      <td>0.0</td>\n",
       "    </tr>\n",
       "  </tbody>\n",
       "</table>\n",
       "</div>"
      ],
      "text/plain": [
       "   р-н Дзержинский  р-н Индустриальный  р-н Кировский  р-н Ленинский  \\\n",
       "0              0.0                 1.0            0.0            0.0   \n",
       "1              0.0                 1.0            0.0            0.0   \n",
       "2              0.0                 0.0            0.0            0.0   \n",
       "3              0.0                 0.0            0.0            0.0   \n",
       "4              0.0                 0.0            0.0            0.0   \n",
       "\n",
       "   р-н Мотовилихинский  р-н Орджоникидзевский  р-н Свердловский  \n",
       "0                  0.0                    0.0               0.0  \n",
       "1                  0.0                    0.0               0.0  \n",
       "2                  1.0                    0.0               0.0  \n",
       "3                  1.0                    0.0               0.0  \n",
       "4                  1.0                    0.0               0.0  "
      ]
     },
     "execution_count": 115,
     "metadata": {},
     "output_type": "execute_result"
    }
   ],
   "source": [
    "district_enc = OneHotEncoder()\n",
    "district_df = pd.DataFrame(district_enc.fit_transform(ndf[['district']]).toarray())\n",
    "district_df.columns = [feature[3:] for feature in district_enc.get_feature_names()]\n",
    "district_df.head()"
   ]
  },
  {
   "cell_type": "code",
   "execution_count": 116,
   "id": "8cf7a782",
   "metadata": {},
   "outputs": [
    {
     "data": {
      "text/html": [
       "<div>\n",
       "<style scoped>\n",
       "    .dataframe tbody tr th:only-of-type {\n",
       "        vertical-align: middle;\n",
       "    }\n",
       "\n",
       "    .dataframe tbody tr th {\n",
       "        vertical-align: top;\n",
       "    }\n",
       "\n",
       "    .dataframe thead th {\n",
       "        text-align: right;\n",
       "    }\n",
       "</style>\n",
       "<table border=\"1\" class=\"dataframe\">\n",
       "  <thead>\n",
       "    <tr style=\"text-align: right;\">\n",
       "      <th></th>\n",
       "      <th>несколько</th>\n",
       "      <th>раздельный</th>\n",
       "      <th>совмещенный</th>\n",
       "    </tr>\n",
       "  </thead>\n",
       "  <tbody>\n",
       "    <tr>\n",
       "      <th>0</th>\n",
       "      <td>0.0</td>\n",
       "      <td>1.0</td>\n",
       "      <td>0.0</td>\n",
       "    </tr>\n",
       "    <tr>\n",
       "      <th>1</th>\n",
       "      <td>0.0</td>\n",
       "      <td>1.0</td>\n",
       "      <td>0.0</td>\n",
       "    </tr>\n",
       "    <tr>\n",
       "      <th>2</th>\n",
       "      <td>0.0</td>\n",
       "      <td>1.0</td>\n",
       "      <td>0.0</td>\n",
       "    </tr>\n",
       "    <tr>\n",
       "      <th>3</th>\n",
       "      <td>0.0</td>\n",
       "      <td>1.0</td>\n",
       "      <td>0.0</td>\n",
       "    </tr>\n",
       "    <tr>\n",
       "      <th>4</th>\n",
       "      <td>0.0</td>\n",
       "      <td>1.0</td>\n",
       "      <td>0.0</td>\n",
       "    </tr>\n",
       "  </tbody>\n",
       "</table>\n",
       "</div>"
      ],
      "text/plain": [
       "   несколько  раздельный  совмещенный\n",
       "0        0.0         1.0          0.0\n",
       "1        0.0         1.0          0.0\n",
       "2        0.0         1.0          0.0\n",
       "3        0.0         1.0          0.0\n",
       "4        0.0         1.0          0.0"
      ]
     },
     "execution_count": 116,
     "metadata": {},
     "output_type": "execute_result"
    }
   ],
   "source": [
    "bath_enc = OneHotEncoder()\n",
    "bath_df = pd.DataFrame(bath_enc.fit_transform(ndf[['bathroom']]).toarray())\n",
    "bath_df.columns = [feature[3:] for feature in bath_enc.get_feature_names()]\n",
    "bath_df.head()"
   ]
  },
  {
   "cell_type": "code",
   "execution_count": 117,
   "id": "dabdea93",
   "metadata": {},
   "outputs": [
    {
     "data": {
      "text/html": [
       "<div>\n",
       "<style scoped>\n",
       "    .dataframe tbody tr th:only-of-type {\n",
       "        vertical-align: middle;\n",
       "    }\n",
       "\n",
       "    .dataframe tbody tr th {\n",
       "        vertical-align: top;\n",
       "    }\n",
       "\n",
       "    .dataframe thead th {\n",
       "        text-align: right;\n",
       "    }\n",
       "</style>\n",
       "<table border=\"1\" class=\"dataframe\">\n",
       "  <thead>\n",
       "    <tr style=\"text-align: right;\">\n",
       "      <th></th>\n",
       "      <th>дизайнерский</th>\n",
       "      <th>евро</th>\n",
       "      <th>косметический</th>\n",
       "      <th>требует ремонта</th>\n",
       "    </tr>\n",
       "  </thead>\n",
       "  <tbody>\n",
       "    <tr>\n",
       "      <th>0</th>\n",
       "      <td>0.0</td>\n",
       "      <td>0.0</td>\n",
       "      <td>1.0</td>\n",
       "      <td>0.0</td>\n",
       "    </tr>\n",
       "    <tr>\n",
       "      <th>1</th>\n",
       "      <td>0.0</td>\n",
       "      <td>0.0</td>\n",
       "      <td>1.0</td>\n",
       "      <td>0.0</td>\n",
       "    </tr>\n",
       "    <tr>\n",
       "      <th>2</th>\n",
       "      <td>0.0</td>\n",
       "      <td>0.0</td>\n",
       "      <td>1.0</td>\n",
       "      <td>0.0</td>\n",
       "    </tr>\n",
       "    <tr>\n",
       "      <th>3</th>\n",
       "      <td>0.0</td>\n",
       "      <td>0.0</td>\n",
       "      <td>1.0</td>\n",
       "      <td>0.0</td>\n",
       "    </tr>\n",
       "    <tr>\n",
       "      <th>4</th>\n",
       "      <td>0.0</td>\n",
       "      <td>0.0</td>\n",
       "      <td>1.0</td>\n",
       "      <td>0.0</td>\n",
       "    </tr>\n",
       "  </tbody>\n",
       "</table>\n",
       "</div>"
      ],
      "text/plain": [
       "   дизайнерский  евро  косметический  требует ремонта\n",
       "0           0.0   0.0            1.0              0.0\n",
       "1           0.0   0.0            1.0              0.0\n",
       "2           0.0   0.0            1.0              0.0\n",
       "3           0.0   0.0            1.0              0.0\n",
       "4           0.0   0.0            1.0              0.0"
      ]
     },
     "execution_count": 117,
     "metadata": {},
     "output_type": "execute_result"
    }
   ],
   "source": [
    "repair_enc = OneHotEncoder()\n",
    "repair_df = pd.DataFrame(repair_enc.fit_transform(ndf[['repair']]).toarray())\n",
    "repair_df.columns = [feature[3:] for feature in repair_enc.get_feature_names()]\n",
    "repair_df.head()"
   ]
  },
  {
   "cell_type": "code",
   "execution_count": 118,
   "id": "f92a9b1c",
   "metadata": {},
   "outputs": [
    {
     "data": {
      "text/html": [
       "<div>\n",
       "<style scoped>\n",
       "    .dataframe tbody tr th:only-of-type {\n",
       "        vertical-align: middle;\n",
       "    }\n",
       "\n",
       "    .dataframe tbody tr th {\n",
       "        vertical-align: top;\n",
       "    }\n",
       "\n",
       "    .dataframe thead th {\n",
       "        text-align: right;\n",
       "    }\n",
       "</style>\n",
       "<table border=\"1\" class=\"dataframe\">\n",
       "  <thead>\n",
       "    <tr style=\"text-align: right;\">\n",
       "      <th></th>\n",
       "      <th>балкон</th>\n",
       "      <th>лоджия</th>\n",
       "      <th>нет</th>\n",
       "    </tr>\n",
       "  </thead>\n",
       "  <tbody>\n",
       "    <tr>\n",
       "      <th>0</th>\n",
       "      <td>1.0</td>\n",
       "      <td>0.0</td>\n",
       "      <td>0.0</td>\n",
       "    </tr>\n",
       "    <tr>\n",
       "      <th>1</th>\n",
       "      <td>1.0</td>\n",
       "      <td>0.0</td>\n",
       "      <td>0.0</td>\n",
       "    </tr>\n",
       "    <tr>\n",
       "      <th>2</th>\n",
       "      <td>0.0</td>\n",
       "      <td>1.0</td>\n",
       "      <td>0.0</td>\n",
       "    </tr>\n",
       "    <tr>\n",
       "      <th>3</th>\n",
       "      <td>0.0</td>\n",
       "      <td>1.0</td>\n",
       "      <td>0.0</td>\n",
       "    </tr>\n",
       "    <tr>\n",
       "      <th>4</th>\n",
       "      <td>0.0</td>\n",
       "      <td>1.0</td>\n",
       "      <td>0.0</td>\n",
       "    </tr>\n",
       "  </tbody>\n",
       "</table>\n",
       "</div>"
      ],
      "text/plain": [
       "   балкон  лоджия  нет\n",
       "0     1.0     0.0  0.0\n",
       "1     1.0     0.0  0.0\n",
       "2     0.0     1.0  0.0\n",
       "3     0.0     1.0  0.0\n",
       "4     0.0     1.0  0.0"
      ]
     },
     "execution_count": 118,
     "metadata": {},
     "output_type": "execute_result"
    }
   ],
   "source": [
    "terrace_enc = OneHotEncoder()\n",
    "terrace_df = pd.DataFrame(terrace_enc.fit_transform(ndf[['terrace']]).toarray())\n",
    "terrace_df.columns = [feature[3:] for feature in terrace_enc.get_feature_names()]\n",
    "terrace_df.head()"
   ]
  },
  {
   "cell_type": "code",
   "execution_count": 119,
   "id": "a3903889",
   "metadata": {},
   "outputs": [
    {
     "data": {
      "text/html": [
       "<div>\n",
       "<style scoped>\n",
       "    .dataframe tbody tr th:only-of-type {\n",
       "        vertical-align: middle;\n",
       "    }\n",
       "\n",
       "    .dataframe tbody tr th {\n",
       "        vertical-align: top;\n",
       "    }\n",
       "\n",
       "    .dataframe thead th {\n",
       "        text-align: right;\n",
       "    }\n",
       "</style>\n",
       "<table border=\"1\" class=\"dataframe\">\n",
       "  <thead>\n",
       "    <tr style=\"text-align: right;\">\n",
       "      <th></th>\n",
       "      <th>блочный</th>\n",
       "      <th>кирпичный</th>\n",
       "      <th>монолитный</th>\n",
       "      <th>панельный</th>\n",
       "    </tr>\n",
       "  </thead>\n",
       "  <tbody>\n",
       "    <tr>\n",
       "      <th>0</th>\n",
       "      <td>0.0</td>\n",
       "      <td>0.0</td>\n",
       "      <td>0.0</td>\n",
       "      <td>1.0</td>\n",
       "    </tr>\n",
       "    <tr>\n",
       "      <th>1</th>\n",
       "      <td>0.0</td>\n",
       "      <td>0.0</td>\n",
       "      <td>0.0</td>\n",
       "      <td>1.0</td>\n",
       "    </tr>\n",
       "    <tr>\n",
       "      <th>2</th>\n",
       "      <td>0.0</td>\n",
       "      <td>0.0</td>\n",
       "      <td>0.0</td>\n",
       "      <td>1.0</td>\n",
       "    </tr>\n",
       "    <tr>\n",
       "      <th>3</th>\n",
       "      <td>0.0</td>\n",
       "      <td>0.0</td>\n",
       "      <td>0.0</td>\n",
       "      <td>1.0</td>\n",
       "    </tr>\n",
       "    <tr>\n",
       "      <th>4</th>\n",
       "      <td>0.0</td>\n",
       "      <td>0.0</td>\n",
       "      <td>0.0</td>\n",
       "      <td>1.0</td>\n",
       "    </tr>\n",
       "  </tbody>\n",
       "</table>\n",
       "</div>"
      ],
      "text/plain": [
       "   блочный  кирпичный  монолитный  панельный\n",
       "0      0.0        0.0         0.0        1.0\n",
       "1      0.0        0.0         0.0        1.0\n",
       "2      0.0        0.0         0.0        1.0\n",
       "3      0.0        0.0         0.0        1.0\n",
       "4      0.0        0.0         0.0        1.0"
      ]
     },
     "execution_count": 119,
     "metadata": {},
     "output_type": "execute_result"
    }
   ],
   "source": [
    "type_house_enc = OneHotEncoder()\n",
    "type_house_df = pd.DataFrame(type_house_enc.fit_transform(ndf[['type of house']]).toarray())\n",
    "type_house_df.columns = [feature[3:] for feature in type_house_enc.get_feature_names()]\n",
    "type_house_df.head()"
   ]
  },
  {
   "cell_type": "code",
   "execution_count": 138,
   "id": "4d3bad66",
   "metadata": {},
   "outputs": [],
   "source": [
    "new_df = df[['number of floors', 'apartment floor', 'number of rooms', 'area of apartment',\n",
    "            'garbage chute', 'concierge', 'elevator', 'underground', 'ground multi-level',\n",
    "            'open in the courtyard', 'behind the barrier in the yard']]"
   ]
  },
  {
   "cell_type": "code",
   "execution_count": 139,
   "id": "84f9f3d2",
   "metadata": {},
   "outputs": [
    {
     "name": "stdout",
     "output_type": "stream",
     "text": [
      "<class 'pandas.core.frame.DataFrame'>\n",
      "Int64Index: 3285 entries, 0 to 3662\n",
      "Data columns (total 11 columns):\n",
      " #   Column                          Non-Null Count  Dtype  \n",
      "---  ------                          --------------  -----  \n",
      " 0   number of floors                3285 non-null   int32  \n",
      " 1   apartment floor                 3285 non-null   int32  \n",
      " 2   number of rooms                 3285 non-null   int64  \n",
      " 3   area of apartment               3285 non-null   float64\n",
      " 4   garbage chute                   3285 non-null   bool   \n",
      " 5   concierge                       3285 non-null   bool   \n",
      " 6   elevator                        3285 non-null   bool   \n",
      " 7   underground                     3285 non-null   int32  \n",
      " 8   ground multi-level              3285 non-null   int32  \n",
      " 9   open in the courtyard           3285 non-null   int32  \n",
      " 10  behind the barrier in the yard  3285 non-null   int32  \n",
      "dtypes: bool(3), float64(1), int32(6), int64(1)\n",
      "memory usage: 292.6 KB\n"
     ]
    }
   ],
   "source": [
    "new_df.info()"
   ]
  },
  {
   "cell_type": "code",
   "execution_count": 140,
   "id": "3b382826",
   "metadata": {},
   "outputs": [],
   "source": [
    "new_df = new_df.join(district_df)\n",
    "new_df = new_df.join(bath_df)\n",
    "new_df = new_df.join(repair_df)\n",
    "new_df = new_df.join(terrace_df)\n",
    "new_df = new_df.join(type_house_df)"
   ]
  },
  {
   "cell_type": "code",
   "execution_count": 141,
   "id": "4d5b2b4c",
   "metadata": {},
   "outputs": [
    {
     "name": "stdout",
     "output_type": "stream",
     "text": [
      "<class 'pandas.core.frame.DataFrame'>\n",
      "Int64Index: 3285 entries, 0 to 3662\n",
      "Data columns (total 32 columns):\n",
      " #   Column                          Non-Null Count  Dtype  \n",
      "---  ------                          --------------  -----  \n",
      " 0   number of floors                3285 non-null   int32  \n",
      " 1   apartment floor                 3285 non-null   int32  \n",
      " 2   number of rooms                 3285 non-null   int64  \n",
      " 3   area of apartment               3285 non-null   float64\n",
      " 4   garbage chute                   3285 non-null   bool   \n",
      " 5   concierge                       3285 non-null   bool   \n",
      " 6   elevator                        3285 non-null   bool   \n",
      " 7   underground                     3285 non-null   int32  \n",
      " 8   ground multi-level              3285 non-null   int32  \n",
      " 9   open in the courtyard           3285 non-null   int32  \n",
      " 10  behind the barrier in the yard  3285 non-null   int32  \n",
      " 11  р-н Дзержинский                 2948 non-null   float64\n",
      " 12  р-н Индустриальный              2948 non-null   float64\n",
      " 13  р-н Кировский                   2948 non-null   float64\n",
      " 14  р-н Ленинский                   2948 non-null   float64\n",
      " 15  р-н Мотовилихинский             2948 non-null   float64\n",
      " 16  р-н Орджоникидзевский           2948 non-null   float64\n",
      " 17  р-н Свердловский                2948 non-null   float64\n",
      " 18  несколько                       2948 non-null   float64\n",
      " 19  раздельный                      2948 non-null   float64\n",
      " 20  совмещенный                     2948 non-null   float64\n",
      " 21  дизайнерский                    2948 non-null   float64\n",
      " 22  евро                            2948 non-null   float64\n",
      " 23  косметический                   2948 non-null   float64\n",
      " 24  требует ремонта                 2948 non-null   float64\n",
      " 25  балкон                          2948 non-null   float64\n",
      " 26  лоджия                          2948 non-null   float64\n",
      " 27  нет                             2948 non-null   float64\n",
      " 28  блочный                         2948 non-null   float64\n",
      " 29  кирпичный                       2948 non-null   float64\n",
      " 30  монолитный                      2948 non-null   float64\n",
      " 31  панельный                       2948 non-null   float64\n",
      "dtypes: bool(3), float64(22), int32(6), int64(1)\n",
      "memory usage: 831.6 KB\n"
     ]
    }
   ],
   "source": [
    "new_df.info()"
   ]
  },
  {
   "cell_type": "code",
   "execution_count": 151,
   "id": "bff53a0f",
   "metadata": {},
   "outputs": [],
   "source": [
    "for column in new_df.columns[4:]:\n",
    "    new_df[column] = new_df[column].astype('byte')"
   ]
  },
  {
   "cell_type": "code",
   "execution_count": 152,
   "id": "51744d89",
   "metadata": {},
   "outputs": [
    {
     "name": "stdout",
     "output_type": "stream",
     "text": [
      "<class 'pandas.core.frame.DataFrame'>\n",
      "Int64Index: 3285 entries, 0 to 3662\n",
      "Data columns (total 32 columns):\n",
      " #   Column                          Non-Null Count  Dtype  \n",
      "---  ------                          --------------  -----  \n",
      " 0   number of floors                3285 non-null   int32  \n",
      " 1   apartment floor                 3285 non-null   int32  \n",
      " 2   number of rooms                 3285 non-null   int64  \n",
      " 3   area of apartment               3285 non-null   float64\n",
      " 4   garbage chute                   3285 non-null   int8   \n",
      " 5   concierge                       3285 non-null   int8   \n",
      " 6   elevator                        3285 non-null   int8   \n",
      " 7   underground                     3285 non-null   int8   \n",
      " 8   ground multi-level              3285 non-null   int8   \n",
      " 9   open in the courtyard           3285 non-null   int8   \n",
      " 10  behind the barrier in the yard  3285 non-null   int8   \n",
      " 11  р-н Дзержинский                 3285 non-null   int8   \n",
      " 12  р-н Индустриальный              3285 non-null   int8   \n",
      " 13  р-н Кировский                   3285 non-null   int8   \n",
      " 14  р-н Ленинский                   3285 non-null   int8   \n",
      " 15  р-н Мотовилихинский             3285 non-null   int8   \n",
      " 16  р-н Орджоникидзевский           3285 non-null   int8   \n",
      " 17  р-н Свердловский                3285 non-null   int8   \n",
      " 18  несколько                       3285 non-null   int8   \n",
      " 19  раздельный                      3285 non-null   int8   \n",
      " 20  совмещенный                     3285 non-null   int8   \n",
      " 21  дизайнерский                    3285 non-null   int8   \n",
      " 22  евро                            3285 non-null   int8   \n",
      " 23  косметический                   3285 non-null   int8   \n",
      " 24  требует ремонта                 3285 non-null   int8   \n",
      " 25  балкон                          3285 non-null   int8   \n",
      " 26  лоджия                          3285 non-null   int8   \n",
      " 27  нет                             3285 non-null   int8   \n",
      " 28  блочный                         3285 non-null   int8   \n",
      " 29  кирпичный                       3285 non-null   int8   \n",
      " 30  монолитный                      3285 non-null   int8   \n",
      " 31  панельный                       3285 non-null   int8   \n",
      "dtypes: float64(1), int32(2), int64(1), int8(28)\n",
      "memory usage: 321.5 KB\n"
     ]
    }
   ],
   "source": [
    "new_df.info()"
   ]
  },
  {
   "cell_type": "code",
   "execution_count": 153,
   "id": "8986b49c",
   "metadata": {},
   "outputs": [],
   "source": [
    "new_df.to_csv('after_eda_data.csv', sep=';', index=False)"
   ]
  },
  {
   "cell_type": "code",
   "execution_count": 154,
   "id": "673d3e6c",
   "metadata": {},
   "outputs": [],
   "source": [
    "df = pd.read_csv('after_eda_data.csv', sep=';')"
   ]
  },
  {
   "cell_type": "code",
   "execution_count": 155,
   "id": "6d32943e",
   "metadata": {},
   "outputs": [
    {
     "data": {
      "text/html": [
       "<div>\n",
       "<style scoped>\n",
       "    .dataframe tbody tr th:only-of-type {\n",
       "        vertical-align: middle;\n",
       "    }\n",
       "\n",
       "    .dataframe tbody tr th {\n",
       "        vertical-align: top;\n",
       "    }\n",
       "\n",
       "    .dataframe thead th {\n",
       "        text-align: right;\n",
       "    }\n",
       "</style>\n",
       "<table border=\"1\" class=\"dataframe\">\n",
       "  <thead>\n",
       "    <tr style=\"text-align: right;\">\n",
       "      <th></th>\n",
       "      <th>number of floors</th>\n",
       "      <th>apartment floor</th>\n",
       "      <th>number of rooms</th>\n",
       "      <th>area of apartment</th>\n",
       "      <th>garbage chute</th>\n",
       "      <th>concierge</th>\n",
       "      <th>elevator</th>\n",
       "      <th>underground</th>\n",
       "      <th>ground multi-level</th>\n",
       "      <th>open in the courtyard</th>\n",
       "      <th>...</th>\n",
       "      <th>евро</th>\n",
       "      <th>косметический</th>\n",
       "      <th>требует ремонта</th>\n",
       "      <th>балкон</th>\n",
       "      <th>лоджия</th>\n",
       "      <th>нет</th>\n",
       "      <th>блочный</th>\n",
       "      <th>кирпичный</th>\n",
       "      <th>монолитный</th>\n",
       "      <th>панельный</th>\n",
       "    </tr>\n",
       "  </thead>\n",
       "  <tbody>\n",
       "    <tr>\n",
       "      <th>0</th>\n",
       "      <td>5</td>\n",
       "      <td>1</td>\n",
       "      <td>3</td>\n",
       "      <td>61.2</td>\n",
       "      <td>0</td>\n",
       "      <td>0</td>\n",
       "      <td>0</td>\n",
       "      <td>0</td>\n",
       "      <td>0</td>\n",
       "      <td>1</td>\n",
       "      <td>...</td>\n",
       "      <td>0</td>\n",
       "      <td>1</td>\n",
       "      <td>0</td>\n",
       "      <td>1</td>\n",
       "      <td>0</td>\n",
       "      <td>0</td>\n",
       "      <td>0</td>\n",
       "      <td>0</td>\n",
       "      <td>0</td>\n",
       "      <td>1</td>\n",
       "    </tr>\n",
       "    <tr>\n",
       "      <th>1</th>\n",
       "      <td>5</td>\n",
       "      <td>1</td>\n",
       "      <td>3</td>\n",
       "      <td>61.2</td>\n",
       "      <td>0</td>\n",
       "      <td>0</td>\n",
       "      <td>0</td>\n",
       "      <td>0</td>\n",
       "      <td>0</td>\n",
       "      <td>1</td>\n",
       "      <td>...</td>\n",
       "      <td>0</td>\n",
       "      <td>1</td>\n",
       "      <td>0</td>\n",
       "      <td>1</td>\n",
       "      <td>0</td>\n",
       "      <td>0</td>\n",
       "      <td>0</td>\n",
       "      <td>0</td>\n",
       "      <td>0</td>\n",
       "      <td>1</td>\n",
       "    </tr>\n",
       "    <tr>\n",
       "      <th>2</th>\n",
       "      <td>17</td>\n",
       "      <td>4</td>\n",
       "      <td>3</td>\n",
       "      <td>68.6</td>\n",
       "      <td>0</td>\n",
       "      <td>0</td>\n",
       "      <td>1</td>\n",
       "      <td>0</td>\n",
       "      <td>0</td>\n",
       "      <td>1</td>\n",
       "      <td>...</td>\n",
       "      <td>0</td>\n",
       "      <td>1</td>\n",
       "      <td>0</td>\n",
       "      <td>0</td>\n",
       "      <td>1</td>\n",
       "      <td>0</td>\n",
       "      <td>0</td>\n",
       "      <td>0</td>\n",
       "      <td>0</td>\n",
       "      <td>1</td>\n",
       "    </tr>\n",
       "    <tr>\n",
       "      <th>3</th>\n",
       "      <td>17</td>\n",
       "      <td>4</td>\n",
       "      <td>3</td>\n",
       "      <td>68.6</td>\n",
       "      <td>0</td>\n",
       "      <td>0</td>\n",
       "      <td>1</td>\n",
       "      <td>0</td>\n",
       "      <td>0</td>\n",
       "      <td>1</td>\n",
       "      <td>...</td>\n",
       "      <td>0</td>\n",
       "      <td>1</td>\n",
       "      <td>0</td>\n",
       "      <td>0</td>\n",
       "      <td>1</td>\n",
       "      <td>0</td>\n",
       "      <td>0</td>\n",
       "      <td>0</td>\n",
       "      <td>0</td>\n",
       "      <td>1</td>\n",
       "    </tr>\n",
       "    <tr>\n",
       "      <th>4</th>\n",
       "      <td>16</td>\n",
       "      <td>6</td>\n",
       "      <td>2</td>\n",
       "      <td>54.1</td>\n",
       "      <td>0</td>\n",
       "      <td>0</td>\n",
       "      <td>1</td>\n",
       "      <td>0</td>\n",
       "      <td>0</td>\n",
       "      <td>1</td>\n",
       "      <td>...</td>\n",
       "      <td>0</td>\n",
       "      <td>1</td>\n",
       "      <td>0</td>\n",
       "      <td>0</td>\n",
       "      <td>1</td>\n",
       "      <td>0</td>\n",
       "      <td>0</td>\n",
       "      <td>0</td>\n",
       "      <td>0</td>\n",
       "      <td>1</td>\n",
       "    </tr>\n",
       "    <tr>\n",
       "      <th>...</th>\n",
       "      <td>...</td>\n",
       "      <td>...</td>\n",
       "      <td>...</td>\n",
       "      <td>...</td>\n",
       "      <td>...</td>\n",
       "      <td>...</td>\n",
       "      <td>...</td>\n",
       "      <td>...</td>\n",
       "      <td>...</td>\n",
       "      <td>...</td>\n",
       "      <td>...</td>\n",
       "      <td>...</td>\n",
       "      <td>...</td>\n",
       "      <td>...</td>\n",
       "      <td>...</td>\n",
       "      <td>...</td>\n",
       "      <td>...</td>\n",
       "      <td>...</td>\n",
       "      <td>...</td>\n",
       "      <td>...</td>\n",
       "      <td>...</td>\n",
       "    </tr>\n",
       "    <tr>\n",
       "      <th>3280</th>\n",
       "      <td>10</td>\n",
       "      <td>2</td>\n",
       "      <td>1</td>\n",
       "      <td>48.0</td>\n",
       "      <td>0</td>\n",
       "      <td>0</td>\n",
       "      <td>1</td>\n",
       "      <td>0</td>\n",
       "      <td>0</td>\n",
       "      <td>0</td>\n",
       "      <td>...</td>\n",
       "      <td>1</td>\n",
       "      <td>1</td>\n",
       "      <td>1</td>\n",
       "      <td>1</td>\n",
       "      <td>1</td>\n",
       "      <td>1</td>\n",
       "      <td>1</td>\n",
       "      <td>1</td>\n",
       "      <td>1</td>\n",
       "      <td>1</td>\n",
       "    </tr>\n",
       "    <tr>\n",
       "      <th>3281</th>\n",
       "      <td>5</td>\n",
       "      <td>4</td>\n",
       "      <td>2</td>\n",
       "      <td>38.5</td>\n",
       "      <td>0</td>\n",
       "      <td>0</td>\n",
       "      <td>1</td>\n",
       "      <td>0</td>\n",
       "      <td>0</td>\n",
       "      <td>1</td>\n",
       "      <td>...</td>\n",
       "      <td>1</td>\n",
       "      <td>1</td>\n",
       "      <td>1</td>\n",
       "      <td>1</td>\n",
       "      <td>1</td>\n",
       "      <td>1</td>\n",
       "      <td>1</td>\n",
       "      <td>1</td>\n",
       "      <td>1</td>\n",
       "      <td>1</td>\n",
       "    </tr>\n",
       "    <tr>\n",
       "      <th>3282</th>\n",
       "      <td>5</td>\n",
       "      <td>4</td>\n",
       "      <td>2</td>\n",
       "      <td>38.5</td>\n",
       "      <td>0</td>\n",
       "      <td>0</td>\n",
       "      <td>1</td>\n",
       "      <td>0</td>\n",
       "      <td>0</td>\n",
       "      <td>1</td>\n",
       "      <td>...</td>\n",
       "      <td>1</td>\n",
       "      <td>1</td>\n",
       "      <td>1</td>\n",
       "      <td>1</td>\n",
       "      <td>1</td>\n",
       "      <td>1</td>\n",
       "      <td>1</td>\n",
       "      <td>1</td>\n",
       "      <td>1</td>\n",
       "      <td>1</td>\n",
       "    </tr>\n",
       "    <tr>\n",
       "      <th>3283</th>\n",
       "      <td>5</td>\n",
       "      <td>4</td>\n",
       "      <td>2</td>\n",
       "      <td>38.5</td>\n",
       "      <td>0</td>\n",
       "      <td>0</td>\n",
       "      <td>1</td>\n",
       "      <td>0</td>\n",
       "      <td>0</td>\n",
       "      <td>1</td>\n",
       "      <td>...</td>\n",
       "      <td>1</td>\n",
       "      <td>1</td>\n",
       "      <td>1</td>\n",
       "      <td>1</td>\n",
       "      <td>1</td>\n",
       "      <td>1</td>\n",
       "      <td>1</td>\n",
       "      <td>1</td>\n",
       "      <td>1</td>\n",
       "      <td>1</td>\n",
       "    </tr>\n",
       "    <tr>\n",
       "      <th>3284</th>\n",
       "      <td>5</td>\n",
       "      <td>4</td>\n",
       "      <td>2</td>\n",
       "      <td>38.5</td>\n",
       "      <td>0</td>\n",
       "      <td>0</td>\n",
       "      <td>1</td>\n",
       "      <td>0</td>\n",
       "      <td>0</td>\n",
       "      <td>1</td>\n",
       "      <td>...</td>\n",
       "      <td>1</td>\n",
       "      <td>1</td>\n",
       "      <td>1</td>\n",
       "      <td>1</td>\n",
       "      <td>1</td>\n",
       "      <td>1</td>\n",
       "      <td>1</td>\n",
       "      <td>1</td>\n",
       "      <td>1</td>\n",
       "      <td>1</td>\n",
       "    </tr>\n",
       "  </tbody>\n",
       "</table>\n",
       "<p>3285 rows × 32 columns</p>\n",
       "</div>"
      ],
      "text/plain": [
       "      number of floors  apartment floor  number of rooms  area of apartment  \\\n",
       "0                    5                1                3               61.2   \n",
       "1                    5                1                3               61.2   \n",
       "2                   17                4                3               68.6   \n",
       "3                   17                4                3               68.6   \n",
       "4                   16                6                2               54.1   \n",
       "...                ...              ...              ...                ...   \n",
       "3280                10                2                1               48.0   \n",
       "3281                 5                4                2               38.5   \n",
       "3282                 5                4                2               38.5   \n",
       "3283                 5                4                2               38.5   \n",
       "3284                 5                4                2               38.5   \n",
       "\n",
       "      garbage chute  concierge  elevator  underground  ground multi-level  \\\n",
       "0                 0          0         0            0                   0   \n",
       "1                 0          0         0            0                   0   \n",
       "2                 0          0         1            0                   0   \n",
       "3                 0          0         1            0                   0   \n",
       "4                 0          0         1            0                   0   \n",
       "...             ...        ...       ...          ...                 ...   \n",
       "3280              0          0         1            0                   0   \n",
       "3281              0          0         1            0                   0   \n",
       "3282              0          0         1            0                   0   \n",
       "3283              0          0         1            0                   0   \n",
       "3284              0          0         1            0                   0   \n",
       "\n",
       "      open in the courtyard  ...  евро  косметический  требует ремонта  \\\n",
       "0                         1  ...     0              1                0   \n",
       "1                         1  ...     0              1                0   \n",
       "2                         1  ...     0              1                0   \n",
       "3                         1  ...     0              1                0   \n",
       "4                         1  ...     0              1                0   \n",
       "...                     ...  ...   ...            ...              ...   \n",
       "3280                      0  ...     1              1                1   \n",
       "3281                      1  ...     1              1                1   \n",
       "3282                      1  ...     1              1                1   \n",
       "3283                      1  ...     1              1                1   \n",
       "3284                      1  ...     1              1                1   \n",
       "\n",
       "      балкон  лоджия  нет  блочный  кирпичный  монолитный  панельный  \n",
       "0          1       0    0        0          0           0          1  \n",
       "1          1       0    0        0          0           0          1  \n",
       "2          0       1    0        0          0           0          1  \n",
       "3          0       1    0        0          0           0          1  \n",
       "4          0       1    0        0          0           0          1  \n",
       "...      ...     ...  ...      ...        ...         ...        ...  \n",
       "3280       1       1    1        1          1           1          1  \n",
       "3281       1       1    1        1          1           1          1  \n",
       "3282       1       1    1        1          1           1          1  \n",
       "3283       1       1    1        1          1           1          1  \n",
       "3284       1       1    1        1          1           1          1  \n",
       "\n",
       "[3285 rows x 32 columns]"
      ]
     },
     "execution_count": 155,
     "metadata": {},
     "output_type": "execute_result"
    }
   ],
   "source": [
    "df"
   ]
  },
  {
   "cell_type": "code",
   "execution_count": null,
   "id": "10054827",
   "metadata": {},
   "outputs": [],
   "source": []
  }
 ],
 "metadata": {
  "kernelspec": {
   "display_name": "Python 3",
   "language": "python",
   "name": "python3"
  },
  "language_info": {
   "codemirror_mode": {
    "name": "ipython",
    "version": 3
   },
   "file_extension": ".py",
   "mimetype": "text/x-python",
   "name": "python",
   "nbconvert_exporter": "python",
   "pygments_lexer": "ipython3",
   "version": "3.9.5"
  }
 },
 "nbformat": 4,
 "nbformat_minor": 5
}
