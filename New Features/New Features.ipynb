{
 "cells": [
  {
   "cell_type": "code",
   "execution_count": 83,
   "id": "3cc2c6ca",
   "metadata": {},
   "outputs": [],
   "source": [
    "import pandas as pd\n",
    "import numpy as np\n",
    "import matplotlib.pyplot as plt"
   ]
  },
  {
   "cell_type": "code",
   "execution_count": 84,
   "id": "45823193",
   "metadata": {},
   "outputs": [],
   "source": [
    "df = pd.read_csv('data_with_dists.csv', sep=';')"
   ]
  },
  {
   "cell_type": "code",
   "execution_count": 85,
   "id": "f8b7de78",
   "metadata": {},
   "outputs": [
    {
     "name": "stdout",
     "output_type": "stream",
     "text": [
      "<class 'pandas.core.frame.DataFrame'>\n",
      "RangeIndex: 1130 entries, 0 to 1129\n",
      "Data columns (total 16 columns):\n",
      " #   Column                Non-Null Count  Dtype  \n",
      "---  ------                --------------  -----  \n",
      " 0   number of rooms       1130 non-null   int64  \n",
      " 1   area of apartment     1130 non-null   float64\n",
      " 2   number of floors      1130 non-null   int64  \n",
      " 3   apartment floor       1130 non-null   int64  \n",
      " 4   price                 1130 non-null   float64\n",
      " 5   repair                1130 non-null   object \n",
      " 6   bathroom              1130 non-null   object \n",
      " 7   terrace               1130 non-null   object \n",
      " 8   year of construction  1130 non-null   int64  \n",
      " 9   elevator              1130 non-null   int64  \n",
      " 10  garbage chute         1130 non-null   int64  \n",
      " 11  type of house         1130 non-null   object \n",
      " 12  district              1130 non-null   object \n",
      " 13  street                1130 non-null   object \n",
      " 14  concierge             1130 non-null   int64  \n",
      " 15  distance              1130 non-null   float64\n",
      "dtypes: float64(3), int64(7), object(6)\n",
      "memory usage: 141.4+ KB\n"
     ]
    }
   ],
   "source": [
    "df.info()"
   ]
  },
  {
   "cell_type": "markdown",
   "id": "9abfb196",
   "metadata": {},
   "source": [
    "## Удаление дорогих квартир"
   ]
  },
  {
   "cell_type": "code",
   "execution_count": 86,
   "id": "c1ee7bcb",
   "metadata": {},
   "outputs": [
    {
     "name": "stdout",
     "output_type": "stream",
     "text": [
      "5900000.0\n"
     ]
    }
   ],
   "source": [
    "percentile_82 = np.percentile(df['price'], 82)\n",
    "print(percentile_82)"
   ]
  },
  {
   "cell_type": "code",
   "execution_count": 87,
   "id": "f83aa54e",
   "metadata": {},
   "outputs": [],
   "source": [
    "df = df[df['price'] < percentile_82]\n",
    "df.index = range(len(df))"
   ]
  },
  {
   "cell_type": "markdown",
   "id": "a47f67c4",
   "metadata": {},
   "source": [
    "# Районы"
   ]
  },
  {
   "cell_type": "code",
   "execution_count": 88,
   "id": "9ed340f5",
   "metadata": {},
   "outputs": [
    {
     "data": {
      "text/plain": [
       "array(['р-н Индустриальный', 'р-н Свердловский', 'р-н Мотовилихинский',\n",
       "       'р-н Орджоникидзевский', 'р-н Дзержинский', 'р-н Кировский',\n",
       "       'р-н Ленинский'], dtype=object)"
      ]
     },
     "execution_count": 88,
     "metadata": {},
     "output_type": "execute_result"
    }
   ],
   "source": [
    "df.district.unique()"
   ]
  },
  {
   "cell_type": "markdown",
   "id": "75d5c99f",
   "metadata": {},
   "source": [
    "### Добавление для каждого района средней цены за квадратный метр"
   ]
  },
  {
   "cell_type": "code",
   "execution_count": 89,
   "id": "f55b8a68",
   "metadata": {},
   "outputs": [],
   "source": [
    "district_features = dict()\n",
    "for district in df.district.unique():\n",
    "    district_features[district] = []"
   ]
  },
  {
   "cell_type": "code",
   "execution_count": 90,
   "id": "522afc2b",
   "metadata": {},
   "outputs": [],
   "source": [
    "df['price_for_metre'] = np.array([df['price'][i] / df['area of apartment'][i] for i in range(len(df))])"
   ]
  },
  {
   "cell_type": "code",
   "execution_count": 91,
   "id": "6ab38792",
   "metadata": {},
   "outputs": [],
   "source": [
    "for district in district_features:\n",
    "    district_features[district].append(df.groupby(\"district\")[\"price_for_metre\"].mean()[district])\n",
    "df = df.drop(\"price_for_metre\", axis=1)"
   ]
  },
  {
   "cell_type": "code",
   "execution_count": 92,
   "id": "57228fc3",
   "metadata": {},
   "outputs": [
    {
     "data": {
      "text/plain": [
       "{'р-н Индустриальный': [78168.86137903988],\n",
       " 'р-н Свердловский': [74318.1778421745],\n",
       " 'р-н Мотовилихинский': [69325.50503743357],\n",
       " 'р-н Орджоникидзевский': [53809.059009550336],\n",
       " 'р-н Дзержинский': [76055.00621772064],\n",
       " 'р-н Кировский': [62889.363336951275],\n",
       " 'р-н Ленинский': [85854.45308674303]}"
      ]
     },
     "execution_count": 92,
     "metadata": {},
     "output_type": "execute_result"
    }
   ],
   "source": [
    "district_features"
   ]
  },
  {
   "cell_type": "markdown",
   "id": "0903aae4",
   "metadata": {},
   "source": [
    "### Добавление населения для каждого района"
   ]
  },
  {
   "cell_type": "markdown",
   "id": "4aa6f3a3",
   "metadata": {},
   "source": [
    "https://ru.wikipedia.org/wiki/Административное_деление_Перми"
   ]
  },
  {
   "cell_type": "code",
   "execution_count": 93,
   "id": "61c3c6d7",
   "metadata": {},
   "outputs": [
    {
     "name": "stdout",
     "output_type": "stream",
     "text": [
      "р-н Индустриальный\n",
      "169613\n",
      "р-н Свердловский\n",
      "218220\n",
      "р-н Мотовилихинский\n",
      "193639\n",
      "р-н Орджоникидзевский\n",
      "115722\n",
      "р-н Дзержинский\n",
      "166466\n",
      "р-н Кировский\n",
      "130798\n",
      "р-н Ленинский\n",
      "54741\n"
     ]
    }
   ],
   "source": [
    "for district in district_features:\n",
    "    print(district)\n",
    "    population = int(input())\n",
    "    district_features[district].append(population)"
   ]
  },
  {
   "cell_type": "code",
   "execution_count": 94,
   "id": "e8619db5",
   "metadata": {},
   "outputs": [
    {
     "data": {
      "text/plain": [
       "{'р-н Индустриальный': [78168.86137903988, 169613],\n",
       " 'р-н Свердловский': [74318.1778421745, 218220],\n",
       " 'р-н Мотовилихинский': [69325.50503743357, 193639],\n",
       " 'р-н Орджоникидзевский': [53809.059009550336, 115722],\n",
       " 'р-н Дзержинский': [76055.00621772064, 166466],\n",
       " 'р-н Кировский': [62889.363336951275, 130798],\n",
       " 'р-н Ленинский': [85854.45308674303, 54741]}"
      ]
     },
     "execution_count": 94,
     "metadata": {},
     "output_type": "execute_result"
    }
   ],
   "source": [
    "district_features"
   ]
  },
  {
   "cell_type": "markdown",
   "id": "f4ec1b75",
   "metadata": {},
   "source": [
    "### Добавление экологической обстановки, уровня озеленения для каждого района"
   ]
  },
  {
   "cell_type": "markdown",
   "id": "73051d12",
   "metadata": {},
   "source": [
    "https://markakachestva.ru/amenities/5494-luchshie-rajony-permi-dlja-prozhivanija-rejting.html"
   ]
  },
  {
   "cell_type": "markdown",
   "id": "145da08e",
   "metadata": {},
   "source": [
    "хорошая обстановка, достаточно озеленения - 4\n",
    "\n",
    "благоприятная экологическая обстановка, обильное озеленение - 4\n",
    "\n",
    "отличная обстановка, ¾ района – парки и лесопарковые зоны - 5\n",
    " \n",
    "удовлетворительная обстановка, достаточный уровень озеленения - 3\n",
    "  \n",
    "много парковых зон, Черняевский лес - 5\n",
    "  \n",
    "хорошая обстановка, достаточное озеленение - 4\n",
    "   \n",
    "удовлетворительная обстановка, скудное озеленение - 2"
   ]
  },
  {
   "cell_type": "code",
   "execution_count": 95,
   "id": "0481bbe7",
   "metadata": {},
   "outputs": [
    {
     "name": "stdout",
     "output_type": "stream",
     "text": [
      "р-н Индустриальный\n",
      "3\n",
      "р-н Свердловский\n",
      "2\n",
      "р-н Мотовилихинский\n",
      "4\n",
      "р-н Орджоникидзевский\n",
      "4\n",
      "р-н Дзержинский\n",
      "5\n",
      "р-н Кировский\n",
      "5\n",
      "р-н Ленинский\n",
      "4\n"
     ]
    }
   ],
   "source": [
    "for district in district_features:\n",
    "    print(district)\n",
    "    rate = int(input())\n",
    "    district_features[district].append(rate)"
   ]
  },
  {
   "cell_type": "code",
   "execution_count": 96,
   "id": "7f60e5cf",
   "metadata": {},
   "outputs": [
    {
     "data": {
      "text/plain": [
       "{'р-н Индустриальный': [78168.86137903988, 169613, 3],\n",
       " 'р-н Свердловский': [74318.1778421745, 218220, 2],\n",
       " 'р-н Мотовилихинский': [69325.50503743357, 193639, 4],\n",
       " 'р-н Орджоникидзевский': [53809.059009550336, 115722, 4],\n",
       " 'р-н Дзержинский': [76055.00621772064, 166466, 5],\n",
       " 'р-н Кировский': [62889.363336951275, 130798, 5],\n",
       " 'р-н Ленинский': [85854.45308674303, 54741, 4]}"
      ]
     },
     "execution_count": 96,
     "metadata": {},
     "output_type": "execute_result"
    }
   ],
   "source": [
    "district_features"
   ]
  },
  {
   "cell_type": "markdown",
   "id": "81b2010b",
   "metadata": {},
   "source": [
    "### Добавление в датасет"
   ]
  },
  {
   "cell_type": "code",
   "execution_count": 97,
   "id": "49783cd5",
   "metadata": {},
   "outputs": [],
   "source": [
    "df['price for metre'] = np.array([district_features[df['district'][index]][0] for index in range(len(df))])"
   ]
  },
  {
   "cell_type": "code",
   "execution_count": 98,
   "id": "b4412db6",
   "metadata": {},
   "outputs": [],
   "source": [
    "df['district population'] = np.array([district_features[df['district'][index]][1] for index in range(len(df))])"
   ]
  },
  {
   "cell_type": "code",
   "execution_count": 99,
   "id": "d441712c",
   "metadata": {},
   "outputs": [],
   "source": [
    "df['green rate'] = np.array([district_features[df['district'][index]][2] for index in range(len(df))])"
   ]
  },
  {
   "cell_type": "code",
   "execution_count": 100,
   "id": "e89dd32d",
   "metadata": {},
   "outputs": [
    {
     "name": "stdout",
     "output_type": "stream",
     "text": [
      "<class 'pandas.core.frame.DataFrame'>\n",
      "RangeIndex: 925 entries, 0 to 924\n",
      "Data columns (total 19 columns):\n",
      " #   Column                Non-Null Count  Dtype  \n",
      "---  ------                --------------  -----  \n",
      " 0   number of rooms       925 non-null    int64  \n",
      " 1   area of apartment     925 non-null    float64\n",
      " 2   number of floors      925 non-null    int64  \n",
      " 3   apartment floor       925 non-null    int64  \n",
      " 4   price                 925 non-null    float64\n",
      " 5   repair                925 non-null    object \n",
      " 6   bathroom              925 non-null    object \n",
      " 7   terrace               925 non-null    object \n",
      " 8   year of construction  925 non-null    int64  \n",
      " 9   elevator              925 non-null    int64  \n",
      " 10  garbage chute         925 non-null    int64  \n",
      " 11  type of house         925 non-null    object \n",
      " 12  district              925 non-null    object \n",
      " 13  street                925 non-null    object \n",
      " 14  concierge             925 non-null    int64  \n",
      " 15  distance              925 non-null    float64\n",
      " 16  price for metre       925 non-null    float64\n",
      " 17  district population   925 non-null    int32  \n",
      " 18  green rate            925 non-null    int32  \n",
      "dtypes: float64(4), int32(2), int64(7), object(6)\n",
      "memory usage: 130.2+ KB\n"
     ]
    }
   ],
   "source": [
    "df.info()"
   ]
  },
  {
   "cell_type": "markdown",
   "id": "05fc58ff",
   "metadata": {},
   "source": [
    "# Ремонт"
   ]
  },
  {
   "cell_type": "markdown",
   "id": "7d6b1d00",
   "metadata": {},
   "source": [
    "Оценка ремонта"
   ]
  },
  {
   "cell_type": "code",
   "execution_count": 101,
   "id": "04cc05f4",
   "metadata": {},
   "outputs": [
    {
     "data": {
      "text/plain": [
       "array(['косметический', 'евро', 'требует ремонта', 'дизайнерский'],\n",
       "      dtype=object)"
      ]
     },
     "execution_count": 101,
     "metadata": {},
     "output_type": "execute_result"
    }
   ],
   "source": [
    "df['repair'].unique()"
   ]
  },
  {
   "cell_type": "code",
   "execution_count": 102,
   "id": "e7146d6a",
   "metadata": {},
   "outputs": [
    {
     "data": {
      "text/plain": [
       "repair\n",
       "дизайнерский       4.004933e+06\n",
       "евро               3.766200e+06\n",
       "косметический      3.340751e+06\n",
       "требует ремонта    3.107113e+06\n",
       "Name: price, dtype: float64"
      ]
     },
     "execution_count": 102,
     "metadata": {},
     "output_type": "execute_result"
    }
   ],
   "source": [
    "df.groupby(by=\"repair\")[\"price\"].mean()"
   ]
  },
  {
   "cell_type": "code",
   "execution_count": 103,
   "id": "bd8197a4",
   "metadata": {},
   "outputs": [],
   "source": [
    "def get_repair_rate(repair):\n",
    "    if repair == 'требует ремонта':\n",
    "        return 0\n",
    "    elif repair == 'косметический':\n",
    "        return 1\n",
    "    elif repair == 'евро':\n",
    "        return 2\n",
    "    else:\n",
    "        return 3"
   ]
  },
  {
   "cell_type": "code",
   "execution_count": 104,
   "id": "646c3ac0",
   "metadata": {},
   "outputs": [],
   "source": [
    "df['repair rate'] = np.array([get_repair_rate(df['repair'][i]) for i in range(len(df))])"
   ]
  },
  {
   "cell_type": "markdown",
   "id": "951ddb4e",
   "metadata": {},
   "source": [
    "# Ванная"
   ]
  },
  {
   "cell_type": "code",
   "execution_count": 105,
   "id": "b7542d13",
   "metadata": {},
   "outputs": [
    {
     "data": {
      "text/plain": [
       "array(['раздельный', 'совмещенный', 'несколько'], dtype=object)"
      ]
     },
     "execution_count": 105,
     "metadata": {},
     "output_type": "execute_result"
    }
   ],
   "source": [
    "df['bathroom'].unique()"
   ]
  },
  {
   "cell_type": "code",
   "execution_count": 106,
   "id": "06a2731f",
   "metadata": {},
   "outputs": [
    {
     "data": {
      "text/plain": [
       "bathroom\n",
       "несколько      5.443000e+06\n",
       "раздельный     3.688366e+06\n",
       "совмещенный    3.110461e+06\n",
       "Name: price, dtype: float64"
      ]
     },
     "execution_count": 106,
     "metadata": {},
     "output_type": "execute_result"
    }
   ],
   "source": [
    "df.groupby(by=\"bathroom\")[\"price\"].mean()"
   ]
  },
  {
   "cell_type": "code",
   "execution_count": 107,
   "id": "c409bdf9",
   "metadata": {},
   "outputs": [
    {
     "data": {
      "text/plain": [
       "bathroom\n",
       "несколько       10\n",
       "раздельный     457\n",
       "совмещенный    458\n",
       "Name: price, dtype: int64"
      ]
     },
     "execution_count": 107,
     "metadata": {},
     "output_type": "execute_result"
    }
   ],
   "source": [
    "df.groupby(by=\"bathroom\")[\"price\"].count()"
   ]
  },
  {
   "cell_type": "code",
   "execution_count": 108,
   "id": "91ac176b",
   "metadata": {},
   "outputs": [],
   "source": [
    "def get_bathroom_rate(bathroom):\n",
    "    if bathroom == 'совмещенный':\n",
    "        return 1\n",
    "    elif bathroom == 'раздельный':\n",
    "        return 2\n",
    "    else:\n",
    "        return 6"
   ]
  },
  {
   "cell_type": "code",
   "execution_count": 109,
   "id": "6a075af4",
   "metadata": {},
   "outputs": [],
   "source": [
    "df['bathroom rate'] = np.array([get_bathroom_rate(df['bathroom'][i]) for i in range(len(df))])"
   ]
  },
  {
   "cell_type": "markdown",
   "id": "df38be1c",
   "metadata": {},
   "source": [
    "# Балкон"
   ]
  },
  {
   "cell_type": "code",
   "execution_count": 110,
   "id": "8b10d450",
   "metadata": {},
   "outputs": [
    {
     "data": {
      "text/plain": [
       "array(['балкон', 'нет', 'лоджия'], dtype=object)"
      ]
     },
     "execution_count": 110,
     "metadata": {},
     "output_type": "execute_result"
    }
   ],
   "source": [
    "df['terrace'].unique()"
   ]
  },
  {
   "cell_type": "code",
   "execution_count": 111,
   "id": "3003bd7d",
   "metadata": {},
   "outputs": [
    {
     "data": {
      "text/plain": [
       "terrace\n",
       "балкон    3.238130e+06\n",
       "лоджия    3.848862e+06\n",
       "нет       2.503152e+06\n",
       "Name: price, dtype: float64"
      ]
     },
     "execution_count": 111,
     "metadata": {},
     "output_type": "execute_result"
    }
   ],
   "source": [
    "df.groupby(by=\"terrace\")[\"price\"].mean()"
   ]
  },
  {
   "cell_type": "code",
   "execution_count": 112,
   "id": "4169c307",
   "metadata": {},
   "outputs": [
    {
     "data": {
      "text/plain": [
       "terrace\n",
       "балкон    304\n",
       "лоджия    465\n",
       "нет       156\n",
       "Name: price, dtype: int64"
      ]
     },
     "execution_count": 112,
     "metadata": {},
     "output_type": "execute_result"
    }
   ],
   "source": [
    "df.groupby(by=\"terrace\")[\"price\"].count()"
   ]
  },
  {
   "cell_type": "code",
   "execution_count": 113,
   "id": "e93f4c42",
   "metadata": {},
   "outputs": [],
   "source": [
    "def get_terrace_rate(terrace):\n",
    "    if terrace == 'нет':\n",
    "        return 0\n",
    "    elif terrace == 'балкон':\n",
    "        return 1\n",
    "    else:\n",
    "        return 2"
   ]
  },
  {
   "cell_type": "code",
   "execution_count": 114,
   "id": "0ca6be05",
   "metadata": {},
   "outputs": [],
   "source": [
    "df['terrace rate'] = np.array([get_terrace_rate(df['terrace'][i]) for i in range(len(df))])"
   ]
  },
  {
   "cell_type": "markdown",
   "id": "bfcbbff1",
   "metadata": {},
   "source": [
    "## Год конструкции"
   ]
  },
  {
   "cell_type": "code",
   "execution_count": 115,
   "id": "278960d2",
   "metadata": {},
   "outputs": [],
   "source": [
    "df['age'] = 2021 - df['year of construction']"
   ]
  },
  {
   "cell_type": "markdown",
   "id": "a80571f2",
   "metadata": {},
   "source": [
    "# Сохранение"
   ]
  },
  {
   "cell_type": "code",
   "execution_count": 116,
   "id": "69a6d3ad",
   "metadata": {},
   "outputs": [
    {
     "name": "stdout",
     "output_type": "stream",
     "text": [
      "<class 'pandas.core.frame.DataFrame'>\n",
      "RangeIndex: 925 entries, 0 to 924\n",
      "Data columns (total 23 columns):\n",
      " #   Column                Non-Null Count  Dtype  \n",
      "---  ------                --------------  -----  \n",
      " 0   number of rooms       925 non-null    int64  \n",
      " 1   area of apartment     925 non-null    float64\n",
      " 2   number of floors      925 non-null    int64  \n",
      " 3   apartment floor       925 non-null    int64  \n",
      " 4   price                 925 non-null    float64\n",
      " 5   repair                925 non-null    object \n",
      " 6   bathroom              925 non-null    object \n",
      " 7   terrace               925 non-null    object \n",
      " 8   year of construction  925 non-null    int64  \n",
      " 9   elevator              925 non-null    int64  \n",
      " 10  garbage chute         925 non-null    int64  \n",
      " 11  type of house         925 non-null    object \n",
      " 12  district              925 non-null    object \n",
      " 13  street                925 non-null    object \n",
      " 14  concierge             925 non-null    int64  \n",
      " 15  distance              925 non-null    float64\n",
      " 16  price for metre       925 non-null    float64\n",
      " 17  district population   925 non-null    int32  \n",
      " 18  green rate            925 non-null    int32  \n",
      " 19  repair rate           925 non-null    int32  \n",
      " 20  bathroom rate         925 non-null    int32  \n",
      " 21  terrace rate          925 non-null    int32  \n",
      " 22  age                   925 non-null    int64  \n",
      "dtypes: float64(4), int32(5), int64(8), object(6)\n",
      "memory usage: 148.3+ KB\n"
     ]
    }
   ],
   "source": [
    "df.info()"
   ]
  },
  {
   "cell_type": "code",
   "execution_count": 117,
   "id": "c9dda9e9",
   "metadata": {},
   "outputs": [],
   "source": [
    "df.to_csv('data_with_new_features.csv', sep=';', index=False)"
   ]
  }
 ],
 "metadata": {
  "kernelspec": {
   "display_name": "Python 3",
   "language": "python",
   "name": "python3"
  },
  "language_info": {
   "codemirror_mode": {
    "name": "ipython",
    "version": 3
   },
   "file_extension": ".py",
   "mimetype": "text/x-python",
   "name": "python",
   "nbconvert_exporter": "python",
   "pygments_lexer": "ipython3",
   "version": "3.9.5"
  }
 },
 "nbformat": 4,
 "nbformat_minor": 5
}
