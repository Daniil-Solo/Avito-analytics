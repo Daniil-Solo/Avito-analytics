{
 "cells": [
  {
   "cell_type": "code",
   "execution_count": 217,
   "id": "afb9cc32",
   "metadata": {},
   "outputs": [],
   "source": [
    "import pandas as pd"
   ]
  },
  {
   "cell_type": "code",
   "execution_count": 218,
   "id": "022a8639",
   "metadata": {},
   "outputs": [],
   "source": [
    "df = pd.read_csv('data.csv', sep=';')"
   ]
  },
  {
   "cell_type": "code",
   "execution_count": 219,
   "id": "bad11261",
   "metadata": {},
   "outputs": [
    {
     "name": "stdout",
     "output_type": "stream",
     "text": [
      "<class 'pandas.core.frame.DataFrame'>\n",
      "RangeIndex: 5564 entries, 0 to 5563\n",
      "Data columns (total 16 columns):\n",
      " #   Column                 Non-Null Count  Dtype  \n",
      "---  ------                 --------------  -----  \n",
      " 0   physical address       5546 non-null   object \n",
      " 1   number of rooms        5551 non-null   object \n",
      " 2   area of apartment      5551 non-null   object \n",
      " 3   number of floors       5551 non-null   object \n",
      " 4   apartment floor        5551 non-null   float64\n",
      " 5   price                  5551 non-null   float64\n",
      " 6   link                   5564 non-null   object \n",
      " 7   repair                 2662 non-null   object \n",
      " 8   bathroom               4215 non-null   object \n",
      " 9   view from the windows  3962 non-null   object \n",
      " 10  terrace                5340 non-null   object \n",
      " 11  year of construction   2527 non-null   object \n",
      " 12  elevator               3508 non-null   float64\n",
      " 13  garbage chute          2326 non-null   object \n",
      " 14  type of house          5551 non-null   object \n",
      " 15  parking                3769 non-null   object \n",
      "dtypes: float64(3), object(13)\n",
      "memory usage: 695.6+ KB\n"
     ]
    }
   ],
   "source": [
    "df.info()"
   ]
  },
  {
   "cell_type": "markdown",
   "id": "f77f76c8",
   "metadata": {},
   "source": [
    "## Удаляем записи с пропусками"
   ]
  },
  {
   "cell_type": "code",
   "execution_count": 220,
   "id": "d970b038",
   "metadata": {},
   "outputs": [
    {
     "name": "stdout",
     "output_type": "stream",
     "text": [
      "2527\n"
     ]
    }
   ],
   "source": [
    "new_df = df[df['year of construction'].isna() == False]\n",
    "print(len(new_df))"
   ]
  },
  {
   "cell_type": "code",
   "execution_count": 221,
   "id": "8106d221",
   "metadata": {},
   "outputs": [
    {
     "name": "stdout",
     "output_type": "stream",
     "text": [
      "<class 'pandas.core.frame.DataFrame'>\n",
      "Int64Index: 2527 entries, 0 to 5563\n",
      "Data columns (total 16 columns):\n",
      " #   Column                 Non-Null Count  Dtype  \n",
      "---  ------                 --------------  -----  \n",
      " 0   physical address       2525 non-null   object \n",
      " 1   number of rooms        2527 non-null   object \n",
      " 2   area of apartment      2527 non-null   object \n",
      " 3   number of floors       2527 non-null   object \n",
      " 4   apartment floor        2527 non-null   float64\n",
      " 5   price                  2527 non-null   float64\n",
      " 6   link                   2527 non-null   object \n",
      " 7   repair                 1995 non-null   object \n",
      " 8   bathroom               2302 non-null   object \n",
      " 9   view from the windows  2152 non-null   object \n",
      " 10  terrace                2524 non-null   object \n",
      " 11  year of construction   2527 non-null   object \n",
      " 12  elevator               1965 non-null   float64\n",
      " 13  garbage chute          1722 non-null   object \n",
      " 14  type of house          2527 non-null   object \n",
      " 15  parking                2068 non-null   object \n",
      "dtypes: float64(3), object(13)\n",
      "memory usage: 335.6+ KB\n"
     ]
    }
   ],
   "source": [
    "new_df.info()"
   ]
  },
  {
   "cell_type": "code",
   "execution_count": 222,
   "id": "a8a9fa44",
   "metadata": {},
   "outputs": [
    {
     "name": "stdout",
     "output_type": "stream",
     "text": [
      "1722\n"
     ]
    }
   ],
   "source": [
    "new_df = new_df[new_df['garbage chute'].isna() == False]\n",
    "print(len(new_df))"
   ]
  },
  {
   "cell_type": "code",
   "execution_count": 223,
   "id": "89e5d302",
   "metadata": {},
   "outputs": [
    {
     "name": "stdout",
     "output_type": "stream",
     "text": [
      "<class 'pandas.core.frame.DataFrame'>\n",
      "Int64Index: 1722 entries, 0 to 5559\n",
      "Data columns (total 16 columns):\n",
      " #   Column                 Non-Null Count  Dtype  \n",
      "---  ------                 --------------  -----  \n",
      " 0   physical address       1720 non-null   object \n",
      " 1   number of rooms        1722 non-null   object \n",
      " 2   area of apartment      1722 non-null   object \n",
      " 3   number of floors       1722 non-null   object \n",
      " 4   apartment floor        1722 non-null   float64\n",
      " 5   price                  1722 non-null   float64\n",
      " 6   link                   1722 non-null   object \n",
      " 7   repair                 1410 non-null   object \n",
      " 8   bathroom               1615 non-null   object \n",
      " 9   view from the windows  1534 non-null   object \n",
      " 10  terrace                1722 non-null   object \n",
      " 11  year of construction   1722 non-null   object \n",
      " 12  elevator               1419 non-null   float64\n",
      " 13  garbage chute          1722 non-null   object \n",
      " 14  type of house          1722 non-null   object \n",
      " 15  parking                1514 non-null   object \n",
      "dtypes: float64(3), object(13)\n",
      "memory usage: 228.7+ KB\n"
     ]
    }
   ],
   "source": [
    "new_df.info()"
   ]
  },
  {
   "cell_type": "code",
   "execution_count": 224,
   "id": "9e4e158e",
   "metadata": {},
   "outputs": [
    {
     "name": "stdout",
     "output_type": "stream",
     "text": [
      "1410\n"
     ]
    }
   ],
   "source": [
    "new_df = new_df[new_df['repair'].isna() == False]\n",
    "print(len(new_df))"
   ]
  },
  {
   "cell_type": "code",
   "execution_count": 225,
   "id": "9a6662a3",
   "metadata": {},
   "outputs": [
    {
     "name": "stdout",
     "output_type": "stream",
     "text": [
      "<class 'pandas.core.frame.DataFrame'>\n",
      "Int64Index: 1410 entries, 0 to 5559\n",
      "Data columns (total 16 columns):\n",
      " #   Column                 Non-Null Count  Dtype  \n",
      "---  ------                 --------------  -----  \n",
      " 0   physical address       1409 non-null   object \n",
      " 1   number of rooms        1410 non-null   object \n",
      " 2   area of apartment      1410 non-null   object \n",
      " 3   number of floors       1410 non-null   object \n",
      " 4   apartment floor        1410 non-null   float64\n",
      " 5   price                  1410 non-null   float64\n",
      " 6   link                   1410 non-null   object \n",
      " 7   repair                 1410 non-null   object \n",
      " 8   bathroom               1381 non-null   object \n",
      " 9   view from the windows  1299 non-null   object \n",
      " 10  terrace                1410 non-null   object \n",
      " 11  year of construction   1410 non-null   object \n",
      " 12  elevator               1182 non-null   float64\n",
      " 13  garbage chute          1410 non-null   object \n",
      " 14  type of house          1410 non-null   object \n",
      " 15  parking                1261 non-null   object \n",
      "dtypes: float64(3), object(13)\n",
      "memory usage: 187.3+ KB\n"
     ]
    }
   ],
   "source": [
    "new_df.info()"
   ]
  },
  {
   "cell_type": "code",
   "execution_count": 226,
   "id": "6737b78d",
   "metadata": {},
   "outputs": [
    {
     "name": "stdout",
     "output_type": "stream",
     "text": [
      "1381\n"
     ]
    }
   ],
   "source": [
    "new_df = new_df[new_df['bathroom'].isna() == False]\n",
    "print(len(new_df))"
   ]
  },
  {
   "cell_type": "code",
   "execution_count": 227,
   "id": "59c254a6",
   "metadata": {},
   "outputs": [
    {
     "name": "stdout",
     "output_type": "stream",
     "text": [
      "<class 'pandas.core.frame.DataFrame'>\n",
      "Int64Index: 1381 entries, 0 to 5559\n",
      "Data columns (total 16 columns):\n",
      " #   Column                 Non-Null Count  Dtype  \n",
      "---  ------                 --------------  -----  \n",
      " 0   physical address       1380 non-null   object \n",
      " 1   number of rooms        1381 non-null   object \n",
      " 2   area of apartment      1381 non-null   object \n",
      " 3   number of floors       1381 non-null   object \n",
      " 4   apartment floor        1381 non-null   float64\n",
      " 5   price                  1381 non-null   float64\n",
      " 6   link                   1381 non-null   object \n",
      " 7   repair                 1381 non-null   object \n",
      " 8   bathroom               1381 non-null   object \n",
      " 9   view from the windows  1274 non-null   object \n",
      " 10  terrace                1381 non-null   object \n",
      " 11  year of construction   1381 non-null   object \n",
      " 12  elevator               1156 non-null   float64\n",
      " 13  garbage chute          1381 non-null   object \n",
      " 14  type of house          1381 non-null   object \n",
      " 15  parking                1239 non-null   object \n",
      "dtypes: float64(3), object(13)\n",
      "memory usage: 183.4+ KB\n"
     ]
    }
   ],
   "source": [
    "new_df.info()"
   ]
  },
  {
   "cell_type": "code",
   "execution_count": 228,
   "id": "0d41c273",
   "metadata": {},
   "outputs": [
    {
     "name": "stdout",
     "output_type": "stream",
     "text": [
      "1156\n"
     ]
    }
   ],
   "source": [
    "new_df = new_df[new_df['elevator'].isna() == False]\n",
    "print(len(new_df))"
   ]
  },
  {
   "cell_type": "code",
   "execution_count": 229,
   "id": "05247ce6",
   "metadata": {},
   "outputs": [
    {
     "name": "stdout",
     "output_type": "stream",
     "text": [
      "<class 'pandas.core.frame.DataFrame'>\n",
      "Int64Index: 1156 entries, 0 to 5558\n",
      "Data columns (total 16 columns):\n",
      " #   Column                 Non-Null Count  Dtype  \n",
      "---  ------                 --------------  -----  \n",
      " 0   physical address       1155 non-null   object \n",
      " 1   number of rooms        1156 non-null   object \n",
      " 2   area of apartment      1156 non-null   object \n",
      " 3   number of floors       1156 non-null   object \n",
      " 4   apartment floor        1156 non-null   float64\n",
      " 5   price                  1156 non-null   float64\n",
      " 6   link                   1156 non-null   object \n",
      " 7   repair                 1156 non-null   object \n",
      " 8   bathroom               1156 non-null   object \n",
      " 9   view from the windows  1080 non-null   object \n",
      " 10  terrace                1156 non-null   object \n",
      " 11  year of construction   1156 non-null   object \n",
      " 12  elevator               1156 non-null   float64\n",
      " 13  garbage chute          1156 non-null   object \n",
      " 14  type of house          1156 non-null   object \n",
      " 15  parking                1048 non-null   object \n",
      "dtypes: float64(3), object(13)\n",
      "memory usage: 153.5+ KB\n"
     ]
    }
   ],
   "source": [
    "new_df.info()"
   ]
  },
  {
   "cell_type": "code",
   "execution_count": 230,
   "id": "cce7fd46",
   "metadata": {},
   "outputs": [],
   "source": [
    "new_df = new_df.drop('view from the windows', axis=1)\n",
    "new_df = new_df.drop('link', axis=1)"
   ]
  },
  {
   "cell_type": "code",
   "execution_count": 231,
   "id": "cbd31cc0",
   "metadata": {},
   "outputs": [
    {
     "name": "stdout",
     "output_type": "stream",
     "text": [
      "<class 'pandas.core.frame.DataFrame'>\n",
      "Int64Index: 1156 entries, 0 to 5558\n",
      "Data columns (total 14 columns):\n",
      " #   Column                Non-Null Count  Dtype  \n",
      "---  ------                --------------  -----  \n",
      " 0   physical address      1155 non-null   object \n",
      " 1   number of rooms       1156 non-null   object \n",
      " 2   area of apartment     1156 non-null   object \n",
      " 3   number of floors      1156 non-null   object \n",
      " 4   apartment floor       1156 non-null   float64\n",
      " 5   price                 1156 non-null   float64\n",
      " 6   repair                1156 non-null   object \n",
      " 7   bathroom              1156 non-null   object \n",
      " 8   terrace               1156 non-null   object \n",
      " 9   year of construction  1156 non-null   object \n",
      " 10  elevator              1156 non-null   float64\n",
      " 11  garbage chute         1156 non-null   object \n",
      " 12  type of house         1156 non-null   object \n",
      " 13  parking               1048 non-null   object \n",
      "dtypes: float64(3), object(11)\n",
      "memory usage: 135.5+ KB\n"
     ]
    }
   ],
   "source": [
    "new_df.info()"
   ]
  },
  {
   "cell_type": "code",
   "execution_count": 232,
   "id": "02fd386c",
   "metadata": {},
   "outputs": [
    {
     "name": "stdout",
     "output_type": "stream",
     "text": [
      "1155\n"
     ]
    }
   ],
   "source": [
    "new_df = new_df[new_df['physical address'].isna() == False]\n",
    "print(len(new_df))"
   ]
  },
  {
   "cell_type": "code",
   "execution_count": 233,
   "id": "dda25642",
   "metadata": {},
   "outputs": [
    {
     "name": "stdout",
     "output_type": "stream",
     "text": [
      "<class 'pandas.core.frame.DataFrame'>\n",
      "Int64Index: 1155 entries, 0 to 5558\n",
      "Data columns (total 14 columns):\n",
      " #   Column                Non-Null Count  Dtype  \n",
      "---  ------                --------------  -----  \n",
      " 0   physical address      1155 non-null   object \n",
      " 1   number of rooms       1155 non-null   object \n",
      " 2   area of apartment     1155 non-null   object \n",
      " 3   number of floors      1155 non-null   object \n",
      " 4   apartment floor       1155 non-null   float64\n",
      " 5   price                 1155 non-null   float64\n",
      " 6   repair                1155 non-null   object \n",
      " 7   bathroom              1155 non-null   object \n",
      " 8   terrace               1155 non-null   object \n",
      " 9   year of construction  1155 non-null   object \n",
      " 10  elevator              1155 non-null   float64\n",
      " 11  garbage chute         1155 non-null   object \n",
      " 12  type of house         1155 non-null   object \n",
      " 13  parking               1047 non-null   object \n",
      "dtypes: float64(3), object(11)\n",
      "memory usage: 135.4+ KB\n"
     ]
    }
   ],
   "source": [
    "new_df.info()"
   ]
  },
  {
   "cell_type": "markdown",
   "id": "21e3817d",
   "metadata": {},
   "source": [
    "## Корректируем атрибуты"
   ]
  },
  {
   "cell_type": "markdown",
   "id": "bf353706",
   "metadata": {},
   "source": [
    "physical address"
   ]
  },
  {
   "cell_type": "code",
   "execution_count": 234,
   "id": "0ec47a9b",
   "metadata": {},
   "outputs": [],
   "source": [
    "import re\n",
    "import numpy as np"
   ]
  },
  {
   "cell_type": "code",
   "execution_count": 235,
   "id": "ff596c08",
   "metadata": {},
   "outputs": [],
   "source": [
    "def get_district(address):\n",
    "    result = re.search('р-н [а-яА-Я]+', address)\n",
    "    if result is None:\n",
    "        return None\n",
    "    else:\n",
    "        return result[0]"
   ]
  },
  {
   "cell_type": "code",
   "execution_count": 236,
   "id": "1bb6fd67",
   "metadata": {},
   "outputs": [],
   "source": [
    "new_df['district'] = np.array([get_district(item) for item in  new_df['physical address'].values])"
   ]
  },
  {
   "cell_type": "code",
   "execution_count": 237,
   "id": "33b3a38f",
   "metadata": {},
   "outputs": [],
   "source": [
    "new_df = new_df[new_df['district'].isnull()==False]"
   ]
  },
  {
   "cell_type": "code",
   "execution_count": 238,
   "id": "744d28c5",
   "metadata": {},
   "outputs": [],
   "source": [
    "new_df = new_df.drop('physical address', axis=1)"
   ]
  },
  {
   "cell_type": "code",
   "execution_count": 239,
   "id": "f33aa2fb",
   "metadata": {},
   "outputs": [
    {
     "data": {
      "text/plain": [
       "array(['р-н Индустриальный', 'р-н Свердловский', 'р-н Мотовилихинский',\n",
       "       'р-н Орджоникидзевский', 'р-н Дзержинский', 'р-н Кировский',\n",
       "       'р-н Ленинский'], dtype=object)"
      ]
     },
     "execution_count": 239,
     "metadata": {},
     "output_type": "execute_result"
    }
   ],
   "source": [
    "new_df['district'].unique()"
   ]
  },
  {
   "cell_type": "markdown",
   "id": "cf806f1e",
   "metadata": {},
   "source": [
    "number of rooms"
   ]
  },
  {
   "cell_type": "code",
   "execution_count": 240,
   "id": "f8f3d54b",
   "metadata": {},
   "outputs": [
    {
     "data": {
      "text/plain": [
       "array(['3', '1', '2', 'студия', '4', '5', 'своб. планировка'],\n",
       "      dtype=object)"
      ]
     },
     "execution_count": 240,
     "metadata": {},
     "output_type": "execute_result"
    }
   ],
   "source": [
    "new_df['number of rooms'].unique()"
   ]
  },
  {
   "cell_type": "code",
   "execution_count": 241,
   "id": "876907c5",
   "metadata": {},
   "outputs": [],
   "source": [
    "def get_number(string):\n",
    "    if string == 'студия' or string == 'своб. планировка':\n",
    "        return 1\n",
    "    else:\n",
    "        return int(string)"
   ]
  },
  {
   "cell_type": "code",
   "execution_count": 242,
   "id": "34567b8f",
   "metadata": {},
   "outputs": [],
   "source": [
    "new_df['number of rooms'] = np.array([get_number(item) for item in new_df['number of rooms'].values])"
   ]
  },
  {
   "cell_type": "code",
   "execution_count": 243,
   "id": "79e0d240",
   "metadata": {},
   "outputs": [
    {
     "data": {
      "text/plain": [
       "array([3, 1, 2, 4, 5])"
      ]
     },
     "execution_count": 243,
     "metadata": {},
     "output_type": "execute_result"
    }
   ],
   "source": [
    "new_df['number of rooms'].unique()"
   ]
  },
  {
   "cell_type": "markdown",
   "id": "8b979fac",
   "metadata": {},
   "source": [
    "area of apartment"
   ]
  },
  {
   "cell_type": "code",
   "execution_count": 244,
   "id": "cb78cf96",
   "metadata": {},
   "outputs": [],
   "source": [
    "new_df['area of apartment'] = np.array([float(item[:3]) for item in new_df['area of apartment'].values])"
   ]
  },
  {
   "cell_type": "code",
   "execution_count": 245,
   "id": "66bb1b37",
   "metadata": {},
   "outputs": [
    {
     "data": {
      "text/plain": [
       "0       61.0\n",
       "14      31.0\n",
       "18      89.0\n",
       "39      84.0\n",
       "41      64.0\n",
       "        ... \n",
       "5448    66.0\n",
       "5469    62.0\n",
       "5472    94.0\n",
       "5515    60.0\n",
       "5558    63.0\n",
       "Name: area of apartment, Length: 1143, dtype: float64"
      ]
     },
     "execution_count": 245,
     "metadata": {},
     "output_type": "execute_result"
    }
   ],
   "source": [
    "new_df['area of apartment']"
   ]
  },
  {
   "cell_type": "markdown",
   "id": "eaf1126a",
   "metadata": {},
   "source": [
    "number of floors"
   ]
  },
  {
   "cell_type": "code",
   "execution_count": 246,
   "id": "3bf5d027",
   "metadata": {},
   "outputs": [],
   "source": [
    "new_df['number of floors'] = np.array([int(re.findall('[\\d]+', x)[0]) for x in new_df['number of floors'].values])"
   ]
  },
  {
   "cell_type": "code",
   "execution_count": 247,
   "id": "e51ace4b",
   "metadata": {},
   "outputs": [
    {
     "data": {
      "text/plain": [
       "0        5\n",
       "14       2\n",
       "18      25\n",
       "39       6\n",
       "41      10\n",
       "        ..\n",
       "5448    10\n",
       "5469    25\n",
       "5472    25\n",
       "5515     5\n",
       "5558    10\n",
       "Name: number of floors, Length: 1143, dtype: int32"
      ]
     },
     "execution_count": 247,
     "metadata": {},
     "output_type": "execute_result"
    }
   ],
   "source": [
    "new_df['number of floors']"
   ]
  },
  {
   "cell_type": "markdown",
   "id": "76ed0b56",
   "metadata": {},
   "source": [
    "apartment floor"
   ]
  },
  {
   "cell_type": "code",
   "execution_count": 248,
   "id": "0d64025b",
   "metadata": {},
   "outputs": [],
   "source": [
    "new_df['apartment floor'] = new_df['apartment floor'].astype(int)"
   ]
  },
  {
   "cell_type": "code",
   "execution_count": 249,
   "id": "6b18824d",
   "metadata": {},
   "outputs": [
    {
     "data": {
      "text/plain": [
       "0        1\n",
       "14       1\n",
       "18       3\n",
       "39       6\n",
       "41       6\n",
       "        ..\n",
       "5448     8\n",
       "5469    18\n",
       "5472    22\n",
       "5515     2\n",
       "5558     4\n",
       "Name: apartment floor, Length: 1143, dtype: int32"
      ]
     },
     "execution_count": 249,
     "metadata": {},
     "output_type": "execute_result"
    }
   ],
   "source": [
    "new_df['apartment floor']"
   ]
  },
  {
   "cell_type": "markdown",
   "id": "b83893f9",
   "metadata": {},
   "source": [
    "price                 "
   ]
  },
  {
   "cell_type": "code",
   "execution_count": 250,
   "id": "3ba5f83c",
   "metadata": {},
   "outputs": [
    {
     "data": {
      "text/plain": [
       "0       3200000.0\n",
       "14      1500000.0\n",
       "18      6990000.0\n",
       "39      6300000.0\n",
       "41      4350000.0\n",
       "          ...    \n",
       "5448    4599000.0\n",
       "5469    5750000.0\n",
       "5472    7990000.0\n",
       "5515    3680000.0\n",
       "5558    4980000.0\n",
       "Name: price, Length: 1143, dtype: float64"
      ]
     },
     "execution_count": 250,
     "metadata": {},
     "output_type": "execute_result"
    }
   ],
   "source": [
    "new_df['price']                 "
   ]
  },
  {
   "cell_type": "markdown",
   "id": "cfa2feb8",
   "metadata": {},
   "source": [
    "repair"
   ]
  },
  {
   "cell_type": "code",
   "execution_count": 251,
   "id": "48c1c473",
   "metadata": {},
   "outputs": [
    {
     "data": {
      "text/plain": [
       "0         косметический\n",
       "14        косметический\n",
       "18                 евро\n",
       "39        косметический\n",
       "41        косметический\n",
       "             ...       \n",
       "5448    требует ремонта\n",
       "5469               евро\n",
       "5472       дизайнерский\n",
       "5515    требует ремонта\n",
       "5558      косметический\n",
       "Name: repair, Length: 1143, dtype: object"
      ]
     },
     "execution_count": 251,
     "metadata": {},
     "output_type": "execute_result"
    }
   ],
   "source": [
    "new_df['repair']                 "
   ]
  },
  {
   "cell_type": "code",
   "execution_count": 252,
   "id": "ecbf3031",
   "metadata": {},
   "outputs": [
    {
     "data": {
      "text/plain": [
       "array(['косметический', 'евро', 'требует ремонта', 'дизайнерский'],\n",
       "      dtype=object)"
      ]
     },
     "execution_count": 252,
     "metadata": {},
     "output_type": "execute_result"
    }
   ],
   "source": [
    "new_df['repair'].unique()"
   ]
  },
  {
   "cell_type": "markdown",
   "id": "58c4e103",
   "metadata": {},
   "source": [
    "bathroom"
   ]
  },
  {
   "cell_type": "code",
   "execution_count": 253,
   "id": "a161844d",
   "metadata": {},
   "outputs": [
    {
     "data": {
      "text/plain": [
       "0        раздельный\n",
       "14      совмещенный\n",
       "18       раздельный\n",
       "39        несколько\n",
       "41       раздельный\n",
       "           ...     \n",
       "5448     раздельный\n",
       "5469    совмещенный\n",
       "5472      несколько\n",
       "5515     раздельный\n",
       "5558     раздельный\n",
       "Name: bathroom, Length: 1143, dtype: object"
      ]
     },
     "execution_count": 253,
     "metadata": {},
     "output_type": "execute_result"
    }
   ],
   "source": [
    "new_df['bathroom']                 "
   ]
  },
  {
   "cell_type": "code",
   "execution_count": 254,
   "id": "f41fc966",
   "metadata": {},
   "outputs": [
    {
     "data": {
      "text/plain": [
       "array(['раздельный', 'совмещенный', 'несколько'], dtype=object)"
      ]
     },
     "execution_count": 254,
     "metadata": {},
     "output_type": "execute_result"
    }
   ],
   "source": [
    "new_df['bathroom'].unique()"
   ]
  },
  {
   "cell_type": "markdown",
   "id": "60071c18",
   "metadata": {},
   "source": [
    "terrace"
   ]
  },
  {
   "cell_type": "code",
   "execution_count": 255,
   "id": "22296bd5",
   "metadata": {},
   "outputs": [
    {
     "data": {
      "text/plain": [
       "0       балкон\n",
       "14         нет\n",
       "18      лоджия\n",
       "39      балкон\n",
       "41      балкон\n",
       "         ...  \n",
       "5448    балкон\n",
       "5469    балкон\n",
       "5472    балкон\n",
       "5515    балкон\n",
       "5558    лоджия\n",
       "Name: terrace, Length: 1143, dtype: object"
      ]
     },
     "execution_count": 255,
     "metadata": {},
     "output_type": "execute_result"
    }
   ],
   "source": [
    "new_df['terrace']                 "
   ]
  },
  {
   "cell_type": "code",
   "execution_count": 256,
   "id": "f979463f",
   "metadata": {},
   "outputs": [
    {
     "data": {
      "text/plain": [
       "array(['балкон', 'нет', 'лоджия'], dtype=object)"
      ]
     },
     "execution_count": 256,
     "metadata": {},
     "output_type": "execute_result"
    }
   ],
   "source": [
    "new_df['terrace'].unique()"
   ]
  },
  {
   "cell_type": "markdown",
   "id": "4a497648",
   "metadata": {},
   "source": [
    "year of construction"
   ]
  },
  {
   "cell_type": "code",
   "execution_count": 257,
   "id": "14e89348",
   "metadata": {},
   "outputs": [
    {
     "data": {
      "text/plain": [
       "0       1972\n",
       "14      1957\n",
       "18      2010\n",
       "39      2016\n",
       "41      1993\n",
       "        ... \n",
       "5448    1990\n",
       "5469    2010\n",
       "5472    2012\n",
       "5515    1974\n",
       "5558    1988\n",
       "Name: year of construction, Length: 1143, dtype: object"
      ]
     },
     "execution_count": 257,
     "metadata": {},
     "output_type": "execute_result"
    }
   ],
   "source": [
    "new_df['year of construction']"
   ]
  },
  {
   "cell_type": "code",
   "execution_count": 258,
   "id": "8987bc0b",
   "metadata": {},
   "outputs": [
    {
     "data": {
      "text/plain": [
       "array(['1972', '1957', '2010', '2016', '1993', '2017', '1978', '1962',\n",
       "       '2012', '1996', '1987', '1953', '1980', '1986', '2009', '2019',\n",
       "       '2007', '21', '2018', '1961', '1966', '1965', '1974', '1984',\n",
       "       '1983', '1954', '2005', '2013', '2011', '2003', '1967', '1991',\n",
       "       '2014', '2020', '1950', '1969', '1979', '1975', '1963', '1981',\n",
       "       '1990', '2021', '1992', '2008', '1989', '1985', '1973', '1971',\n",
       "       '2001', '1976', '1998', '1960', '1982', '1977', '2000', '1959',\n",
       "       '1970', '1988', '1999', '1958', '1994', '1964', '1956', '2006',\n",
       "       '1997', '1995', '2004', '2015', '2002', '1968', '1946', '1929',\n",
       "       '78'], dtype=object)"
      ]
     },
     "execution_count": 258,
     "metadata": {},
     "output_type": "execute_result"
    }
   ],
   "source": [
    "new_df['year of construction'].unique()"
   ]
  },
  {
   "cell_type": "code",
   "execution_count": 259,
   "id": "fa38047f",
   "metadata": {},
   "outputs": [],
   "source": [
    "def year(y):\n",
    "    y = int(y)\n",
    "    if y < 100:\n",
    "        if y > 50:\n",
    "            return 1900 + y\n",
    "        else:\n",
    "            return 2000 + y\n",
    "    else:\n",
    "        return y"
   ]
  },
  {
   "cell_type": "code",
   "execution_count": 260,
   "id": "89af8703",
   "metadata": {},
   "outputs": [],
   "source": [
    "new_df['year of construction'] = np.array([year(item) for item in new_df['year of construction'].values])"
   ]
  },
  {
   "cell_type": "code",
   "execution_count": 261,
   "id": "2760b548",
   "metadata": {},
   "outputs": [
    {
     "data": {
      "text/plain": [
       "(True, True)"
      ]
     },
     "execution_count": 261,
     "metadata": {},
     "output_type": "execute_result"
    }
   ],
   "source": [
    "2021 in new_df['year of construction'].unique(), 2021 in new_df['year of construction'].unique()"
   ]
  },
  {
   "cell_type": "code",
   "execution_count": 262,
   "id": "97d29c23",
   "metadata": {},
   "outputs": [
    {
     "data": {
      "text/plain": [
       "array([1972, 1957, 2010, 2016, 1993, 2017, 1978, 1962, 2012, 1996, 1987,\n",
       "       1953, 1980, 1986, 2009, 2019, 2007, 2021, 2018, 1961, 1966, 1965,\n",
       "       1974, 1984, 1983, 1954, 2005, 2013, 2011, 2003, 1967, 1991, 2014,\n",
       "       2020, 1950, 1969, 1979, 1975, 1963, 1981, 1990, 1992, 2008, 1989,\n",
       "       1985, 1973, 1971, 2001, 1976, 1998, 1960, 1982, 1977, 2000, 1959,\n",
       "       1970, 1988, 1999, 1958, 1994, 1964, 1956, 2006, 1997, 1995, 2004,\n",
       "       2015, 2002, 1968, 1946, 1929])"
      ]
     },
     "execution_count": 262,
     "metadata": {},
     "output_type": "execute_result"
    }
   ],
   "source": [
    "new_df['year of construction'].unique()"
   ]
  },
  {
   "cell_type": "markdown",
   "id": "08e4dc90",
   "metadata": {},
   "source": [
    "elevator"
   ]
  },
  {
   "cell_type": "code",
   "execution_count": 263,
   "id": "78d74b82",
   "metadata": {},
   "outputs": [
    {
     "data": {
      "text/plain": [
       "array([0., 2., 1., 3., 4.])"
      ]
     },
     "execution_count": 263,
     "metadata": {},
     "output_type": "execute_result"
    }
   ],
   "source": [
    "new_df['elevator'].unique()"
   ]
  },
  {
   "cell_type": "code",
   "execution_count": 264,
   "id": "d8f19b10",
   "metadata": {},
   "outputs": [],
   "source": [
    "new_df['elevator'] = new_df['elevator'].astype(int)"
   ]
  },
  {
   "cell_type": "code",
   "execution_count": 265,
   "id": "b4e525f6",
   "metadata": {},
   "outputs": [
    {
     "data": {
      "text/plain": [
       "0       0\n",
       "14      0\n",
       "18      2\n",
       "39      1\n",
       "41      1\n",
       "       ..\n",
       "5448    1\n",
       "5469    2\n",
       "5472    2\n",
       "5515    0\n",
       "5558    1\n",
       "Name: elevator, Length: 1143, dtype: int32"
      ]
     },
     "execution_count": 265,
     "metadata": {},
     "output_type": "execute_result"
    }
   ],
   "source": [
    "new_df['elevator']"
   ]
  },
  {
   "cell_type": "markdown",
   "id": "8d3ba279",
   "metadata": {},
   "source": [
    "garbage chute"
   ]
  },
  {
   "cell_type": "code",
   "execution_count": 266,
   "id": "ed5b01ff",
   "metadata": {},
   "outputs": [
    {
     "data": {
      "text/plain": [
       "array(['газоснабжение', 'консьерж', 'консьерж, газоснабжение',\n",
       "       'мусоропровод, газоснабжение',\n",
       "       'консьерж, мусоропровод, газоснабжение', 'мусоропровод',\n",
       "       'консьерж, мусоропровод'], dtype=object)"
      ]
     },
     "execution_count": 266,
     "metadata": {},
     "output_type": "execute_result"
    }
   ],
   "source": [
    "new_df['garbage chute'].unique()"
   ]
  },
  {
   "cell_type": "code",
   "execution_count": 267,
   "id": "705b8a4b",
   "metadata": {},
   "outputs": [],
   "source": [
    "def get_garbage(text):\n",
    "    if 'мусоропровод' in text:\n",
    "        return 1\n",
    "    else:\n",
    "        return 0\n",
    "\n",
    "def get_concierge(text):\n",
    "    if 'консьерж' in text:\n",
    "        return 1\n",
    "    else:\n",
    "        return 0"
   ]
  },
  {
   "cell_type": "code",
   "execution_count": 268,
   "id": "eda1942b",
   "metadata": {},
   "outputs": [],
   "source": [
    "new_df['concierge'] = np.array([get_concierge(item) for item in new_df['garbage chute'].values])"
   ]
  },
  {
   "cell_type": "code",
   "execution_count": 269,
   "id": "8891a65d",
   "metadata": {},
   "outputs": [],
   "source": [
    "new_df['garbage chute'] = np.array([get_garbage(item) for item in new_df['garbage chute'].values])"
   ]
  },
  {
   "cell_type": "code",
   "execution_count": 270,
   "id": "1b63744c",
   "metadata": {},
   "outputs": [
    {
     "data": {
      "text/plain": [
       "0       0\n",
       "14      0\n",
       "18      1\n",
       "39      1\n",
       "41      0\n",
       "       ..\n",
       "5448    0\n",
       "5469    1\n",
       "5472    1\n",
       "5515    0\n",
       "5558    0\n",
       "Name: concierge, Length: 1143, dtype: int32"
      ]
     },
     "execution_count": 270,
     "metadata": {},
     "output_type": "execute_result"
    }
   ],
   "source": [
    "new_df['concierge'] "
   ]
  },
  {
   "cell_type": "code",
   "execution_count": 271,
   "id": "60093187",
   "metadata": {},
   "outputs": [
    {
     "data": {
      "text/plain": [
       "0       0\n",
       "14      0\n",
       "18      0\n",
       "39      0\n",
       "41      1\n",
       "       ..\n",
       "5448    1\n",
       "5469    0\n",
       "5472    0\n",
       "5515    0\n",
       "5558    0\n",
       "Name: garbage chute, Length: 1143, dtype: int32"
      ]
     },
     "execution_count": 271,
     "metadata": {},
     "output_type": "execute_result"
    }
   ],
   "source": [
    "new_df['garbage chute']"
   ]
  },
  {
   "cell_type": "markdown",
   "id": "df02c378",
   "metadata": {},
   "source": [
    "type of house"
   ]
  },
  {
   "cell_type": "code",
   "execution_count": 272,
   "id": "52514a88",
   "metadata": {},
   "outputs": [
    {
     "data": {
      "text/plain": [
       "array(['панельный', 'кирпичный', 'монолитный', 'блочный'], dtype=object)"
      ]
     },
     "execution_count": 272,
     "metadata": {},
     "output_type": "execute_result"
    }
   ],
   "source": [
    "new_df['type of house'].unique()"
   ]
  },
  {
   "cell_type": "markdown",
   "id": "42a6b87e",
   "metadata": {},
   "source": [
    "parking"
   ]
  },
  {
   "cell_type": "code",
   "execution_count": 273,
   "id": "793a4d88",
   "metadata": {},
   "outputs": [
    {
     "data": {
      "text/plain": [
       "array(['открытая во дворе', nan,\n",
       "       'наземная многоуровневая, за шлагбаумом во дворе',\n",
       "       'за шлагбаумом во дворе', 'подземная',\n",
       "       'наземная многоуровневая, открытая во дворе',\n",
       "       'подземная, за шлагбаумом во дворе',\n",
       "       'подземная, за шлагбаумом во дворе, открытая во дворе',\n",
       "       'подземная, наземная многоуровневая, открытая во дворе',\n",
       "       'за шлагбаумом во дворе, открытая во дворе',\n",
       "       'подземная, наземная многоуровневая, за шлагбаумом во дворе, открытая во дворе',\n",
       "       'подземная, открытая во дворе',\n",
       "       'наземная многоуровневая, за шлагбаумом во дворе, открытая во дворе',\n",
       "       'подземная, наземная многоуровневая, за шлагбаумом во дворе',\n",
       "       'наземная многоуровневая', 'подземная, наземная многоуровневая'],\n",
       "      dtype=object)"
      ]
     },
     "execution_count": 273,
     "metadata": {},
     "output_type": "execute_result"
    }
   ],
   "source": [
    "new_df['parking'].unique()"
   ]
  },
  {
   "cell_type": "code",
   "execution_count": 280,
   "id": "a52f1d4f",
   "metadata": {},
   "outputs": [],
   "source": [
    "copy_ndf = new_df.copy()"
   ]
  },
  {
   "cell_type": "code",
   "execution_count": 282,
   "id": "af6ae3de",
   "metadata": {},
   "outputs": [],
   "source": [
    "copy_ndf = copy_ndf[copy_ndf['parking'].isnull() == False]"
   ]
  },
  {
   "cell_type": "code",
   "execution_count": 283,
   "id": "3eea5b3e",
   "metadata": {},
   "outputs": [],
   "source": [
    "copy_ndf['n_parks'] = np.array([len(item.split(',')) for item in copy_ndf['parking'].values])"
   ]
  },
  {
   "cell_type": "code",
   "execution_count": 284,
   "id": "501d6ed2",
   "metadata": {},
   "outputs": [],
   "source": [
    "import matplotlib.pyplot as plt"
   ]
  },
  {
   "cell_type": "code",
   "execution_count": 285,
   "id": "1e0a429c",
   "metadata": {},
   "outputs": [
    {
     "data": {
      "text/plain": [
       "<matplotlib.collections.PathCollection at 0x29a3cc3c670>"
      ]
     },
     "execution_count": 285,
     "metadata": {},
     "output_type": "execute_result"
    },
    {
     "data": {
      "image/png": "[encoded data removed]",
      "text/plain": [
       "<Figure size 432x288 with 1 Axes>"
      ]
     },
     "metadata": {
      "needs_background": "light"
     },
     "output_type": "display_data"
    }
   ],
   "source": [
    "plt.scatter(copy_ndf['n_parks'], copy_ndf['price'])"
   ]
  },
  {
   "cell_type": "markdown",
   "id": "32695e76",
   "metadata": {},
   "source": [
    "Не влияет на цену"
   ]
  },
  {
   "cell_type": "code",
   "execution_count": 286,
   "id": "96bcda75",
   "metadata": {},
   "outputs": [],
   "source": [
    "new_df = new_df.drop('parking', axis=1)"
   ]
  },
  {
   "cell_type": "markdown",
   "id": "dc919e95",
   "metadata": {},
   "source": [
    "## Смотрим на обновленные данные"
   ]
  },
  {
   "cell_type": "code",
   "execution_count": 287,
   "id": "2228bddd",
   "metadata": {},
   "outputs": [
    {
     "name": "stdout",
     "output_type": "stream",
     "text": [
      "<class 'pandas.core.frame.DataFrame'>\n",
      "Int64Index: 1143 entries, 0 to 5558\n",
      "Data columns (total 14 columns):\n",
      " #   Column                Non-Null Count  Dtype  \n",
      "---  ------                --------------  -----  \n",
      " 0   number of rooms       1143 non-null   int32  \n",
      " 1   area of apartment     1143 non-null   float64\n",
      " 2   number of floors      1143 non-null   int32  \n",
      " 3   apartment floor       1143 non-null   int32  \n",
      " 4   price                 1143 non-null   float64\n",
      " 5   repair                1143 non-null   object \n",
      " 6   bathroom              1143 non-null   object \n",
      " 7   terrace               1143 non-null   object \n",
      " 8   year of construction  1143 non-null   int32  \n",
      " 9   elevator              1143 non-null   int32  \n",
      " 10  garbage chute         1143 non-null   int32  \n",
      " 11  type of house         1143 non-null   object \n",
      " 12  district              1143 non-null   object \n",
      " 13  concierge             1143 non-null   int32  \n",
      "dtypes: float64(2), int32(7), object(5)\n",
      "memory usage: 102.7+ KB\n"
     ]
    }
   ],
   "source": [
    "new_df.info()"
   ]
  },
  {
   "cell_type": "code",
   "execution_count": 288,
   "id": "5ac55adf",
   "metadata": {},
   "outputs": [
    {
     "data": {
      "text/html": [
       "<div>\n",
       "<style scoped>\n",
       "    .dataframe tbody tr th:only-of-type {\n",
       "        vertical-align: middle;\n",
       "    }\n",
       "\n",
       "    .dataframe tbody tr th {\n",
       "        vertical-align: top;\n",
       "    }\n",
       "\n",
       "    .dataframe thead th {\n",
       "        text-align: right;\n",
       "    }\n",
       "</style>\n",
       "<table border=\"1\" class=\"dataframe\">\n",
       "  <thead>\n",
       "    <tr style=\"text-align: right;\">\n",
       "      <th></th>\n",
       "      <th>number of rooms</th>\n",
       "      <th>area of apartment</th>\n",
       "      <th>number of floors</th>\n",
       "      <th>apartment floor</th>\n",
       "      <th>price</th>\n",
       "      <th>repair</th>\n",
       "      <th>bathroom</th>\n",
       "      <th>terrace</th>\n",
       "      <th>year of construction</th>\n",
       "      <th>elevator</th>\n",
       "      <th>garbage chute</th>\n",
       "      <th>type of house</th>\n",
       "      <th>district</th>\n",
       "      <th>concierge</th>\n",
       "    </tr>\n",
       "  </thead>\n",
       "  <tbody>\n",
       "    <tr>\n",
       "      <th>4649</th>\n",
       "      <td>3</td>\n",
       "      <td>70.0</td>\n",
       "      <td>10</td>\n",
       "      <td>3</td>\n",
       "      <td>4750000.0</td>\n",
       "      <td>косметический</td>\n",
       "      <td>раздельный</td>\n",
       "      <td>лоджия</td>\n",
       "      <td>1994</td>\n",
       "      <td>1</td>\n",
       "      <td>1</td>\n",
       "      <td>панельный</td>\n",
       "      <td>р-н Дзержинский</td>\n",
       "      <td>0</td>\n",
       "    </tr>\n",
       "    <tr>\n",
       "      <th>2671</th>\n",
       "      <td>4</td>\n",
       "      <td>86.0</td>\n",
       "      <td>10</td>\n",
       "      <td>8</td>\n",
       "      <td>5100000.0</td>\n",
       "      <td>косметический</td>\n",
       "      <td>раздельный</td>\n",
       "      <td>балкон</td>\n",
       "      <td>1990</td>\n",
       "      <td>1</td>\n",
       "      <td>1</td>\n",
       "      <td>панельный</td>\n",
       "      <td>р-н Мотовилихинский</td>\n",
       "      <td>0</td>\n",
       "    </tr>\n",
       "    <tr>\n",
       "      <th>185</th>\n",
       "      <td>2</td>\n",
       "      <td>42.0</td>\n",
       "      <td>5</td>\n",
       "      <td>3</td>\n",
       "      <td>3000000.0</td>\n",
       "      <td>косметический</td>\n",
       "      <td>совмещенный</td>\n",
       "      <td>балкон</td>\n",
       "      <td>1961</td>\n",
       "      <td>0</td>\n",
       "      <td>0</td>\n",
       "      <td>кирпичный</td>\n",
       "      <td>р-н Индустриальный</td>\n",
       "      <td>0</td>\n",
       "    </tr>\n",
       "    <tr>\n",
       "      <th>5469</th>\n",
       "      <td>2</td>\n",
       "      <td>62.0</td>\n",
       "      <td>25</td>\n",
       "      <td>18</td>\n",
       "      <td>5750000.0</td>\n",
       "      <td>евро</td>\n",
       "      <td>совмещенный</td>\n",
       "      <td>балкон</td>\n",
       "      <td>2010</td>\n",
       "      <td>2</td>\n",
       "      <td>0</td>\n",
       "      <td>монолитный</td>\n",
       "      <td>р-н Индустриальный</td>\n",
       "      <td>1</td>\n",
       "    </tr>\n",
       "    <tr>\n",
       "      <th>2167</th>\n",
       "      <td>1</td>\n",
       "      <td>30.0</td>\n",
       "      <td>5</td>\n",
       "      <td>5</td>\n",
       "      <td>1850000.0</td>\n",
       "      <td>косметический</td>\n",
       "      <td>совмещенный</td>\n",
       "      <td>нет</td>\n",
       "      <td>1968</td>\n",
       "      <td>0</td>\n",
       "      <td>0</td>\n",
       "      <td>кирпичный</td>\n",
       "      <td>р-н Кировский</td>\n",
       "      <td>0</td>\n",
       "    </tr>\n",
       "    <tr>\n",
       "      <th>1906</th>\n",
       "      <td>1</td>\n",
       "      <td>30.0</td>\n",
       "      <td>5</td>\n",
       "      <td>4</td>\n",
       "      <td>2350000.0</td>\n",
       "      <td>косметический</td>\n",
       "      <td>раздельный</td>\n",
       "      <td>балкон</td>\n",
       "      <td>1970</td>\n",
       "      <td>0</td>\n",
       "      <td>0</td>\n",
       "      <td>панельный</td>\n",
       "      <td>р-н Свердловский</td>\n",
       "      <td>0</td>\n",
       "    </tr>\n",
       "  </tbody>\n",
       "</table>\n",
       "</div>"
      ],
      "text/plain": [
       "      number of rooms  area of apartment  number of floors  apartment floor  \\\n",
       "4649                3               70.0                10                3   \n",
       "2671                4               86.0                10                8   \n",
       "185                 2               42.0                 5                3   \n",
       "5469                2               62.0                25               18   \n",
       "2167                1               30.0                 5                5   \n",
       "1906                1               30.0                 5                4   \n",
       "\n",
       "          price         repair     bathroom terrace  year of construction  \\\n",
       "4649  4750000.0  косметический   раздельный  лоджия                  1994   \n",
       "2671  5100000.0  косметический   раздельный  балкон                  1990   \n",
       "185   3000000.0  косметический  совмещенный  балкон                  1961   \n",
       "5469  5750000.0           евро  совмещенный  балкон                  2010   \n",
       "2167  1850000.0  косметический  совмещенный     нет                  1968   \n",
       "1906  2350000.0  косметический   раздельный  балкон                  1970   \n",
       "\n",
       "      elevator  garbage chute type of house             district  concierge  \n",
       "4649         1              1     панельный      р-н Дзержинский          0  \n",
       "2671         1              1     панельный  р-н Мотовилихинский          0  \n",
       "185          0              0     кирпичный   р-н Индустриальный          0  \n",
       "5469         2              0    монолитный   р-н Индустриальный          1  \n",
       "2167         0              0     кирпичный        р-н Кировский          0  \n",
       "1906         0              0     панельный     р-н Свердловский          0  "
      ]
     },
     "execution_count": 288,
     "metadata": {},
     "output_type": "execute_result"
    }
   ],
   "source": [
    "new_df.sample(6)"
   ]
  },
  {
   "cell_type": "markdown",
   "id": "639ff442",
   "metadata": {},
   "source": [
    "## Сохраняем"
   ]
  },
  {
   "cell_type": "code",
   "execution_count": 289,
   "id": "623fae77",
   "metadata": {},
   "outputs": [],
   "source": [
    "new_df.to_csv('processed_data.csv', sep=';', index=False)"
   ]
  },
  {
   "cell_type": "code",
   "execution_count": null,
   "id": "cd9d7a0c",
   "metadata": {},
   "outputs": [],
   "source": []
  }
 ],
 "metadata": {
  "kernelspec": {
   "display_name": "Python 3",
   "language": "python",
   "name": "python3"
  },
  "language_info": {
   "codemirror_mode": {
    "name": "ipython",
    "version": 3
   },
   "file_extension": ".py",
   "mimetype": "text/x-python",
   "name": "python",
   "nbconvert_exporter": "python",
   "pygments_lexer": "ipython3",
   "version": "3.9.5"
  }
 },
 "nbformat": 4,
 "nbformat_minor": 5
}
