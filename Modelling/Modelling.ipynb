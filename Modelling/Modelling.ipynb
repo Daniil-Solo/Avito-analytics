{
 "cells": [
  {
   "cell_type": "markdown",
   "id": "82c2ca12",
   "metadata": {},
   "source": [
    "# Primary Modelling"
   ]
  },
  {
   "cell_type": "code",
   "execution_count": 1,
   "id": "458ae626",
   "metadata": {},
   "outputs": [],
   "source": [
    "import pandas as pd\n",
    "import numpy as np"
   ]
  },
  {
   "cell_type": "code",
   "execution_count": 2,
   "id": "8e76ba42",
   "metadata": {},
   "outputs": [],
   "source": [
    "df = pd.read_csv('data_with_dists.csv', sep=';')"
   ]
  },
  {
   "cell_type": "code",
   "execution_count": 3,
   "id": "627e25d4",
   "metadata": {},
   "outputs": [
    {
     "name": "stdout",
     "output_type": "stream",
     "text": [
      "5900000.0\n"
     ]
    }
   ],
   "source": [
    "percentile_82 = np.percentile(df['price'], 82)\n",
    "print(percentile_82)"
   ]
  },
  {
   "cell_type": "code",
   "execution_count": 4,
   "id": "b0326a47",
   "metadata": {},
   "outputs": [],
   "source": [
    "df = df.drop('street', axis=1)\n",
    "df = df[df['price'] < percentile_82]"
   ]
  },
  {
   "cell_type": "code",
   "execution_count": 5,
   "id": "95275e5a",
   "metadata": {},
   "outputs": [],
   "source": [
    "df.index = range(len(df))"
   ]
  },
  {
   "cell_type": "code",
   "execution_count": 6,
   "id": "23059074",
   "metadata": {},
   "outputs": [
    {
     "name": "stdout",
     "output_type": "stream",
     "text": [
      "<class 'pandas.core.frame.DataFrame'>\n",
      "RangeIndex: 925 entries, 0 to 924\n",
      "Data columns (total 15 columns):\n",
      " #   Column                Non-Null Count  Dtype  \n",
      "---  ------                --------------  -----  \n",
      " 0   number of rooms       925 non-null    int64  \n",
      " 1   area of apartment     925 non-null    float64\n",
      " 2   number of floors      925 non-null    int64  \n",
      " 3   apartment floor       925 non-null    int64  \n",
      " 4   price                 925 non-null    float64\n",
      " 5   repair                925 non-null    object \n",
      " 6   bathroom              925 non-null    object \n",
      " 7   terrace               925 non-null    object \n",
      " 8   year of construction  925 non-null    int64  \n",
      " 9   elevator              925 non-null    int64  \n",
      " 10  garbage chute         925 non-null    int64  \n",
      " 11  type of house         925 non-null    object \n",
      " 12  district              925 non-null    object \n",
      " 13  concierge             925 non-null    int64  \n",
      " 14  distance              925 non-null    float64\n",
      "dtypes: float64(3), int64(7), object(5)\n",
      "memory usage: 108.5+ KB\n"
     ]
    }
   ],
   "source": [
    "df.info()"
   ]
  },
  {
   "cell_type": "markdown",
   "id": "1856a52c",
   "metadata": {},
   "source": [
    "## Подготовка категориальных признаков"
   ]
  },
  {
   "cell_type": "markdown",
   "id": "758fd904",
   "metadata": {},
   "source": [
    "### Разбиение на данные и целевую метку"
   ]
  },
  {
   "cell_type": "code",
   "execution_count": 7,
   "id": "94fd654e",
   "metadata": {},
   "outputs": [],
   "source": [
    "not_categorial_features = []\n",
    "for column in df.columns:\n",
    "    if df[column].dtype != 'object':\n",
    "        not_categorial_features.append(column)"
   ]
  },
  {
   "cell_type": "code",
   "execution_count": 8,
   "id": "928dfed1",
   "metadata": {},
   "outputs": [],
   "source": [
    "data = df[not_categorial_features].copy()"
   ]
  },
  {
   "cell_type": "markdown",
   "id": "59cd5546",
   "metadata": {},
   "source": [
    "### One-Hot-кодирование для категориальных признаков"
   ]
  },
  {
   "cell_type": "code",
   "execution_count": 9,
   "id": "a7ebfdf6",
   "metadata": {},
   "outputs": [],
   "source": [
    "from sklearn.preprocessing import OneHotEncoder\n",
    "\n",
    "def get_one_hot_df(df, column):\n",
    "    encoder = OneHotEncoder()\n",
    "    new_df = pd.DataFrame(encoder.fit_transform(df[[column]]).toarray())\n",
    "    new_df.columns = [column + '_' + feature[3:] for feature in encoder.get_feature_names()]\n",
    "    return new_df"
   ]
  },
  {
   "cell_type": "code",
   "execution_count": 10,
   "id": "e0fc78aa",
   "metadata": {},
   "outputs": [],
   "source": [
    "for column in df.columns:\n",
    "    if df[column].dtype == 'object':\n",
    "        one_hot_df = get_one_hot_df(df, column)\n",
    "        data = pd.merge(data, one_hot_df, left_index=True, right_index=True)"
   ]
  },
  {
   "cell_type": "code",
   "execution_count": 11,
   "id": "aee71788",
   "metadata": {},
   "outputs": [],
   "source": [
    "target = data[['price']].copy()\n",
    "data = data.drop('price', axis=1)"
   ]
  },
  {
   "cell_type": "markdown",
   "id": "89d31bfa",
   "metadata": {},
   "source": [
    "### Результат"
   ]
  },
  {
   "cell_type": "code",
   "execution_count": 12,
   "id": "3034bf82",
   "metadata": {},
   "outputs": [
    {
     "name": "stdout",
     "output_type": "stream",
     "text": [
      "<class 'pandas.core.frame.DataFrame'>\n",
      "RangeIndex: 925 entries, 0 to 924\n",
      "Data columns (total 30 columns):\n",
      " #   Column                          Non-Null Count  Dtype  \n",
      "---  ------                          --------------  -----  \n",
      " 0   number of rooms                 925 non-null    int64  \n",
      " 1   area of apartment               925 non-null    float64\n",
      " 2   number of floors                925 non-null    int64  \n",
      " 3   apartment floor                 925 non-null    int64  \n",
      " 4   year of construction            925 non-null    int64  \n",
      " 5   elevator                        925 non-null    int64  \n",
      " 6   garbage chute                   925 non-null    int64  \n",
      " 7   concierge                       925 non-null    int64  \n",
      " 8   distance                        925 non-null    float64\n",
      " 9   repair_дизайнерский             925 non-null    float64\n",
      " 10  repair_евро                     925 non-null    float64\n",
      " 11  repair_косметический            925 non-null    float64\n",
      " 12  repair_требует ремонта          925 non-null    float64\n",
      " 13  bathroom_несколько              925 non-null    float64\n",
      " 14  bathroom_раздельный             925 non-null    float64\n",
      " 15  bathroom_совмещенный            925 non-null    float64\n",
      " 16  terrace_балкон                  925 non-null    float64\n",
      " 17  terrace_лоджия                  925 non-null    float64\n",
      " 18  terrace_нет                     925 non-null    float64\n",
      " 19  type of house_блочный           925 non-null    float64\n",
      " 20  type of house_кирпичный         925 non-null    float64\n",
      " 21  type of house_монолитный        925 non-null    float64\n",
      " 22  type of house_панельный         925 non-null    float64\n",
      " 23  district_р-н Дзержинский        925 non-null    float64\n",
      " 24  district_р-н Индустриальный     925 non-null    float64\n",
      " 25  district_р-н Кировский          925 non-null    float64\n",
      " 26  district_р-н Ленинский          925 non-null    float64\n",
      " 27  district_р-н Мотовилихинский    925 non-null    float64\n",
      " 28  district_р-н Орджоникидзевский  925 non-null    float64\n",
      " 29  district_р-н Свердловский       925 non-null    float64\n",
      "dtypes: float64(23), int64(7)\n",
      "memory usage: 216.9 KB\n"
     ]
    }
   ],
   "source": [
    "data.info()"
   ]
  },
  {
   "cell_type": "markdown",
   "id": "b7848932",
   "metadata": {},
   "source": [
    "## Деление на тестовую и тренировочную выборки"
   ]
  },
  {
   "cell_type": "code",
   "execution_count": 13,
   "id": "9ea8466c",
   "metadata": {},
   "outputs": [],
   "source": [
    "X = data.values\n",
    "y = target.values"
   ]
  },
  {
   "cell_type": "code",
   "execution_count": 14,
   "id": "740b7220",
   "metadata": {},
   "outputs": [
    {
     "data": {
      "text/plain": [
       "((925, 30), (925, 1))"
      ]
     },
     "execution_count": 14,
     "metadata": {},
     "output_type": "execute_result"
    }
   ],
   "source": [
    "X.shape, y.shape"
   ]
  },
  {
   "cell_type": "code",
   "execution_count": 15,
   "id": "aa1cc926",
   "metadata": {},
   "outputs": [],
   "source": [
    "from sklearn.model_selection import train_test_split\n",
    "\n",
    "X_train, X_test, y_train, y_test = train_test_split(X, y, \n",
    "                                                    train_size=0.8, \n",
    "                                                    random_state=42)"
   ]
  },
  {
   "cell_type": "markdown",
   "id": "19627f35",
   "metadata": {},
   "source": [
    "## Нормализация количественных данных"
   ]
  },
  {
   "cell_type": "code",
   "execution_count": 16,
   "id": "821f91b1",
   "metadata": {},
   "outputs": [],
   "source": [
    "not_categorial_features.remove('price')"
   ]
  },
  {
   "cell_type": "code",
   "execution_count": 17,
   "id": "670a8e29",
   "metadata": {},
   "outputs": [],
   "source": [
    "from sklearn.preprocessing import StandardScaler\n",
    "\n",
    "scalers = []\n",
    "for index in range(len(not_categorial_features)):\n",
    "    scaler = StandardScaler()\n",
    "    X_train[:, index] = scaler.fit_transform(X_train[:, index].reshape(-1, 1)).reshape(-1)\n",
    "    scalers.append(scaler)"
   ]
  },
  {
   "cell_type": "code",
   "execution_count": 18,
   "id": "dcdcf22d",
   "metadata": {},
   "outputs": [],
   "source": [
    "y_train = y_train / 1_000_000"
   ]
  },
  {
   "cell_type": "markdown",
   "id": "c15a2dd8",
   "metadata": {},
   "source": [
    "### Подготовка тестовых данных"
   ]
  },
  {
   "cell_type": "code",
   "execution_count": 19,
   "id": "49e7204c",
   "metadata": {},
   "outputs": [],
   "source": [
    "for index in range(len(not_categorial_features)):\n",
    "    scaler = scalers[index]\n",
    "    X_test[:, index] = scaler.transform(X_test[:, index].reshape(-1, 1)).reshape(-1)"
   ]
  },
  {
   "cell_type": "code",
   "execution_count": 20,
   "id": "dbb3284a",
   "metadata": {},
   "outputs": [],
   "source": [
    "y_test = y_test / 1_000_000"
   ]
  },
  {
   "cell_type": "markdown",
   "id": "54e6fe75",
   "metadata": {},
   "source": [
    "# Модели"
   ]
  },
  {
   "cell_type": "code",
   "execution_count": 21,
   "id": "8bcfc403",
   "metadata": {},
   "outputs": [
    {
     "data": {
      "text/plain": [
       "array([-0.02133779,  0.26605209,  0.9901912 , -1.10827025,  0.57220584,\n",
       "        0.25674481,  1.11464086,  1.64881562, -0.58184552,  0.        ,\n",
       "        0.        ,  1.        ,  0.        ,  0.        ,  1.        ,\n",
       "        0.        ,  0.        ,  1.        ,  0.        ,  0.        ,\n",
       "        0.        ,  0.        ,  1.        ,  0.        ,  0.        ,\n",
       "        0.        ,  0.        ,  1.        ,  0.        ,  0.        ])"
      ]
     },
     "execution_count": 21,
     "metadata": {},
     "output_type": "execute_result"
    }
   ],
   "source": [
    "X_train[0, :]"
   ]
  },
  {
   "cell_type": "code",
   "execution_count": 22,
   "id": "0e34bdf5",
   "metadata": {},
   "outputs": [
    {
     "data": {
      "text/plain": [
       "array([3.39])"
      ]
     },
     "execution_count": 22,
     "metadata": {},
     "output_type": "execute_result"
    }
   ],
   "source": [
    "y_train[0]"
   ]
  },
  {
   "cell_type": "markdown",
   "id": "c27d8bf0",
   "metadata": {},
   "source": [
    "## Простая линейная модель"
   ]
  },
  {
   "cell_type": "code",
   "execution_count": 23,
   "id": "15057d38",
   "metadata": {},
   "outputs": [],
   "source": [
    "from sklearn.linear_model import LinearRegression\n",
    "from sklearn.metrics import mean_squared_error"
   ]
  },
  {
   "cell_type": "code",
   "execution_count": 24,
   "id": "bba2d7b8",
   "metadata": {},
   "outputs": [],
   "source": [
    "simple_reg = LinearRegression().fit(X_train, y_train)"
   ]
  },
  {
   "cell_type": "code",
   "execution_count": 25,
   "id": "c0aae03b",
   "metadata": {},
   "outputs": [
    {
     "data": {
      "text/plain": [
       "(array([[-0.01893108,  0.78223868,  0.12844978,  0.01726845,  0.22693237,\n",
       "         -0.0078642 , -0.05414561, -0.00870975, -0.27312156,  0.18903533,\n",
       "          0.14656526, -0.11780992, -0.21779067, -0.35486792,  0.16828958,\n",
       "          0.18657834,  0.0281596 ,  0.15417228, -0.18233188, -0.21283854,\n",
       "          0.09079763,  0.04710159,  0.07493933,  0.08002661,  0.15636198,\n",
       "         -0.03105346,  0.47779837, -0.10012407, -0.52434698, -0.05866245]]),\n",
       " array([3.23530801]))"
      ]
     },
     "execution_count": 25,
     "metadata": {},
     "output_type": "execute_result"
    }
   ],
   "source": [
    "simple_reg.coef_, simple_reg.intercept_"
   ]
  },
  {
   "cell_type": "code",
   "execution_count": 26,
   "id": "9765f33c",
   "metadata": {},
   "outputs": [
    {
     "name": "stdout",
     "output_type": "stream",
     "text": [
      "RMSE  0.446\n"
     ]
    }
   ],
   "source": [
    "predicts = simple_reg.predict(X_test)\n",
    "\n",
    "mse = mean_squared_error(y_test, predicts)\n",
    "rmse = np.sqrt(mse)\n",
    "print(\"RMSE \", round(rmse, 3))"
   ]
  },
  {
   "cell_type": "markdown",
   "id": "358ccc25",
   "metadata": {},
   "source": [
    "## Простая линейная модель без смещения"
   ]
  },
  {
   "cell_type": "code",
   "execution_count": 27,
   "id": "3f77aed2",
   "metadata": {},
   "outputs": [],
   "source": [
    "simple_reg_without_intercept = LinearRegression(fit_intercept=False).fit(X_train, y_train)"
   ]
  },
  {
   "cell_type": "code",
   "execution_count": 28,
   "id": "42623d96",
   "metadata": {},
   "outputs": [
    {
     "data": {
      "text/plain": [
       "(array([[-0.01893108,  0.78223868,  0.12844978,  0.01726845,  0.22693237,\n",
       "         -0.0078642 , -0.05414561, -0.00870975, -0.27312156,  0.80668504,\n",
       "          0.76421497,  0.49983979,  0.39985904,  0.46866503,  0.99182253,\n",
       "          1.01011128,  0.85169255,  0.97770523,  0.64120107,  0.40481117,\n",
       "          0.70844734,  0.6647513 ,  0.69258904,  0.4329693 ,  0.50930467,\n",
       "          0.32188923,  0.83074106,  0.25281862, -0.17140429,  0.29428024]]),\n",
       " 0.0)"
      ]
     },
     "execution_count": 28,
     "metadata": {},
     "output_type": "execute_result"
    }
   ],
   "source": [
    "simple_reg_without_intercept.coef_, simple_reg_without_intercept.intercept_, "
   ]
  },
  {
   "cell_type": "code",
   "execution_count": 29,
   "id": "949a4c5b",
   "metadata": {},
   "outputs": [
    {
     "name": "stdout",
     "output_type": "stream",
     "text": [
      "RMSE  0.446\n"
     ]
    }
   ],
   "source": [
    "predicts = simple_reg_without_intercept.predict(X_test)\n",
    "\n",
    "mse = mean_squared_error(predicts, y_test)\n",
    "rmse = np.sqrt(mse)\n",
    "print(\"RMSE \", round(rmse, 3))"
   ]
  },
  {
   "cell_type": "markdown",
   "id": "a627e004",
   "metadata": {},
   "source": [
    "## Простая линейная модель без смещения c регуляризацией"
   ]
  },
  {
   "cell_type": "code",
   "execution_count": 30,
   "id": "68adcfd5",
   "metadata": {},
   "outputs": [],
   "source": [
    "from sklearn.linear_model import Ridge"
   ]
  },
  {
   "cell_type": "code",
   "execution_count": 31,
   "id": "a6808b4c",
   "metadata": {},
   "outputs": [
    {
     "data": {
      "text/plain": [
       "(array([[-4.60511911e-04,  7.66566688e-01,  1.36855184e-01,\n",
       "          1.45528031e-02,  2.30393518e-01,  2.26975904e-03,\n",
       "         -6.29350662e-02, -8.02056923e-03, -2.94691418e-01,\n",
       "          6.10820206e-01,  7.24472199e-01,  5.22723991e-01,\n",
       "          3.87703457e-01,  2.10898971e-01,  9.96440584e-01,\n",
       "          1.03838030e+00,  7.76084782e-01,  9.32803311e-01,\n",
       "          5.36831758e-01,  1.70426170e-01,  7.60587521e-01,\n",
       "          5.99987041e-01,  7.14719119e-01,  4.13076021e-01,\n",
       "          4.71576131e-01,  3.49692733e-01,  5.63361057e-01,\n",
       "          2.49690517e-01, -8.57195800e-02,  2.84042972e-01]]),\n",
       " 0.0)"
      ]
     },
     "execution_count": 31,
     "metadata": {},
     "output_type": "execute_result"
    }
   ],
   "source": [
    "best_alpha = 15\n",
    "simple_ridge = Ridge(alpha=best_alpha, fit_intercept=False).fit(X_train, y_train)\n",
    "simple_ridge.coef_, simple_ridge.intercept_"
   ]
  },
  {
   "cell_type": "code",
   "execution_count": 32,
   "id": "a62258dc",
   "metadata": {},
   "outputs": [
    {
     "name": "stdout",
     "output_type": "stream",
     "text": [
      "RMSE  0.46\n"
     ]
    }
   ],
   "source": [
    "predicts = simple_ridge.predict(X_test)\n",
    "\n",
    "mse = mean_squared_error(predicts, y_test)\n",
    "rmse = np.sqrt(mse)\n",
    "print(\"RMSE \", round(rmse, 3))"
   ]
  },
  {
   "cell_type": "markdown",
   "id": "38771316",
   "metadata": {},
   "source": [
    "## Случайный лес"
   ]
  },
  {
   "cell_type": "code",
   "execution_count": 33,
   "id": "6808d54b",
   "metadata": {},
   "outputs": [],
   "source": [
    "from sklearn.ensemble import RandomForestRegressor"
   ]
  },
  {
   "cell_type": "code",
   "execution_count": 34,
   "id": "41c7ded9",
   "metadata": {},
   "outputs": [
    {
     "data": {
      "text/plain": [
       "RandomForestRegressor(random_state=42)"
      ]
     },
     "execution_count": 34,
     "metadata": {},
     "output_type": "execute_result"
    }
   ],
   "source": [
    "rf_reg =  RandomForestRegressor(random_state=42)\n",
    "rf_reg.fit(X_train, y_train.ravel()) "
   ]
  },
  {
   "cell_type": "code",
   "execution_count": 35,
   "id": "8e74bd3b",
   "metadata": {},
   "outputs": [
    {
     "name": "stdout",
     "output_type": "stream",
     "text": [
      "RMSE  0.416\n"
     ]
    }
   ],
   "source": [
    "predicts = rf_reg.predict(X_test)\n",
    "\n",
    "mse = mean_squared_error(predicts, y_test)\n",
    "rmse = np.sqrt(mse)\n",
    "print(\"RMSE \", round(rmse, 3))"
   ]
  },
  {
   "cell_type": "code",
   "execution_count": 36,
   "id": "59ae9239",
   "metadata": {},
   "outputs": [
    {
     "data": {
      "text/html": [
       "<div>\n",
       "<style scoped>\n",
       "    .dataframe tbody tr th:only-of-type {\n",
       "        vertical-align: middle;\n",
       "    }\n",
       "\n",
       "    .dataframe tbody tr th {\n",
       "        vertical-align: top;\n",
       "    }\n",
       "\n",
       "    .dataframe thead th {\n",
       "        text-align: right;\n",
       "    }\n",
       "</style>\n",
       "<table border=\"1\" class=\"dataframe\">\n",
       "  <thead>\n",
       "    <tr style=\"text-align: right;\">\n",
       "      <th></th>\n",
       "      <th>feature</th>\n",
       "      <th>importance</th>\n",
       "    </tr>\n",
       "  </thead>\n",
       "  <tbody>\n",
       "    <tr>\n",
       "      <th>1</th>\n",
       "      <td>area of apartment</td>\n",
       "      <td>0.547325</td>\n",
       "    </tr>\n",
       "    <tr>\n",
       "      <th>8</th>\n",
       "      <td>distance</td>\n",
       "      <td>0.163523</td>\n",
       "    </tr>\n",
       "    <tr>\n",
       "      <th>4</th>\n",
       "      <td>year of construction</td>\n",
       "      <td>0.156447</td>\n",
       "    </tr>\n",
       "    <tr>\n",
       "      <th>2</th>\n",
       "      <td>number of floors</td>\n",
       "      <td>0.030872</td>\n",
       "    </tr>\n",
       "    <tr>\n",
       "      <th>28</th>\n",
       "      <td>district_р-н Орджоникидзевский</td>\n",
       "      <td>0.015317</td>\n",
       "    </tr>\n",
       "    <tr>\n",
       "      <th>3</th>\n",
       "      <td>apartment floor</td>\n",
       "      <td>0.014959</td>\n",
       "    </tr>\n",
       "    <tr>\n",
       "      <th>17</th>\n",
       "      <td>terrace_лоджия</td>\n",
       "      <td>0.006108</td>\n",
       "    </tr>\n",
       "    <tr>\n",
       "      <th>24</th>\n",
       "      <td>district_р-н Индустриальный</td>\n",
       "      <td>0.005790</td>\n",
       "    </tr>\n",
       "    <tr>\n",
       "      <th>0</th>\n",
       "      <td>number of rooms</td>\n",
       "      <td>0.005165</td>\n",
       "    </tr>\n",
       "    <tr>\n",
       "      <th>21</th>\n",
       "      <td>type of house_монолитный</td>\n",
       "      <td>0.004835</td>\n",
       "    </tr>\n",
       "    <tr>\n",
       "      <th>7</th>\n",
       "      <td>concierge</td>\n",
       "      <td>0.004544</td>\n",
       "    </tr>\n",
       "    <tr>\n",
       "      <th>10</th>\n",
       "      <td>repair_евро</td>\n",
       "      <td>0.004323</td>\n",
       "    </tr>\n",
       "    <tr>\n",
       "      <th>27</th>\n",
       "      <td>district_р-н Мотовилихинский</td>\n",
       "      <td>0.003935</td>\n",
       "    </tr>\n",
       "    <tr>\n",
       "      <th>6</th>\n",
       "      <td>garbage chute</td>\n",
       "      <td>0.003236</td>\n",
       "    </tr>\n",
       "    <tr>\n",
       "      <th>12</th>\n",
       "      <td>repair_требует ремонта</td>\n",
       "      <td>0.003117</td>\n",
       "    </tr>\n",
       "    <tr>\n",
       "      <th>11</th>\n",
       "      <td>repair_косметический</td>\n",
       "      <td>0.002914</td>\n",
       "    </tr>\n",
       "    <tr>\n",
       "      <th>26</th>\n",
       "      <td>district_р-н Ленинский</td>\n",
       "      <td>0.002840</td>\n",
       "    </tr>\n",
       "    <tr>\n",
       "      <th>22</th>\n",
       "      <td>type of house_панельный</td>\n",
       "      <td>0.002583</td>\n",
       "    </tr>\n",
       "    <tr>\n",
       "      <th>20</th>\n",
       "      <td>type of house_кирпичный</td>\n",
       "      <td>0.002491</td>\n",
       "    </tr>\n",
       "    <tr>\n",
       "      <th>5</th>\n",
       "      <td>elevator</td>\n",
       "      <td>0.002471</td>\n",
       "    </tr>\n",
       "    <tr>\n",
       "      <th>18</th>\n",
       "      <td>terrace_нет</td>\n",
       "      <td>0.002408</td>\n",
       "    </tr>\n",
       "    <tr>\n",
       "      <th>9</th>\n",
       "      <td>repair_дизайнерский</td>\n",
       "      <td>0.002190</td>\n",
       "    </tr>\n",
       "    <tr>\n",
       "      <th>14</th>\n",
       "      <td>bathroom_раздельный</td>\n",
       "      <td>0.002189</td>\n",
       "    </tr>\n",
       "    <tr>\n",
       "      <th>16</th>\n",
       "      <td>terrace_балкон</td>\n",
       "      <td>0.002075</td>\n",
       "    </tr>\n",
       "    <tr>\n",
       "      <th>25</th>\n",
       "      <td>district_р-н Кировский</td>\n",
       "      <td>0.002069</td>\n",
       "    </tr>\n",
       "    <tr>\n",
       "      <th>29</th>\n",
       "      <td>district_р-н Свердловский</td>\n",
       "      <td>0.002052</td>\n",
       "    </tr>\n",
       "    <tr>\n",
       "      <th>23</th>\n",
       "      <td>district_р-н Дзержинский</td>\n",
       "      <td>0.001873</td>\n",
       "    </tr>\n",
       "    <tr>\n",
       "      <th>15</th>\n",
       "      <td>bathroom_совмещенный</td>\n",
       "      <td>0.001663</td>\n",
       "    </tr>\n",
       "    <tr>\n",
       "      <th>13</th>\n",
       "      <td>bathroom_несколько</td>\n",
       "      <td>0.000412</td>\n",
       "    </tr>\n",
       "    <tr>\n",
       "      <th>19</th>\n",
       "      <td>type of house_блочный</td>\n",
       "      <td>0.000273</td>\n",
       "    </tr>\n",
       "  </tbody>\n",
       "</table>\n",
       "</div>"
      ],
      "text/plain": [
       "                           feature  importance\n",
       "1                area of apartment    0.547325\n",
       "8                         distance    0.163523\n",
       "4             year of construction    0.156447\n",
       "2                 number of floors    0.030872\n",
       "28  district_р-н Орджоникидзевский    0.015317\n",
       "3                  apartment floor    0.014959\n",
       "17                  terrace_лоджия    0.006108\n",
       "24     district_р-н Индустриальный    0.005790\n",
       "0                  number of rooms    0.005165\n",
       "21        type of house_монолитный    0.004835\n",
       "7                        concierge    0.004544\n",
       "10                     repair_евро    0.004323\n",
       "27    district_р-н Мотовилихинский    0.003935\n",
       "6                    garbage chute    0.003236\n",
       "12          repair_требует ремонта    0.003117\n",
       "11            repair_косметический    0.002914\n",
       "26          district_р-н Ленинский    0.002840\n",
       "22         type of house_панельный    0.002583\n",
       "20         type of house_кирпичный    0.002491\n",
       "5                         elevator    0.002471\n",
       "18                     terrace_нет    0.002408\n",
       "9              repair_дизайнерский    0.002190\n",
       "14             bathroom_раздельный    0.002189\n",
       "16                  terrace_балкон    0.002075\n",
       "25          district_р-н Кировский    0.002069\n",
       "29       district_р-н Свердловский    0.002052\n",
       "23        district_р-н Дзержинский    0.001873\n",
       "15            bathroom_совмещенный    0.001663\n",
       "13              bathroom_несколько    0.000412\n",
       "19           type of house_блочный    0.000273"
      ]
     },
     "execution_count": 36,
     "metadata": {},
     "output_type": "execute_result"
    }
   ],
   "source": [
    "pd.DataFrame({'feature': data.columns, 'importance': rf_reg.feature_importances_}).sort_values(by='importance', ascending=False)"
   ]
  },
  {
   "cell_type": "markdown",
   "id": "cb97c50b",
   "metadata": {},
   "source": [
    "## AdaBoost"
   ]
  },
  {
   "cell_type": "code",
   "execution_count": 37,
   "id": "6f87f670",
   "metadata": {},
   "outputs": [],
   "source": [
    "from sklearn.ensemble import AdaBoostRegressor"
   ]
  },
  {
   "cell_type": "code",
   "execution_count": 38,
   "id": "b3a3842b",
   "metadata": {},
   "outputs": [
    {
     "data": {
      "text/plain": [
       "AdaBoostRegressor(random_state=42)"
      ]
     },
     "execution_count": 38,
     "metadata": {},
     "output_type": "execute_result"
    }
   ],
   "source": [
    "ada_reg = AdaBoostRegressor(random_state=42)\n",
    "ada_reg.fit(X_train, y_train.ravel()) "
   ]
  },
  {
   "cell_type": "code",
   "execution_count": 39,
   "id": "0b84eb07",
   "metadata": {},
   "outputs": [
    {
     "name": "stdout",
     "output_type": "stream",
     "text": [
      "RMSE  0.514\n"
     ]
    }
   ],
   "source": [
    "predicts = ada_reg.predict(X_test)\n",
    "\n",
    "mse = mean_squared_error(predicts, y_test)\n",
    "rmse = np.sqrt(mse)\n",
    "print(\"RMSE \", round(rmse, 3))"
   ]
  },
  {
   "cell_type": "code",
   "execution_count": 40,
   "id": "f37b88c9",
   "metadata": {},
   "outputs": [
    {
     "data": {
      "text/html": [
       "<div>\n",
       "<style scoped>\n",
       "    .dataframe tbody tr th:only-of-type {\n",
       "        vertical-align: middle;\n",
       "    }\n",
       "\n",
       "    .dataframe tbody tr th {\n",
       "        vertical-align: top;\n",
       "    }\n",
       "\n",
       "    .dataframe thead th {\n",
       "        text-align: right;\n",
       "    }\n",
       "</style>\n",
       "<table border=\"1\" class=\"dataframe\">\n",
       "  <thead>\n",
       "    <tr style=\"text-align: right;\">\n",
       "      <th></th>\n",
       "      <th>feature</th>\n",
       "      <th>importance</th>\n",
       "    </tr>\n",
       "  </thead>\n",
       "  <tbody>\n",
       "    <tr>\n",
       "      <th>1</th>\n",
       "      <td>area of apartment</td>\n",
       "      <td>0.508992</td>\n",
       "    </tr>\n",
       "    <tr>\n",
       "      <th>4</th>\n",
       "      <td>year of construction</td>\n",
       "      <td>0.138771</td>\n",
       "    </tr>\n",
       "    <tr>\n",
       "      <th>8</th>\n",
       "      <td>distance</td>\n",
       "      <td>0.135276</td>\n",
       "    </tr>\n",
       "    <tr>\n",
       "      <th>2</th>\n",
       "      <td>number of floors</td>\n",
       "      <td>0.054856</td>\n",
       "    </tr>\n",
       "    <tr>\n",
       "      <th>28</th>\n",
       "      <td>district_р-н Орджоникидзевский</td>\n",
       "      <td>0.046433</td>\n",
       "    </tr>\n",
       "    <tr>\n",
       "      <th>3</th>\n",
       "      <td>apartment floor</td>\n",
       "      <td>0.030794</td>\n",
       "    </tr>\n",
       "    <tr>\n",
       "      <th>9</th>\n",
       "      <td>repair_дизайнерский</td>\n",
       "      <td>0.014125</td>\n",
       "    </tr>\n",
       "    <tr>\n",
       "      <th>24</th>\n",
       "      <td>district_р-н Индустриальный</td>\n",
       "      <td>0.011320</td>\n",
       "    </tr>\n",
       "    <tr>\n",
       "      <th>12</th>\n",
       "      <td>repair_требует ремонта</td>\n",
       "      <td>0.011154</td>\n",
       "    </tr>\n",
       "    <tr>\n",
       "      <th>7</th>\n",
       "      <td>concierge</td>\n",
       "      <td>0.009627</td>\n",
       "    </tr>\n",
       "    <tr>\n",
       "      <th>25</th>\n",
       "      <td>district_р-н Кировский</td>\n",
       "      <td>0.008403</td>\n",
       "    </tr>\n",
       "    <tr>\n",
       "      <th>18</th>\n",
       "      <td>terrace_нет</td>\n",
       "      <td>0.007479</td>\n",
       "    </tr>\n",
       "    <tr>\n",
       "      <th>14</th>\n",
       "      <td>bathroom_раздельный</td>\n",
       "      <td>0.005726</td>\n",
       "    </tr>\n",
       "    <tr>\n",
       "      <th>17</th>\n",
       "      <td>terrace_лоджия</td>\n",
       "      <td>0.004254</td>\n",
       "    </tr>\n",
       "    <tr>\n",
       "      <th>21</th>\n",
       "      <td>type of house_монолитный</td>\n",
       "      <td>0.003134</td>\n",
       "    </tr>\n",
       "    <tr>\n",
       "      <th>23</th>\n",
       "      <td>district_р-н Дзержинский</td>\n",
       "      <td>0.002879</td>\n",
       "    </tr>\n",
       "    <tr>\n",
       "      <th>10</th>\n",
       "      <td>repair_евро</td>\n",
       "      <td>0.002686</td>\n",
       "    </tr>\n",
       "    <tr>\n",
       "      <th>0</th>\n",
       "      <td>number of rooms</td>\n",
       "      <td>0.001924</td>\n",
       "    </tr>\n",
       "    <tr>\n",
       "      <th>6</th>\n",
       "      <td>garbage chute</td>\n",
       "      <td>0.000885</td>\n",
       "    </tr>\n",
       "    <tr>\n",
       "      <th>29</th>\n",
       "      <td>district_р-н Свердловский</td>\n",
       "      <td>0.000834</td>\n",
       "    </tr>\n",
       "    <tr>\n",
       "      <th>22</th>\n",
       "      <td>type of house_панельный</td>\n",
       "      <td>0.000226</td>\n",
       "    </tr>\n",
       "    <tr>\n",
       "      <th>5</th>\n",
       "      <td>elevator</td>\n",
       "      <td>0.000212</td>\n",
       "    </tr>\n",
       "    <tr>\n",
       "      <th>27</th>\n",
       "      <td>district_р-н Мотовилихинский</td>\n",
       "      <td>0.000011</td>\n",
       "    </tr>\n",
       "    <tr>\n",
       "      <th>20</th>\n",
       "      <td>type of house_кирпичный</td>\n",
       "      <td>0.000000</td>\n",
       "    </tr>\n",
       "    <tr>\n",
       "      <th>19</th>\n",
       "      <td>type of house_блочный</td>\n",
       "      <td>0.000000</td>\n",
       "    </tr>\n",
       "    <tr>\n",
       "      <th>16</th>\n",
       "      <td>terrace_балкон</td>\n",
       "      <td>0.000000</td>\n",
       "    </tr>\n",
       "    <tr>\n",
       "      <th>13</th>\n",
       "      <td>bathroom_несколько</td>\n",
       "      <td>0.000000</td>\n",
       "    </tr>\n",
       "    <tr>\n",
       "      <th>11</th>\n",
       "      <td>repair_косметический</td>\n",
       "      <td>0.000000</td>\n",
       "    </tr>\n",
       "    <tr>\n",
       "      <th>26</th>\n",
       "      <td>district_р-н Ленинский</td>\n",
       "      <td>0.000000</td>\n",
       "    </tr>\n",
       "    <tr>\n",
       "      <th>15</th>\n",
       "      <td>bathroom_совмещенный</td>\n",
       "      <td>0.000000</td>\n",
       "    </tr>\n",
       "  </tbody>\n",
       "</table>\n",
       "</div>"
      ],
      "text/plain": [
       "                           feature  importance\n",
       "1                area of apartment    0.508992\n",
       "4             year of construction    0.138771\n",
       "8                         distance    0.135276\n",
       "2                 number of floors    0.054856\n",
       "28  district_р-н Орджоникидзевский    0.046433\n",
       "3                  apartment floor    0.030794\n",
       "9              repair_дизайнерский    0.014125\n",
       "24     district_р-н Индустриальный    0.011320\n",
       "12          repair_требует ремонта    0.011154\n",
       "7                        concierge    0.009627\n",
       "25          district_р-н Кировский    0.008403\n",
       "18                     terrace_нет    0.007479\n",
       "14             bathroom_раздельный    0.005726\n",
       "17                  terrace_лоджия    0.004254\n",
       "21        type of house_монолитный    0.003134\n",
       "23        district_р-н Дзержинский    0.002879\n",
       "10                     repair_евро    0.002686\n",
       "0                  number of rooms    0.001924\n",
       "6                    garbage chute    0.000885\n",
       "29       district_р-н Свердловский    0.000834\n",
       "22         type of house_панельный    0.000226\n",
       "5                         elevator    0.000212\n",
       "27    district_р-н Мотовилихинский    0.000011\n",
       "20         type of house_кирпичный    0.000000\n",
       "19           type of house_блочный    0.000000\n",
       "16                  terrace_балкон    0.000000\n",
       "13              bathroom_несколько    0.000000\n",
       "11            repair_косметический    0.000000\n",
       "26          district_р-н Ленинский    0.000000\n",
       "15            bathroom_совмещенный    0.000000"
      ]
     },
     "execution_count": 40,
     "metadata": {},
     "output_type": "execute_result"
    }
   ],
   "source": [
    "pd.DataFrame({'feature': data.columns, 'importance': ada_reg.feature_importances_}).sort_values(by='importance', ascending=False)"
   ]
  },
  {
   "cell_type": "markdown",
   "id": "72c5e748",
   "metadata": {},
   "source": [
    "## Градиентный бустинг"
   ]
  },
  {
   "cell_type": "code",
   "execution_count": 41,
   "id": "cdfdc1f0",
   "metadata": {},
   "outputs": [],
   "source": [
    "from sklearn.ensemble import GradientBoostingRegressor"
   ]
  },
  {
   "cell_type": "code",
   "execution_count": 42,
   "id": "19644b5f",
   "metadata": {},
   "outputs": [
    {
     "data": {
      "text/plain": [
       "GradientBoostingRegressor(random_state=42)"
      ]
     },
     "execution_count": 42,
     "metadata": {},
     "output_type": "execute_result"
    }
   ],
   "source": [
    "grad_reg = GradientBoostingRegressor(random_state=42)\n",
    "grad_reg.fit(X_train, y_train.ravel()) "
   ]
  },
  {
   "cell_type": "code",
   "execution_count": 43,
   "id": "500b2d7b",
   "metadata": {},
   "outputs": [
    {
     "name": "stdout",
     "output_type": "stream",
     "text": [
      "RMSE  0.393\n"
     ]
    }
   ],
   "source": [
    "predicts = grad_reg.predict(X_test)\n",
    "\n",
    "mse = mean_squared_error(predicts, y_test)\n",
    "rmse = np.sqrt(mse)\n",
    "print(\"RMSE \", round(rmse, 3))"
   ]
  },
  {
   "cell_type": "code",
   "execution_count": 44,
   "id": "7cb42cff",
   "metadata": {},
   "outputs": [
    {
     "data": {
      "text/html": [
       "<div>\n",
       "<style scoped>\n",
       "    .dataframe tbody tr th:only-of-type {\n",
       "        vertical-align: middle;\n",
       "    }\n",
       "\n",
       "    .dataframe tbody tr th {\n",
       "        vertical-align: top;\n",
       "    }\n",
       "\n",
       "    .dataframe thead th {\n",
       "        text-align: right;\n",
       "    }\n",
       "</style>\n",
       "<table border=\"1\" class=\"dataframe\">\n",
       "  <thead>\n",
       "    <tr style=\"text-align: right;\">\n",
       "      <th></th>\n",
       "      <th>feature</th>\n",
       "      <th>importance</th>\n",
       "    </tr>\n",
       "  </thead>\n",
       "  <tbody>\n",
       "    <tr>\n",
       "      <th>1</th>\n",
       "      <td>area of apartment</td>\n",
       "      <td>0.573430</td>\n",
       "    </tr>\n",
       "    <tr>\n",
       "      <th>8</th>\n",
       "      <td>distance</td>\n",
       "      <td>0.165865</td>\n",
       "    </tr>\n",
       "    <tr>\n",
       "      <th>4</th>\n",
       "      <td>year of construction</td>\n",
       "      <td>0.158042</td>\n",
       "    </tr>\n",
       "    <tr>\n",
       "      <th>2</th>\n",
       "      <td>number of floors</td>\n",
       "      <td>0.031194</td>\n",
       "    </tr>\n",
       "    <tr>\n",
       "      <th>28</th>\n",
       "      <td>district_р-н Орджоникидзевский</td>\n",
       "      <td>0.022508</td>\n",
       "    </tr>\n",
       "    <tr>\n",
       "      <th>17</th>\n",
       "      <td>terrace_лоджия</td>\n",
       "      <td>0.008089</td>\n",
       "    </tr>\n",
       "    <tr>\n",
       "      <th>3</th>\n",
       "      <td>apartment floor</td>\n",
       "      <td>0.006374</td>\n",
       "    </tr>\n",
       "    <tr>\n",
       "      <th>10</th>\n",
       "      <td>repair_евро</td>\n",
       "      <td>0.004470</td>\n",
       "    </tr>\n",
       "    <tr>\n",
       "      <th>12</th>\n",
       "      <td>repair_требует ремонта</td>\n",
       "      <td>0.004322</td>\n",
       "    </tr>\n",
       "    <tr>\n",
       "      <th>18</th>\n",
       "      <td>terrace_нет</td>\n",
       "      <td>0.004190</td>\n",
       "    </tr>\n",
       "    <tr>\n",
       "      <th>24</th>\n",
       "      <td>district_р-н Индустриальный</td>\n",
       "      <td>0.003771</td>\n",
       "    </tr>\n",
       "    <tr>\n",
       "      <th>11</th>\n",
       "      <td>repair_косметический</td>\n",
       "      <td>0.003120</td>\n",
       "    </tr>\n",
       "    <tr>\n",
       "      <th>7</th>\n",
       "      <td>concierge</td>\n",
       "      <td>0.002942</td>\n",
       "    </tr>\n",
       "    <tr>\n",
       "      <th>26</th>\n",
       "      <td>district_р-н Ленинский</td>\n",
       "      <td>0.001843</td>\n",
       "    </tr>\n",
       "    <tr>\n",
       "      <th>5</th>\n",
       "      <td>elevator</td>\n",
       "      <td>0.001558</td>\n",
       "    </tr>\n",
       "    <tr>\n",
       "      <th>27</th>\n",
       "      <td>district_р-н Мотовилихинский</td>\n",
       "      <td>0.001421</td>\n",
       "    </tr>\n",
       "    <tr>\n",
       "      <th>21</th>\n",
       "      <td>type of house_монолитный</td>\n",
       "      <td>0.001376</td>\n",
       "    </tr>\n",
       "    <tr>\n",
       "      <th>0</th>\n",
       "      <td>number of rooms</td>\n",
       "      <td>0.000964</td>\n",
       "    </tr>\n",
       "    <tr>\n",
       "      <th>14</th>\n",
       "      <td>bathroom_раздельный</td>\n",
       "      <td>0.000910</td>\n",
       "    </tr>\n",
       "    <tr>\n",
       "      <th>29</th>\n",
       "      <td>district_р-н Свердловский</td>\n",
       "      <td>0.000909</td>\n",
       "    </tr>\n",
       "    <tr>\n",
       "      <th>20</th>\n",
       "      <td>type of house_кирпичный</td>\n",
       "      <td>0.000794</td>\n",
       "    </tr>\n",
       "    <tr>\n",
       "      <th>9</th>\n",
       "      <td>repair_дизайнерский</td>\n",
       "      <td>0.000605</td>\n",
       "    </tr>\n",
       "    <tr>\n",
       "      <th>6</th>\n",
       "      <td>garbage chute</td>\n",
       "      <td>0.000398</td>\n",
       "    </tr>\n",
       "    <tr>\n",
       "      <th>22</th>\n",
       "      <td>type of house_панельный</td>\n",
       "      <td>0.000244</td>\n",
       "    </tr>\n",
       "    <tr>\n",
       "      <th>19</th>\n",
       "      <td>type of house_блочный</td>\n",
       "      <td>0.000205</td>\n",
       "    </tr>\n",
       "    <tr>\n",
       "      <th>16</th>\n",
       "      <td>terrace_балкон</td>\n",
       "      <td>0.000184</td>\n",
       "    </tr>\n",
       "    <tr>\n",
       "      <th>23</th>\n",
       "      <td>district_р-н Дзержинский</td>\n",
       "      <td>0.000132</td>\n",
       "    </tr>\n",
       "    <tr>\n",
       "      <th>13</th>\n",
       "      <td>bathroom_несколько</td>\n",
       "      <td>0.000096</td>\n",
       "    </tr>\n",
       "    <tr>\n",
       "      <th>25</th>\n",
       "      <td>district_р-н Кировский</td>\n",
       "      <td>0.000043</td>\n",
       "    </tr>\n",
       "    <tr>\n",
       "      <th>15</th>\n",
       "      <td>bathroom_совмещенный</td>\n",
       "      <td>0.000000</td>\n",
       "    </tr>\n",
       "  </tbody>\n",
       "</table>\n",
       "</div>"
      ],
      "text/plain": [
       "                           feature  importance\n",
       "1                area of apartment    0.573430\n",
       "8                         distance    0.165865\n",
       "4             year of construction    0.158042\n",
       "2                 number of floors    0.031194\n",
       "28  district_р-н Орджоникидзевский    0.022508\n",
       "17                  terrace_лоджия    0.008089\n",
       "3                  apartment floor    0.006374\n",
       "10                     repair_евро    0.004470\n",
       "12          repair_требует ремонта    0.004322\n",
       "18                     terrace_нет    0.004190\n",
       "24     district_р-н Индустриальный    0.003771\n",
       "11            repair_косметический    0.003120\n",
       "7                        concierge    0.002942\n",
       "26          district_р-н Ленинский    0.001843\n",
       "5                         elevator    0.001558\n",
       "27    district_р-н Мотовилихинский    0.001421\n",
       "21        type of house_монолитный    0.001376\n",
       "0                  number of rooms    0.000964\n",
       "14             bathroom_раздельный    0.000910\n",
       "29       district_р-н Свердловский    0.000909\n",
       "20         type of house_кирпичный    0.000794\n",
       "9              repair_дизайнерский    0.000605\n",
       "6                    garbage chute    0.000398\n",
       "22         type of house_панельный    0.000244\n",
       "19           type of house_блочный    0.000205\n",
       "16                  terrace_балкон    0.000184\n",
       "23        district_р-н Дзержинский    0.000132\n",
       "13              bathroom_несколько    0.000096\n",
       "25          district_р-н Кировский    0.000043\n",
       "15            bathroom_совмещенный    0.000000"
      ]
     },
     "execution_count": 44,
     "metadata": {},
     "output_type": "execute_result"
    }
   ],
   "source": [
    "pd.DataFrame({'feature': data.columns, 'importance': grad_reg.feature_importances_}).sort_values(by='importance', ascending=False)"
   ]
  },
  {
   "cell_type": "markdown",
   "id": "3a2029b4",
   "metadata": {},
   "source": [
    "## Бэггинг"
   ]
  },
  {
   "cell_type": "code",
   "execution_count": 45,
   "id": "38eec506",
   "metadata": {},
   "outputs": [],
   "source": [
    "from sklearn.ensemble import BaggingRegressor"
   ]
  },
  {
   "cell_type": "code",
   "execution_count": 46,
   "id": "f6baa7b5",
   "metadata": {},
   "outputs": [
    {
     "data": {
      "text/plain": [
       "BaggingRegressor(random_state=42)"
      ]
     },
     "execution_count": 46,
     "metadata": {},
     "output_type": "execute_result"
    }
   ],
   "source": [
    "bag_reg = BaggingRegressor(random_state=42)\n",
    "bag_reg.fit(X_train, y_train.ravel()) "
   ]
  },
  {
   "cell_type": "code",
   "execution_count": 47,
   "id": "fd36fa0d",
   "metadata": {},
   "outputs": [
    {
     "name": "stdout",
     "output_type": "stream",
     "text": [
      "RMSE  0.422\n"
     ]
    }
   ],
   "source": [
    "predicts = bag_reg.predict(X_test)\n",
    "\n",
    "mse = mean_squared_error(predicts, y_test)\n",
    "rmse = np.sqrt(mse)\n",
    "print(\"RMSE \", round(rmse, 3))"
   ]
  },
  {
   "cell_type": "markdown",
   "id": "0646db9c",
   "metadata": {},
   "source": [
    "## XGBoost"
   ]
  },
  {
   "cell_type": "code",
   "execution_count": 48,
   "id": "36a0fe70",
   "metadata": {},
   "outputs": [],
   "source": [
    "import xgboost as xgb"
   ]
  },
  {
   "cell_type": "code",
   "execution_count": 49,
   "id": "7450844f",
   "metadata": {},
   "outputs": [
    {
     "data": {
      "text/plain": [
       "XGBRegressor(base_score=0.5, booster='gbtree', colsample_bylevel=1,\n",
       "             colsample_bynode=1, colsample_bytree=1, gamma=0, gpu_id=-1,\n",
       "             importance_type='gain', interaction_constraints='',\n",
       "             learning_rate=0.05, max_delta_step=0, max_depth=6,\n",
       "             min_child_weight=1, missing=nan, monotone_constraints='()',\n",
       "             n_estimators=150, n_jobs=8, num_parallel_tree=1, random_state=42,\n",
       "             reg_alpha=0, reg_lambda=1, scale_pos_weight=1, subsample=1,\n",
       "             tree_method='exact', validate_parameters=1, verbosity=None)"
      ]
     },
     "execution_count": 49,
     "metadata": {},
     "output_type": "execute_result"
    }
   ],
   "source": [
    "xgb_reg = xgb.XGBRegressor(n_estimators=150, learning_rate=0.05,\n",
    "                          max_depth=6, random_state=42) \n",
    "xgb_reg.fit(X_train, y_train.ravel()) "
   ]
  },
  {
   "cell_type": "code",
   "execution_count": 50,
   "id": "62d217da",
   "metadata": {},
   "outputs": [
    {
     "name": "stdout",
     "output_type": "stream",
     "text": [
      "RMSE  0.382\n"
     ]
    }
   ],
   "source": [
    "predicts = xgb_reg.predict(X_test)\n",
    "\n",
    "mse = mean_squared_error(predicts, y_test)\n",
    "rmse = np.sqrt(mse)\n",
    "print(\"RMSE \", round(rmse, 3))"
   ]
  },
  {
   "cell_type": "code",
   "execution_count": 51,
   "id": "4dd55089",
   "metadata": {},
   "outputs": [
    {
     "data": {
      "text/html": [
       "<div>\n",
       "<style scoped>\n",
       "    .dataframe tbody tr th:only-of-type {\n",
       "        vertical-align: middle;\n",
       "    }\n",
       "\n",
       "    .dataframe tbody tr th {\n",
       "        vertical-align: top;\n",
       "    }\n",
       "\n",
       "    .dataframe thead th {\n",
       "        text-align: right;\n",
       "    }\n",
       "</style>\n",
       "<table border=\"1\" class=\"dataframe\">\n",
       "  <thead>\n",
       "    <tr style=\"text-align: right;\">\n",
       "      <th></th>\n",
       "      <th>feature</th>\n",
       "      <th>importance</th>\n",
       "    </tr>\n",
       "  </thead>\n",
       "  <tbody>\n",
       "    <tr>\n",
       "      <th>1</th>\n",
       "      <td>area of apartment</td>\n",
       "      <td>0.325777</td>\n",
       "    </tr>\n",
       "    <tr>\n",
       "      <th>4</th>\n",
       "      <td>year of construction</td>\n",
       "      <td>0.111995</td>\n",
       "    </tr>\n",
       "    <tr>\n",
       "      <th>28</th>\n",
       "      <td>district_р-н Орджоникидзевский</td>\n",
       "      <td>0.077828</td>\n",
       "    </tr>\n",
       "    <tr>\n",
       "      <th>8</th>\n",
       "      <td>distance</td>\n",
       "      <td>0.068955</td>\n",
       "    </tr>\n",
       "    <tr>\n",
       "      <th>2</th>\n",
       "      <td>number of floors</td>\n",
       "      <td>0.041259</td>\n",
       "    </tr>\n",
       "    <tr>\n",
       "      <th>7</th>\n",
       "      <td>concierge</td>\n",
       "      <td>0.034782</td>\n",
       "    </tr>\n",
       "    <tr>\n",
       "      <th>26</th>\n",
       "      <td>district_р-н Ленинский</td>\n",
       "      <td>0.029877</td>\n",
       "    </tr>\n",
       "    <tr>\n",
       "      <th>17</th>\n",
       "      <td>terrace_лоджия</td>\n",
       "      <td>0.025422</td>\n",
       "    </tr>\n",
       "    <tr>\n",
       "      <th>24</th>\n",
       "      <td>district_р-н Индустриальный</td>\n",
       "      <td>0.025332</td>\n",
       "    </tr>\n",
       "    <tr>\n",
       "      <th>27</th>\n",
       "      <td>district_р-н Мотовилихинский</td>\n",
       "      <td>0.023716</td>\n",
       "    </tr>\n",
       "    <tr>\n",
       "      <th>11</th>\n",
       "      <td>repair_косметический</td>\n",
       "      <td>0.023417</td>\n",
       "    </tr>\n",
       "    <tr>\n",
       "      <th>10</th>\n",
       "      <td>repair_евро</td>\n",
       "      <td>0.022786</td>\n",
       "    </tr>\n",
       "    <tr>\n",
       "      <th>20</th>\n",
       "      <td>type of house_кирпичный</td>\n",
       "      <td>0.021792</td>\n",
       "    </tr>\n",
       "    <tr>\n",
       "      <th>19</th>\n",
       "      <td>type of house_блочный</td>\n",
       "      <td>0.014327</td>\n",
       "    </tr>\n",
       "    <tr>\n",
       "      <th>18</th>\n",
       "      <td>terrace_нет</td>\n",
       "      <td>0.014248</td>\n",
       "    </tr>\n",
       "    <tr>\n",
       "      <th>12</th>\n",
       "      <td>repair_требует ремонта</td>\n",
       "      <td>0.013934</td>\n",
       "    </tr>\n",
       "    <tr>\n",
       "      <th>14</th>\n",
       "      <td>bathroom_раздельный</td>\n",
       "      <td>0.013878</td>\n",
       "    </tr>\n",
       "    <tr>\n",
       "      <th>29</th>\n",
       "      <td>district_р-н Свердловский</td>\n",
       "      <td>0.013004</td>\n",
       "    </tr>\n",
       "    <tr>\n",
       "      <th>3</th>\n",
       "      <td>apartment floor</td>\n",
       "      <td>0.012250</td>\n",
       "    </tr>\n",
       "    <tr>\n",
       "      <th>25</th>\n",
       "      <td>district_р-н Кировский</td>\n",
       "      <td>0.012189</td>\n",
       "    </tr>\n",
       "    <tr>\n",
       "      <th>9</th>\n",
       "      <td>repair_дизайнерский</td>\n",
       "      <td>0.011964</td>\n",
       "    </tr>\n",
       "    <tr>\n",
       "      <th>22</th>\n",
       "      <td>type of house_панельный</td>\n",
       "      <td>0.011228</td>\n",
       "    </tr>\n",
       "    <tr>\n",
       "      <th>21</th>\n",
       "      <td>type of house_монолитный</td>\n",
       "      <td>0.008721</td>\n",
       "    </tr>\n",
       "    <tr>\n",
       "      <th>6</th>\n",
       "      <td>garbage chute</td>\n",
       "      <td>0.008380</td>\n",
       "    </tr>\n",
       "    <tr>\n",
       "      <th>23</th>\n",
       "      <td>district_р-н Дзержинский</td>\n",
       "      <td>0.007582</td>\n",
       "    </tr>\n",
       "    <tr>\n",
       "      <th>16</th>\n",
       "      <td>terrace_балкон</td>\n",
       "      <td>0.007296</td>\n",
       "    </tr>\n",
       "    <tr>\n",
       "      <th>0</th>\n",
       "      <td>number of rooms</td>\n",
       "      <td>0.005851</td>\n",
       "    </tr>\n",
       "    <tr>\n",
       "      <th>5</th>\n",
       "      <td>elevator</td>\n",
       "      <td>0.005780</td>\n",
       "    </tr>\n",
       "    <tr>\n",
       "      <th>13</th>\n",
       "      <td>bathroom_несколько</td>\n",
       "      <td>0.004452</td>\n",
       "    </tr>\n",
       "    <tr>\n",
       "      <th>15</th>\n",
       "      <td>bathroom_совмещенный</td>\n",
       "      <td>0.001977</td>\n",
       "    </tr>\n",
       "  </tbody>\n",
       "</table>\n",
       "</div>"
      ],
      "text/plain": [
       "                           feature  importance\n",
       "1                area of apartment    0.325777\n",
       "4             year of construction    0.111995\n",
       "28  district_р-н Орджоникидзевский    0.077828\n",
       "8                         distance    0.068955\n",
       "2                 number of floors    0.041259\n",
       "7                        concierge    0.034782\n",
       "26          district_р-н Ленинский    0.029877\n",
       "17                  terrace_лоджия    0.025422\n",
       "24     district_р-н Индустриальный    0.025332\n",
       "27    district_р-н Мотовилихинский    0.023716\n",
       "11            repair_косметический    0.023417\n",
       "10                     repair_евро    0.022786\n",
       "20         type of house_кирпичный    0.021792\n",
       "19           type of house_блочный    0.014327\n",
       "18                     terrace_нет    0.014248\n",
       "12          repair_требует ремонта    0.013934\n",
       "14             bathroom_раздельный    0.013878\n",
       "29       district_р-н Свердловский    0.013004\n",
       "3                  apartment floor    0.012250\n",
       "25          district_р-н Кировский    0.012189\n",
       "9              repair_дизайнерский    0.011964\n",
       "22         type of house_панельный    0.011228\n",
       "21        type of house_монолитный    0.008721\n",
       "6                    garbage chute    0.008380\n",
       "23        district_р-н Дзержинский    0.007582\n",
       "16                  terrace_балкон    0.007296\n",
       "0                  number of rooms    0.005851\n",
       "5                         elevator    0.005780\n",
       "13              bathroom_несколько    0.004452\n",
       "15            bathroom_совмещенный    0.001977"
      ]
     },
     "execution_count": 51,
     "metadata": {},
     "output_type": "execute_result"
    }
   ],
   "source": [
    "pd.DataFrame({'feature': data.columns, 'importance': xgb_reg.feature_importances_}).sort_values(by='importance', ascending=False)"
   ]
  },
  {
   "cell_type": "markdown",
   "id": "52690a7e",
   "metadata": {},
   "source": [
    "## XGBoost на нестандартизированных данных"
   ]
  },
  {
   "cell_type": "code",
   "execution_count": 52,
   "id": "f20e0314",
   "metadata": {},
   "outputs": [],
   "source": [
    "X = data.values\n",
    "y = target.values\n",
    "\n",
    "X_train, X_test, y_train, y_test = train_test_split(X, y, \n",
    "                                                    train_size=0.8, \n",
    "                                                    random_state=42)"
   ]
  },
  {
   "cell_type": "code",
   "execution_count": 53,
   "id": "aef5e3a2",
   "metadata": {},
   "outputs": [
    {
     "data": {
      "text/plain": [
       "XGBRegressor(base_score=0.5, booster='gbtree', colsample_bylevel=1,\n",
       "             colsample_bynode=1, colsample_bytree=1, gamma=0, gpu_id=-1,\n",
       "             importance_type='gain', interaction_constraints='',\n",
       "             learning_rate=0.05, max_delta_step=0, max_depth=6,\n",
       "             min_child_weight=1, missing=nan, monotone_constraints='()',\n",
       "             n_estimators=150, n_jobs=8, num_parallel_tree=1, random_state=0,\n",
       "             reg_alpha=0, reg_lambda=1, scale_pos_weight=1, subsample=1,\n",
       "             tree_method='exact', validate_parameters=1, verbosity=None)"
      ]
     },
     "execution_count": 53,
     "metadata": {},
     "output_type": "execute_result"
    }
   ],
   "source": [
    "xgb_reg = xgb.XGBRegressor(n_estimators=150, learning_rate=0.05,\n",
    "                          max_depth=6) \n",
    "xgb_reg.fit(X_train, y_train.ravel()) "
   ]
  },
  {
   "cell_type": "code",
   "execution_count": 54,
   "id": "90e8c2c5",
   "metadata": {},
   "outputs": [
    {
     "name": "stdout",
     "output_type": "stream",
     "text": [
      "RMSE  388267.801\n"
     ]
    }
   ],
   "source": [
    "predicts = xgb_reg.predict(X_test)\n",
    "\n",
    "mse = mean_squared_error(predicts, y_test)\n",
    "rmse = np.sqrt(mse)\n",
    "print(\"RMSE \", round(rmse, 3))"
   ]
  },
  {
   "cell_type": "markdown",
   "id": "12756009",
   "metadata": {},
   "source": [
    "## Визуализация XGBoost"
   ]
  },
  {
   "cell_type": "code",
   "execution_count": 55,
   "id": "87fd1ae5",
   "metadata": {},
   "outputs": [],
   "source": [
    "import matplotlib.pyplot as plt"
   ]
  },
  {
   "cell_type": "code",
   "execution_count": 56,
   "id": "7b0caec1",
   "metadata": {},
   "outputs": [
    {
     "data": {
      "text/plain": [
       "<matplotlib.legend.Legend at 0x195b0915e20>"
      ]
     },
     "execution_count": 56,
     "metadata": {},
     "output_type": "execute_result"
    },
    {
     "data": {
      "image/png": "[encoded data removed]",
      "text/plain": [
       "<Figure size 720x504 with 1 Axes>"
      ]
     },
     "metadata": {
      "needs_background": "light"
     },
     "output_type": "display_data"
    }
   ],
   "source": [
    "plt.figure(figsize=(10, 7))\n",
    "plt.plot(y_test[:50], '-ro', linewidth=2, label='реальные значения')\n",
    "plt.plot(predicts[:50], '-go', linewidth=2, label='предсказания')\n",
    "plt.legend()"
   ]
  },
  {
   "cell_type": "code",
   "execution_count": 57,
   "id": "bf5c165a",
   "metadata": {},
   "outputs": [
    {
     "data": {
      "text/plain": [
       "Text(0, 0.5, 'Предсказанная цена')"
      ]
     },
     "execution_count": 57,
     "metadata": {},
     "output_type": "execute_result"
    },
    {
     "data": {
      "image/png": "[encoded data removed]",
      "text/plain": [
       "<Figure size 720x504 with 1 Axes>"
      ]
     },
     "metadata": {
      "needs_background": "light"
     },
     "output_type": "display_data"
    }
   ],
   "source": [
    "plt.figure(figsize=(10, 7))\n",
    "plt.plot(np.array(range(7)), np.array(range(7)), c='r')\n",
    "plt.scatter(y_test/1_000_000, predicts/1_000_000, alpha=0.7)\n",
    "plt.xlabel(\"Реальная цена\", size=20)\n",
    "plt.ylabel(\"Предсказанная цена\", size=20)"
   ]
  },
  {
   "cell_type": "markdown",
   "id": "fb6c6f52",
   "metadata": {},
   "source": [
    "## Выводы"
   ]
  },
  {
   "cell_type": "markdown",
   "id": "c1018562",
   "metadata": {},
   "source": [
    "#### Дорогие квартиры\n",
    "Модели плохо работают с квартирами, имеющими высокую цену (порядка 6 миллионов). Это можно интерпретировать как то, что такие квартиры не отличаются от квартир более низкой ценовой категории по характеристикам, поэтому модель не может сделать прогноз выше, иными словами, цены на эти квартиры сильно завышены.\n",
    "\n",
    "В качестве решения можно было бы дополнить признаками собственности (частник или агенство), так как наличие агента увеличивает цену, новостроечности (да или нет), так как в новостройках квартиры стоят дороже, но это частично должно быть учтено в годе дома. \n",
    "\n",
    "#### Ключевые признаки\n",
    "Модели, использующие решающие леса, показали наиболее важные признаки при решении задачи регрессии:\n",
    "**Площадь**, **год постройки**, **расстояние до центра**, **количество этажей**"
   ]
  },
  {
   "cell_type": "markdown",
   "id": "3af5aa05",
   "metadata": {},
   "source": [
    "#### Предложение\n",
    "Необходимо произвести анализ категориальных признаков и преобразовать их в количественные. Например, район можно преобразовать в соответствии с уровнем преступности или показателем благополучия."
   ]
  },
  {
   "cell_type": "code",
   "execution_count": null,
   "id": "5c98dabc",
   "metadata": {},
   "outputs": [],
   "source": []
  }
 ],
 "metadata": {
  "kernelspec": {
   "display_name": "Python 3",
   "language": "python",
   "name": "python3"
  },
  "language_info": {
   "codemirror_mode": {
    "name": "ipython",
    "version": 3
   },
   "file_extension": ".py",
   "mimetype": "text/x-python",
   "name": "python",
   "nbconvert_exporter": "python",
   "pygments_lexer": "ipython3",
   "version": "3.9.5"
  }
 },
 "nbformat": 4,
 "nbformat_minor": 5
}
