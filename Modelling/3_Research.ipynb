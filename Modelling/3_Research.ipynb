{
 "cells": [
  {
   "cell_type": "markdown",
   "id": "d3ca2042",
   "metadata": {},
   "source": [
    "# Исследование"
   ]
  },
  {
   "cell_type": "markdown",
   "id": "81f80249",
   "metadata": {},
   "source": [
    "## Импорт библиотек"
   ]
  },
  {
   "cell_type": "code",
   "execution_count": 1,
   "id": "c5cd1186",
   "metadata": {},
   "outputs": [],
   "source": [
    "import pandas as pd\n",
    "import numpy as np\n",
    "import torch\n",
    "import matplotlib.pyplot as plt"
   ]
  },
  {
   "cell_type": "markdown",
   "id": "f0edc723",
   "metadata": {},
   "source": [
    "## Модель и данные"
   ]
  },
  {
   "cell_type": "code",
   "execution_count": 5,
   "id": "9d682da6",
   "metadata": {},
   "outputs": [],
   "source": [
    "from torch.utils.data import Dataset\n",
    "import torch.nn as nn"
   ]
  },
  {
   "cell_type": "code",
   "execution_count": 6,
   "id": "a6a1e3ba",
   "metadata": {},
   "outputs": [],
   "source": [
    "class PermAppartmentDataset(Dataset):\n",
    "    def __init__(self, filename):\n",
    "        super().__init__()\n",
    "        data = pd.read_csv(filename, sep=';')\n",
    "        self.y = torch.from_numpy(data.price.values).to(dtype=torch.float32)\n",
    "        self.x = torch.from_numpy(data.drop('price', axis=1).values).to(dtype=torch.float32)\n",
    "        self.n = len(self.y)\n",
    "        del data\n",
    "    \n",
    "    def __len__(self):\n",
    "        return self.n\n",
    "    \n",
    "    def __getitem__(self, idx):\n",
    "        return self.x[idx], self.y[idx]"
   ]
  },
  {
   "cell_type": "code",
   "execution_count": 7,
   "id": "f14bd7aa",
   "metadata": {},
   "outputs": [],
   "source": [
    "class BestModel(nn.Module):\n",
    "    def __init__(self):\n",
    "        super().__init__()\n",
    "        self.seq = nn.Sequential(\n",
    "            nn.BatchNorm1d(37),\n",
    "            nn.Linear(37, 8),\n",
    "            nn.ReLU(),\n",
    "            nn.Linear(8, 1)\n",
    "        )\n",
    "    \n",
    "    def forward(self, x):\n",
    "        res = self.seq(x)\n",
    "        return res"
   ]
  },
  {
   "cell_type": "code",
   "execution_count": 8,
   "id": "8f4c09e9",
   "metadata": {},
   "outputs": [],
   "source": [
    "train_set = PermAppartmentDataset('../final_train.csv')"
   ]
  },
  {
   "cell_type": "code",
   "execution_count": 9,
   "id": "650e9357",
   "metadata": {},
   "outputs": [
    {
     "data": {
      "text/plain": [
       "<All keys matched successfully>"
      ]
     },
     "execution_count": 9,
     "metadata": {},
     "output_type": "execute_result"
    }
   ],
   "source": [
    "model = BestModel()\n",
    "model.load_state_dict(torch.load('../best_model.pkl'))"
   ]
  },
  {
   "cell_type": "markdown",
   "id": "599bc549",
   "metadata": {},
   "source": [
    "## Влияние удаленности от центра"
   ]
  },
  {
   "cell_type": "code",
   "execution_count": 14,
   "id": "a7928dd5",
   "metadata": {},
   "outputs": [],
   "source": [
    "center_apartment = None\n",
    "for (X, y) in train_set:\n",
    "    if X[-1] < 300:\n",
    "        center_apartment = (X, y)"
   ]
  },
  {
   "cell_type": "code",
   "execution_count": 15,
   "id": "c858c38e",
   "metadata": {},
   "outputs": [],
   "source": [
    "headers = [\n",
    "        'Число комнат', 'Площадь', 'Число этажей',\n",
    "       'Этаж квартиры', 'Год постройки', 'Число лифтов',\n",
    "       'Наличие консьержа', 'Наличие мусоропровода', 'Дизайнерский ремонт', 'Евро-ремонт',\n",
    "       'Косметический ремонт', 'Требуется ремонт', 'Несколько ванных комнат',\n",
    "       'Раздельный санузел', 'Совмещенный санузел', 'Балкон',\n",
    "       'Лоджия', 'Нет ни балкона, ни лоджии', 'Блочный дом',\n",
    "       'Деревянный дом', 'Кирпичный дом',\n",
    "       'Монолитный дом', 'Панельный дом',\n",
    "       'Дзержинский район', 'Индустриальный район', 'Кировский район',\n",
    "       'Ленинский район', 'Мотовилихинский район',\n",
    "       'Орджоникидзевский район', 'Свердловский район', 'Широта', 'Долгота',\n",
    "       'Число образовательных учреждений', 'Число заведений здоровья', \n",
    "       'Число заведений культуры', 'Число заведений общепита', 'Расстояние до центра'\n",
    "]"
   ]
  },
  {
   "cell_type": "code",
   "execution_count": 16,
   "id": "3a08513d",
   "metadata": {},
   "outputs": [
    {
     "name": "stdout",
     "output_type": "stream",
     "text": [
      "Число комнат: 2.0\n",
      "Площадь: 54.0\n",
      "Число этажей: 9.0\n",
      "Этаж квартиры: 5.0\n",
      "Год постройки: 1977.0\n",
      "Число лифтов: 1.0\n",
      "Наличие консьержа: 0.0\n",
      "Наличие мусоропровода: 1.0\n",
      "Дизайнерский ремонт: 0.0\n",
      "Евро-ремонт: 0.0\n",
      "Косметический ремонт: 1.0\n",
      "Требуется ремонт: 0.0\n",
      "Несколько ванных комнат: 0.0\n",
      "Раздельный санузел: 0.0\n",
      "Совмещенный санузел: 1.0\n",
      "Балкон: 0.0\n",
      "Лоджия: 1.0\n",
      "Нет ни балкона, ни лоджии: 0.0\n",
      "Блочный дом: 0.0\n",
      "Деревянный дом: 0.0\n",
      "Кирпичный дом: 1.0\n",
      "Монолитный дом: 0.0\n",
      "Панельный дом: 0.0\n",
      "Дзержинский район: 0.0\n",
      "Индустриальный район: 0.0\n",
      "Кировский район: 0.0\n",
      "Ленинский район: 1.0\n",
      "Мотовилихинский район: 0.0\n",
      "Орджоникидзевский район: 0.0\n",
      "Свердловский район: 0.0\n",
      "Широта: 58.00846481323242\n",
      "Долгота: 56.23234558105469\n",
      "Число образовательных учреждений: 61.0\n",
      "Число заведений здоровья: 42.0\n",
      "Число заведений культуры: 11.0\n",
      "Число заведений общепита: 383.0\n",
      "Расстояние до центра: 279.70001220703125\n"
     ]
    }
   ],
   "source": [
    "for idx, feature in enumerate(center_apartment[0]):\n",
    "    print(headers[idx] + \": \" + str(feature.item()))"
   ]
  },
  {
   "cell_type": "code",
   "execution_count": 30,
   "id": "9c5cf4a8",
   "metadata": {},
   "outputs": [
    {
     "data": {
      "text/plain": [
       "array([ 300.        ,  398.99497487,  497.98994975,  596.98492462,\n",
       "        695.9798995 ,  794.97487437,  893.96984925,  992.96482412,\n",
       "       1091.95979899, 1190.95477387])"
      ]
     },
     "execution_count": 30,
     "metadata": {},
     "output_type": "execute_result"
    }
   ],
   "source": [
    "start_distance = 300\n",
    "end_distance = 20_000\n",
    "dists = np.linspace(start_distance, end_distance, 200)\n",
    "new_prices = []\n",
    "dists[:10]"
   ]
  },
  {
   "cell_type": "code",
   "execution_count": 31,
   "id": "b827f8d9",
   "metadata": {},
   "outputs": [],
   "source": [
    "model.eval()\n",
    "with torch.no_grad():\n",
    "    for distance in dists:\n",
    "        data = center_apartment[0].clone().detach().requires_grad_(False)\n",
    "        data[-1] = torch.tensor(distance, dtype=torch.float32)\n",
    "        y_pred = model(data.reshape(1, -1))\n",
    "        new_prices.append(y_pred)"
   ]
  },
  {
   "cell_type": "code",
   "execution_count": 37,
   "id": "07737a00",
   "metadata": {},
   "outputs": [
    {
     "data": {
      "image/png": "[encoded data removed]",
      "text/plain": [
       "<Figure size 1080x720 with 1 Axes>"
      ]
     },
     "metadata": {
      "needs_background": "light"
     },
     "output_type": "display_data"
    }
   ],
   "source": [
    "plt.figure(figsize=(15, 10))\n",
    "plt.subplot(2, 1, 1)\n",
    "plt.plot(dists, new_prices)\n",
    "plt.xlabel(\"Расстояние, м\", size=14)\n",
    "plt.ylabel(\"Цена, млн. руб.\", size=14)\n",
    "plt.show()"
   ]
  },
  {
   "cell_type": "code",
   "execution_count": 39,
   "id": "eb4bd6e6",
   "metadata": {},
   "outputs": [
    {
     "data": {
      "text/plain": [
       "tensor([[59.6833]])"
      ]
     },
     "execution_count": 39,
     "metadata": {},
     "output_type": "execute_result"
    }
   ],
   "source": [
    "(max(new_prices) - min(new_prices))/(max(dists) - min(dists))"
   ]
  },
  {
   "cell_type": "code",
   "execution_count": 93,
   "id": "256b5620",
   "metadata": {},
   "outputs": [],
   "source": [
    "far_apartment = None\n",
    "for (X, y) in train_set:\n",
    "    if 12000 > X[-1] > 11000:\n",
    "        far_apartment = (X, y)"
   ]
  },
  {
   "cell_type": "code",
   "execution_count": 94,
   "id": "9ee90695",
   "metadata": {},
   "outputs": [
    {
     "name": "stdout",
     "output_type": "stream",
     "text": [
      "Число комнат: 3.0\n",
      "Площадь: 58.099998474121094\n",
      "Число этажей: 9.0\n",
      "Этаж квартиры: 8.0\n",
      "Год постройки: 1983.0\n",
      "Число лифтов: 1.0\n",
      "Наличие консьержа: 0.0\n",
      "Наличие мусоропровода: 1.0\n",
      "Дизайнерский ремонт: 0.0\n",
      "Евро-ремонт: 1.0\n",
      "Косметический ремонт: 0.0\n",
      "Требуется ремонт: 0.0\n",
      "Несколько ванных комнат: 0.0\n",
      "Раздельный санузел: 0.0\n",
      "Совмещенный санузел: 1.0\n",
      "Балкон: 1.0\n",
      "Лоджия: 0.0\n",
      "Нет ни балкона, ни лоджии: 0.0\n",
      "Блочный дом: 0.0\n",
      "Деревянный дом: 0.0\n",
      "Кирпичный дом: 0.0\n",
      "Монолитный дом: 0.0\n",
      "Панельный дом: 1.0\n",
      "Дзержинский район: 0.0\n",
      "Индустриальный район: 0.0\n",
      "Кировский район: 0.0\n",
      "Ленинский район: 0.0\n",
      "Мотовилихинский район: 0.0\n",
      "Орджоникидзевский район: 1.0\n",
      "Свердловский район: 0.0\n",
      "Широта: 58.109718322753906\n",
      "Долгота: 56.28522491455078\n",
      "Число образовательных учреждений: 3.0\n",
      "Число заведений здоровья: 3.0\n",
      "Число заведений культуры: 2.0\n",
      "Число заведений общепита: 11.0\n",
      "Расстояние до центра: 11518.4296875\n"
     ]
    }
   ],
   "source": [
    "for idx, feature in enumerate(far_apartment[0]):\n",
    "    print(headers[idx] + \": \" + str(feature.item()))"
   ]
  },
  {
   "cell_type": "code",
   "execution_count": 95,
   "id": "80055194",
   "metadata": {},
   "outputs": [
    {
     "data": {
      "text/plain": [
       "array([11500.        , 11442.71356784, 11385.42713568, 11328.14070352,\n",
       "       11270.85427136, 11213.5678392 , 11156.28140704, 11098.99497487,\n",
       "       11041.70854271, 10984.42211055])"
      ]
     },
     "execution_count": 95,
     "metadata": {},
     "output_type": "execute_result"
    }
   ],
   "source": [
    "start_distance = 11500\n",
    "end_distance = 100\n",
    "dists = np.linspace(start_distance, end_distance, 200)\n",
    "new_prices = []\n",
    "dists[:10]"
   ]
  },
  {
   "cell_type": "code",
   "execution_count": 96,
   "id": "e83c3ccc",
   "metadata": {},
   "outputs": [],
   "source": [
    "model.eval()\n",
    "with torch.no_grad():\n",
    "    for distance in dists:\n",
    "        data = far_apartment[0].clone().detach().requires_grad_(False)\n",
    "        data[-1] = torch.tensor(distance, dtype=torch.float32)\n",
    "        y_pred = model(data.reshape(1, -1))\n",
    "        new_prices.append(y_pred)"
   ]
  },
  {
   "cell_type": "code",
   "execution_count": 97,
   "id": "73132e95",
   "metadata": {},
   "outputs": [
    {
     "data": {
      "image/png": "[encoded data removed]",
      "text/plain": [
       "<Figure size 1080x720 with 1 Axes>"
      ]
     },
     "metadata": {
      "needs_background": "light"
     },
     "output_type": "display_data"
    }
   ],
   "source": [
    "plt.figure(figsize=(15, 10))\n",
    "plt.subplot(2, 1, 1)\n",
    "plt.plot(dists, new_prices)\n",
    "plt.xlabel(\"Расстояние, м\", size=14)\n",
    "plt.ylabel(\"Цена, млн. руб.\", size=14)\n",
    "plt.gca().invert_xaxis()\n",
    "plt.show()"
   ]
  },
  {
   "cell_type": "code",
   "execution_count": 98,
   "id": "2cf31a12",
   "metadata": {},
   "outputs": [
    {
     "data": {
      "text/plain": [
       "tensor([[64.4166]])"
      ]
     },
     "execution_count": 98,
     "metadata": {},
     "output_type": "execute_result"
    }
   ],
   "source": [
    "(max(new_prices) - min(new_prices))/(max(dists) - min(dists))"
   ]
  },
  {
   "cell_type": "markdown",
   "id": "6b912beb",
   "metadata": {},
   "source": [
    "## Влияние инфраструктуры"
   ]
  },
  {
   "cell_type": "markdown",
   "id": "c48d141e",
   "metadata": {},
   "source": [
    "### Образование"
   ]
  },
  {
   "cell_type": "code",
   "execution_count": 136,
   "id": "00ea5899",
   "metadata": {},
   "outputs": [],
   "source": [
    "mean_infro_apartment = None\n",
    "for (X, y) in train_set:\n",
    "     if 10 < X[-2] < 280 and 0 < X[-3] < 300 and 0 < X[-4] < 300 and 0 < X[-5] < 300:\n",
    "        mean_infro_apartment = (X, y)"
   ]
  },
  {
   "cell_type": "code",
   "execution_count": 137,
   "id": "b8ba040d",
   "metadata": {},
   "outputs": [
    {
     "data": {
      "text/plain": [
       "(tensor([3.0000e+00, 4.2500e+01, 5.0000e+00, 5.0000e+00, 1.9650e+03, 0.0000e+00,\n",
       "         0.0000e+00, 0.0000e+00, 0.0000e+00, 0.0000e+00, 1.0000e+00, 0.0000e+00,\n",
       "         0.0000e+00, 0.0000e+00, 1.0000e+00, 1.0000e+00, 0.0000e+00, 0.0000e+00,\n",
       "         0.0000e+00, 0.0000e+00, 1.0000e+00, 0.0000e+00, 0.0000e+00, 0.0000e+00,\n",
       "         1.0000e+00, 0.0000e+00, 0.0000e+00, 0.0000e+00, 0.0000e+00, 0.0000e+00,\n",
       "         5.7977e+01, 5.6182e+01, 1.9000e+01, 2.7000e+01, 1.0000e+01, 2.0200e+02,\n",
       "         4.7047e+03]),\n",
       " tensor(2840000.))"
      ]
     },
     "execution_count": 137,
     "metadata": {},
     "output_type": "execute_result"
    }
   ],
   "source": [
    "mean_infro_apartment"
   ]
  },
  {
   "cell_type": "code",
   "execution_count": 149,
   "id": "6bd0327b",
   "metadata": {},
   "outputs": [
    {
     "name": "stdout",
     "output_type": "stream",
     "text": [
      "Число комнат: 3.0\n",
      "Площадь: 42.5\n",
      "Число этажей: 5.0\n",
      "Этаж квартиры: 5.0\n",
      "Год постройки: 1965.0\n",
      "Число лифтов: 0.0\n",
      "Наличие консьержа: 0.0\n",
      "Наличие мусоропровода: 0.0\n",
      "Дизайнерский ремонт: 0.0\n",
      "Евро-ремонт: 0.0\n",
      "Косметический ремонт: 1.0\n",
      "Требуется ремонт: 0.0\n",
      "Несколько ванных комнат: 0.0\n",
      "Раздельный санузел: 0.0\n",
      "Совмещенный санузел: 1.0\n",
      "Балкон: 1.0\n",
      "Лоджия: 0.0\n",
      "Нет ни балкона, ни лоджии: 0.0\n",
      "Блочный дом: 0.0\n",
      "Деревянный дом: 0.0\n",
      "Кирпичный дом: 1.0\n",
      "Монолитный дом: 0.0\n",
      "Панельный дом: 0.0\n",
      "Дзержинский район: 0.0\n",
      "Индустриальный район: 1.0\n",
      "Кировский район: 0.0\n",
      "Ленинский район: 0.0\n",
      "Мотовилихинский район: 0.0\n",
      "Орджоникидзевский район: 0.0\n",
      "Свердловский район: 0.0\n",
      "Широта: 57.97660446166992\n",
      "Долгота: 56.181583404541016\n",
      "Число образовательных учреждений: 19.0\n",
      "Число заведений здоровья: 27.0\n",
      "Число заведений культуры: 10.0\n",
      "Число заведений общепита: 202.0\n",
      "Расстояние до центра: 4704.7001953125\n",
      "Цена: 2840000.0\n"
     ]
    }
   ],
   "source": [
    "for idx, feature in enumerate(mean_infro_apartment[0]):\n",
    "    print(headers[idx] + \": \" + str(feature.item()))\n",
    "print(\"Цена: \" + str(mean_infro_apartment[1].item()))"
   ]
  },
  {
   "cell_type": "code",
   "execution_count": 139,
   "id": "a76973ba",
   "metadata": {},
   "outputs": [
    {
     "data": {
      "image/png": "[encoded data removed]",
      "text/plain": [
       "<Figure size 1080x720 with 1 Axes>"
      ]
     },
     "metadata": {
      "needs_background": "light"
     },
     "output_type": "display_data"
    }
   ],
   "source": [
    "start_value = 27\n",
    "end_value = 100\n",
    "values = np.linspace(start_value, end_value, 20)\n",
    "new_prices = []\n",
    "\n",
    "model.eval()\n",
    "with torch.no_grad():\n",
    "    for value in values:\n",
    "        data = mean_infro_apartment[0].clone().detach().requires_grad_(False)\n",
    "        data[-5] = torch.tensor(value, dtype=torch.float32)\n",
    "        y_pred = model(data.reshape(1, -1))\n",
    "        new_prices.append(y_pred)\n",
    "\n",
    "plt.figure(figsize=(15, 10))\n",
    "plt.subplot(2, 1, 1)\n",
    "plt.plot(values, new_prices)\n",
    "plt.xlabel(\"Количество образовательных учреждений\", size=14)\n",
    "plt.ylabel(\"Цена, млн. руб.\", size=14)\n",
    "plt.show()"
   ]
  },
  {
   "cell_type": "code",
   "execution_count": 140,
   "id": "35949134",
   "metadata": {},
   "outputs": [
    {
     "data": {
      "text/plain": [
       "tensor([[6812.6919]])"
      ]
     },
     "execution_count": 140,
     "metadata": {},
     "output_type": "execute_result"
    }
   ],
   "source": [
    "(max(new_prices) - min(new_prices))/(max(values) - min(values))"
   ]
  },
  {
   "cell_type": "markdown",
   "id": "e846a113",
   "metadata": {},
   "source": [
    "### Еда"
   ]
  },
  {
   "cell_type": "code",
   "execution_count": 141,
   "id": "515ced82",
   "metadata": {},
   "outputs": [
    {
     "data": {
      "image/png": "[encoded data removed]",
      "text/plain": [
       "<Figure size 1080x720 with 1 Axes>"
      ]
     },
     "metadata": {
      "needs_background": "light"
     },
     "output_type": "display_data"
    }
   ],
   "source": [
    "start_value = 273\n",
    "end_value = 500\n",
    "values = np.linspace(start_value, end_value, 20)\n",
    "new_prices = []\n",
    "\n",
    "model.eval()\n",
    "with torch.no_grad():\n",
    "    for value in values:\n",
    "        data = mean_infro_apartment[0].clone().detach().requires_grad_(False)\n",
    "        data[-2] = torch.tensor(value, dtype=torch.float32)\n",
    "        y_pred = model(data.reshape(1, -1))\n",
    "        new_prices.append(y_pred)\n",
    "\n",
    "plt.figure(figsize=(15, 10))\n",
    "plt.subplot(2, 1, 1)\n",
    "plt.plot(values, new_prices)\n",
    "plt.xlabel(\"Количество заведений общепита\", size=14)\n",
    "plt.ylabel(\"Цена, млн. руб.\", size=14)\n",
    "plt.show()"
   ]
  },
  {
   "cell_type": "code",
   "execution_count": 142,
   "id": "817ce42e",
   "metadata": {},
   "outputs": [
    {
     "data": {
      "text/plain": [
       "tensor([[1795.8678]])"
      ]
     },
     "execution_count": 142,
     "metadata": {},
     "output_type": "execute_result"
    }
   ],
   "source": [
    "(max(new_prices) - min(new_prices))/(max(values) - min(values))"
   ]
  },
  {
   "cell_type": "markdown",
   "id": "7ea71311",
   "metadata": {},
   "source": [
    "### Культура"
   ]
  },
  {
   "cell_type": "code",
   "execution_count": 143,
   "id": "26c678c7",
   "metadata": {},
   "outputs": [
    {
     "data": {
      "image/png": "[encoded data removed]",
      "text/plain": [
       "<Figure size 1080x720 with 1 Axes>"
      ]
     },
     "metadata": {
      "needs_background": "light"
     },
     "output_type": "display_data"
    }
   ],
   "source": [
    "start_value = 23\n",
    "end_value = 100\n",
    "values = np.linspace(start_value, end_value, 20)\n",
    "new_prices = []\n",
    "\n",
    "model.eval()\n",
    "with torch.no_grad():\n",
    "    for value in values:\n",
    "        data = mean_infro_apartment[0].clone().detach().requires_grad_(False)\n",
    "        data[-3] = torch.tensor(value, dtype=torch.float32)\n",
    "        y_pred = model(data.reshape(1, -1))\n",
    "        new_prices.append(y_pred)\n",
    "\n",
    "plt.figure(figsize=(15, 10))\n",
    "plt.subplot(2, 1, 1)\n",
    "plt.plot(values, new_prices)\n",
    "plt.xlabel(\"Количество заведений культуры\", size=14)\n",
    "plt.ylabel(\"Цена, млн. руб.\", size=14)\n",
    "plt.show()"
   ]
  },
  {
   "cell_type": "code",
   "execution_count": 144,
   "id": "948cb662",
   "metadata": {},
   "outputs": [
    {
     "data": {
      "text/plain": [
       "tensor([[16593.8027]])"
      ]
     },
     "execution_count": 144,
     "metadata": {},
     "output_type": "execute_result"
    }
   ],
   "source": [
    "(max(new_prices) - min(new_prices))/(max(values) - min(values))"
   ]
  },
  {
   "cell_type": "markdown",
   "id": "8d8c69d6",
   "metadata": {},
   "source": [
    "### Здоровье"
   ]
  },
  {
   "cell_type": "code",
   "execution_count": 145,
   "id": "93faf4cf",
   "metadata": {},
   "outputs": [
    {
     "data": {
      "image/png": "[encoded data removed]",
      "text/plain": [
       "<Figure size 1080x720 with 1 Axes>"
      ]
     },
     "metadata": {
      "needs_background": "light"
     },
     "output_type": "display_data"
    }
   ],
   "source": [
    "start_value = 11\n",
    "end_value = 100\n",
    "values = np.linspace(start_value, end_value, 20)\n",
    "new_prices = []\n",
    "\n",
    "model.eval()\n",
    "with torch.no_grad():\n",
    "    for value in values:\n",
    "        data = mean_infro_apartment[0].clone().detach().requires_grad_(False)\n",
    "        data[-4] = torch.tensor(value, dtype=torch.float32)\n",
    "        y_pred = model(data.reshape(1, -1))\n",
    "        new_prices.append(y_pred)\n",
    "\n",
    "plt.figure(figsize=(15, 10))\n",
    "plt.subplot(2, 1, 1)\n",
    "plt.plot(values, new_prices)\n",
    "plt.xlabel(\"Количество заведений здоровья\", size=14)\n",
    "plt.ylabel(\"Цена, млн. руб.\", size=14)\n",
    "plt.show()"
   ]
  },
  {
   "cell_type": "code",
   "execution_count": 146,
   "id": "b8a8a068",
   "metadata": {},
   "outputs": [
    {
     "data": {
      "text/plain": [
       "tensor([[17732.1230]])"
      ]
     },
     "execution_count": 146,
     "metadata": {},
     "output_type": "execute_result"
    }
   ],
   "source": [
    "(max(new_prices) - min(new_prices))/(max(values) - min(values))"
   ]
  },
  {
   "cell_type": "markdown",
   "id": "c4d52984",
   "metadata": {},
   "source": [
    "### Одновременное изменение"
   ]
  },
  {
   "cell_type": "code",
   "execution_count": 166,
   "id": "e95abf07",
   "metadata": {},
   "outputs": [
    {
     "data": {
      "image/png": "[encoded data removed]",
      "text/plain": [
       "<Figure size 1080x720 with 1 Axes>"
      ]
     },
     "metadata": {
      "needs_background": "light"
     },
     "output_type": "display_data"
    }
   ],
   "source": [
    "# Число образовательных учреждений: 19.0\n",
    "# Число заведений здоровья: 27.0\n",
    "# Число заведений культуры: 10.0\n",
    "# Число заведений общепита: 202.0\n",
    "\n",
    "value_dict = dict(edu=19, health=27, culture=10, eat=202)\n",
    "new_prices = []\n",
    "\n",
    "model.eval()\n",
    "with torch.no_grad():\n",
    "    for i in range(100):\n",
    "        data = mean_infro_apartment[0].clone().detach().requires_grad_(False)\n",
    "        data[-5] = torch.tensor(value_dict.get('edu'), dtype=torch.float32)\n",
    "        data[-4] = torch.tensor(value_dict.get('health'), dtype=torch.float32)\n",
    "        data[-3] = torch.tensor(value_dict.get('culture'), dtype=torch.float32)\n",
    "        data[-2] = torch.tensor(value_dict.get('eat'), dtype=torch.float32)\n",
    "        y_pred = model(data.reshape(1, -1))\n",
    "        value_dict['edu'] += 1.5 + 2*i/100\n",
    "        value_dict['health'] += 0.5 + 5*i/100\n",
    "        value_dict['culture'] += 0.5 + 10*i/100\n",
    "        value_dict['eat'] += 1 + i/100\n",
    "        new_prices.append(y_pred)\n",
    "        \n",
    "plt.figure(figsize=(15, 10))\n",
    "plt.subplot(2, 1, 1)\n",
    "plt.scatter(list(range(len(new_prices))), new_prices)\n",
    "plt.xlabel(\"Количество заведений здоровья\", size=14)\n",
    "plt.ylabel(\"Цена, млн. руб.\", size=14)\n",
    "plt.show()"
   ]
  },
  {
   "cell_type": "code",
   "execution_count": null,
   "id": "bbbee5f9",
   "metadata": {},
   "outputs": [],
   "source": []
  }
 ],
 "metadata": {
  "kernelspec": {
   "display_name": "Python 3",
   "language": "python",
   "name": "python3"
  },
  "language_info": {
   "codemirror_mode": {
    "name": "ipython",
    "version": 3
   },
   "file_extension": ".py",
   "mimetype": "text/x-python",
   "name": "python",
   "nbconvert_exporter": "python",
   "pygments_lexer": "ipython3",
   "version": "3.9.5"
  }
 },
 "nbformat": 4,
 "nbformat_minor": 5
}
