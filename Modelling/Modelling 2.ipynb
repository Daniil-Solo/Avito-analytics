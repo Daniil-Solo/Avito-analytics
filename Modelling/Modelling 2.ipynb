{
 "cells": [
  {
   "cell_type": "markdown",
   "id": "a66f78a8",
   "metadata": {},
   "source": [
    "# Modelling with new features"
   ]
  },
  {
   "cell_type": "code",
   "execution_count": 112,
   "id": "62d4c115",
   "metadata": {},
   "outputs": [],
   "source": [
    "import pandas as pd\n",
    "import numpy as np\n",
    "import matplotlib.pyplot as plt"
   ]
  },
  {
   "cell_type": "code",
   "execution_count": 113,
   "id": "33a211e8",
   "metadata": {},
   "outputs": [],
   "source": [
    "df = pd.read_csv('data_with_new_features.csv', sep=';')\n",
    "df = df.drop('street', axis=1)"
   ]
  },
  {
   "cell_type": "code",
   "execution_count": 114,
   "id": "897d0959",
   "metadata": {},
   "outputs": [
    {
     "name": "stdout",
     "output_type": "stream",
     "text": [
      "<class 'pandas.core.frame.DataFrame'>\n",
      "RangeIndex: 925 entries, 0 to 924\n",
      "Data columns (total 22 columns):\n",
      " #   Column                Non-Null Count  Dtype  \n",
      "---  ------                --------------  -----  \n",
      " 0   number of rooms       925 non-null    int64  \n",
      " 1   area of apartment     925 non-null    float64\n",
      " 2   number of floors      925 non-null    int64  \n",
      " 3   apartment floor       925 non-null    int64  \n",
      " 4   price                 925 non-null    float64\n",
      " 5   repair                925 non-null    object \n",
      " 6   bathroom              925 non-null    object \n",
      " 7   terrace               925 non-null    object \n",
      " 8   year of construction  925 non-null    int64  \n",
      " 9   elevator              925 non-null    int64  \n",
      " 10  garbage chute         925 non-null    int64  \n",
      " 11  type of house         925 non-null    object \n",
      " 12  district              925 non-null    object \n",
      " 13  concierge             925 non-null    int64  \n",
      " 14  distance              925 non-null    float64\n",
      " 15  price for metre       925 non-null    float64\n",
      " 16  district population   925 non-null    int64  \n",
      " 17  green rate            925 non-null    int64  \n",
      " 18  repair rate           925 non-null    int64  \n",
      " 19  bathroom rate         925 non-null    int64  \n",
      " 20  terrace rate          925 non-null    int64  \n",
      " 21  age                   925 non-null    int64  \n",
      "dtypes: float64(4), int64(13), object(5)\n",
      "memory usage: 159.1+ KB\n"
     ]
    }
   ],
   "source": [
    "df.info()"
   ]
  },
  {
   "cell_type": "markdown",
   "id": "181840fa",
   "metadata": {},
   "source": [
    "## Подготовка категориальных признаков"
   ]
  },
  {
   "cell_type": "markdown",
   "id": "5514e534",
   "metadata": {},
   "source": [
    "### Разбиение на данные и целевую метку"
   ]
  },
  {
   "cell_type": "code",
   "execution_count": 115,
   "id": "715cba7c",
   "metadata": {},
   "outputs": [],
   "source": [
    "not_categorial_features = []\n",
    "for column in df.columns:\n",
    "    if df[column].dtype != 'object':\n",
    "        not_categorial_features.append(column)"
   ]
  },
  {
   "cell_type": "code",
   "execution_count": 116,
   "id": "01671d0c",
   "metadata": {},
   "outputs": [],
   "source": [
    "data = df[not_categorial_features].copy().drop('price', axis=1)\n",
    "target = df[['price']].copy()"
   ]
  },
  {
   "cell_type": "markdown",
   "id": "23077865",
   "metadata": {},
   "source": [
    "### One-Hot-кодирование для категориальных признаков"
   ]
  },
  {
   "cell_type": "code",
   "execution_count": 117,
   "id": "49e6a529",
   "metadata": {},
   "outputs": [],
   "source": [
    "from sklearn.preprocessing import OneHotEncoder\n",
    "\n",
    "def get_one_hot_df(df, column):\n",
    "    encoder = OneHotEncoder()\n",
    "    new_df = pd.DataFrame(encoder.fit_transform(df[[column]]).toarray())\n",
    "    new_df.columns = [column + '_' + feature[3:] for feature in encoder.get_feature_names()]\n",
    "    return new_df"
   ]
  },
  {
   "cell_type": "code",
   "execution_count": 118,
   "id": "f0166e8a",
   "metadata": {},
   "outputs": [],
   "source": [
    "for column in df.columns:\n",
    "    if df[column].dtype == 'object':\n",
    "        one_hot_df = get_one_hot_df(df, column)\n",
    "        data = pd.merge(data, one_hot_df, left_index=True, right_index=True)"
   ]
  },
  {
   "cell_type": "code",
   "execution_count": 119,
   "id": "64a900bd",
   "metadata": {},
   "outputs": [
    {
     "name": "stdout",
     "output_type": "stream",
     "text": [
      "<class 'pandas.core.frame.DataFrame'>\n",
      "RangeIndex: 925 entries, 0 to 924\n",
      "Data columns (total 37 columns):\n",
      " #   Column                          Non-Null Count  Dtype  \n",
      "---  ------                          --------------  -----  \n",
      " 0   number of rooms                 925 non-null    int64  \n",
      " 1   area of apartment               925 non-null    float64\n",
      " 2   number of floors                925 non-null    int64  \n",
      " 3   apartment floor                 925 non-null    int64  \n",
      " 4   year of construction            925 non-null    int64  \n",
      " 5   elevator                        925 non-null    int64  \n",
      " 6   garbage chute                   925 non-null    int64  \n",
      " 7   concierge                       925 non-null    int64  \n",
      " 8   distance                        925 non-null    float64\n",
      " 9   price for metre                 925 non-null    float64\n",
      " 10  district population             925 non-null    int64  \n",
      " 11  green rate                      925 non-null    int64  \n",
      " 12  repair rate                     925 non-null    int64  \n",
      " 13  bathroom rate                   925 non-null    int64  \n",
      " 14  terrace rate                    925 non-null    int64  \n",
      " 15  age                             925 non-null    int64  \n",
      " 16  repair_дизайнерский             925 non-null    float64\n",
      " 17  repair_евро                     925 non-null    float64\n",
      " 18  repair_косметический            925 non-null    float64\n",
      " 19  repair_требует ремонта          925 non-null    float64\n",
      " 20  bathroom_несколько              925 non-null    float64\n",
      " 21  bathroom_раздельный             925 non-null    float64\n",
      " 22  bathroom_совмещенный            925 non-null    float64\n",
      " 23  terrace_балкон                  925 non-null    float64\n",
      " 24  terrace_лоджия                  925 non-null    float64\n",
      " 25  terrace_нет                     925 non-null    float64\n",
      " 26  type of house_блочный           925 non-null    float64\n",
      " 27  type of house_кирпичный         925 non-null    float64\n",
      " 28  type of house_монолитный        925 non-null    float64\n",
      " 29  type of house_панельный         925 non-null    float64\n",
      " 30  district_р-н Дзержинский        925 non-null    float64\n",
      " 31  district_р-н Индустриальный     925 non-null    float64\n",
      " 32  district_р-н Кировский          925 non-null    float64\n",
      " 33  district_р-н Ленинский          925 non-null    float64\n",
      " 34  district_р-н Мотовилихинский    925 non-null    float64\n",
      " 35  district_р-н Орджоникидзевский  925 non-null    float64\n",
      " 36  district_р-н Свердловский       925 non-null    float64\n",
      "dtypes: float64(24), int64(13)\n",
      "memory usage: 267.5 KB\n"
     ]
    }
   ],
   "source": [
    "data.info()"
   ]
  },
  {
   "cell_type": "markdown",
   "id": "45f152fd",
   "metadata": {},
   "source": [
    "## Деление на тестовую и тренировочную выборки"
   ]
  },
  {
   "cell_type": "code",
   "execution_count": 120,
   "id": "4d0a5d7a",
   "metadata": {},
   "outputs": [],
   "source": [
    "X = data.values\n",
    "y = target.values"
   ]
  },
  {
   "cell_type": "code",
   "execution_count": 121,
   "id": "5df77866",
   "metadata": {},
   "outputs": [
    {
     "data": {
      "text/plain": [
       "((925, 37), (925, 1))"
      ]
     },
     "execution_count": 121,
     "metadata": {},
     "output_type": "execute_result"
    }
   ],
   "source": [
    "X.shape, y.shape"
   ]
  },
  {
   "cell_type": "code",
   "execution_count": 122,
   "id": "b7a89274",
   "metadata": {},
   "outputs": [],
   "source": [
    "from sklearn.model_selection import train_test_split\n",
    "\n",
    "X_train, X_test, y_train, y_test = train_test_split(X, y, \n",
    "                                                    train_size=0.8, \n",
    "                                                    random_state=42)"
   ]
  },
  {
   "cell_type": "markdown",
   "id": "f47666e5",
   "metadata": {},
   "source": [
    "## XGBoost"
   ]
  },
  {
   "cell_type": "code",
   "execution_count": 123,
   "id": "3a48ea53",
   "metadata": {},
   "outputs": [],
   "source": [
    "import xgboost as xgb\n",
    "from sklearn.metrics import mean_squared_error"
   ]
  },
  {
   "cell_type": "code",
   "execution_count": 124,
   "id": "d84a29ff",
   "metadata": {},
   "outputs": [
    {
     "data": {
      "text/plain": [
       "XGBRegressor(base_score=0.5, booster='gbtree', colsample_bylevel=1,\n",
       "             colsample_bynode=1, colsample_bytree=1, gamma=0, gpu_id=-1,\n",
       "             importance_type='gain', interaction_constraints='',\n",
       "             learning_rate=0.05, max_delta_step=0, max_depth=4,\n",
       "             min_child_weight=1, missing=nan, monotone_constraints='()',\n",
       "             n_estimators=700, n_jobs=8, num_parallel_tree=1, random_state=42,\n",
       "             reg_alpha=0, reg_lambda=1, scale_pos_weight=1, subsample=1,\n",
       "             tree_method='exact', validate_parameters=1, verbosity=None)"
      ]
     },
     "execution_count": 124,
     "metadata": {},
     "output_type": "execute_result"
    }
   ],
   "source": [
    "xgb_reg = xgb.XGBRegressor(n_estimators=700, learning_rate=0.05,\n",
    "                          max_depth=4, random_state=42) \n",
    "xgb_reg.fit(X_train, y_train.ravel()) "
   ]
  },
  {
   "cell_type": "code",
   "execution_count": 125,
   "id": "d5cc4175",
   "metadata": {},
   "outputs": [
    {
     "name": "stdout",
     "output_type": "stream",
     "text": [
      "RMSE  350855.468\n"
     ]
    }
   ],
   "source": [
    "predicts = xgb_reg.predict(X_test)\n",
    "\n",
    "mse = mean_squared_error(predicts, y_test)\n",
    "rmse = np.sqrt(mse)\n",
    "print(\"RMSE \", round(rmse, 3))"
   ]
  },
  {
   "cell_type": "markdown",
   "id": "16b094c6",
   "metadata": {},
   "source": [
    "## Визуализация XGBoost"
   ]
  },
  {
   "cell_type": "code",
   "execution_count": 126,
   "id": "874bad74",
   "metadata": {},
   "outputs": [
    {
     "data": {
      "text/html": [
       "<div>\n",
       "<style scoped>\n",
       "    .dataframe tbody tr th:only-of-type {\n",
       "        vertical-align: middle;\n",
       "    }\n",
       "\n",
       "    .dataframe tbody tr th {\n",
       "        vertical-align: top;\n",
       "    }\n",
       "\n",
       "    .dataframe thead th {\n",
       "        text-align: right;\n",
       "    }\n",
       "</style>\n",
       "<table border=\"1\" class=\"dataframe\">\n",
       "  <thead>\n",
       "    <tr style=\"text-align: right;\">\n",
       "      <th></th>\n",
       "      <th>feature</th>\n",
       "      <th>importance</th>\n",
       "    </tr>\n",
       "  </thead>\n",
       "  <tbody>\n",
       "    <tr>\n",
       "      <th>1</th>\n",
       "      <td>area of apartment</td>\n",
       "      <td>0.322236</td>\n",
       "    </tr>\n",
       "    <tr>\n",
       "      <th>4</th>\n",
       "      <td>year of construction</td>\n",
       "      <td>0.109998</td>\n",
       "    </tr>\n",
       "    <tr>\n",
       "      <th>9</th>\n",
       "      <td>price for metre</td>\n",
       "      <td>0.085221</td>\n",
       "    </tr>\n",
       "    <tr>\n",
       "      <th>8</th>\n",
       "      <td>distance</td>\n",
       "      <td>0.055075</td>\n",
       "    </tr>\n",
       "    <tr>\n",
       "      <th>14</th>\n",
       "      <td>terrace rate</td>\n",
       "      <td>0.050547</td>\n",
       "    </tr>\n",
       "    <tr>\n",
       "      <th>7</th>\n",
       "      <td>concierge</td>\n",
       "      <td>0.047690</td>\n",
       "    </tr>\n",
       "    <tr>\n",
       "      <th>12</th>\n",
       "      <td>repair rate</td>\n",
       "      <td>0.045925</td>\n",
       "    </tr>\n",
       "    <tr>\n",
       "      <th>2</th>\n",
       "      <td>number of floors</td>\n",
       "      <td>0.041683</td>\n",
       "    </tr>\n",
       "    <tr>\n",
       "      <th>28</th>\n",
       "      <td>type of house_монолитный</td>\n",
       "      <td>0.021551</td>\n",
       "    </tr>\n",
       "    <tr>\n",
       "      <th>27</th>\n",
       "      <td>type of house_кирпичный</td>\n",
       "      <td>0.020669</td>\n",
       "    </tr>\n",
       "    <tr>\n",
       "      <th>10</th>\n",
       "      <td>district population</td>\n",
       "      <td>0.020557</td>\n",
       "    </tr>\n",
       "    <tr>\n",
       "      <th>21</th>\n",
       "      <td>bathroom_раздельный</td>\n",
       "      <td>0.020517</td>\n",
       "    </tr>\n",
       "    <tr>\n",
       "      <th>29</th>\n",
       "      <td>type of house_панельный</td>\n",
       "      <td>0.019655</td>\n",
       "    </tr>\n",
       "    <tr>\n",
       "      <th>6</th>\n",
       "      <td>garbage chute</td>\n",
       "      <td>0.014826</td>\n",
       "    </tr>\n",
       "    <tr>\n",
       "      <th>26</th>\n",
       "      <td>type of house_блочный</td>\n",
       "      <td>0.013018</td>\n",
       "    </tr>\n",
       "    <tr>\n",
       "      <th>23</th>\n",
       "      <td>terrace_балкон</td>\n",
       "      <td>0.013010</td>\n",
       "    </tr>\n",
       "    <tr>\n",
       "      <th>34</th>\n",
       "      <td>district_р-н Мотовилихинский</td>\n",
       "      <td>0.011755</td>\n",
       "    </tr>\n",
       "    <tr>\n",
       "      <th>17</th>\n",
       "      <td>repair_евро</td>\n",
       "      <td>0.011263</td>\n",
       "    </tr>\n",
       "    <tr>\n",
       "      <th>3</th>\n",
       "      <td>apartment floor</td>\n",
       "      <td>0.010575</td>\n",
       "    </tr>\n",
       "    <tr>\n",
       "      <th>13</th>\n",
       "      <td>bathroom rate</td>\n",
       "      <td>0.010245</td>\n",
       "    </tr>\n",
       "    <tr>\n",
       "      <th>5</th>\n",
       "      <td>elevator</td>\n",
       "      <td>0.009188</td>\n",
       "    </tr>\n",
       "    <tr>\n",
       "      <th>31</th>\n",
       "      <td>district_р-н Индустриальный</td>\n",
       "      <td>0.009072</td>\n",
       "    </tr>\n",
       "    <tr>\n",
       "      <th>30</th>\n",
       "      <td>district_р-н Дзержинский</td>\n",
       "      <td>0.008967</td>\n",
       "    </tr>\n",
       "    <tr>\n",
       "      <th>0</th>\n",
       "      <td>number of rooms</td>\n",
       "      <td>0.008468</td>\n",
       "    </tr>\n",
       "    <tr>\n",
       "      <th>11</th>\n",
       "      <td>green rate</td>\n",
       "      <td>0.007810</td>\n",
       "    </tr>\n",
       "    <tr>\n",
       "      <th>18</th>\n",
       "      <td>repair_косметический</td>\n",
       "      <td>0.005286</td>\n",
       "    </tr>\n",
       "    <tr>\n",
       "      <th>32</th>\n",
       "      <td>district_р-н Кировский</td>\n",
       "      <td>0.005192</td>\n",
       "    </tr>\n",
       "    <tr>\n",
       "      <th>25</th>\n",
       "      <td>terrace_нет</td>\n",
       "      <td>0.000000</td>\n",
       "    </tr>\n",
       "    <tr>\n",
       "      <th>24</th>\n",
       "      <td>terrace_лоджия</td>\n",
       "      <td>0.000000</td>\n",
       "    </tr>\n",
       "    <tr>\n",
       "      <th>22</th>\n",
       "      <td>bathroom_совмещенный</td>\n",
       "      <td>0.000000</td>\n",
       "    </tr>\n",
       "    <tr>\n",
       "      <th>20</th>\n",
       "      <td>bathroom_несколько</td>\n",
       "      <td>0.000000</td>\n",
       "    </tr>\n",
       "    <tr>\n",
       "      <th>19</th>\n",
       "      <td>repair_требует ремонта</td>\n",
       "      <td>0.000000</td>\n",
       "    </tr>\n",
       "    <tr>\n",
       "      <th>16</th>\n",
       "      <td>repair_дизайнерский</td>\n",
       "      <td>0.000000</td>\n",
       "    </tr>\n",
       "    <tr>\n",
       "      <th>33</th>\n",
       "      <td>district_р-н Ленинский</td>\n",
       "      <td>0.000000</td>\n",
       "    </tr>\n",
       "    <tr>\n",
       "      <th>15</th>\n",
       "      <td>age</td>\n",
       "      <td>0.000000</td>\n",
       "    </tr>\n",
       "    <tr>\n",
       "      <th>35</th>\n",
       "      <td>district_р-н Орджоникидзевский</td>\n",
       "      <td>0.000000</td>\n",
       "    </tr>\n",
       "    <tr>\n",
       "      <th>36</th>\n",
       "      <td>district_р-н Свердловский</td>\n",
       "      <td>0.000000</td>\n",
       "    </tr>\n",
       "  </tbody>\n",
       "</table>\n",
       "</div>"
      ],
      "text/plain": [
       "                           feature  importance\n",
       "1                area of apartment    0.322236\n",
       "4             year of construction    0.109998\n",
       "9                  price for metre    0.085221\n",
       "8                         distance    0.055075\n",
       "14                    terrace rate    0.050547\n",
       "7                        concierge    0.047690\n",
       "12                     repair rate    0.045925\n",
       "2                 number of floors    0.041683\n",
       "28        type of house_монолитный    0.021551\n",
       "27         type of house_кирпичный    0.020669\n",
       "10             district population    0.020557\n",
       "21             bathroom_раздельный    0.020517\n",
       "29         type of house_панельный    0.019655\n",
       "6                    garbage chute    0.014826\n",
       "26           type of house_блочный    0.013018\n",
       "23                  terrace_балкон    0.013010\n",
       "34    district_р-н Мотовилихинский    0.011755\n",
       "17                     repair_евро    0.011263\n",
       "3                  apartment floor    0.010575\n",
       "13                   bathroom rate    0.010245\n",
       "5                         elevator    0.009188\n",
       "31     district_р-н Индустриальный    0.009072\n",
       "30        district_р-н Дзержинский    0.008967\n",
       "0                  number of rooms    0.008468\n",
       "11                      green rate    0.007810\n",
       "18            repair_косметический    0.005286\n",
       "32          district_р-н Кировский    0.005192\n",
       "25                     terrace_нет    0.000000\n",
       "24                  terrace_лоджия    0.000000\n",
       "22            bathroom_совмещенный    0.000000\n",
       "20              bathroom_несколько    0.000000\n",
       "19          repair_требует ремонта    0.000000\n",
       "16             repair_дизайнерский    0.000000\n",
       "33          district_р-н Ленинский    0.000000\n",
       "15                             age    0.000000\n",
       "35  district_р-н Орджоникидзевский    0.000000\n",
       "36       district_р-н Свердловский    0.000000"
      ]
     },
     "execution_count": 126,
     "metadata": {},
     "output_type": "execute_result"
    }
   ],
   "source": [
    "pd.DataFrame({'feature': data.columns, 'importance': xgb_reg.feature_importances_}).sort_values(by='importance', ascending=False)"
   ]
  },
  {
   "cell_type": "code",
   "execution_count": 127,
   "id": "173a9ade",
   "metadata": {},
   "outputs": [
    {
     "data": {
      "text/plain": [
       "<matplotlib.legend.Legend at 0x1b42eeee6a0>"
      ]
     },
     "execution_count": 127,
     "metadata": {},
     "output_type": "execute_result"
    },
    {
     "data": {
      "image/png": "[encoded data removed]",
      "text/plain": [
       "<Figure size 720x504 with 1 Axes>"
      ]
     },
     "metadata": {
      "needs_background": "light"
     },
     "output_type": "display_data"
    }
   ],
   "source": [
    "import matplotlib.pyplot as plt\n",
    "\n",
    "plt.figure(figsize=(10, 7))\n",
    "plt.plot(y_test[:50], '-ro', linewidth=2, label='реальные значения')\n",
    "plt.plot(predicts[:50], '-go', linewidth=2, label='предсказания')\n",
    "plt.legend()"
   ]
  },
  {
   "cell_type": "code",
   "execution_count": 128,
   "id": "7eef4fc4",
   "metadata": {},
   "outputs": [
    {
     "data": {
      "text/plain": [
       "Text(0, 0.5, 'Предсказанная цена')"
      ]
     },
     "execution_count": 128,
     "metadata": {},
     "output_type": "execute_result"
    },
    {
     "data": {
      "image/png": "[encoded data removed]",
      "text/plain": [
       "<Figure size 720x504 with 1 Axes>"
      ]
     },
     "metadata": {
      "needs_background": "light"
     },
     "output_type": "display_data"
    }
   ],
   "source": [
    "plt.figure(figsize=(10, 7))\n",
    "plt.plot(np.array(range(7)), np.array(range(7)), c='r')\n",
    "plt.scatter(y_test/1_000_000, predicts/1_000_000, alpha=0.7)\n",
    "plt.xlabel(\"Реальная цена\", size=20)\n",
    "plt.ylabel(\"Предсказанная цена\", size=20)"
   ]
  },
  {
   "cell_type": "markdown",
   "id": "48b4f28c",
   "metadata": {},
   "source": [
    "# Итого"
   ]
  },
  {
   "cell_type": "markdown",
   "id": "c26f7e3b",
   "metadata": {},
   "source": [
    "Получен baseline, не хуже которого нужно будет обучить нейронную сеть. Новые введенные фичи показали, что они имеют влияние на модель xgboost. Хорошее влияние оказали цена за квадратный метр по району, оценка балкона и оценка ремонта"
   ]
  },
  {
   "cell_type": "code",
   "execution_count": null,
   "id": "f83de594",
   "metadata": {},
   "outputs": [],
   "source": []
  }
 ],
 "metadata": {
  "kernelspec": {
   "display_name": "Python 3",
   "language": "python",
   "name": "python3"
  },
  "language_info": {
   "codemirror_mode": {
    "name": "ipython",
    "version": 3
   },
   "file_extension": ".py",
   "mimetype": "text/x-python",
   "name": "python",
   "nbconvert_exporter": "python",
   "pygments_lexer": "ipython3",
   "version": "3.9.5"
  }
 },
 "nbformat": 4,
 "nbformat_minor": 5
}
