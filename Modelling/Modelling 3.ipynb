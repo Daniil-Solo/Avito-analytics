{
 "cells": [
  {
   "cell_type": "markdown",
   "id": "f652b667",
   "metadata": {},
   "source": [
    "# Modelling with NN"
   ]
  },
  {
   "cell_type": "code",
   "execution_count": 95,
   "id": "be28fe01",
   "metadata": {},
   "outputs": [],
   "source": [
    "import pandas as pd\n",
    "import numpy as np\n",
    "import matplotlib.pyplot as plt"
   ]
  },
  {
   "cell_type": "code",
   "execution_count": 96,
   "id": "a35e605c",
   "metadata": {},
   "outputs": [],
   "source": [
    "df = pd.read_csv('data_with_new_features.csv', sep=';')\n",
    "df = df.drop('street', axis=1)"
   ]
  },
  {
   "cell_type": "code",
   "execution_count": 97,
   "id": "ab9e2ae2",
   "metadata": {},
   "outputs": [
    {
     "name": "stdout",
     "output_type": "stream",
     "text": [
      "<class 'pandas.core.frame.DataFrame'>\n",
      "RangeIndex: 925 entries, 0 to 924\n",
      "Data columns (total 22 columns):\n",
      " #   Column                Non-Null Count  Dtype  \n",
      "---  ------                --------------  -----  \n",
      " 0   number of rooms       925 non-null    int64  \n",
      " 1   area of apartment     925 non-null    float64\n",
      " 2   number of floors      925 non-null    int64  \n",
      " 3   apartment floor       925 non-null    int64  \n",
      " 4   price                 925 non-null    float64\n",
      " 5   repair                925 non-null    object \n",
      " 6   bathroom              925 non-null    object \n",
      " 7   terrace               925 non-null    object \n",
      " 8   year of construction  925 non-null    int64  \n",
      " 9   elevator              925 non-null    int64  \n",
      " 10  garbage chute         925 non-null    int64  \n",
      " 11  type of house         925 non-null    object \n",
      " 12  district              925 non-null    object \n",
      " 13  concierge             925 non-null    int64  \n",
      " 14  distance              925 non-null    float64\n",
      " 15  price for metre       925 non-null    float64\n",
      " 16  district population   925 non-null    int64  \n",
      " 17  green rate            925 non-null    int64  \n",
      " 18  repair rate           925 non-null    int64  \n",
      " 19  bathroom rate         925 non-null    int64  \n",
      " 20  terrace rate          925 non-null    int64  \n",
      " 21  age                   925 non-null    int64  \n",
      "dtypes: float64(4), int64(13), object(5)\n",
      "memory usage: 159.1+ KB\n"
     ]
    }
   ],
   "source": [
    "df.info()"
   ]
  },
  {
   "cell_type": "markdown",
   "id": "2349fa50",
   "metadata": {},
   "source": [
    "## Подготовка категориальных признаков"
   ]
  },
  {
   "cell_type": "markdown",
   "id": "67c2b237",
   "metadata": {},
   "source": [
    "### Разбиение на данные и целевую метку"
   ]
  },
  {
   "cell_type": "code",
   "execution_count": 98,
   "id": "5dff5288",
   "metadata": {},
   "outputs": [],
   "source": [
    "not_categorial_features = []\n",
    "for column in df.columns:\n",
    "    if df[column].dtype != 'object':\n",
    "        not_categorial_features.append(column)\n",
    "\n",
    "data = df[not_categorial_features].copy().drop('price', axis=1)\n",
    "target = df[['price']].copy()"
   ]
  },
  {
   "cell_type": "markdown",
   "id": "b3d855df",
   "metadata": {},
   "source": [
    "### One-Hot-кодирование для категориальных признаков"
   ]
  },
  {
   "cell_type": "code",
   "execution_count": 99,
   "id": "170a7aab",
   "metadata": {},
   "outputs": [
    {
     "name": "stdout",
     "output_type": "stream",
     "text": [
      "<class 'pandas.core.frame.DataFrame'>\n",
      "RangeIndex: 925 entries, 0 to 924\n",
      "Data columns (total 37 columns):\n",
      " #   Column                          Non-Null Count  Dtype  \n",
      "---  ------                          --------------  -----  \n",
      " 0   number of rooms                 925 non-null    int64  \n",
      " 1   area of apartment               925 non-null    float64\n",
      " 2   number of floors                925 non-null    int64  \n",
      " 3   apartment floor                 925 non-null    int64  \n",
      " 4   year of construction            925 non-null    int64  \n",
      " 5   elevator                        925 non-null    int64  \n",
      " 6   garbage chute                   925 non-null    int64  \n",
      " 7   concierge                       925 non-null    int64  \n",
      " 8   distance                        925 non-null    float64\n",
      " 9   price for metre                 925 non-null    float64\n",
      " 10  district population             925 non-null    int64  \n",
      " 11  green rate                      925 non-null    int64  \n",
      " 12  repair rate                     925 non-null    int64  \n",
      " 13  bathroom rate                   925 non-null    int64  \n",
      " 14  terrace rate                    925 non-null    int64  \n",
      " 15  age                             925 non-null    int64  \n",
      " 16  repair_дизайнерский             925 non-null    float64\n",
      " 17  repair_евро                     925 non-null    float64\n",
      " 18  repair_косметический            925 non-null    float64\n",
      " 19  repair_требует ремонта          925 non-null    float64\n",
      " 20  bathroom_несколько              925 non-null    float64\n",
      " 21  bathroom_раздельный             925 non-null    float64\n",
      " 22  bathroom_совмещенный            925 non-null    float64\n",
      " 23  terrace_балкон                  925 non-null    float64\n",
      " 24  terrace_лоджия                  925 non-null    float64\n",
      " 25  terrace_нет                     925 non-null    float64\n",
      " 26  type of house_блочный           925 non-null    float64\n",
      " 27  type of house_кирпичный         925 non-null    float64\n",
      " 28  type of house_монолитный        925 non-null    float64\n",
      " 29  type of house_панельный         925 non-null    float64\n",
      " 30  district_р-н Дзержинский        925 non-null    float64\n",
      " 31  district_р-н Индустриальный     925 non-null    float64\n",
      " 32  district_р-н Кировский          925 non-null    float64\n",
      " 33  district_р-н Ленинский          925 non-null    float64\n",
      " 34  district_р-н Мотовилихинский    925 non-null    float64\n",
      " 35  district_р-н Орджоникидзевский  925 non-null    float64\n",
      " 36  district_р-н Свердловский       925 non-null    float64\n",
      "dtypes: float64(24), int64(13)\n",
      "memory usage: 267.5 KB\n"
     ]
    }
   ],
   "source": [
    "from sklearn.preprocessing import OneHotEncoder\n",
    "\n",
    "def get_one_hot_df(df, column):\n",
    "    encoder = OneHotEncoder()\n",
    "    new_df = pd.DataFrame(encoder.fit_transform(df[[column]]).toarray())\n",
    "    new_df.columns = [column + '_' + feature[3:] for feature in encoder.get_feature_names()]\n",
    "    return new_df\n",
    "\n",
    "for column in df.columns:\n",
    "    if df[column].dtype == 'object':\n",
    "        one_hot_df = get_one_hot_df(df, column)\n",
    "        data = pd.merge(data, one_hot_df, left_index=True, right_index=True)\n",
    "\n",
    "data.info()"
   ]
  },
  {
   "cell_type": "markdown",
   "id": "946d1fa8",
   "metadata": {},
   "source": [
    "## Деление на тестовую и тренировочную выборки"
   ]
  },
  {
   "cell_type": "code",
   "execution_count": 100,
   "id": "244f09a8",
   "metadata": {},
   "outputs": [
    {
     "data": {
      "text/plain": [
       "((925, 37), (925, 1))"
      ]
     },
     "execution_count": 100,
     "metadata": {},
     "output_type": "execute_result"
    }
   ],
   "source": [
    "X = data.values\n",
    "y = target.values\n",
    "\n",
    "X.shape, y.shape"
   ]
  },
  {
   "cell_type": "code",
   "execution_count": 101,
   "id": "109e91e8",
   "metadata": {},
   "outputs": [],
   "source": [
    "from sklearn.model_selection import train_test_split\n",
    "\n",
    "X_train, X_test, y_train, y_test = train_test_split(X, y, \n",
    "                                                    train_size=0.8, \n",
    "                                                    random_state=42)"
   ]
  },
  {
   "cell_type": "code",
   "execution_count": 102,
   "id": "34b80448",
   "metadata": {},
   "outputs": [],
   "source": [
    "X_train, X_valid, y_train, y_valid = train_test_split(X_train, y_train, \n",
    "                                                    train_size=0.8, \n",
    "                                                    random_state=42)"
   ]
  },
  {
   "cell_type": "code",
   "execution_count": 103,
   "id": "bd80699f",
   "metadata": {},
   "outputs": [],
   "source": [
    "X_train = X_train.astype(np.float32)\n",
    "X_test = X_test.astype(np.float32)\n",
    "X_valid = X_valid.astype(np.float32)\n",
    "\n",
    "y_train = y_train.astype(np.float32)\n",
    "y_test = y_test.astype(np.float32)\n",
    "y_valid = y_valid.astype(np.float32)"
   ]
  },
  {
   "cell_type": "markdown",
   "id": "b5f0ffc1",
   "metadata": {},
   "source": [
    "## Стандартизация количественных признаков"
   ]
  },
  {
   "cell_type": "code",
   "execution_count": 104,
   "id": "aaaf63ee",
   "metadata": {},
   "outputs": [],
   "source": [
    "not_categorial_features.remove('price')"
   ]
  },
  {
   "cell_type": "code",
   "execution_count": 105,
   "id": "e59481b6",
   "metadata": {},
   "outputs": [],
   "source": [
    "from sklearn.preprocessing import StandardScaler\n",
    "\n",
    "scalers = []\n",
    "for index in range(len(not_categorial_features)):\n",
    "    scaler = StandardScaler()\n",
    "    X_train[:, index] = scaler.fit_transform(X_train[:, index].reshape(-1, 1)).reshape(-1)\n",
    "    scalers.append(scaler)"
   ]
  },
  {
   "cell_type": "code",
   "execution_count": 106,
   "id": "42643764",
   "metadata": {},
   "outputs": [],
   "source": [
    "for index in range(len(not_categorial_features)):\n",
    "    scaler = scalers[index]\n",
    "    X_valid[:, index] = scaler.transform(X_valid[:, index].reshape(-1, 1)).reshape(-1)"
   ]
  },
  {
   "cell_type": "code",
   "execution_count": 107,
   "id": "43564196",
   "metadata": {},
   "outputs": [],
   "source": [
    "for index in range(len(not_categorial_features)):\n",
    "    scaler = scalers[index]\n",
    "    X_test[:, index] = scaler.transform(X_test[:, index].reshape(-1, 1)).reshape(-1)"
   ]
  },
  {
   "cell_type": "code",
   "execution_count": 108,
   "id": "9ef7bbc3",
   "metadata": {},
   "outputs": [],
   "source": [
    "y_train /= 1_000_000\n",
    "y_valid /= 1_000_000\n",
    "y_test /= 1_000_000"
   ]
  },
  {
   "cell_type": "markdown",
   "id": "f3465e8e",
   "metadata": {},
   "source": [
    "# Нейронная сеть"
   ]
  },
  {
   "cell_type": "markdown",
   "id": "fe79bff2",
   "metadata": {},
   "source": [
    "### Формирование наборов для обучения и оценки"
   ]
  },
  {
   "cell_type": "code",
   "execution_count": 109,
   "id": "fb662bc2",
   "metadata": {},
   "outputs": [],
   "source": [
    "from torch import from_numpy\n",
    "from torch.utils.data import TensorDataset\n",
    "from torch.utils.data import DataLoader"
   ]
  },
  {
   "cell_type": "code",
   "execution_count": 110,
   "id": "02497dea",
   "metadata": {},
   "outputs": [],
   "source": [
    "inputs = torch.from_numpy(X_train)\n",
    "targets = torch.from_numpy(y_train)\n",
    "train_ds = TensorDataset(inputs, targets)\n",
    "\n",
    "batch_size = 10\n",
    "train_dl = DataLoader(train_ds, batch_size, shuffle=True)"
   ]
  },
  {
   "cell_type": "code",
   "execution_count": 111,
   "id": "2183ce05",
   "metadata": {},
   "outputs": [],
   "source": [
    "inputs = torch.from_numpy(X_valid)\n",
    "targets = torch.from_numpy(y_valid)\n",
    "valid_ds = TensorDataset(inputs, targets)\n",
    "\n",
    "batch_size = 10\n",
    "valid_dl = DataLoader(valid_ds, batch_size, shuffle=True)"
   ]
  },
  {
   "cell_type": "code",
   "execution_count": 127,
   "id": "8280039f",
   "metadata": {},
   "outputs": [],
   "source": [
    "test_data = torch.from_numpy(X_valid)\n",
    "test_target = torch.from_numpy(y_valid)"
   ]
  },
  {
   "cell_type": "markdown",
   "id": "e6bf35fa",
   "metadata": {},
   "source": [
    "### Базовый класс и функции"
   ]
  },
  {
   "cell_type": "code",
   "execution_count": 113,
   "id": "09675cfe",
   "metadata": {},
   "outputs": [],
   "source": [
    "import torch.nn as nn\n",
    "import torch.nn.functional as F"
   ]
  },
  {
   "cell_type": "code",
   "execution_count": 114,
   "id": "b9b724f4",
   "metadata": {},
   "outputs": [],
   "source": [
    "class BaseRegressor(nn.Module):\n",
    "    \n",
    "    def training_step(self, batch):\n",
    "        data, labels = batch\n",
    "        out = self(data)\n",
    "        loss = F.mse_loss(out, labels)\n",
    "        return loss\n",
    "\n",
    "    def validation_step(self, batch):\n",
    "        data, labels = batch\n",
    "        out = self(data)\n",
    "        loss = F.mse_loss(out, labels)\n",
    "        return {'RMSE': np.sqrt(loss.detach())}\n",
    "\n",
    "    def validation_epoch_end(self, outputs):\n",
    "        batch_losses = [x['RMSE'] for x in outputs]\n",
    "        epoch_loss = torch.stack(batch_losses).mean()\n",
    "        return {'RMSE': epoch_loss.item()}\n",
    "\n",
    "    def epoch_end(self, epoch, result):\n",
    "        print(\"Epoch [{}], RMSE: {:.4f}\".format(\n",
    "            epoch, result['RMSE']))"
   ]
  },
  {
   "cell_type": "code",
   "execution_count": 120,
   "id": "19071c5f",
   "metadata": {},
   "outputs": [],
   "source": [
    "def fit(n_epochs, lr, model, train_loader, val_loader, every_n_epoch_print, opt_func=torch.optim.SGD):\n",
    "    optimizer = opt_func(model.parameters(), lr)\n",
    "    history = []\n",
    "\n",
    "    for epoch in range(n_epochs):\n",
    "        for batch in train_loader:\n",
    "            loss = model.training_step(batch)\n",
    "            loss.backward()\n",
    "            optimizer.step()\n",
    "            optimizer.zero_grad()\n",
    "\n",
    "        result = evaluate(model, val_loader)\n",
    "        if epoch % every_n_epoch_print == 0:\n",
    "            model.epoch_end(epoch, result)\n",
    "        history.append(result)\n",
    "\n",
    "    return history"
   ]
  },
  {
   "cell_type": "code",
   "execution_count": 121,
   "id": "8a232a70",
   "metadata": {},
   "outputs": [],
   "source": [
    "def evaluate(model, val_loader):\n",
    "    outputs = [model.validation_step(batch) for batch in val_loader]\n",
    "    return model.validation_epoch_end(outputs)"
   ]
  },
  {
   "cell_type": "markdown",
   "id": "52e6c9bd",
   "metadata": {},
   "source": [
    "### Простой перспетрон"
   ]
  },
  {
   "cell_type": "code",
   "execution_count": 129,
   "id": "cdce2dbe",
   "metadata": {},
   "outputs": [],
   "source": [
    "class SimpleRegressor(BaseRegressor):\n",
    "    def __init__(self):\n",
    "        super().__init__()\n",
    "        self.network = nn.Sequential(\n",
    "            nn.Linear(37, 1, bias=False))\n",
    "    \n",
    "    def forward(self, xb):\n",
    "        return self.network(xb)"
   ]
  },
  {
   "cell_type": "code",
   "execution_count": 136,
   "id": "efa26259",
   "metadata": {},
   "outputs": [
    {
     "name": "stdout",
     "output_type": "stream",
     "text": [
      "Epoch [0], RMSE: 3.8728\n",
      "Epoch [600], RMSE: 1.2635\n",
      "Epoch [1200], RMSE: 0.7114\n",
      "Epoch [1800], RMSE: 0.6103\n",
      "Epoch [2400], RMSE: 0.5665\n",
      "Epoch [3000], RMSE: 0.5451\n",
      "Epoch [3600], RMSE: 0.5094\n",
      "Epoch [4200], RMSE: 0.5101\n",
      "Epoch [4800], RMSE: 0.4998\n",
      "Epoch [5400], RMSE: 0.4910\n",
      "Epoch [6000], RMSE: 0.4791\n"
     ]
    }
   ],
   "source": [
    "n_epoch = 6001\n",
    "model = SimpleRegressor()\n",
    "loss_fn = F.mse_loss\n",
    "lr=1e-5\n",
    "\n",
    "\n",
    "history = fit(n_epoch, lr, model, train_dl, valid_dl, 600)"
   ]
  },
  {
   "cell_type": "code",
   "execution_count": 137,
   "id": "2515b359",
   "metadata": {},
   "outputs": [
    {
     "data": {
      "text/plain": [
       "{'RMSE': tensor(0.5072)}"
      ]
     },
     "execution_count": 137,
     "metadata": {},
     "output_type": "execute_result"
    }
   ],
   "source": [
    "model.validation_step((test_data, test_target))"
   ]
  },
  {
   "cell_type": "markdown",
   "id": "9509b2a0",
   "metadata": {},
   "source": [
    "## Многослойный персептрон 1"
   ]
  },
  {
   "cell_type": "code",
   "execution_count": 143,
   "id": "9c19e248",
   "metadata": {},
   "outputs": [],
   "source": [
    "class MultiLayerRegressor1(BaseRegressor):\n",
    "    def __init__(self):\n",
    "        super().__init__()\n",
    "        self.network = nn.Sequential(\n",
    "            nn.Linear(37, 10, bias=False),\n",
    "            nn.Linear(10, 1, bias=False))\n",
    "    \n",
    "    def forward(self, xb):\n",
    "        return self.network(xb)"
   ]
  },
  {
   "cell_type": "code",
   "execution_count": 144,
   "id": "29219b32",
   "metadata": {},
   "outputs": [
    {
     "name": "stdout",
     "output_type": "stream",
     "text": [
      "Epoch [0], RMSE: 3.6034\n",
      "Epoch [600], RMSE: 0.7483\n",
      "Epoch [1200], RMSE: 0.5421\n",
      "Epoch [1800], RMSE: 0.4877\n",
      "Epoch [2400], RMSE: 0.4734\n",
      "Epoch [3000], RMSE: 0.4738\n",
      "Epoch [3600], RMSE: 0.4682\n",
      "Epoch [4200], RMSE: 0.4650\n",
      "Epoch [4800], RMSE: 0.4662\n",
      "Epoch [5400], RMSE: 0.4616\n",
      "Epoch [6000], RMSE: 0.4688\n"
     ]
    }
   ],
   "source": [
    "n_epoch = 6001\n",
    "multi1 = MultiLayerRegressor1()\n",
    "loss_fn = F.mse_loss\n",
    "lr=1e-5\n",
    "\n",
    "\n",
    "history_multi1 = fit(n_epoch, lr, multi1, train_dl, valid_dl, 600)"
   ]
  },
  {
   "cell_type": "code",
   "execution_count": 145,
   "id": "24e29bd7",
   "metadata": {},
   "outputs": [
    {
     "data": {
      "text/plain": [
       "{'RMSE': tensor(0.4878)}"
      ]
     },
     "execution_count": 145,
     "metadata": {},
     "output_type": "execute_result"
    }
   ],
   "source": [
    "multi1.validation_step((test_data, test_target))"
   ]
  },
  {
   "cell_type": "markdown",
   "id": "dff77a09",
   "metadata": {},
   "source": [
    "## Многослойный персептрон 2"
   ]
  },
  {
   "cell_type": "code",
   "execution_count": 146,
   "id": "e9c57f55",
   "metadata": {},
   "outputs": [],
   "source": [
    "class MultiLayerRegressor2(BaseRegressor):\n",
    "    def __init__(self):\n",
    "        super().__init__()\n",
    "        self.network = nn.Sequential(\n",
    "            nn.Linear(37, 100, bias=False),\n",
    "            nn.Linear(100, 1, bias=False))\n",
    "    \n",
    "    def forward(self, xb):\n",
    "        return self.network(xb)"
   ]
  },
  {
   "cell_type": "code",
   "execution_count": 147,
   "id": "20d43f49",
   "metadata": {},
   "outputs": [
    {
     "name": "stdout",
     "output_type": "stream",
     "text": [
      "Epoch [0], RMSE: 3.6326\n",
      "Epoch [600], RMSE: 0.5749\n",
      "Epoch [1200], RMSE: 0.4982\n",
      "Epoch [1800], RMSE: 0.4669\n",
      "Epoch [2400], RMSE: 0.4680\n",
      "Epoch [3000], RMSE: 0.4629\n",
      "Epoch [3600], RMSE: 0.4693\n",
      "Epoch [4200], RMSE: 0.4512\n",
      "Epoch [4800], RMSE: 0.4521\n",
      "Epoch [5400], RMSE: 0.4564\n",
      "Epoch [6000], RMSE: 0.4567\n"
     ]
    }
   ],
   "source": [
    "n_epoch = 6001\n",
    "multi2 = MultiLayerRegressor2()\n",
    "loss_fn = F.mse_loss\n",
    "lr=1e-5\n",
    "\n",
    "\n",
    "history_multi2 = fit(n_epoch, lr, multi2, train_dl, valid_dl, 600)"
   ]
  },
  {
   "cell_type": "code",
   "execution_count": 148,
   "id": "be4872bc",
   "metadata": {},
   "outputs": [
    {
     "data": {
      "text/plain": [
       "{'RMSE': tensor(0.4857)}"
      ]
     },
     "execution_count": 148,
     "metadata": {},
     "output_type": "execute_result"
    }
   ],
   "source": [
    "multi2.validation_step((test_data, test_target))"
   ]
  },
  {
   "cell_type": "code",
   "execution_count": 160,
   "id": "4c415458",
   "metadata": {},
   "outputs": [
    {
     "data": {
      "text/plain": [
       "[<matplotlib.lines.Line2D at 0x1fe19931cd0>]"
      ]
     },
     "execution_count": 160,
     "metadata": {},
     "output_type": "execute_result"
    },
    {
     "data": {
      "image/png": "[encoded data removed]",
      "text/plain": [
       "<Figure size 720x504 with 1 Axes>"
      ]
     },
     "metadata": {
      "needs_background": "light"
     },
     "output_type": "display_data"
    }
   ],
   "source": [
    "x = [item['RMSE'] for item in history_multi2]\n",
    "plt.figure(figsize=(10, 7))\n",
    "plt.plot(x)"
   ]
  },
  {
   "cell_type": "markdown",
   "id": "3c8e340c",
   "metadata": {},
   "source": [
    "## Многослойный персептрон 3"
   ]
  },
  {
   "cell_type": "code",
   "execution_count": 161,
   "id": "00399a35",
   "metadata": {},
   "outputs": [],
   "source": [
    "class MultiLayerRegressor3(BaseRegressor):\n",
    "    def __init__(self):\n",
    "        super().__init__()\n",
    "        self.network = nn.Sequential(\n",
    "            nn.Linear(37, 100, bias=False),\n",
    "            nn.Linear(100, 20, bias=False),\n",
    "            nn.Linear(20, 1, bias=False))\n",
    "    \n",
    "    def forward(self, xb):\n",
    "        return self.network(xb)"
   ]
  },
  {
   "cell_type": "code",
   "execution_count": 162,
   "id": "ec081ee5",
   "metadata": {},
   "outputs": [
    {
     "name": "stdout",
     "output_type": "stream",
     "text": [
      "Epoch [0], RMSE: 3.6276\n",
      "Epoch [600], RMSE: 0.6191\n",
      "Epoch [1200], RMSE: 0.4974\n",
      "Epoch [1800], RMSE: 0.4886\n",
      "Epoch [2400], RMSE: 0.4604\n",
      "Epoch [3000], RMSE: 0.4575\n",
      "Epoch [3600], RMSE: 0.4560\n",
      "Epoch [4200], RMSE: 0.4637\n",
      "Epoch [4800], RMSE: 0.4511\n",
      "Epoch [5400], RMSE: 0.4682\n",
      "Epoch [6000], RMSE: 0.4529\n"
     ]
    }
   ],
   "source": [
    "n_epoch = 6001\n",
    "multi3 = MultiLayerRegressor3()\n",
    "loss_fn = F.mse_loss\n",
    "lr=1e-5\n",
    "\n",
    "\n",
    "history_multi3 = fit(n_epoch, lr, multi3, train_dl, valid_dl, 600)"
   ]
  },
  {
   "cell_type": "code",
   "execution_count": 163,
   "id": "5d63151e",
   "metadata": {},
   "outputs": [
    {
     "data": {
      "text/plain": [
       "{'RMSE': tensor(0.4894)}"
      ]
     },
     "execution_count": 163,
     "metadata": {},
     "output_type": "execute_result"
    }
   ],
   "source": [
    "multi3.validation_step((test_data, test_target))"
   ]
  },
  {
   "cell_type": "markdown",
   "id": "25e5d98f",
   "metadata": {},
   "source": [
    "## Многослойный персептрон 4 c активационными функциями ReLU"
   ]
  },
  {
   "cell_type": "code",
   "execution_count": 164,
   "id": "8e05b24b",
   "metadata": {},
   "outputs": [],
   "source": [
    "class MultiLayerRegressor4(BaseRegressor):\n",
    "    def __init__(self):\n",
    "        super().__init__()\n",
    "        self.network = nn.Sequential(\n",
    "            nn.Linear(37, 100, bias=False),\n",
    "            nn.ReLU(),\n",
    "            nn.Linear(100, 20, bias=False),\n",
    "            nn.ReLU(),\n",
    "            nn.Linear(20, 1, bias=False))\n",
    "    \n",
    "    def forward(self, xb):\n",
    "        return self.network(xb)"
   ]
  },
  {
   "cell_type": "code",
   "execution_count": 165,
   "id": "3aaa3105",
   "metadata": {},
   "outputs": [
    {
     "name": "stdout",
     "output_type": "stream",
     "text": [
      "Epoch [0], RMSE: 3.6367\n",
      "Epoch [600], RMSE: 0.6938\n",
      "Epoch [1200], RMSE: 0.5511\n",
      "Epoch [1800], RMSE: 0.5320\n",
      "Epoch [2400], RMSE: 0.5141\n",
      "Epoch [3000], RMSE: 0.5134\n",
      "Epoch [3600], RMSE: 0.5019\n",
      "Epoch [4200], RMSE: 0.4955\n",
      "Epoch [4800], RMSE: 0.4846\n",
      "Epoch [5400], RMSE: 0.4843\n",
      "Epoch [6000], RMSE: 0.4818\n"
     ]
    }
   ],
   "source": [
    "n_epoch = 6001\n",
    "multi4 = MultiLayerRegressor4()\n",
    "loss_fn = F.mse_loss\n",
    "lr=1e-5\n",
    "\n",
    "\n",
    "history_multi4 = fit(n_epoch, lr, multi4, train_dl, valid_dl, 600)"
   ]
  },
  {
   "cell_type": "code",
   "execution_count": 166,
   "id": "677d3617",
   "metadata": {},
   "outputs": [
    {
     "data": {
      "text/plain": [
       "{'RMSE': tensor(0.5140)}"
      ]
     },
     "execution_count": 166,
     "metadata": {},
     "output_type": "execute_result"
    }
   ],
   "source": [
    "multi4.validation_step((test_data, test_target))"
   ]
  },
  {
   "cell_type": "markdown",
   "id": "6b2d8b49",
   "metadata": {},
   "source": [
    "## Многослойный персептрон 5 c одинаковыми по количествую нейронов слоями и активацией ReLU"
   ]
  },
  {
   "cell_type": "code",
   "execution_count": 167,
   "id": "f3a3c2b1",
   "metadata": {},
   "outputs": [],
   "source": [
    "class MultiLayerRegressor5(BaseRegressor):\n",
    "    def __init__(self):\n",
    "        super().__init__()\n",
    "        self.network = nn.Sequential(\n",
    "            nn.Linear(37, 100, bias=False),\n",
    "            nn.ReLU(),\n",
    "            nn.Linear(100, 100, bias=False),\n",
    "            nn.ReLU(),\n",
    "            nn.Linear(100, 1, bias=False))\n",
    "    \n",
    "    def forward(self, xb):\n",
    "        return self.network(xb)"
   ]
  },
  {
   "cell_type": "code",
   "execution_count": 168,
   "id": "6188205b",
   "metadata": {},
   "outputs": [
    {
     "name": "stdout",
     "output_type": "stream",
     "text": [
      "Epoch [0], RMSE: 3.6448\n",
      "Epoch [600], RMSE: 0.6866\n",
      "Epoch [1200], RMSE: 0.5933\n",
      "Epoch [1800], RMSE: 0.5666\n",
      "Epoch [2400], RMSE: 0.5577\n",
      "Epoch [3000], RMSE: 0.5481\n",
      "Epoch [3600], RMSE: 0.5382\n",
      "Epoch [4200], RMSE: 0.5259\n",
      "Epoch [4800], RMSE: 0.5142\n",
      "Epoch [5400], RMSE: 0.5214\n",
      "Epoch [6000], RMSE: 0.5053\n"
     ]
    }
   ],
   "source": [
    "n_epoch = 6001\n",
    "multi5 = MultiLayerRegressor5()\n",
    "loss_fn = F.mse_loss\n",
    "lr=1e-5\n",
    "\n",
    "\n",
    "history_multi5 = fit(n_epoch, lr, multi5, train_dl, valid_dl, 600)"
   ]
  },
  {
   "cell_type": "code",
   "execution_count": 169,
   "id": "706ecf2a",
   "metadata": {},
   "outputs": [
    {
     "data": {
      "text/plain": [
       "{'RMSE': tensor(0.5411)}"
      ]
     },
     "execution_count": 169,
     "metadata": {},
     "output_type": "execute_result"
    }
   ],
   "source": [
    "multi5.validation_step((test_data, test_target))"
   ]
  },
  {
   "cell_type": "markdown",
   "id": "42eed1b3",
   "metadata": {},
   "source": [
    "## Многослойный персептрон 6 c одинаковыми по количествую нейронов слоями и активацией ReLU"
   ]
  },
  {
   "cell_type": "code",
   "execution_count": 172,
   "id": "77f3bdb7",
   "metadata": {},
   "outputs": [],
   "source": [
    "class MultiLayerRegressor6(BaseRegressor):\n",
    "    def __init__(self):\n",
    "        super().__init__()\n",
    "        self.network = nn.Sequential(\n",
    "            nn.Linear(37, 50, bias=False),\n",
    "            nn.Linear(50, 50, bias=False),\n",
    "            nn.Linear(50, 1, bias=False))\n",
    "    \n",
    "    def forward(self, xb):\n",
    "        return self.network(xb)"
   ]
  },
  {
   "cell_type": "code",
   "execution_count": 173,
   "id": "c4135462",
   "metadata": {},
   "outputs": [
    {
     "name": "stdout",
     "output_type": "stream",
     "text": [
      "Epoch [0], RMSE: 3.6208\n",
      "Epoch [600], RMSE: 0.6129\n",
      "Epoch [1200], RMSE: 0.4918\n",
      "Epoch [1800], RMSE: 0.4691\n",
      "Epoch [2400], RMSE: 0.4621\n",
      "Epoch [3000], RMSE: 0.4615\n",
      "Epoch [3600], RMSE: 0.4489\n",
      "Epoch [4200], RMSE: 0.4513\n",
      "Epoch [4800], RMSE: 0.4587\n",
      "Epoch [5400], RMSE: 0.4636\n",
      "Epoch [6000], RMSE: 0.4600\n"
     ]
    }
   ],
   "source": [
    "n_epoch = 6001\n",
    "multi6 = MultiLayerRegressor6()\n",
    "loss_fn = F.mse_loss\n",
    "lr=1e-5\n",
    "\n",
    "\n",
    "history_multi6 = fit(n_epoch, lr, multi6, train_dl, valid_dl, 600)"
   ]
  },
  {
   "cell_type": "code",
   "execution_count": 174,
   "id": "0b04326a",
   "metadata": {},
   "outputs": [
    {
     "data": {
      "text/plain": [
       "{'RMSE': tensor(0.4877)}"
      ]
     },
     "execution_count": 174,
     "metadata": {},
     "output_type": "execute_result"
    }
   ],
   "source": [
    "multi6.validation_step((test_data, test_target))"
   ]
  },
  {
   "cell_type": "markdown",
   "id": "096c74c0",
   "metadata": {},
   "source": [
    "## Многослойный персептрон 7 с оптимизатором Adam"
   ]
  },
  {
   "cell_type": "code",
   "execution_count": 189,
   "id": "252e1c30",
   "metadata": {},
   "outputs": [],
   "source": [
    "class MultiLayerRegressor7(BaseRegressor):\n",
    "    def __init__(self):\n",
    "        super().__init__()\n",
    "        self.network = nn.Sequential(\n",
    "            nn.Linear(37, 100, bias=False),\n",
    "            nn.Linear(100, 1, bias=False))\n",
    "    \n",
    "    def forward(self, xb):\n",
    "        return self.network(xb)"
   ]
  },
  {
   "cell_type": "code",
   "execution_count": 190,
   "id": "9f739b7f",
   "metadata": {},
   "outputs": [
    {
     "name": "stdout",
     "output_type": "stream",
     "text": [
      "Epoch [0], RMSE: 3.5781\n",
      "Epoch [600], RMSE: 0.4678\n",
      "Epoch [1200], RMSE: 0.4716\n",
      "Epoch [1800], RMSE: 0.4588\n",
      "Epoch [2400], RMSE: 0.4552\n",
      "Epoch [3000], RMSE: 0.4537\n",
      "Epoch [3600], RMSE: 0.4596\n",
      "Epoch [4200], RMSE: 0.4613\n",
      "Epoch [4800], RMSE: 0.4636\n",
      "Epoch [5400], RMSE: 0.4688\n",
      "Epoch [6000], RMSE: 0.4639\n"
     ]
    }
   ],
   "source": [
    "n_epoch = 6001\n",
    "multi7 = MultiLayerRegressor7()\n",
    "loss_fn = F.mse_loss\n",
    "lr=5e-6\n",
    "\n",
    "\n",
    "history_multi7 = fit(n_epoch, lr, multi7, train_dl, valid_dl, 600, opt_func=torch.optim.Adam)"
   ]
  },
  {
   "cell_type": "code",
   "execution_count": 191,
   "id": "7964eb1e",
   "metadata": {},
   "outputs": [
    {
     "data": {
      "text/plain": [
       "{'RMSE': tensor(0.4909)}"
      ]
     },
     "execution_count": 191,
     "metadata": {},
     "output_type": "execute_result"
    }
   ],
   "source": [
    "multi7.validation_step((test_data, test_target))"
   ]
  },
  {
   "cell_type": "markdown",
   "id": "edb25fe1",
   "metadata": {},
   "source": [
    "## Многослойный персептрон 7 с оптимизатором Adam и остановкой"
   ]
  },
  {
   "cell_type": "code",
   "execution_count": 201,
   "id": "ccc9bd99",
   "metadata": {},
   "outputs": [],
   "source": [
    "def fit_with_stop(n_epochs, lr, model, train_loader, val_loader, every_n_epoch_print, stop_value, opt_func=torch.optim.SGD):\n",
    "    swap_optim = True\n",
    "    \n",
    "    optimizer = opt_func(model.parameters(), lr)\n",
    "    history = []\n",
    "\n",
    "    for epoch in range(n_epochs):\n",
    "        for batch in train_loader:\n",
    "            loss = model.training_step(batch)\n",
    "            loss.backward()\n",
    "            optimizer.step()\n",
    "            optimizer.zero_grad()\n",
    "\n",
    "        result = evaluate(model, val_loader)\n",
    "            \n",
    "        if epoch % every_n_epoch_print == 0:\n",
    "            model.epoch_end(epoch, result)\n",
    "        history.append(result)\n",
    "        \n",
    "        if result['RMSE'] < torch.tensor(0.46) and swap_optim:\n",
    "            optimizer = torch.optim.SGD(model.parameters(), lr)\n",
    "            print(\"Adam->SGD\")\n",
    "            swap_optim = False\n",
    "        \n",
    "        if result['RMSE'] < stop_value:\n",
    "            print(\"Stop\")\n",
    "            return history\n",
    "    return history"
   ]
  },
  {
   "cell_type": "code",
   "execution_count": 199,
   "id": "9f3d4980",
   "metadata": {},
   "outputs": [
    {
     "name": "stdout",
     "output_type": "stream",
     "text": [
      "Epoch [0], RMSE: 3.4904\n",
      "Adam->SGD\n",
      "Epoch [600], RMSE: 0.4776\n",
      "Epoch [1200], RMSE: 0.4731\n",
      "Epoch [1800], RMSE: 0.4703\n",
      "Epoch [2400], RMSE: 0.4531\n",
      "Epoch [3000], RMSE: 0.4725\n"
     ]
    }
   ],
   "source": [
    "n_epoch = 6001\n",
    "multi7 = MultiLayerRegressor7()\n",
    "loss_fn = F.mse_loss\n",
    "lr=5e-6\n",
    "\n",
    "\n",
    "history_multi7 = fit_with_stop(n_epoch, lr, multi7, train_dl, valid_dl, 600, torch.tensor(0.44), opt_func=torch.optim.Adam)"
   ]
  },
  {
   "cell_type": "code",
   "execution_count": 200,
   "id": "b2ca022f",
   "metadata": {},
   "outputs": [
    {
     "data": {
      "text/plain": [
       "{'RMSE': tensor(0.4883)}"
      ]
     },
     "execution_count": 200,
     "metadata": {},
     "output_type": "execute_result"
    }
   ],
   "source": [
    "multi7.validation_step((test_data, test_target))"
   ]
  },
  {
   "cell_type": "markdown",
   "id": "42074774",
   "metadata": {},
   "source": [
    "## Визуализация"
   ]
  },
  {
   "cell_type": "code",
   "execution_count": 217,
   "id": "9643a41b",
   "metadata": {},
   "outputs": [],
   "source": [
    "predicts = multi7(test_data).detach().numpy() \n",
    "reals = test_target.detach().numpy() "
   ]
  },
  {
   "cell_type": "code",
   "execution_count": 211,
   "id": "34ed8bc6",
   "metadata": {},
   "outputs": [
    {
     "data": {
      "text/plain": [
       "<matplotlib.legend.Legend at 0x1fe16c011f0>"
      ]
     },
     "execution_count": 211,
     "metadata": {},
     "output_type": "execute_result"
    },
    {
     "data": {
      "image/png": "[encoded data removed]",
      "text/plain": [
       "<Figure size 1080x504 with 1 Axes>"
      ]
     },
     "metadata": {
      "needs_background": "light"
     },
     "output_type": "display_data"
    }
   ],
   "source": [
    "plt.figure(figsize=(15, 7))\n",
    "plt.plot(reals, '-ro', linewidth=2, label='реальные значения')\n",
    "plt.plot(predicts, '-go', linewidth=2, label='предсказания')\n",
    "plt.legend()"
   ]
  },
  {
   "cell_type": "code",
   "execution_count": 213,
   "id": "30100791",
   "metadata": {},
   "outputs": [
    {
     "data": {
      "text/plain": [
       "Text(0, 0.5, 'Предсказанная цена')"
      ]
     },
     "execution_count": 213,
     "metadata": {},
     "output_type": "execute_result"
    },
    {
     "data": {
      "image/png": "[encoded data removed]",
      "text/plain": [
       "<Figure size 720x504 with 1 Axes>"
      ]
     },
     "metadata": {
      "needs_background": "light"
     },
     "output_type": "display_data"
    }
   ],
   "source": [
    "plt.figure(figsize=(10, 7))\n",
    "plt.plot(np.array(range(7)), np.array(range(7)), c='r')\n",
    "plt.scatter(reals, predicts, alpha=0.7)\n",
    "plt.xlabel(\"Реальная цена\", size=20)\n",
    "plt.ylabel(\"Предсказанная цена\", size=20)"
   ]
  },
  {
   "cell_type": "markdown",
   "id": "acd009cc",
   "metadata": {},
   "source": [
    "## RMSE для квартир до 4.5 млн"
   ]
  },
  {
   "cell_type": "code",
   "execution_count": 261,
   "id": "f6421859",
   "metadata": {},
   "outputs": [],
   "source": [
    "low_predicts = []\n",
    "low_reals = []\n",
    "for i in range(len(predicts)):\n",
    "    if reals[i] < 4.5:\n",
    "        low_predicts.append(predicts[i])\n",
    "        low_reals.append(reals[i])\n",
    "\n",
    "low_predicts = np.array(low_predicts)\n",
    "low_reals = np.array(low_reals)"
   ]
  },
  {
   "cell_type": "code",
   "execution_count": 262,
   "id": "2a6c4859",
   "metadata": {},
   "outputs": [
    {
     "name": "stdout",
     "output_type": "stream",
     "text": [
      "RMSE: 0.35612458\n"
     ]
    }
   ],
   "source": [
    "from sklearn.metrics import mean_squared_error\n",
    "\n",
    "RMSE = np.sqrt(mean_squared_error(low_predicts, low_reals))\n",
    "print(\"RMSE: \" + str(RMSE))"
   ]
  },
  {
   "cell_type": "markdown",
   "id": "575c63b7",
   "metadata": {},
   "source": [
    "## RMSE для квартир от 4.5 млн"
   ]
  },
  {
   "cell_type": "code",
   "execution_count": 267,
   "id": "ebdc1913",
   "metadata": {},
   "outputs": [],
   "source": [
    "high_predicts = []\n",
    "high_reals = []\n",
    "for i in range(len(predicts)):\n",
    "    if reals[i] > 4.5:\n",
    "        high_predicts.append(predicts[i])\n",
    "        high_reals.append(reals[i])\n",
    "\n",
    "high_predicts = np.array(high_predicts)\n",
    "high_reals = np.array(high_reals)"
   ]
  },
  {
   "cell_type": "code",
   "execution_count": 268,
   "id": "16640a7c",
   "metadata": {},
   "outputs": [
    {
     "name": "stdout",
     "output_type": "stream",
     "text": [
      "RMSE: 0.84769624\n"
     ]
    }
   ],
   "source": [
    "RMSE = np.sqrt(mean_squared_error(high_predicts, high_reals))\n",
    "print(\"RMSE: \" + str(RMSE))"
   ]
  },
  {
   "cell_type": "markdown",
   "id": "39739f01",
   "metadata": {},
   "source": [
    "# Итоги"
   ]
  },
  {
   "cell_type": "markdown",
   "id": "6e97b2d5",
   "metadata": {},
   "source": [
    "Удалось дойти до средней ошибки в размере 480 тысяч рублей с помощью нейросетевого подхода. Данный результат уступает деревьям на сотню тысяч.\n",
    "\n",
    "Также было замечено, что на квартирах стоимостью меньше 4.5 млн рублей модель показывает ошибку в пределах 350 тысяч рублей, а на квартирах дороже ошибка достигает 850 тысяч рублей. В качестве предложения можно натренировать классификатор, который обозначает квартиру как дороже 4.5 млн рублей или дешевле. И полученную метку использовать в качестве нового признака для обучения. Или можно использовать две нейросети - для квартир дешевле 4.5 млн рублей и для квартир дороже"
   ]
  },
  {
   "cell_type": "code",
   "execution_count": null,
   "id": "0f28e09c",
   "metadata": {},
   "outputs": [],
   "source": []
  },
  {
   "cell_type": "code",
   "execution_count": null,
   "id": "58acebae",
   "metadata": {},
   "outputs": [],
   "source": []
  }
 ],
 "metadata": {
  "kernelspec": {
   "display_name": "Python 3",
   "language": "python",
   "name": "python3"
  },
  "language_info": {
   "codemirror_mode": {
    "name": "ipython",
    "version": 3
   },
   "file_extension": ".py",
   "mimetype": "text/x-python",
   "name": "python",
   "nbconvert_exporter": "python",
   "pygments_lexer": "ipython3",
   "version": "3.9.5"
  }
 },
 "nbformat": 4,
 "nbformat_minor": 5
}
